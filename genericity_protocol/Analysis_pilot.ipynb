{
 "cells": [
  {
   "cell_type": "code",
   "execution_count": 1,
   "metadata": {
    "collapsed": true
   },
   "outputs": [],
   "source": [
    "import pandas as pd\n",
    "import numpy as np\n",
    "import json\n",
    "import matplotlib.pyplot as plt\n",
    "import seaborn as sns\n",
    "import itertools\n",
    "from nltk.metrics.agreement import AnnotationTask\n",
    "from sklearn.metrics import cohen_kappa_score as kappa\n",
    "from sklearn.metrics import accuracy_score as accuracy"
   ]
  },
  {
   "cell_type": "code",
   "execution_count": 2,
   "metadata": {
    "collapsed": true
   },
   "outputs": [],
   "source": [
    "pilot_file = \"results_pilot_april_20.csv\"\n",
    "data = pd.read_csv(pilot_file)\n",
    "data.columns = [c.replace('.', '_') for c in data.columns]"
   ]
  },
  {
   "cell_type": "code",
   "execution_count": 3,
   "metadata": {
    "collapsed": true
   },
   "outputs": [],
   "source": [
    "def extract_dataframe(data):\n",
    "    '''\n",
    "    Input: Pandas csv dataframe obtained from MTurk\n",
    "    \n",
    "    Output: Pandas dataframe levelled by (User x Sentenced_ID)\n",
    "    '''\n",
    "    data[\"dicts\"] = data[\"Input_var_arrays\"].map(lambda x: json.loads(x))\n",
    "    global_list = []\n",
    "    \n",
    "    for row in data.itertuples():\n",
    "        for idx, local_dict in enumerate(row.dicts):\n",
    "            temp_dict = local_dict.copy()\n",
    "            var_part = \"Answer_noun_particularity\" + str(idx + 1)\n",
    "            var_part_c = \"Answer_noun_part_certainty\" + str(idx + 1)\n",
    "            var_kind = \"Answer_noun_class\" + str(idx + 1)\n",
    "            var_kind_c = \"Answer_noun_class_certainty\" + str(idx + 1)\n",
    "            var_abs = \"Answer_noun_abs\" + str(idx + 1)\n",
    "            var_abs_c = \"Answer_noun_abs_certainty\" + str(idx + 1)\n",
    "            temp_dict['part'] = getattr(row, var_part)\n",
    "            temp_dict['part_conf'] = getattr(row, var_part_c)\n",
    "            temp_dict['kind'] = getattr(row, var_kind)\n",
    "            temp_dict['kind_conf'] = getattr(row, var_kind_c)\n",
    "            temp_dict['abs'] = getattr(row, var_abs)\n",
    "            temp_dict['abs_conf'] = getattr(row, var_abs_c)\n",
    "            temp_dict['worker_id'] = row.WorkerId\n",
    "            global_list.append(temp_dict)\n",
    "    \n",
    "    return pd.DataFrame(global_list)"
   ]
  },
  {
   "cell_type": "code",
   "execution_count": 8,
   "metadata": {},
   "outputs": [
    {
     "data": {
      "text/html": [
       "<div>\n",
       "<style>\n",
       "    .dataframe thead tr:only-child th {\n",
       "        text-align: right;\n",
       "    }\n",
       "\n",
       "    .dataframe thead th {\n",
       "        text-align: left;\n",
       "    }\n",
       "\n",
       "    .dataframe tbody tr th {\n",
       "        vertical-align: top;\n",
       "    }\n",
       "</style>\n",
       "<table border=\"1\" class=\"dataframe\">\n",
       "  <thead>\n",
       "    <tr style=\"text-align: right;\">\n",
       "      <th></th>\n",
       "      <th>worker_id</th>\n",
       "      <th>sent_id</th>\n",
       "      <th>raw_sentence</th>\n",
       "      <th>predicate</th>\n",
       "      <th>noun</th>\n",
       "      <th>part</th>\n",
       "      <th>part_conf</th>\n",
       "      <th>kind</th>\n",
       "      <th>kind_conf</th>\n",
       "      <th>abs</th>\n",
       "      <th>abs_conf</th>\n",
       "    </tr>\n",
       "  </thead>\n",
       "  <tbody>\n",
       "    <tr>\n",
       "      <th>0</th>\n",
       "      <td>A2M6GFFEYJ5XP</td>\n",
       "      <td>en-ud-train.conllu sent_8206</td>\n",
       "      <td>Where in the world is Iguazu ?</td>\n",
       "      <td>Where</td>\n",
       "      <td>world</td>\n",
       "      <td>True</td>\n",
       "      <td>4</td>\n",
       "      <td>False</td>\n",
       "      <td>4</td>\n",
       "      <td>False</td>\n",
       "      <td>4</td>\n",
       "    </tr>\n",
       "    <tr>\n",
       "      <th>1</th>\n",
       "      <td>A2M6GFFEYJ5XP</td>\n",
       "      <td>en-ud-train.conllu sent_8206</td>\n",
       "      <td>Where in the world is Iguazu ?</td>\n",
       "      <td>Where</td>\n",
       "      <td>Iguazu</td>\n",
       "      <td>True</td>\n",
       "      <td>4</td>\n",
       "      <td>False</td>\n",
       "      <td>4</td>\n",
       "      <td>False</td>\n",
       "      <td>4</td>\n",
       "    </tr>\n",
       "    <tr>\n",
       "      <th>2</th>\n",
       "      <td>A2M6GFFEYJ5XP</td>\n",
       "      <td>en-ud-train.conllu sent_5978</td>\n",
       "      <td>Yet , there is warmth and a familiarity with t...</td>\n",
       "      <td>is</td>\n",
       "      <td>warmth</td>\n",
       "      <td>False</td>\n",
       "      <td>4</td>\n",
       "      <td>False</td>\n",
       "      <td>4</td>\n",
       "      <td>True</td>\n",
       "      <td>4</td>\n",
       "    </tr>\n",
       "    <tr>\n",
       "      <th>3</th>\n",
       "      <td>A2M6GFFEYJ5XP</td>\n",
       "      <td>en-ud-train.conllu sent_6541</td>\n",
       "      <td>For those who believe ....................</td>\n",
       "      <td>believe</td>\n",
       "      <td>who</td>\n",
       "      <td>False</td>\n",
       "      <td>4</td>\n",
       "      <td>True</td>\n",
       "      <td>4</td>\n",
       "      <td>False</td>\n",
       "      <td>4</td>\n",
       "    </tr>\n",
       "    <tr>\n",
       "      <th>4</th>\n",
       "      <td>A2M6GFFEYJ5XP</td>\n",
       "      <td>en-ud-train.conllu sent_7297</td>\n",
       "      <td>Walk 2 blocks then turn right again .</td>\n",
       "      <td>Walk</td>\n",
       "      <td>blocks</td>\n",
       "      <td>True</td>\n",
       "      <td>2</td>\n",
       "      <td>False</td>\n",
       "      <td>2</td>\n",
       "      <td>False</td>\n",
       "      <td>4</td>\n",
       "    </tr>\n",
       "  </tbody>\n",
       "</table>\n",
       "</div>"
      ],
      "text/plain": [
       "       worker_id                       sent_id  \\\n",
       "0  A2M6GFFEYJ5XP  en-ud-train.conllu sent_8206   \n",
       "1  A2M6GFFEYJ5XP  en-ud-train.conllu sent_8206   \n",
       "2  A2M6GFFEYJ5XP  en-ud-train.conllu sent_5978   \n",
       "3  A2M6GFFEYJ5XP  en-ud-train.conllu sent_6541   \n",
       "4  A2M6GFFEYJ5XP  en-ud-train.conllu sent_7297   \n",
       "\n",
       "                                        raw_sentence predicate    noun   part  \\\n",
       "0                     Where in the world is Iguazu ?     Where   world   True   \n",
       "1                     Where in the world is Iguazu ?     Where  Iguazu   True   \n",
       "2  Yet , there is warmth and a familiarity with t...        is  warmth  False   \n",
       "3         For those who believe ....................   believe     who  False   \n",
       "4              Walk 2 blocks then turn right again .      Walk  blocks   True   \n",
       "\n",
       "   part_conf   kind  kind_conf    abs  abs_conf  \n",
       "0          4  False          4  False         4  \n",
       "1          4  False          4  False         4  \n",
       "2          4  False          4   True         4  \n",
       "3          4   True          4  False         4  \n",
       "4          2  False          2  False         4  "
      ]
     },
     "execution_count": 8,
     "metadata": {},
     "output_type": "execute_result"
    }
   ],
   "source": [
    "pilot_data = extract_dataframe(data)\n",
    "# Rearrange the columns\n",
    "cols = ['worker_id', 'sent_id', 'raw_sentence','predicate','noun','part','part_conf',\n",
    "        'kind','kind_conf','abs','abs_conf']\n",
    "pilot_data = pilot_data[cols]\n",
    "pilot_data.head()"
   ]
  },
  {
   "cell_type": "markdown",
   "metadata": {},
   "source": [
    "### Response distribution"
   ]
  },
  {
   "cell_type": "code",
   "execution_count": 10,
   "metadata": {},
   "outputs": [
    {
     "data": {
      "image/png": "[encoded data removed]",
      "text/plain": [
       "<matplotlib.figure.Figure at 0x1012f3c18>"
      ]
     },
     "metadata": {},
     "output_type": "display_data"
    }
   ],
   "source": [
    "fig, axs = plt.subplots(ncols=2, nrows=3, figsize=(15, 10))\n",
    "sns.countplot(x='part', data=pilot_data, ax=axs[0][0])\n",
    "sns.countplot(x='part_conf', data=pilot_data, ax=axs[0][1])\n",
    "sns.countplot(x='kind', data=pilot_data, ax=axs[1][0])\n",
    "sns.countplot(x='kind_conf', data=pilot_data, ax=axs[1][1])\n",
    "sns.countplot(x='abs', data=pilot_data, ax=axs[2][0])\n",
    "sns.countplot(x='abs_conf', data=pilot_data, ax=axs[2][1])\n",
    "\n",
    "plt.show()"
   ]
  },
  {
   "cell_type": "markdown",
   "metadata": {},
   "source": [
    "## Inter Annotator agreement"
   ]
  },
  {
   "cell_type": "code",
   "execution_count": null,
   "metadata": {
    "collapsed": true
   },
   "outputs": [],
   "source": []
  }
 ],
 "metadata": {
  "kernelspec": {
   "display_name": "Python 3",
   "language": "python",
   "name": "python3"
  },
  "language_info": {
   "codemirror_mode": {
    "name": "ipython",
    "version": 3
   },
   "file_extension": ".py",
   "mimetype": "text/x-python",
   "name": "python",
   "nbconvert_exporter": "python",
   "pygments_lexer": "ipython3",
   "version": "3.6.3"
  }
 },
 "nbformat": 4,
 "nbformat_minor": 2
}
