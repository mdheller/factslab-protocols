{
 "cells": [
  {
   "cell_type": "code",
   "execution_count": 1,
   "metadata": {},
   "outputs": [],
   "source": [
    "# import rpy2.robjects.packages as rpackages\n",
    "# utils = rpackages.importr('utils')\n",
    "# utils.chooseCRANmirror(ind=1) \n",
    "# #packnames = ('ggplot2', 'lme4', 'reshape2', 'tidyverse')\n",
    "# packnames = ('ggrepel')\n",
    "# from rpy2.robjects.vectors import StrVector\n",
    "# #utils.install_packages(StrVector(packnames))\n",
    "# utils.install_packages(packnames)"
   ]
  },
  {
   "cell_type": "code",
   "execution_count": 24,
   "metadata": {},
   "outputs": [
    {
     "name": "stdout",
     "output_type": "stream",
     "text": [
      "The rpy2.ipython extension is already loaded. To reload it, use:\n",
      "  %reload_ext rpy2.ipython\n"
     ]
    }
   ],
   "source": [
    "import numpy as np\n",
    "import pandas as pd\n",
    "import re\n",
    "import pickle\n",
    "pd.options.mode.chained_assignment = None\n",
    "from scipy.special import expit\n",
    "from collections import Counter, defaultdict\n",
    "\n",
    "from scipy.stats import spearmanr, norm\n",
    "\n",
    "import matplotlib.pyplot as plt\n",
    "import seaborn as sns\n",
    "import rpy2\n",
    "\n",
    "%matplotlib inline\n",
    "%load_ext rpy2.ipython\n",
    "\n",
    "_ = %R library(tidyverse)\n",
    "_ = %R library(ggrepel)\n",
    "_ = %R library(reshape2)\n",
    "_ = %R library(brms)\n",
    "_ = %R library(lme4)\n",
    "_ = %R palette <- c(\"#3B9AB2\", \"#78B7C5\", \"#EBCC2A\", \"#E1AF00\", \"#F21A00\")\n",
    "_ = %R palette2 <- c(\"#525E62\", \"#C93312\", \"#FAEFD1\", \"#DC863B\")"
   ]
  },
  {
   "cell_type": "code",
   "execution_count": 3,
   "metadata": {},
   "outputs": [],
   "source": [
    "data_path = \"../data/\""
   ]
  },
  {
   "cell_type": "code",
   "execution_count": 4,
   "metadata": {},
   "outputs": [
    {
     "name": "stdout",
     "output_type": "stream",
     "text": [
      "(53910, 22)\n",
      "(16305, 22)\n",
      "(14910, 22)\n"
     ]
    },
    {
     "data": {
      "text/html": [
       "<div>\n",
       "<style scoped>\n",
       "    .dataframe tbody tr th:only-of-type {\n",
       "        vertical-align: middle;\n",
       "    }\n",
       "\n",
       "    .dataframe tbody tr th {\n",
       "        vertical-align: top;\n",
       "    }\n",
       "\n",
       "    .dataframe thead th {\n",
       "        text-align: right;\n",
       "    }\n",
       "</style>\n",
       "<table border=\"1\" class=\"dataframe\">\n",
       "  <thead>\n",
       "    <tr style=\"text-align: right;\">\n",
       "      <th></th>\n",
       "      <th>split</th>\n",
       "      <th>worker_id</th>\n",
       "      <th>hit_id</th>\n",
       "      <th>sentence_id_1</th>\n",
       "      <th>pred1_token</th>\n",
       "      <th>pred1_root_token</th>\n",
       "      <th>sentence_id_2</th>\n",
       "      <th>pred2_token</th>\n",
       "      <th>pred2_root_token</th>\n",
       "      <th>sent_token</th>\n",
       "      <th>...</th>\n",
       "      <th>pred2_text</th>\n",
       "      <th>pred2_lemma</th>\n",
       "      <th>pred1_slider</th>\n",
       "      <th>pred1_duration</th>\n",
       "      <th>pred2_slider</th>\n",
       "      <th>pred2_duration</th>\n",
       "      <th>pred1_dur_conf</th>\n",
       "      <th>pred2_dur_conf</th>\n",
       "      <th>relation_conf</th>\n",
       "      <th>sentence</th>\n",
       "    </tr>\n",
       "  </thead>\n",
       "  <tbody>\n",
       "    <tr>\n",
       "      <th>53910</th>\n",
       "      <td>dev</td>\n",
       "      <td>84</td>\n",
       "      <td>10769</td>\n",
       "      <td>en-ud-dev.conllu 31</td>\n",
       "      <td>12</td>\n",
       "      <td>12</td>\n",
       "      <td>en-ud-dev.conllu 32</td>\n",
       "      <td>19</td>\n",
       "      <td>19</td>\n",
       "      <td>en-ud-dev.conllu 31_12 en-ud-dev.conllu 32_19</td>\n",
       "      <td>...</td>\n",
       "      <td>promised</td>\n",
       "      <td>promise</td>\n",
       "      <td>0 - 6</td>\n",
       "      <td>2</td>\n",
       "      <td>7 - 10</td>\n",
       "      <td>2</td>\n",
       "      <td>4</td>\n",
       "      <td>4</td>\n",
       "      <td>4</td>\n",
       "      <td>Xinhua reports that a wide range of Iraqi poli...</td>\n",
       "    </tr>\n",
       "    <tr>\n",
       "      <th>53911</th>\n",
       "      <td>dev</td>\n",
       "      <td>84</td>\n",
       "      <td>10769</td>\n",
       "      <td>en-ud-dev.conllu 1215</td>\n",
       "      <td>1_2_3</td>\n",
       "      <td>3</td>\n",
       "      <td>en-ud-dev.conllu 1216</td>\n",
       "      <td>7</td>\n",
       "      <td>7</td>\n",
       "      <td>en-ud-dev.conllu 1215_3 en-ud-dev.conllu 1216_7</td>\n",
       "      <td>...</td>\n",
       "      <td>did</td>\n",
       "      <td>do</td>\n",
       "      <td>0 - 15</td>\n",
       "      <td>7</td>\n",
       "      <td>13 - 16</td>\n",
       "      <td>1</td>\n",
       "      <td>1</td>\n",
       "      <td>4</td>\n",
       "      <td>2</td>\n",
       "      <td>It s a Reel and i have danced to it before .. ...</td>\n",
       "    </tr>\n",
       "    <tr>\n",
       "      <th>53913</th>\n",
       "      <td>dev</td>\n",
       "      <td>84</td>\n",
       "      <td>10769</td>\n",
       "      <td>en-ud-dev.conllu 217</td>\n",
       "      <td>11</td>\n",
       "      <td>11</td>\n",
       "      <td>en-ud-dev.conllu 217</td>\n",
       "      <td>19</td>\n",
       "      <td>19</td>\n",
       "      <td>en-ud-dev.conllu 217_11 en-ud-dev.conllu 217_19</td>\n",
       "      <td>...</td>\n",
       "      <td>issuing</td>\n",
       "      <td>issue</td>\n",
       "      <td>0 - 10</td>\n",
       "      <td>6</td>\n",
       "      <td>10 - 13</td>\n",
       "      <td>3</td>\n",
       "      <td>3</td>\n",
       "      <td>4</td>\n",
       "      <td>3</td>\n",
       "      <td>Someone in the CPA sat down and thought up way...</td>\n",
       "    </tr>\n",
       "    <tr>\n",
       "      <th>53915</th>\n",
       "      <td>dev</td>\n",
       "      <td>549</td>\n",
       "      <td>10769</td>\n",
       "      <td>en-ud-dev.conllu 31</td>\n",
       "      <td>12</td>\n",
       "      <td>12</td>\n",
       "      <td>en-ud-dev.conllu 32</td>\n",
       "      <td>19</td>\n",
       "      <td>19</td>\n",
       "      <td>en-ud-dev.conllu 31_12 en-ud-dev.conllu 32_19</td>\n",
       "      <td>...</td>\n",
       "      <td>promised</td>\n",
       "      <td>promise</td>\n",
       "      <td>0 - 15</td>\n",
       "      <td>5</td>\n",
       "      <td>8 - 27</td>\n",
       "      <td>5</td>\n",
       "      <td>2</td>\n",
       "      <td>2</td>\n",
       "      <td>2</td>\n",
       "      <td>Xinhua reports that a wide range of Iraqi poli...</td>\n",
       "    </tr>\n",
       "    <tr>\n",
       "      <th>53916</th>\n",
       "      <td>dev</td>\n",
       "      <td>549</td>\n",
       "      <td>10769</td>\n",
       "      <td>en-ud-dev.conllu 1215</td>\n",
       "      <td>1_2_3</td>\n",
       "      <td>3</td>\n",
       "      <td>en-ud-dev.conllu 1216</td>\n",
       "      <td>7</td>\n",
       "      <td>7</td>\n",
       "      <td>en-ud-dev.conllu 1215_3 en-ud-dev.conllu 1216_7</td>\n",
       "      <td>...</td>\n",
       "      <td>did</td>\n",
       "      <td>do</td>\n",
       "      <td>0 - 21</td>\n",
       "      <td>4</td>\n",
       "      <td>8 - 15</td>\n",
       "      <td>4</td>\n",
       "      <td>3</td>\n",
       "      <td>3</td>\n",
       "      <td>3</td>\n",
       "      <td>It s a Reel and i have danced to it before .. ...</td>\n",
       "    </tr>\n",
       "  </tbody>\n",
       "</table>\n",
       "<p>5 rows × 22 columns</p>\n",
       "</div>"
      ],
      "text/plain": [
       "      split  worker_id  hit_id          sentence_id_1 pred1_token  \\\n",
       "53910   dev         84   10769    en-ud-dev.conllu 31          12   \n",
       "53911   dev         84   10769  en-ud-dev.conllu 1215       1_2_3   \n",
       "53913   dev         84   10769   en-ud-dev.conllu 217          11   \n",
       "53915   dev        549   10769    en-ud-dev.conllu 31          12   \n",
       "53916   dev        549   10769  en-ud-dev.conllu 1215       1_2_3   \n",
       "\n",
       "       pred1_root_token          sentence_id_2 pred2_token  pred2_root_token  \\\n",
       "53910                12    en-ud-dev.conllu 32          19                19   \n",
       "53911                 3  en-ud-dev.conllu 1216           7                 7   \n",
       "53913                11   en-ud-dev.conllu 217          19                19   \n",
       "53915                12    en-ud-dev.conllu 32          19                19   \n",
       "53916                 3  en-ud-dev.conllu 1216           7                 7   \n",
       "\n",
       "                                            sent_token  \\\n",
       "53910    en-ud-dev.conllu 31_12 en-ud-dev.conllu 32_19   \n",
       "53911  en-ud-dev.conllu 1215_3 en-ud-dev.conllu 1216_7   \n",
       "53913  en-ud-dev.conllu 217_11 en-ud-dev.conllu 217_19   \n",
       "53915    en-ud-dev.conllu 31_12 en-ud-dev.conllu 32_19   \n",
       "53916  en-ud-dev.conllu 1215_3 en-ud-dev.conllu 1216_7   \n",
       "\n",
       "                             ...                         pred2_text  \\\n",
       "53910                        ...                           promised   \n",
       "53911                        ...                                did   \n",
       "53913                        ...                            issuing   \n",
       "53915                        ...                           promised   \n",
       "53916                        ...                                did   \n",
       "\n",
       "      pred2_lemma pred1_slider pred1_duration pred2_slider  pred2_duration  \\\n",
       "53910     promise        0 - 6              2       7 - 10               2   \n",
       "53911          do       0 - 15              7      13 - 16               1   \n",
       "53913       issue       0 - 10              6      10 - 13               3   \n",
       "53915     promise       0 - 15              5       8 - 27               5   \n",
       "53916          do       0 - 21              4       8 - 15               4   \n",
       "\n",
       "      pred1_dur_conf  pred2_dur_conf  relation_conf  \\\n",
       "53910              4               4              4   \n",
       "53911              1               4              2   \n",
       "53913              3               4              3   \n",
       "53915              2               2              2   \n",
       "53916              3               3              3   \n",
       "\n",
       "                                                sentence  \n",
       "53910  Xinhua reports that a wide range of Iraqi poli...  \n",
       "53911  It s a Reel and i have danced to it before .. ...  \n",
       "53913  Someone in the CPA sat down and thought up way...  \n",
       "53915  Xinhua reports that a wide range of Iraqi poli...  \n",
       "53916  It s a Reel and i have danced to it before .. ...  \n",
       "\n",
       "[5 rows x 22 columns]"
      ]
     },
     "execution_count": 4,
     "metadata": {},
     "output_type": "execute_result"
    }
   ],
   "source": [
    "data = pd.read_csv(data_path + \"bulk_data_temporal_duration.csv\")\n",
    "\n",
    "## Split into dev:\n",
    "train = data[data.split==\"train\"]\n",
    "dev = data[data.split==\"dev\"]\n",
    "test = data[data.split==\"test\"]\n",
    "print(train.shape)\n",
    "print(dev.shape)\n",
    "print(test.shape)\n",
    "\n",
    "pilot5 = dev\n",
    "pilot5.head()"
   ]
  },
  {
   "cell_type": "code",
   "execution_count": 5,
   "metadata": {},
   "outputs": [
    {
     "data": {
      "text/plain": [
       "dtype('O')"
      ]
     },
     "execution_count": 5,
     "metadata": {},
     "output_type": "execute_result"
    }
   ],
   "source": [
    "pilot5.pred1_slider.dtype"
   ]
  },
  {
   "cell_type": "markdown",
   "metadata": {},
   "source": [
    "## Remove empty slider positions"
   ]
  },
  {
   "cell_type": "code",
   "execution_count": 6,
   "metadata": {},
   "outputs": [
    {
     "name": "stdout",
     "output_type": "stream",
     "text": [
      "(16305, 22)\n",
      "(16304, 22)\n"
     ]
    }
   ],
   "source": [
    "print(pilot5.shape)\n",
    "pilot5 = pilot5[(pilot5.pred1_slider!=\"{}\") &\n",
    "                   (pilot5.pred2_slider!=\"{}\")]\n",
    "print(pilot5.shape)"
   ]
  },
  {
   "cell_type": "code",
   "execution_count": 7,
   "metadata": {},
   "outputs": [
    {
     "data": {
      "text/html": [
       "<div>\n",
       "<style scoped>\n",
       "    .dataframe tbody tr th:only-of-type {\n",
       "        vertical-align: middle;\n",
       "    }\n",
       "\n",
       "    .dataframe tbody tr th {\n",
       "        vertical-align: top;\n",
       "    }\n",
       "\n",
       "    .dataframe thead th {\n",
       "        text-align: right;\n",
       "    }\n",
       "</style>\n",
       "<table border=\"1\" class=\"dataframe\">\n",
       "  <thead>\n",
       "    <tr style=\"text-align: right;\">\n",
       "      <th></th>\n",
       "      <th>split</th>\n",
       "      <th>worker_id</th>\n",
       "      <th>hit_id</th>\n",
       "      <th>sentence_id_1</th>\n",
       "      <th>pred1_token</th>\n",
       "      <th>pred1_root_token</th>\n",
       "      <th>sentence_id_2</th>\n",
       "      <th>pred2_token</th>\n",
       "      <th>pred2_root_token</th>\n",
       "      <th>sent_token</th>\n",
       "      <th>...</th>\n",
       "      <th>pred1_dur_conf</th>\n",
       "      <th>pred2_dur_conf</th>\n",
       "      <th>relation_conf</th>\n",
       "      <th>sentence</th>\n",
       "      <th>pred1_slider1</th>\n",
       "      <th>pred1_slider2</th>\n",
       "      <th>pred2_slider1</th>\n",
       "      <th>pred2_slider2</th>\n",
       "      <th>sent1_token</th>\n",
       "      <th>sent2_token</th>\n",
       "    </tr>\n",
       "  </thead>\n",
       "  <tbody>\n",
       "    <tr>\n",
       "      <th>53910</th>\n",
       "      <td>dev</td>\n",
       "      <td>84</td>\n",
       "      <td>10769</td>\n",
       "      <td>en-ud-dev.conllu 31</td>\n",
       "      <td>12</td>\n",
       "      <td>12</td>\n",
       "      <td>en-ud-dev.conllu 32</td>\n",
       "      <td>19</td>\n",
       "      <td>19</td>\n",
       "      <td>en-ud-dev.conllu 31_12 en-ud-dev.conllu 32_19</td>\n",
       "      <td>...</td>\n",
       "      <td>4</td>\n",
       "      <td>4</td>\n",
       "      <td>4</td>\n",
       "      <td>Xinhua reports that a wide range of Iraqi poli...</td>\n",
       "      <td>0</td>\n",
       "      <td>6</td>\n",
       "      <td>7</td>\n",
       "      <td>10</td>\n",
       "      <td>en-ud-dev.conllu 31_12</td>\n",
       "      <td>en-ud-dev.conllu 32_19</td>\n",
       "    </tr>\n",
       "    <tr>\n",
       "      <th>53911</th>\n",
       "      <td>dev</td>\n",
       "      <td>84</td>\n",
       "      <td>10769</td>\n",
       "      <td>en-ud-dev.conllu 1215</td>\n",
       "      <td>1_2_3</td>\n",
       "      <td>3</td>\n",
       "      <td>en-ud-dev.conllu 1216</td>\n",
       "      <td>7</td>\n",
       "      <td>7</td>\n",
       "      <td>en-ud-dev.conllu 1215_3 en-ud-dev.conllu 1216_7</td>\n",
       "      <td>...</td>\n",
       "      <td>1</td>\n",
       "      <td>4</td>\n",
       "      <td>2</td>\n",
       "      <td>It s a Reel and i have danced to it before .. ...</td>\n",
       "      <td>0</td>\n",
       "      <td>15</td>\n",
       "      <td>13</td>\n",
       "      <td>16</td>\n",
       "      <td>en-ud-dev.conllu 1215_1_2_3</td>\n",
       "      <td>en-ud-dev.conllu 1216_7</td>\n",
       "    </tr>\n",
       "    <tr>\n",
       "      <th>53913</th>\n",
       "      <td>dev</td>\n",
       "      <td>84</td>\n",
       "      <td>10769</td>\n",
       "      <td>en-ud-dev.conllu 217</td>\n",
       "      <td>11</td>\n",
       "      <td>11</td>\n",
       "      <td>en-ud-dev.conllu 217</td>\n",
       "      <td>19</td>\n",
       "      <td>19</td>\n",
       "      <td>en-ud-dev.conllu 217_11 en-ud-dev.conllu 217_19</td>\n",
       "      <td>...</td>\n",
       "      <td>3</td>\n",
       "      <td>4</td>\n",
       "      <td>3</td>\n",
       "      <td>Someone in the CPA sat down and thought up way...</td>\n",
       "      <td>0</td>\n",
       "      <td>10</td>\n",
       "      <td>10</td>\n",
       "      <td>13</td>\n",
       "      <td>en-ud-dev.conllu 217_11</td>\n",
       "      <td>en-ud-dev.conllu 217_19</td>\n",
       "    </tr>\n",
       "    <tr>\n",
       "      <th>53915</th>\n",
       "      <td>dev</td>\n",
       "      <td>549</td>\n",
       "      <td>10769</td>\n",
       "      <td>en-ud-dev.conllu 31</td>\n",
       "      <td>12</td>\n",
       "      <td>12</td>\n",
       "      <td>en-ud-dev.conllu 32</td>\n",
       "      <td>19</td>\n",
       "      <td>19</td>\n",
       "      <td>en-ud-dev.conllu 31_12 en-ud-dev.conllu 32_19</td>\n",
       "      <td>...</td>\n",
       "      <td>2</td>\n",
       "      <td>2</td>\n",
       "      <td>2</td>\n",
       "      <td>Xinhua reports that a wide range of Iraqi poli...</td>\n",
       "      <td>0</td>\n",
       "      <td>15</td>\n",
       "      <td>8</td>\n",
       "      <td>27</td>\n",
       "      <td>en-ud-dev.conllu 31_12</td>\n",
       "      <td>en-ud-dev.conllu 32_19</td>\n",
       "    </tr>\n",
       "    <tr>\n",
       "      <th>53916</th>\n",
       "      <td>dev</td>\n",
       "      <td>549</td>\n",
       "      <td>10769</td>\n",
       "      <td>en-ud-dev.conllu 1215</td>\n",
       "      <td>1_2_3</td>\n",
       "      <td>3</td>\n",
       "      <td>en-ud-dev.conllu 1216</td>\n",
       "      <td>7</td>\n",
       "      <td>7</td>\n",
       "      <td>en-ud-dev.conllu 1215_3 en-ud-dev.conllu 1216_7</td>\n",
       "      <td>...</td>\n",
       "      <td>3</td>\n",
       "      <td>3</td>\n",
       "      <td>3</td>\n",
       "      <td>It s a Reel and i have danced to it before .. ...</td>\n",
       "      <td>0</td>\n",
       "      <td>21</td>\n",
       "      <td>8</td>\n",
       "      <td>15</td>\n",
       "      <td>en-ud-dev.conllu 1215_1_2_3</td>\n",
       "      <td>en-ud-dev.conllu 1216_7</td>\n",
       "    </tr>\n",
       "  </tbody>\n",
       "</table>\n",
       "<p>5 rows × 28 columns</p>\n",
       "</div>"
      ],
      "text/plain": [
       "      split  worker_id  hit_id          sentence_id_1 pred1_token  \\\n",
       "53910   dev         84   10769    en-ud-dev.conllu 31          12   \n",
       "53911   dev         84   10769  en-ud-dev.conllu 1215       1_2_3   \n",
       "53913   dev         84   10769   en-ud-dev.conllu 217          11   \n",
       "53915   dev        549   10769    en-ud-dev.conllu 31          12   \n",
       "53916   dev        549   10769  en-ud-dev.conllu 1215       1_2_3   \n",
       "\n",
       "       pred1_root_token          sentence_id_2 pred2_token  pred2_root_token  \\\n",
       "53910                12    en-ud-dev.conllu 32          19                19   \n",
       "53911                 3  en-ud-dev.conllu 1216           7                 7   \n",
       "53913                11   en-ud-dev.conllu 217          19                19   \n",
       "53915                12    en-ud-dev.conllu 32          19                19   \n",
       "53916                 3  en-ud-dev.conllu 1216           7                 7   \n",
       "\n",
       "                                            sent_token  \\\n",
       "53910    en-ud-dev.conllu 31_12 en-ud-dev.conllu 32_19   \n",
       "53911  en-ud-dev.conllu 1215_3 en-ud-dev.conllu 1216_7   \n",
       "53913  en-ud-dev.conllu 217_11 en-ud-dev.conllu 217_19   \n",
       "53915    en-ud-dev.conllu 31_12 en-ud-dev.conllu 32_19   \n",
       "53916  en-ud-dev.conllu 1215_3 en-ud-dev.conllu 1216_7   \n",
       "\n",
       "                ...            pred1_dur_conf pred2_dur_conf relation_conf  \\\n",
       "53910           ...                         4              4             4   \n",
       "53911           ...                         1              4             2   \n",
       "53913           ...                         3              4             3   \n",
       "53915           ...                         2              2             2   \n",
       "53916           ...                         3              3             3   \n",
       "\n",
       "                                                sentence pred1_slider1  \\\n",
       "53910  Xinhua reports that a wide range of Iraqi poli...             0   \n",
       "53911  It s a Reel and i have danced to it before .. ...             0   \n",
       "53913  Someone in the CPA sat down and thought up way...             0   \n",
       "53915  Xinhua reports that a wide range of Iraqi poli...             0   \n",
       "53916  It s a Reel and i have danced to it before .. ...             0   \n",
       "\n",
       "       pred1_slider2 pred2_slider1  pred2_slider2  \\\n",
       "53910              6             7             10   \n",
       "53911             15            13             16   \n",
       "53913             10            10             13   \n",
       "53915             15             8             27   \n",
       "53916             21             8             15   \n",
       "\n",
       "                       sent1_token              sent2_token  \n",
       "53910       en-ud-dev.conllu 31_12   en-ud-dev.conllu 32_19  \n",
       "53911  en-ud-dev.conllu 1215_1_2_3  en-ud-dev.conllu 1216_7  \n",
       "53913      en-ud-dev.conllu 217_11  en-ud-dev.conllu 217_19  \n",
       "53915       en-ud-dev.conllu 31_12   en-ud-dev.conllu 32_19  \n",
       "53916  en-ud-dev.conllu 1215_1_2_3  en-ud-dev.conllu 1216_7  \n",
       "\n",
       "[5 rows x 28 columns]"
      ]
     },
     "execution_count": 7,
     "metadata": {},
     "output_type": "execute_result"
    }
   ],
   "source": [
    "pilot5['pred1_slider1'] = pilot5.pred1_slider.map(lambda x: int(x.split(' - ')[0]))\n",
    "pilot5['pred1_slider2'] = pilot5.pred1_slider.map(lambda x: int(x.split(' - ')[1]))\n",
    "pilot5['pred2_slider1'] = pilot5.pred2_slider.map(lambda x: int(x.split(' - ')[0]))\n",
    "pilot5['pred2_slider2'] = pilot5.pred2_slider.map(lambda x: int(x.split(' - ')[1]))\n",
    "\n",
    "pilot5['sent1_token'] = pilot5['sentence_id_1'] + '_' + pilot5['pred1_token']\n",
    "pilot5['sent2_token'] = pilot5['sentence_id_2'] + '_' + pilot5['pred2_token']\n",
    "\n",
    "pilot5.head()"
   ]
  },
  {
   "cell_type": "code",
   "execution_count": 8,
   "metadata": {},
   "outputs": [
    {
     "name": "stderr",
     "output_type": "stream",
     "text": [
      "/Users/sidvash/anaconda/lib/python3.6/site-packages/pandas/core/series.py:842: FutureWarning: \n",
      "Passing list-likes to .loc or [] with any missing label will raise\n",
      "KeyError in the future, you can use .reindex() as an alternative.\n",
      "\n",
      "See the documentation here:\n",
      "https://pandas.pydata.org/pandas-docs/stable/indexing.html#deprecate-loc-reindex-listlike\n",
      "  return self.loc[key]\n"
     ]
    }
   ],
   "source": [
    "def ridit_score(x):\n",
    "    x = x.astype(int)\n",
    "    x_max, x_min = x.max(), x.min()\n",
    "    counts = x.value_counts()[list(range(x_max+1))].fillna(0)\n",
    "    dist = counts/counts.sum()\n",
    "    cumdist = dist.cumsum()\n",
    "    \n",
    "    def _ridit_score(i):\n",
    "        if i != x_min: \n",
    "            return cumdist[i-1] + dist[i]/2\n",
    "        else:\n",
    "            return dist[i]/2\n",
    "        \n",
    "    return x.apply(_ridit_score)\n",
    "\n",
    "pilot5['relation_conf_ridit'] = pilot5.groupby('worker_id').relation_conf.transform(ridit_score)\n",
    "pilot5['pred1_dur_conf_ridit'] = pilot5.groupby('worker_id').pred1_dur_conf.transform(ridit_score)\n",
    "pilot5['pred2_dur_conf_ridit'] = pilot5.groupby('worker_id').pred2_dur_conf.transform(ridit_score)"
   ]
  },
  {
   "cell_type": "code",
   "execution_count": 9,
   "metadata": {
    "scrolled": false
   },
   "outputs": [
    {
     "data": {
      "text/plain": [
       "(16304, 31)"
      ]
     },
     "execution_count": 9,
     "metadata": {},
     "output_type": "execute_result"
    }
   ],
   "source": [
    "pilot5.shape"
   ]
  },
  {
   "cell_type": "markdown",
   "metadata": {},
   "source": [
    "## Melted Sliders"
   ]
  },
  {
   "cell_type": "code",
   "execution_count": 10,
   "metadata": {},
   "outputs": [
    {
     "name": "stderr",
     "output_type": "stream",
     "text": [
      "/Users/sidvash/anaconda/lib/python3.6/site-packages/ipykernel_launcher.py:13: RuntimeWarning: invalid value encountered in true_divide\n",
      "  del sys.path[0]\n"
     ]
    },
    {
     "data": {
      "text/html": [
       "<div>\n",
       "<style scoped>\n",
       "    .dataframe tbody tr th:only-of-type {\n",
       "        vertical-align: middle;\n",
       "    }\n",
       "\n",
       "    .dataframe tbody tr th {\n",
       "        vertical-align: top;\n",
       "    }\n",
       "\n",
       "    .dataframe thead th {\n",
       "        text-align: right;\n",
       "    }\n",
       "</style>\n",
       "<table border=\"1\" class=\"dataframe\">\n",
       "  <thead>\n",
       "    <tr style=\"text-align: right;\">\n",
       "      <th></th>\n",
       "      <th>worker_id</th>\n",
       "      <th>sent1_token</th>\n",
       "      <th>sent2_token</th>\n",
       "      <th>sent_token</th>\n",
       "      <th>hit_id</th>\n",
       "      <th>relation_conf_ridit</th>\n",
       "      <th>variable</th>\n",
       "      <th>value</th>\n",
       "    </tr>\n",
       "  </thead>\n",
       "  <tbody>\n",
       "    <tr>\n",
       "      <th>0</th>\n",
       "      <td>84</td>\n",
       "      <td>en-ud-dev.conllu 31_12</td>\n",
       "      <td>en-ud-dev.conllu 32_19</td>\n",
       "      <td>en-ud-dev.conllu 31_12 en-ud-dev.conllu 32_19</td>\n",
       "      <td>10769</td>\n",
       "      <td>0.788732</td>\n",
       "      <td>pred1_slider1</td>\n",
       "      <td>0.0</td>\n",
       "    </tr>\n",
       "    <tr>\n",
       "      <th>1</th>\n",
       "      <td>84</td>\n",
       "      <td>en-ud-dev.conllu 1215_1_2_3</td>\n",
       "      <td>en-ud-dev.conllu 1216_7</td>\n",
       "      <td>en-ud-dev.conllu 1215_3 en-ud-dev.conllu 1216_7</td>\n",
       "      <td>10769</td>\n",
       "      <td>0.267606</td>\n",
       "      <td>pred1_slider1</td>\n",
       "      <td>0.0</td>\n",
       "    </tr>\n",
       "    <tr>\n",
       "      <th>2</th>\n",
       "      <td>84</td>\n",
       "      <td>en-ud-dev.conllu 217_11</td>\n",
       "      <td>en-ud-dev.conllu 217_19</td>\n",
       "      <td>en-ud-dev.conllu 217_11 en-ud-dev.conllu 217_19</td>\n",
       "      <td>10769</td>\n",
       "      <td>0.471831</td>\n",
       "      <td>pred1_slider1</td>\n",
       "      <td>0.0</td>\n",
       "    </tr>\n",
       "    <tr>\n",
       "      <th>3</th>\n",
       "      <td>549</td>\n",
       "      <td>en-ud-dev.conllu 31_12</td>\n",
       "      <td>en-ud-dev.conllu 32_19</td>\n",
       "      <td>en-ud-dev.conllu 31_12 en-ud-dev.conllu 32_19</td>\n",
       "      <td>10769</td>\n",
       "      <td>0.211864</td>\n",
       "      <td>pred1_slider1</td>\n",
       "      <td>0.0</td>\n",
       "    </tr>\n",
       "    <tr>\n",
       "      <th>4</th>\n",
       "      <td>549</td>\n",
       "      <td>en-ud-dev.conllu 1215_1_2_3</td>\n",
       "      <td>en-ud-dev.conllu 1216_7</td>\n",
       "      <td>en-ud-dev.conllu 1215_3 en-ud-dev.conllu 1216_7</td>\n",
       "      <td>10769</td>\n",
       "      <td>0.627119</td>\n",
       "      <td>pred1_slider1</td>\n",
       "      <td>0.0</td>\n",
       "    </tr>\n",
       "  </tbody>\n",
       "</table>\n",
       "</div>"
      ],
      "text/plain": [
       "   worker_id                  sent1_token              sent2_token  \\\n",
       "0         84       en-ud-dev.conllu 31_12   en-ud-dev.conllu 32_19   \n",
       "1         84  en-ud-dev.conllu 1215_1_2_3  en-ud-dev.conllu 1216_7   \n",
       "2         84      en-ud-dev.conllu 217_11  en-ud-dev.conllu 217_19   \n",
       "3        549       en-ud-dev.conllu 31_12   en-ud-dev.conllu 32_19   \n",
       "4        549  en-ud-dev.conllu 1215_1_2_3  en-ud-dev.conllu 1216_7   \n",
       "\n",
       "                                        sent_token  hit_id  \\\n",
       "0    en-ud-dev.conllu 31_12 en-ud-dev.conllu 32_19   10769   \n",
       "1  en-ud-dev.conllu 1215_3 en-ud-dev.conllu 1216_7   10769   \n",
       "2  en-ud-dev.conllu 217_11 en-ud-dev.conllu 217_19   10769   \n",
       "3    en-ud-dev.conllu 31_12 en-ud-dev.conllu 32_19   10769   \n",
       "4  en-ud-dev.conllu 1215_3 en-ud-dev.conllu 1216_7   10769   \n",
       "\n",
       "   relation_conf_ridit       variable  value  \n",
       "0             0.788732  pred1_slider1    0.0  \n",
       "1             0.267606  pred1_slider1    0.0  \n",
       "2             0.471831  pred1_slider1    0.0  \n",
       "3             0.211864  pred1_slider1    0.0  \n",
       "4             0.627119  pred1_slider1    0.0  "
      ]
     },
     "execution_count": 10,
     "metadata": {},
     "output_type": "execute_result"
    }
   ],
   "source": [
    "pilot5_slider_melted = pd.melt(pilot5, \n",
    "                               id_vars=['worker_id', 'sent1_token', 'sent2_token',\n",
    "                                        'sent_token', 'hit_id', 'relation_conf_ridit'], \n",
    "                               value_vars=['pred1_slider1', 'pred1_slider2', 'pred2_slider1', 'pred2_slider2'])\n",
    "\n",
    "## Normalizinf Slider values to make it between 0 and 1\n",
    "minvals = pilot5_slider_melted.groupby(['worker_id', 'sent_token']).value.transform(lambda x: x.min())\n",
    "\n",
    "pilot5_slider_melted.loc[pilot5_slider_melted.value!=100, 'value'] = pilot5_slider_melted[pilot5_slider_melted.value!=100].value - minvals[pilot5_slider_melted.value!=100] \n",
    "\n",
    "maxvals = pilot5_slider_melted.groupby(['worker_id', 'sent_token']).value.transform(lambda x: x.max())\n",
    "\n",
    "pilot5_slider_melted.value = pilot5_slider_melted.value.values/maxvals.values \n",
    "\n",
    "pilot5_slider_melted.head()"
   ]
  },
  {
   "cell_type": "markdown",
   "metadata": {},
   "source": [
    "#### Fill NaN values with zero "
   ]
  },
  {
   "cell_type": "code",
   "execution_count": 11,
   "metadata": {},
   "outputs": [
    {
     "name": "stdout",
     "output_type": "stream",
     "text": [
      "(0, 8)\n"
     ]
    }
   ],
   "source": [
    "pilot5_slider_melted.fillna(0, inplace=True)\n",
    "print(pilot5_slider_melted[pilot5_slider_melted.value.isnull()].shape)"
   ]
  },
  {
   "cell_type": "code",
   "execution_count": 12,
   "metadata": {},
   "outputs": [
    {
     "data": {
      "text/plain": [
       "(65216, 8)"
      ]
     },
     "execution_count": 12,
     "metadata": {},
     "output_type": "execute_result"
    }
   ],
   "source": [
    "pilot5_slider_melted.shape"
   ]
  },
  {
   "cell_type": "code",
   "execution_count": 13,
   "metadata": {},
   "outputs": [
    {
     "data": {
      "text/plain": [
       "0"
      ]
     },
     "execution_count": 13,
     "metadata": {},
     "output_type": "execute_result"
    }
   ],
   "source": [
    "sum(pilot5_slider_melted.hit_id.isnull())"
   ]
  },
  {
   "cell_type": "code",
   "execution_count": 14,
   "metadata": {},
   "outputs": [
    {
     "data": {
      "text/plain": [
       "(array([ 20408.,   1525.,   1635.,   1367.,   1437.,   1677.,   1649.,\n",
       "          1324.,   1687.,   1405.,   1891.,   1591.,   1196.,   1487.,\n",
       "          1042.,   1200.,   1266.,    997.,   1188.,  19244.]),\n",
       " array([ 0.  ,  0.05,  0.1 ,  0.15,  0.2 ,  0.25,  0.3 ,  0.35,  0.4 ,\n",
       "         0.45,  0.5 ,  0.55,  0.6 ,  0.65,  0.7 ,  0.75,  0.8 ,  0.85,\n",
       "         0.9 ,  0.95,  1.  ]),\n",
       " <a list of 20 Patch objects>)"
      ]
     },
     "execution_count": 14,
     "metadata": {},
     "output_type": "execute_result"
    },
    {
     "data": {
      "image/png": "[encoded data removed]",
      "text/plain": [
       "<Figure size 432x288 with 1 Axes>"
      ]
     },
     "metadata": {},
     "output_type": "display_data"
    }
   ],
   "source": [
    "plt.hist(pilot5_slider_melted.value, bins=20)"
   ]
  },
  {
   "cell_type": "markdown",
   "metadata": {},
   "source": [
    "## Melted Durations"
   ]
  },
  {
   "cell_type": "code",
   "execution_count": 15,
   "metadata": {},
   "outputs": [
    {
     "name": "stdout",
     "output_type": "stream",
     "text": [
      "(32608, 9)\n",
      "(65216, 9)\n",
      "(65216, 8)\n",
      "(32608, 8)\n"
     ]
    },
    {
     "data": {
      "text/html": [
       "<div>\n",
       "<style scoped>\n",
       "    .dataframe tbody tr th:only-of-type {\n",
       "        vertical-align: middle;\n",
       "    }\n",
       "\n",
       "    .dataframe tbody tr th {\n",
       "        vertical-align: top;\n",
       "    }\n",
       "\n",
       "    .dataframe thead th {\n",
       "        text-align: right;\n",
       "    }\n",
       "</style>\n",
       "<table border=\"1\" class=\"dataframe\">\n",
       "  <thead>\n",
       "    <tr style=\"text-align: right;\">\n",
       "      <th></th>\n",
       "      <th>worker_id</th>\n",
       "      <th>predpos</th>\n",
       "      <th>duration</th>\n",
       "      <th>sent</th>\n",
       "      <th>sent_token</th>\n",
       "      <th>hit_id</th>\n",
       "      <th>predposconf</th>\n",
       "      <th>conf</th>\n",
       "    </tr>\n",
       "  </thead>\n",
       "  <tbody>\n",
       "    <tr>\n",
       "      <th>0</th>\n",
       "      <td>84</td>\n",
       "      <td>pred1_duration</td>\n",
       "      <td>2</td>\n",
       "      <td>en-ud-dev.conllu 31_12</td>\n",
       "      <td>en-ud-dev.conllu 31_12 en-ud-dev.conllu 32_19</td>\n",
       "      <td>10769</td>\n",
       "      <td>pred1_dur_conf_ridit</td>\n",
       "      <td>0.760563</td>\n",
       "    </tr>\n",
       "    <tr>\n",
       "      <th>1</th>\n",
       "      <td>84</td>\n",
       "      <td>pred1_duration</td>\n",
       "      <td>7</td>\n",
       "      <td>en-ud-dev.conllu 1215_1_2_3</td>\n",
       "      <td>en-ud-dev.conllu 1215_3 en-ud-dev.conllu 1216_7</td>\n",
       "      <td>10769</td>\n",
       "      <td>pred1_dur_conf_ridit</td>\n",
       "      <td>0.147887</td>\n",
       "    </tr>\n",
       "    <tr>\n",
       "      <th>2</th>\n",
       "      <td>84</td>\n",
       "      <td>pred1_duration</td>\n",
       "      <td>6</td>\n",
       "      <td>en-ud-dev.conllu 217_11</td>\n",
       "      <td>en-ud-dev.conllu 217_11 en-ud-dev.conllu 217_19</td>\n",
       "      <td>10769</td>\n",
       "      <td>pred1_dur_conf_ridit</td>\n",
       "      <td>0.450704</td>\n",
       "    </tr>\n",
       "    <tr>\n",
       "      <th>3</th>\n",
       "      <td>549</td>\n",
       "      <td>pred1_duration</td>\n",
       "      <td>5</td>\n",
       "      <td>en-ud-dev.conllu 31_12</td>\n",
       "      <td>en-ud-dev.conllu 31_12 en-ud-dev.conllu 32_19</td>\n",
       "      <td>10769</td>\n",
       "      <td>pred1_dur_conf_ridit</td>\n",
       "      <td>0.222034</td>\n",
       "    </tr>\n",
       "    <tr>\n",
       "      <th>4</th>\n",
       "      <td>549</td>\n",
       "      <td>pred1_duration</td>\n",
       "      <td>4</td>\n",
       "      <td>en-ud-dev.conllu 1215_1_2_3</td>\n",
       "      <td>en-ud-dev.conllu 1215_3 en-ud-dev.conllu 1216_7</td>\n",
       "      <td>10769</td>\n",
       "      <td>pred1_dur_conf_ridit</td>\n",
       "      <td>0.661017</td>\n",
       "    </tr>\n",
       "  </tbody>\n",
       "</table>\n",
       "</div>"
      ],
      "text/plain": [
       "   worker_id         predpos  duration                         sent  \\\n",
       "0         84  pred1_duration         2       en-ud-dev.conllu 31_12   \n",
       "1         84  pred1_duration         7  en-ud-dev.conllu 1215_1_2_3   \n",
       "2         84  pred1_duration         6      en-ud-dev.conllu 217_11   \n",
       "3        549  pred1_duration         5       en-ud-dev.conllu 31_12   \n",
       "4        549  pred1_duration         4  en-ud-dev.conllu 1215_1_2_3   \n",
       "\n",
       "                                        sent_token  hit_id  \\\n",
       "0    en-ud-dev.conllu 31_12 en-ud-dev.conllu 32_19   10769   \n",
       "1  en-ud-dev.conllu 1215_3 en-ud-dev.conllu 1216_7   10769   \n",
       "2  en-ud-dev.conllu 217_11 en-ud-dev.conllu 217_19   10769   \n",
       "3    en-ud-dev.conllu 31_12 en-ud-dev.conllu 32_19   10769   \n",
       "4  en-ud-dev.conllu 1215_3 en-ud-dev.conllu 1216_7   10769   \n",
       "\n",
       "            predposconf      conf  \n",
       "0  pred1_dur_conf_ridit  0.760563  \n",
       "1  pred1_dur_conf_ridit  0.147887  \n",
       "2  pred1_dur_conf_ridit  0.450704  \n",
       "3  pred1_dur_conf_ridit  0.222034  \n",
       "4  pred1_dur_conf_ridit  0.661017  "
      ]
     },
     "execution_count": 15,
     "metadata": {},
     "output_type": "execute_result"
    }
   ],
   "source": [
    "pilot5_duration_melted = pd.melt(pilot5, \n",
    "                               id_vars=['worker_id', 'sent1_token', 'sent2_token', \n",
    "                                        'sent_token', 'hit_id', 'pred1_dur_conf_ridit', 'pred2_dur_conf_ridit'], \n",
    "                               value_vars=['pred1_duration', 'pred2_duration']).rename(columns={'variable': 'predpos', 'value': 'duration'}) \n",
    "print(pilot5_duration_melted.shape)\n",
    "pilot5_duration_melted = pd.melt(pilot5_duration_melted, \n",
    "                                 id_vars=['worker_id', 'predpos', 'duration', \n",
    "                                        'sent_token', 'hit_id', 'pred1_dur_conf_ridit', 'pred2_dur_conf_ridit'], \n",
    "                                 value_vars=['sent1_token', 'sent2_token']).rename(columns={'variable': 'sentpos', 'value': 'sent'}) \n",
    "print(pilot5_duration_melted.shape)\n",
    "pilot5_duration_melted = pilot5_duration_melted[pilot5_duration_melted[['predpos', 'sentpos']].apply(lambda x: x[0].split('_')[0][-1] in x[1], axis=1)]\n",
    "\n",
    "pilot5_duration_melted = pd.melt(pilot5_duration_melted, \n",
    "                                 id_vars=['worker_id', 'predpos', 'duration', 'sent', 'sent_token', 'hit_id'], \n",
    "                                 value_vars=['pred1_dur_conf_ridit', 'pred2_dur_conf_ridit']).rename(columns={'variable': 'predposconf', 'value': 'conf'}) \n",
    "print(pilot5_duration_melted.shape)\n",
    "pilot5_duration_melted = pilot5_duration_melted[pilot5_duration_melted[['predpos', 'predposconf']].apply(lambda x: x[0].split('_')[0][-1] in x[1], axis=1)]\n",
    "print(pilot5_duration_melted.shape)\n",
    "#conf_head = pilot5_duration_melted.variable.map(lambda x: x.split('_')[0] + '_dur_conf_ridit').values\n",
    "pilot5_duration_melted.head()"
   ]
  },
  {
   "cell_type": "code",
   "execution_count": 16,
   "metadata": {},
   "outputs": [
    {
     "data": {
      "text/plain": [
       "0"
      ]
     },
     "execution_count": 16,
     "metadata": {},
     "output_type": "execute_result"
    }
   ],
   "source": [
    "sum(pilot5_duration_melted.hit_id.isnull())"
   ]
  },
  {
   "cell_type": "markdown",
   "metadata": {},
   "source": [
    "## Creating Rank-difference Dataframes"
   ]
  },
  {
   "cell_type": "code",
   "execution_count": 17,
   "metadata": {
    "scrolled": true
   },
   "outputs": [
    {
     "name": "stderr",
     "output_type": "stream",
     "text": [
      "/Users/sidvash/anaconda/lib/python3.6/site-packages/pandas/core/series.py:842: FutureWarning: \n",
      "Passing list-likes to .loc or [] with any missing label will raise\n",
      "KeyError in the future, you can use .reindex() as an alternative.\n",
      "\n",
      "See the documentation here:\n",
      "https://pandas.pydata.org/pandas-docs/stable/indexing.html#deprecate-loc-reindex-listlike\n",
      "  return self.loc[key]\n"
     ]
    },
    {
     "data": {
      "text/html": [
       "<div>\n",
       "<style scoped>\n",
       "    .dataframe tbody tr th:only-of-type {\n",
       "        vertical-align: middle;\n",
       "    }\n",
       "\n",
       "    .dataframe tbody tr th {\n",
       "        vertical-align: top;\n",
       "    }\n",
       "\n",
       "    .dataframe thead th {\n",
       "        text-align: right;\n",
       "    }\n",
       "</style>\n",
       "<table border=\"1\" class=\"dataframe\">\n",
       "  <thead>\n",
       "    <tr style=\"text-align: right;\">\n",
       "      <th></th>\n",
       "      <th>ann1</th>\n",
       "      <th>ann2</th>\n",
       "      <th>pred_token</th>\n",
       "      <th>sent_token</th>\n",
       "      <th>hit_id</th>\n",
       "      <th>confidence</th>\n",
       "      <th>rankdiff</th>\n",
       "    </tr>\n",
       "  </thead>\n",
       "  <tbody>\n",
       "    <tr>\n",
       "      <th>14460</th>\n",
       "      <td>0</td>\n",
       "      <td>552</td>\n",
       "      <td>en-ud-dev.conllu 664_2</td>\n",
       "      <td>en-ud-dev.conllu 664_2 en-ud-dev.conllu 664_13</td>\n",
       "      <td>8715</td>\n",
       "      <td>0.464286</td>\n",
       "      <td>2.423538</td>\n",
       "    </tr>\n",
       "    <tr>\n",
       "      <th>14461</th>\n",
       "      <td>0</td>\n",
       "      <td>552</td>\n",
       "      <td>en-ud-dev.conllu 379_3</td>\n",
       "      <td>en-ud-dev.conllu 379_3 en-ud-dev.conllu 380_23</td>\n",
       "      <td>8715</td>\n",
       "      <td>0.654762</td>\n",
       "      <td>0.579818</td>\n",
       "    </tr>\n",
       "    <tr>\n",
       "      <th>14462</th>\n",
       "      <td>0</td>\n",
       "      <td>552</td>\n",
       "      <td>en-ud-dev.conllu 1024_3</td>\n",
       "      <td>en-ud-dev.conllu 1024_3 en-ud-dev.conllu 1024_18</td>\n",
       "      <td>8715</td>\n",
       "      <td>0.654762</td>\n",
       "      <td>1.783391</td>\n",
       "    </tr>\n",
       "    <tr>\n",
       "      <th>63372</th>\n",
       "      <td>0</td>\n",
       "      <td>552</td>\n",
       "      <td>en-ud-dev.conllu 664_13</td>\n",
       "      <td>en-ud-dev.conllu 664_2 en-ud-dev.conllu 664_13</td>\n",
       "      <td>8715</td>\n",
       "      <td>0.476190</td>\n",
       "      <td>0.579818</td>\n",
       "    </tr>\n",
       "    <tr>\n",
       "      <th>63373</th>\n",
       "      <td>0</td>\n",
       "      <td>552</td>\n",
       "      <td>en-ud-dev.conllu 380_23</td>\n",
       "      <td>en-ud-dev.conllu 379_3 en-ud-dev.conllu 380_23</td>\n",
       "      <td>8715</td>\n",
       "      <td>0.654762</td>\n",
       "      <td>3.314186</td>\n",
       "    </tr>\n",
       "  </tbody>\n",
       "</table>\n",
       "</div>"
      ],
      "text/plain": [
       "       ann1  ann2               pred_token  \\\n",
       "14460     0   552   en-ud-dev.conllu 664_2   \n",
       "14461     0   552   en-ud-dev.conllu 379_3   \n",
       "14462     0   552  en-ud-dev.conllu 1024_3   \n",
       "63372     0   552  en-ud-dev.conllu 664_13   \n",
       "63373     0   552  en-ud-dev.conllu 380_23   \n",
       "\n",
       "                                             sent_token  hit_id  confidence  \\\n",
       "14460    en-ud-dev.conllu 664_2 en-ud-dev.conllu 664_13    8715    0.464286   \n",
       "14461    en-ud-dev.conllu 379_3 en-ud-dev.conllu 380_23    8715    0.654762   \n",
       "14462  en-ud-dev.conllu 1024_3 en-ud-dev.conllu 1024_18    8715    0.654762   \n",
       "63372    en-ud-dev.conllu 664_2 en-ud-dev.conllu 664_13    8715    0.476190   \n",
       "63373    en-ud-dev.conllu 379_3 en-ud-dev.conllu 380_23    8715    0.654762   \n",
       "\n",
       "       rankdiff  \n",
       "14460  2.423538  \n",
       "14461  0.579818  \n",
       "14462  1.783391  \n",
       "63372  0.579818  \n",
       "63373  3.314186  "
      ]
     },
     "execution_count": 17,
     "metadata": {},
     "output_type": "execute_result"
    }
   ],
   "source": [
    "from scipy.special import logit\n",
    "\n",
    "pairs = pd.merge(pilot5[['worker_id', 'sent_token']], \n",
    "                 pilot5[['worker_id', 'sent_token']], \n",
    "                 on=['sent_token'])\n",
    "\n",
    "pairs = pairs.groupby(['worker_id_x', 'worker_id_y'])['sent_token'].unique().reset_index()\n",
    "\n",
    "pairs = pairs[pairs['worker_id_x'] != pairs['worker_id_y']]\n",
    "\n",
    "pairs.columns = ['ann1', 'ann2', 'id']\n",
    "\n",
    "rank_diffs_duration = []\n",
    "rank_diffs_slider = []\n",
    "\n",
    "pilot5_duration_melted['duration_ridit'] = pilot5_duration_melted.groupby('worker_id').duration.transform(lambda x: logit(ridit_score(x)))\n",
    "pilot5_slider_melted['value_ridit'] = pilot5_slider_melted.groupby('worker_id').value.transform(lambda x: logit(ridit_score(x)))\n",
    "\n",
    "for ann1, ann2, sid in pairs.values:    \n",
    "    pilot5_duration_melted_ann1 = pilot5_duration_melted[(pilot5_duration_melted['worker_id']==ann1)&(pilot5_duration_melted['sent_token'].isin(sid))]\n",
    "    pilot5_duration_melted_ann2 = pilot5_duration_melted[(pilot5_duration_melted['worker_id']==ann2)&(pilot5_duration_melted['sent_token'].isin(sid))]\n",
    "\n",
    "    pilot5_slider_melted_ann1 = pilot5_slider_melted[(pilot5_slider_melted['worker_id']==ann1)&(pilot5_slider_melted['sent_token'].isin(sid))]\n",
    "    pilot5_slider_melted_ann2 = pilot5_slider_melted[(pilot5_slider_melted['worker_id']==ann2)&(pilot5_slider_melted['sent_token'].isin(sid))]\n",
    "    \n",
    "    rd_dur = pd.DataFrame.from_dict({'ann1': ann1, 'ann2': ann2, \n",
    "                                     'pred_token': pilot5_duration_melted_ann1.sent,\n",
    "                                     'sent_token': pilot5_duration_melted_ann1.sent_token,\n",
    "                                     'hit_id': pilot5_duration_melted_ann1.hit_id,\n",
    "                                     'confidence': (pilot5_duration_melted_ann1.conf.values +\\\n",
    "                                                    pilot5_duration_melted_ann2.conf.values)/2,\n",
    "                                     'rankdiff': np.abs(pilot5_duration_melted_ann1.duration_ridit.values -\\\n",
    "                                                        pilot5_duration_melted_ann2.duration_ridit.values)})\n",
    "#                                     'correlation': np.corrcoef(pilot5_duration_melted_ann1.value.rank().values,\n",
    "#                                                                pilot5_duration_melted_ann2.value.rank().values)})\n",
    "    \n",
    "    rd_rel = pd.DataFrame.from_dict({'ann1': ann1, 'ann2': ann2, \n",
    "                                     'sent_token': pilot5_slider_melted_ann1.sent_token, \n",
    "                                     'hit_id': pilot5_slider_melted_ann1.hit_id,\n",
    "                                     'pred1_token': pilot5_slider_melted_ann1.sent1_token,\n",
    "                                     'pred2_token': pilot5_slider_melted_ann1.sent2_token,\n",
    "                                     'confidence': (pilot5_slider_melted_ann1.relation_conf_ridit.values+\\\n",
    "                                                    pilot5_slider_melted_ann2.relation_conf_ridit.values)/2,\n",
    "                                     'rankdiff': np.abs(pilot5_slider_melted_ann1.value_ridit.values -\\\n",
    "                                                        pilot5_slider_melted_ann2.value_ridit.values)})\n",
    "#                                     'correlation': np.corrcoef(pilot5_duration_melted_ann1.value.values,\n",
    "#                                                                pilot5_duration_melted_ann2.value.values)})\n",
    "    \n",
    "    \n",
    "    rd_dur_rev = rd_dur[['ann2', 'ann1']+list(rd_dur.columns)[2:]]\n",
    "    rd_dur_rev.columns = rd_dur.columns\n",
    "    \n",
    "    rd_rel_rev = rd_rel[['ann2', 'ann1']+list(rd_rel.columns)[2:]]\n",
    "    rd_rel_rev.columns = rd_rel.columns\n",
    "    \n",
    "    rank_diffs_duration.extend([rd_dur, rd_dur_rev])\n",
    "    rank_diffs_slider.extend([rd_rel, rd_rel_rev])\n",
    "    \n",
    "rank_diffs_duration = pd.concat(rank_diffs_duration)\n",
    "rank_diffs_slider = pd.concat(rank_diffs_slider)\n",
    "\n",
    "rank_diffs_duration.head()"
   ]
  },
  {
   "cell_type": "code",
   "execution_count": 18,
   "metadata": {},
   "outputs": [
    {
     "name": "stdout",
     "output_type": "stream",
     "text": [
      "(127456, 7)\n",
      "(254912, 8)\n"
     ]
    }
   ],
   "source": [
    "print(rank_diffs_duration.shape)\n",
    "print(rank_diffs_slider.shape)"
   ]
  },
  {
   "cell_type": "code",
   "execution_count": 19,
   "metadata": {},
   "outputs": [
    {
     "data": {
      "text/html": [
       "<div>\n",
       "<style scoped>\n",
       "    .dataframe tbody tr th:only-of-type {\n",
       "        vertical-align: middle;\n",
       "    }\n",
       "\n",
       "    .dataframe tbody tr th {\n",
       "        vertical-align: top;\n",
       "    }\n",
       "\n",
       "    .dataframe thead th {\n",
       "        text-align: right;\n",
       "    }\n",
       "</style>\n",
       "<table border=\"1\" class=\"dataframe\">\n",
       "  <thead>\n",
       "    <tr style=\"text-align: right;\">\n",
       "      <th></th>\n",
       "      <th>ann1</th>\n",
       "      <th>ann2</th>\n",
       "      <th>sent_token</th>\n",
       "      <th>hit_id</th>\n",
       "      <th>pred1_token</th>\n",
       "      <th>pred2_token</th>\n",
       "      <th>confidence</th>\n",
       "      <th>rankdiff</th>\n",
       "    </tr>\n",
       "  </thead>\n",
       "  <tbody>\n",
       "    <tr>\n",
       "      <th>14460</th>\n",
       "      <td>0</td>\n",
       "      <td>552</td>\n",
       "      <td>en-ud-dev.conllu 664_2 en-ud-dev.conllu 664_13</td>\n",
       "      <td>8715</td>\n",
       "      <td>en-ud-dev.conllu 664_2</td>\n",
       "      <td>en-ud-dev.conllu 664_13</td>\n",
       "      <td>0.464286</td>\n",
       "      <td>0.025479</td>\n",
       "    </tr>\n",
       "    <tr>\n",
       "      <th>14461</th>\n",
       "      <td>0</td>\n",
       "      <td>552</td>\n",
       "      <td>en-ud-dev.conllu 379_3 en-ud-dev.conllu 380_23</td>\n",
       "      <td>8715</td>\n",
       "      <td>en-ud-dev.conllu 379_3</td>\n",
       "      <td>en-ud-dev.conllu 380_23</td>\n",
       "      <td>0.666667</td>\n",
       "      <td>0.025479</td>\n",
       "    </tr>\n",
       "    <tr>\n",
       "      <th>14462</th>\n",
       "      <td>0</td>\n",
       "      <td>552</td>\n",
       "      <td>en-ud-dev.conllu 1024_3 en-ud-dev.conllu 1024_18</td>\n",
       "      <td>8715</td>\n",
       "      <td>en-ud-dev.conllu 1024_3</td>\n",
       "      <td>en-ud-dev.conllu 1024_18</td>\n",
       "      <td>0.464286</td>\n",
       "      <td>0.025479</td>\n",
       "    </tr>\n",
       "    <tr>\n",
       "      <th>30764</th>\n",
       "      <td>0</td>\n",
       "      <td>552</td>\n",
       "      <td>en-ud-dev.conllu 664_2 en-ud-dev.conllu 664_13</td>\n",
       "      <td>8715</td>\n",
       "      <td>en-ud-dev.conllu 664_2</td>\n",
       "      <td>en-ud-dev.conllu 664_13</td>\n",
       "      <td>0.464286</td>\n",
       "      <td>0.025479</td>\n",
       "    </tr>\n",
       "    <tr>\n",
       "      <th>30765</th>\n",
       "      <td>0</td>\n",
       "      <td>552</td>\n",
       "      <td>en-ud-dev.conllu 379_3 en-ud-dev.conllu 380_23</td>\n",
       "      <td>8715</td>\n",
       "      <td>en-ud-dev.conllu 379_3</td>\n",
       "      <td>en-ud-dev.conllu 380_23</td>\n",
       "      <td>0.666667</td>\n",
       "      <td>0.025479</td>\n",
       "    </tr>\n",
       "  </tbody>\n",
       "</table>\n",
       "</div>"
      ],
      "text/plain": [
       "       ann1  ann2                                        sent_token  hit_id  \\\n",
       "14460     0   552    en-ud-dev.conllu 664_2 en-ud-dev.conllu 664_13    8715   \n",
       "14461     0   552    en-ud-dev.conllu 379_3 en-ud-dev.conllu 380_23    8715   \n",
       "14462     0   552  en-ud-dev.conllu 1024_3 en-ud-dev.conllu 1024_18    8715   \n",
       "30764     0   552    en-ud-dev.conllu 664_2 en-ud-dev.conllu 664_13    8715   \n",
       "30765     0   552    en-ud-dev.conllu 379_3 en-ud-dev.conllu 380_23    8715   \n",
       "\n",
       "                   pred1_token               pred2_token  confidence  rankdiff  \n",
       "14460   en-ud-dev.conllu 664_2   en-ud-dev.conllu 664_13    0.464286  0.025479  \n",
       "14461   en-ud-dev.conllu 379_3   en-ud-dev.conllu 380_23    0.666667  0.025479  \n",
       "14462  en-ud-dev.conllu 1024_3  en-ud-dev.conllu 1024_18    0.464286  0.025479  \n",
       "30764   en-ud-dev.conllu 664_2   en-ud-dev.conllu 664_13    0.464286  0.025479  \n",
       "30765   en-ud-dev.conllu 379_3   en-ud-dev.conllu 380_23    0.666667  0.025479  "
      ]
     },
     "execution_count": 19,
     "metadata": {},
     "output_type": "execute_result"
    }
   ],
   "source": [
    "rank_diffs_slider.head()"
   ]
  },
  {
   "cell_type": "code",
   "execution_count": 20,
   "metadata": {},
   "outputs": [
    {
     "data": {
      "image/png": "[encoded data removed]",
      "text/plain": [
       "<Figure size 432x288 with 1 Axes>"
      ]
     },
     "metadata": {},
     "output_type": "display_data"
    }
   ],
   "source": [
    "_ = plt.hist(np.log(rank_diffs_slider.rankdiff+1.), bins=20)"
   ]
  },
  {
   "cell_type": "code",
   "execution_count": 21,
   "metadata": {},
   "outputs": [
    {
     "data": {
      "image/png": "[encoded data removed]",
      "text/plain": [
       "<Figure size 432x288 with 1 Axes>"
      ]
     },
     "metadata": {},
     "output_type": "display_data"
    }
   ],
   "source": [
    "_ = plt.hist(np.log(rank_diffs_duration.rankdiff+1.), bins=20)"
   ]
  },
  {
   "cell_type": "code",
   "execution_count": 22,
   "metadata": {},
   "outputs": [
    {
     "data": {
      "text/plain": [
       "Linear mixed model fit by REML ['lmerMod']\n",
       "Formula: log1p(rankdiff) ~ 1 + (1 | ann1) + (1 | ann2) + (1 | pred_token) +  \n",
       "    (1 | sent_token) + (1 | hit_id)\n",
       "   Data: rank_diffs_duration\n",
       "Weights: rank_diffs_duration$confidence\n",
       "\n",
       "REML criterion at convergence: 131919.6\n",
       "\n",
       "Scaled residuals: \n",
       "    Min      1Q  Median      3Q     Max \n",
       "-4.0992 -0.6399  0.0628  0.6998  3.3380 \n",
       "\n",
       "Random effects:\n",
       " Groups     Name        Variance Std.Dev.\n",
       " sent_token (Intercept) 0.063907 0.25280 \n",
       " pred_token (Intercept) 0.054023 0.23243 \n",
       " hit_id     (Intercept) 0.007025 0.08381 \n",
       " ann2       (Intercept) 0.005968 0.07725 \n",
       " ann1       (Intercept) 0.005968 0.07725 \n",
       " Residual               0.064890 0.25474 \n",
       "Number of obs: 127456, groups:  \n",
       "sent_token, 5494; pred_token, 3040; hit_id, 2046; ann2, 719; ann1, 719\n",
       "\n",
       "Fixed effects:\n",
       "            Estimate Std. Error t value\n",
       "(Intercept) 0.786136   0.008025   97.96\n"
      ]
     },
     "metadata": {},
     "output_type": "display_data"
    }
   ],
   "source": [
    "%%R -i rank_diffs_duration -i rank_diffs_slider\n",
    "\n",
    "m.dur <- lmer(log1p(rankdiff) ~ 1 + (1|ann1)+(1|ann2)+(1|pred_token)+(1|sent_token)+(1|hit_id), \n",
    "              weights=rank_diffs_duration$confidence,\n",
    "              data=rank_diffs_duration)\n",
    "m.rel <- lmer(log1p(rankdiff) ~ 1 + (1|ann1)+(1|ann2)+(1|pred1_token)+(1|pred2_token)+(1|sent_token)+(1|hit_id),\n",
    "              weights=rank_diffs_slider$confidence,\n",
    "              data=rank_diffs_slider)\n",
    "\n",
    "\n",
    "random.effects.dur <- ranef(m.dur)$ann1 + ranef(m.dur)$ann2\n",
    "random.effects.rel <- ranef(m.rel)$ann1 + ranef(m.rel)$ann2\n",
    "\n",
    "summary(m.dur)"
   ]
  },
  {
   "cell_type": "code",
   "execution_count": 28,
   "metadata": {},
   "outputs": [
    {
     "data": {
      "text/plain": [
       "0.68700105328921091"
      ]
     },
     "execution_count": 28,
     "metadata": {},
     "output_type": "execute_result"
    }
   ],
   "source": [
    "expit(0.786136)"
   ]
  },
  {
   "cell_type": "code",
   "execution_count": 23,
   "metadata": {},
   "outputs": [
    {
     "data": {
      "text/plain": [
       "Linear mixed model fit by REML ['lmerMod']\n",
       "Formula: log1p(rankdiff) ~ 1 + (1 | ann1) + (1 | ann2) + (1 | pred1_token) +  \n",
       "    (1 | pred2_token) + (1 | sent_token) + (1 | hit_id)\n",
       "   Data: rank_diffs_slider\n",
       "Weights: rank_diffs_slider$confidence\n",
       "\n",
       "REML criterion at convergence: 305138.5\n",
       "\n",
       "Scaled residuals: \n",
       "     Min       1Q   Median       3Q      Max \n",
       "-1.88767 -0.69801 -0.20176  0.04359  3.14596 \n",
       "\n",
       "Random effects:\n",
       " Groups      Name        Variance  Std.Dev.\n",
       " sent_token  (Intercept) 0.0219187 0.14805 \n",
       " pred2_token (Intercept) 0.0009993 0.03161 \n",
       " pred1_token (Intercept) 0.0019334 0.04397 \n",
       " hit_id      (Intercept) 0.0025290 0.05029 \n",
       " ann2        (Intercept) 0.0043328 0.06582 \n",
       " ann1        (Intercept) 0.0043328 0.06582 \n",
       " Residual                0.0862486 0.29368 \n",
       "Number of obs: 254912, groups:  \n",
       "sent_token, 5494; pred2_token, 2692; pred1_token, 2066; hit_id, 2046; ann2, 719; ann1, 719\n",
       "\n",
       "Fixed effects:\n",
       "            Estimate Std. Error t value\n",
       "(Intercept) 0.311220   0.005243   59.36\n"
      ]
     },
     "metadata": {},
     "output_type": "display_data"
    }
   ],
   "source": [
    "%%R\n",
    "\n",
    "summary(m.rel)"
   ]
  },
  {
   "cell_type": "code",
   "execution_count": 29,
   "metadata": {},
   "outputs": [
    {
     "data": {
      "text/plain": [
       "0.57718302132627952"
      ]
     },
     "execution_count": 29,
     "metadata": {},
     "output_type": "execute_result"
    }
   ],
   "source": [
    "expit(0.311220)"
   ]
  },
  {
   "cell_type": "code",
   "execution_count": 30,
   "metadata": {},
   "outputs": [
    {
     "data": {
      "image/png": "[encoded data removed]"
     },
     "metadata": {},
     "output_type": "display_data"
    }
   ],
   "source": [
    "%%R -o random_effects\n",
    "\n",
    "random.effects.dur$ann <- row.names(random.effects.dur)\n",
    "random.effects.rel$ann <- row.names(random.effects.rel)\n",
    "\n",
    "random_effects <- merge(random.effects.dur, random.effects.rel, by='ann')\n",
    "\n",
    "names(random_effects) <- c('ann', 'dur', 'rel')\n",
    "\n",
    "random_effects$dur <- (random_effects$dur-mean(random_effects$dur))/sd(random_effects$dur)\n",
    "random_effects$rel <- (random_effects$rel-mean(random_effects$rel))/sd(random_effects$rel)\n",
    "\n",
    "plot(random_effects$dur, random_effects$rel)"
   ]
  },
  {
   "cell_type": "code",
   "execution_count": 31,
   "metadata": {},
   "outputs": [
    {
     "name": "stdout",
     "output_type": "stream",
     "text": [
      "(719, 3)\n"
     ]
    },
    {
     "data": {
      "text/html": [
       "<div>\n",
       "<style scoped>\n",
       "    .dataframe tbody tr th:only-of-type {\n",
       "        vertical-align: middle;\n",
       "    }\n",
       "\n",
       "    .dataframe tbody tr th {\n",
       "        vertical-align: top;\n",
       "    }\n",
       "\n",
       "    .dataframe thead th {\n",
       "        text-align: right;\n",
       "    }\n",
       "</style>\n",
       "<table border=\"1\" class=\"dataframe\">\n",
       "  <thead>\n",
       "    <tr style=\"text-align: right;\">\n",
       "      <th></th>\n",
       "      <th>ann</th>\n",
       "      <th>dur</th>\n",
       "      <th>rel</th>\n",
       "    </tr>\n",
       "  </thead>\n",
       "  <tbody>\n",
       "    <tr>\n",
       "      <th>1</th>\n",
       "      <td>0</td>\n",
       "      <td>0.008069</td>\n",
       "      <td>-0.373834</td>\n",
       "    </tr>\n",
       "    <tr>\n",
       "      <th>2</th>\n",
       "      <td>1</td>\n",
       "      <td>-0.583619</td>\n",
       "      <td>0.654842</td>\n",
       "    </tr>\n",
       "    <tr>\n",
       "      <th>3</th>\n",
       "      <td>10</td>\n",
       "      <td>-1.986980</td>\n",
       "      <td>-1.252720</td>\n",
       "    </tr>\n",
       "    <tr>\n",
       "      <th>4</th>\n",
       "      <td>100</td>\n",
       "      <td>0.817879</td>\n",
       "      <td>3.342635</td>\n",
       "    </tr>\n",
       "    <tr>\n",
       "      <th>5</th>\n",
       "      <td>101</td>\n",
       "      <td>-0.111637</td>\n",
       "      <td>0.535749</td>\n",
       "    </tr>\n",
       "  </tbody>\n",
       "</table>\n",
       "</div>"
      ],
      "text/plain": [
       "   ann       dur       rel\n",
       "1    0  0.008069 -0.373834\n",
       "2    1 -0.583619  0.654842\n",
       "3   10 -1.986980 -1.252720\n",
       "4  100  0.817879  3.342635\n",
       "5  101 -0.111637  0.535749"
      ]
     },
     "execution_count": 31,
     "metadata": {},
     "output_type": "execute_result"
    }
   ],
   "source": [
    "print(random_effects.shape)\n",
    "random_effects.head()"
   ]
  },
  {
   "cell_type": "code",
   "execution_count": null,
   "metadata": {},
   "outputs": [],
   "source": [
    "def m(x, w):\n",
    "    \"\"\"Weighted Mean\"\"\"\n",
    "    return np.sum(x * w) / np.sum(w)\n",
    "\n",
    "def cov(x, y, w):\n",
    "    \"\"\"Weighted Covariance\"\"\"\n",
    "    return np.sum(w * (x - m(x, w)) * (y - m(y, w))) / np.sum(w)\n",
    "\n",
    "def corr(x, y, w):\n",
    "    \"\"\"Weighted Correlation\"\"\"\n",
    "    return cov(x, y, w) / np.sqrt(cov(x, x, w) * cov(y, y, w))"
   ]
  }
 ],
 "metadata": {
  "kernelspec": {
   "display_name": "Python 3",
   "language": "python",
   "name": "python3"
  },
  "language_info": {
   "codemirror_mode": {
    "name": "ipython",
    "version": 3
   },
   "file_extension": ".py",
   "mimetype": "text/x-python",
   "name": "python",
   "nbconvert_exporter": "python",
   "pygments_lexer": "ipython3",
   "version": "3.6.5"
  }
 },
 "nbformat": 4,
 "nbformat_minor": 2
}
