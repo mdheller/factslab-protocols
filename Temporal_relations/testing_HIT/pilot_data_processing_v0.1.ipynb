{
 "cells": [
  {
   "cell_type": "code",
   "execution_count": 1,
   "metadata": {
    "collapsed": true
   },
   "outputs": [],
   "source": [
    "import pandas as pd\n",
    "import numpy as np\n",
    "import json\n",
    "import matplotlib.pyplot as plt\n",
    "import seaborn as sns\n",
    "import itertools\n",
    "from nltk.metrics.agreement import AnnotationTask\n",
    "from sklearn.metrics import cohen_kappa_score as kappa\n",
    "from sklearn.metrics import accuracy_score as accuracy\n",
    "pilot_file = \"Batch_3198536_batch_results.csv\""
   ]
  },
  {
   "cell_type": "code",
   "execution_count": 2,
   "metadata": {
    "collapsed": true
   },
   "outputs": [],
   "source": [
    "data = pd.read_csv(pilot_file)\n",
    "data.columns = [c.replace('.', '_') for c in data.columns]\n",
    "#data.head()"
   ]
  },
  {
   "cell_type": "code",
   "execution_count": 3,
   "metadata": {
    "collapsed": true
   },
   "outputs": [],
   "source": [
    "def extract_dataframe(data):\n",
    "    '''\n",
    "    Input: Pandas csv dataframe obtained from MTurk\n",
    "    \n",
    "    Output: Pandas dataframe levelled by (User x Sentenced_ID)\n",
    "    '''\n",
    "    data[\"dicts\"] = data[\"Input_var_arrays\"].map(lambda x: json.loads(x))\n",
    "    global_list = []\n",
    "    \n",
    "    for row in data.itertuples():\n",
    "        for idx, local_dict in enumerate(row.dicts):\n",
    "            temp_dict = local_dict.copy()\n",
    "            var_instant = \"Answer_instantaneous\" + str(idx+1)\n",
    "            var_instant_c =  \"Answer_confidence_instantaneous\" + str(idx+1)\n",
    "            var_start = \"Answer_startpt\" + str(idx+1)\n",
    "            var_start_c = \"Answer_confidence_startpoint\" + str(idx+1)\n",
    "            var_end = \"Answer_endpt\" + str(idx+1)\n",
    "            var_end_c = \"Answer_confidence_endpoint\" + str(idx+1)\n",
    "            var_duration = \"Answer_duration\" + str(idx+1)\n",
    "            var_duration_c = \"Answer_confidence_duration\" + str(idx+1)\n",
    "\n",
    "            temp_dict[\"is_instant\"] = getattr(row, var_instant)\n",
    "            temp_dict[\"conf_instant\"] = getattr(row, var_instant_c)\n",
    "            temp_dict[\"has_start\"] = getattr(row, var_start)\n",
    "            temp_dict[\"conf_start\"] = getattr(row, var_start_c)\n",
    "            temp_dict[\"has_end\"] = getattr(row, var_end)\n",
    "            temp_dict[\"conf_end\"] = getattr(row, var_end_c)\n",
    "            temp_dict[\"duration\"] = getattr(row, var_duration)\n",
    "            temp_dict[\"conf_duration\"] = getattr(row, var_duration_c)\n",
    "            temp_dict[\"worker_id\"] = row.WorkerId\n",
    "\n",
    "            global_list.append(temp_dict)\n",
    "            \n",
    "    return pd.DataFrame(global_list)\n"
   ]
  },
  {
   "cell_type": "code",
   "execution_count": 4,
   "metadata": {},
   "outputs": [
    {
     "data": {
      "text/html": [
       "<div>\n",
       "<style>\n",
       "    .dataframe thead tr:only-child th {\n",
       "        text-align: right;\n",
       "    }\n",
       "\n",
       "    .dataframe thead th {\n",
       "        text-align: left;\n",
       "    }\n",
       "\n",
       "    .dataframe tbody tr th {\n",
       "        vertical-align: top;\n",
       "    }\n",
       "</style>\n",
       "<table border=\"1\" class=\"dataframe\">\n",
       "  <thead>\n",
       "    <tr style=\"text-align: right;\">\n",
       "      <th></th>\n",
       "      <th>worker_id</th>\n",
       "      <th>sentence_id</th>\n",
       "      <th>pred_token</th>\n",
       "      <th>pred</th>\n",
       "      <th>is_instant</th>\n",
       "      <th>id</th>\n",
       "      <th>has_start</th>\n",
       "      <th>has_end</th>\n",
       "      <th>duration</th>\n",
       "      <th>conf_start</th>\n",
       "      <th>conf_instant</th>\n",
       "      <th>conf_end</th>\n",
       "      <th>conf_duration</th>\n",
       "    </tr>\n",
       "  </thead>\n",
       "  <tbody>\n",
       "    <tr>\n",
       "      <th>0</th>\n",
       "      <td>AQ2U4H38MELRY</td>\n",
       "      <td>en-ud-train.conllu 5784</td>\n",
       "      <td>3</td>\n",
       "      <td>occurred</td>\n",
       "      <td>True</td>\n",
       "      <td>1</td>\n",
       "      <td>na</td>\n",
       "      <td>na</td>\n",
       "      <td>na</td>\n",
       "      <td>na</td>\n",
       "      <td>2</td>\n",
       "      <td>na</td>\n",
       "      <td>na</td>\n",
       "    </tr>\n",
       "    <tr>\n",
       "      <th>1</th>\n",
       "      <td>AQ2U4H38MELRY</td>\n",
       "      <td>en-ud-train.conllu 5784</td>\n",
       "      <td>5</td>\n",
       "      <td>processing</td>\n",
       "      <td>False</td>\n",
       "      <td>2</td>\n",
       "      <td>true</td>\n",
       "      <td>false</td>\n",
       "      <td>7</td>\n",
       "      <td>3</td>\n",
       "      <td>2</td>\n",
       "      <td>2</td>\n",
       "      <td>2</td>\n",
       "    </tr>\n",
       "    <tr>\n",
       "      <th>2</th>\n",
       "      <td>AQ2U4H38MELRY</td>\n",
       "      <td>en-ud-train.conllu 1010</td>\n",
       "      <td>3</td>\n",
       "      <td>held</td>\n",
       "      <td>False</td>\n",
       "      <td>3</td>\n",
       "      <td>false</td>\n",
       "      <td>false</td>\n",
       "      <td>5</td>\n",
       "      <td>1</td>\n",
       "      <td>3</td>\n",
       "      <td>2</td>\n",
       "      <td>0</td>\n",
       "    </tr>\n",
       "    <tr>\n",
       "      <th>3</th>\n",
       "      <td>AQ2U4H38MELRY</td>\n",
       "      <td>en-ud-train.conllu 1010</td>\n",
       "      <td>15</td>\n",
       "      <td>curating</td>\n",
       "      <td>False</td>\n",
       "      <td>4</td>\n",
       "      <td>false</td>\n",
       "      <td>false</td>\n",
       "      <td>5</td>\n",
       "      <td>2</td>\n",
       "      <td>4</td>\n",
       "      <td>2</td>\n",
       "      <td>1</td>\n",
       "    </tr>\n",
       "    <tr>\n",
       "      <th>4</th>\n",
       "      <td>AQ2U4H38MELRY</td>\n",
       "      <td>en-ud-train.conllu 5106</td>\n",
       "      <td>20</td>\n",
       "      <td>acted</td>\n",
       "      <td>False</td>\n",
       "      <td>5</td>\n",
       "      <td>false</td>\n",
       "      <td>false</td>\n",
       "      <td>5</td>\n",
       "      <td>3</td>\n",
       "      <td>2</td>\n",
       "      <td>3</td>\n",
       "      <td>0</td>\n",
       "    </tr>\n",
       "  </tbody>\n",
       "</table>\n",
       "</div>"
      ],
      "text/plain": [
       "       worker_id              sentence_id pred_token        pred  is_instant  \\\n",
       "0  AQ2U4H38MELRY  en-ud-train.conllu 5784          3    occurred        True   \n",
       "1  AQ2U4H38MELRY  en-ud-train.conllu 5784          5  processing       False   \n",
       "2  AQ2U4H38MELRY  en-ud-train.conllu 1010          3        held       False   \n",
       "3  AQ2U4H38MELRY  en-ud-train.conllu 1010         15    curating       False   \n",
       "4  AQ2U4H38MELRY  en-ud-train.conllu 5106         20       acted       False   \n",
       "\n",
       "   id has_start has_end duration conf_start  conf_instant conf_end  \\\n",
       "0   1        na      na       na         na             2       na   \n",
       "1   2      true   false        7          3             2        2   \n",
       "2   3     false   false        5          1             3        2   \n",
       "3   4     false   false        5          2             4        2   \n",
       "4   5     false   false        5          3             2        3   \n",
       "\n",
       "  conf_duration  \n",
       "0            na  \n",
       "1             2  \n",
       "2             0  \n",
       "3             1  \n",
       "4             0  "
      ]
     },
     "execution_count": 4,
     "metadata": {},
     "output_type": "execute_result"
    }
   ],
   "source": [
    "pilot_data = extract_dataframe(data)\n",
    "\n",
    "#Re-arrange the order \n",
    "cols = list(pilot_data.columns)\n",
    "pilot_data = pilot_data[pilot_data.columns[::-1]].drop('sentence', axis=1)\n",
    "#pilot_data.replace('na',np.NaN, inplace=True)\n",
    "pilot_data.head()"
   ]
  },
  {
   "cell_type": "markdown",
   "metadata": {},
   "source": [
    "## Response distribution"
   ]
  },
  {
   "cell_type": "code",
   "execution_count": 5,
   "metadata": {},
   "outputs": [
    {
     "data": {
      "image/png": "[encoded data removed]",
      "text/plain": [
       "<matplotlib.figure.Figure at 0x118ee8ba8>"
      ]
     },
     "metadata": {},
     "output_type": "display_data"
    }
   ],
   "source": [
    "#fig, ((ax1, ax2), (ax3, ax4)) = plt.subplots(nrows=2, ncols=2)\n",
    "\n",
    "fig, axs = plt.subplots(ncols=4, nrows=2, figsize=(15, 10))\n",
    "\n",
    "sns.countplot(x='is_instant', data=pilot_data, ax=axs[0][0])\n",
    "sns.countplot(x='conf_instant', data=pilot_data, ax=axs[0][1])\n",
    "sns.countplot(x='has_start', data=pilot_data, ax=axs[0][2])\n",
    "sns.countplot(x='conf_start', data=pilot_data, ax=axs[0][3])\n",
    "sns.countplot(x='has_end', data=pilot_data, ax=axs[1][0])\n",
    "sns.countplot(x='conf_end', data=pilot_data, ax=axs[1][1])\n",
    "sns.countplot(x='duration', data=pilot_data, ax=axs[1][2])\n",
    "sns.countplot(x='conf_duration', data=pilot_data, ax=axs[1][3])\n",
    "\n",
    "\n",
    "plt.show()"
   ]
  },
  {
   "cell_type": "markdown",
   "metadata": {},
   "source": [
    "## Inter-Annotator Agreement"
   ]
  },
  {
   "cell_type": "code",
   "execution_count": 6,
   "metadata": {
    "collapsed": true
   },
   "outputs": [],
   "source": [
    "pilot_data['sent_pred'] = pilot_data['sentence_id'].map(lambda x : x.split()[-1]) + \"_\" +\\\n",
    "                            pilot_data['pred_token'].map(lambda x: str(x))"
   ]
  },
  {
   "cell_type": "markdown",
   "metadata": {},
   "source": [
    "### Raw Agreement"
   ]
  },
  {
   "cell_type": "markdown",
   "metadata": {},
   "source": [
    " #### 1. Stringent (Exact matches for a particular sent-predicate pair)"
   ]
  },
  {
   "cell_type": "code",
   "execution_count": 7,
   "metadata": {},
   "outputs": [
    {
     "name": "stdout",
     "output_type": "stream",
     "text": [
      "####### Raw Count for is_instant ###########\n",
      "Total count of unique sent_pred is 200\n",
      "Raw count of matched for is_instant is 46\n",
      "Inter-annotator agreement for is_instant is 23.0%\n",
      "\n",
      "\n",
      "####### Raw Count for has_start ###########\n",
      "Total count of unique sent_pred is 200\n",
      "Raw count of matched for has_start is 17\n",
      "Inter-annotator agreement for has_start is 8.5%\n",
      "\n",
      "\n",
      "####### Raw Count for has_end ###########\n",
      "Total count of unique sent_pred is 200\n",
      "Raw count of matched for has_end is 21\n",
      "Inter-annotator agreement for has_end is 10.5%\n",
      "\n",
      "\n"
     ]
    }
   ],
   "source": [
    "def calc_raw_agreement(data, key_var, check_var):\n",
    "    '''\n",
    "    Input: \n",
    "    1. data: Pandas dataframe\n",
    "    2. key_var: variable based on which raw agreement is to be calculated\n",
    "    3. check_var: vaiable on which raw agreement is calculated\n",
    "    \n",
    "    '''\n",
    "    print(\"####### Raw Count for {} ###########\".format(check_var))\n",
    "    ids = set(list(data[key_var].values))\n",
    "\n",
    "    total_count = len(ids)\n",
    "    raw_count = 0\n",
    "    keys = []\n",
    "    \n",
    "    for iden in ids:\n",
    "        temp = list(data[data[key_var] == iden][check_var].values)\n",
    "        if temp.count(temp[0]) == len(temp):\n",
    "            raw_count += 1\n",
    "            keys.append(iden)\n",
    "     \n",
    "    agreement = (raw_count/total_count)*100\n",
    "    \n",
    "    print(\"Total count of unique {} is {}\".format(key_var, total_count))\n",
    "    print(\"Raw count of matched for {} is {}\".format(check_var, raw_count))\n",
    "    print(\"Inter-annotator agreement for {} is {}%\".format(check_var, agreement))\n",
    "    print(\"\\n\")\n",
    "    \n",
    "    return agreement, keys\n",
    "\n",
    "instant_agreement, key_inst = calc_raw_agreement(pilot_data, 'sent_pred', 'is_instant')\n",
    "start_agreement, key_start = calc_raw_agreement(pilot_data, 'sent_pred', 'has_start')\n",
    "end_agreement, key_end = calc_raw_agreement(pilot_data, 'sent_pred', 'has_end')"
   ]
  },
  {
   "cell_type": "markdown",
   "metadata": {},
   "source": [
    "#### 2. Average of scores(Kappa and accuracy) for each pair of annotators "
   ]
  },
  {
   "cell_type": "code",
   "execution_count": 8,
   "metadata": {},
   "outputs": [],
   "source": [
    "def extract_pairs_of_workers(data, worker_id):\n",
    "    '''\n",
    "    Given a pandas dataframe, and worker_id variable,\n",
    "    extracts a list of pairs of worker_ids\n",
    "    '''\n",
    "    workers = list(set(data[worker_id].values))\n",
    "    \n",
    "    return list(itertools.combinations(workers, 2))\n",
    "\n",
    "def extract_worker_sent_dict(data, worker_id, sent_id):\n",
    "    '''\n",
    "    Given a pandas dataframe, worker_id variable, and sentence_id variable,\n",
    "    extracts a dict where key is worker_id and value is set(sentences_ids annotated by that worker)\n",
    "    \n",
    "    '''\n",
    "    workers = list(set(data[worker_id].values))\n",
    "    \n",
    "    ans = {}\n",
    "    \n",
    "    for worker in workers:\n",
    "        sents = set(list(data[data[worker_id] == worker][sent_id].values))\n",
    "        ans[worker] = sents\n",
    "        \n",
    "    return ans\n",
    "\n",
    "def average_kappa_acc(data, worker_id, key_var, check_var):\n",
    "    '''\n",
    "    Input: 1. data: pandas dataframe\n",
    "           2. worker_id: Annotator id variable\n",
    "           3. key_var: level of the data (sentence-predicate id)\n",
    "           4. check_var: variable to be checked for kappa score\n",
    "    \n",
    "    Output: average kappa score and average accuracy for (pairs of annotators) in the dataset\n",
    "\n",
    "    '''\n",
    "    worker_pairs = extract_pairs_of_workers(data, worker_id)\n",
    "    \n",
    "    worker_key_dict = extract_worker_sent_dict(data, worker_id, key_var)\n",
    "    \n",
    "    kappas = []\n",
    "    accuracies = []\n",
    "    \n",
    "    for (w1, w2) in worker_pairs:\n",
    "        \n",
    "        common_set = worker_key_dict[w1].intersection(worker_key_dict[w2])\n",
    "        temp1 = []\n",
    "        temp2 = []\n",
    "        \n",
    "        if common_set == set():\n",
    "            continue\n",
    "            \n",
    "        for key in common_set:\n",
    "            val1 = data[(data[key_var] == key) & \n",
    "                        (data[worker_id] == w1)][check_var].values\n",
    "            val2 = data[(data[key_var] == key) & \n",
    "                        (data[worker_id] == w2)][check_var].values\n",
    "\n",
    "            temp1.append(val1[0])\n",
    "            temp2.append(val2[0])\n",
    "            \n",
    "        kappas.append(kappa(temp1, temp2))\n",
    "        accuracies.append(accuracy(temp1, temp2))\n",
    "        \n",
    "    return kappas, accuracies"
   ]
  },
  {
   "cell_type": "code",
   "execution_count": 9,
   "metadata": {},
   "outputs": [
    {
     "name": "stdout",
     "output_type": "stream",
     "text": [
      "is_instant -- Completed!\n",
      "has_start -- Completed!\n",
      "has_end -- Completed!\n",
      "duration -- Completed!\n",
      "conf_instant -- Completed!\n",
      "conf_start -- Completed!\n",
      "conf_end -- Completed!\n",
      "conf_duration -- Completed!\n"
     ]
    }
   ],
   "source": [
    "kappas = {}\n",
    "accs = {}\n",
    "variables = ['is_instant', 'has_start', 'has_end', 'duration', 'conf_instant', 'conf_start', 'conf_end', 'conf_duration']\n",
    "for var in variables:\n",
    "    kappas[var], accs[var] = average_kappa_acc(pilot_data, 'worker_id', 'sent_pred', var)\n",
    "    print(\"{} -- Completed!\".format(var))"
   ]
  },
  {
   "cell_type": "code",
   "execution_count": 10,
   "metadata": {
    "collapsed": true
   },
   "outputs": [],
   "source": [
    "kappa_data = pd.DataFrame.from_dict(kappas)\n",
    "acc_data = pd.DataFrame.from_dict(accs)"
   ]
  },
  {
   "cell_type": "code",
   "execution_count": 11,
   "metadata": {},
   "outputs": [
    {
     "data": {
      "image/png": "[encoded data removed]",
      "text/plain": [
       "<matplotlib.figure.Figure at 0x11cdd5898>"
      ]
     },
     "metadata": {},
     "output_type": "display_data"
    },
    {
     "data": {
      "image/png": "[encoded data removed]",
      "text/plain": [
       "<matplotlib.figure.Figure at 0x11d13d588>"
      ]
     },
     "metadata": {},
     "output_type": "display_data"
    }
   ],
   "source": [
    "ax = sns.boxplot(data=kappa_data)\n",
    "ax.set(ylabel='Kappa Score', title=\"Average Kappa Score\")\n",
    "plt.show()\n",
    "\n",
    "ax = sns.boxplot(data=acc_data)\n",
    "ax.set(ylabel='Accuracy', title=\"Average Accuracy\")\n",
    "plt.show()"
   ]
  }
 ],
 "metadata": {
  "kernelspec": {
   "display_name": "Python 3",
   "language": "python",
   "name": "python3"
  },
  "language_info": {
   "codemirror_mode": {
    "name": "ipython",
    "version": 3
   },
   "file_extension": ".py",
   "mimetype": "text/x-python",
   "name": "python",
   "nbconvert_exporter": "python",
   "pygments_lexer": "ipython3",
   "version": "3.6.1"
  }
 },
 "nbformat": 4,
 "nbformat_minor": 2
}
