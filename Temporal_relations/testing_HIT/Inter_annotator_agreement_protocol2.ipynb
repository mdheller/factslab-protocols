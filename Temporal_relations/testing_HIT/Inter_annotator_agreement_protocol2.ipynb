{
 "cells": [
  {
   "cell_type": "code",
   "execution_count": 1,
   "metadata": {},
   "outputs": [],
   "source": [
    "import pandas as pd\n",
    "import numpy as np\n",
    "import json\n",
    "import matplotlib.pyplot as plt\n",
    "import seaborn as sns\n",
    "import itertools\n",
    "from nltk.metrics.agreement import AnnotationTask\n",
    "from sklearn.metrics import cohen_kappa_score as kappa\n",
    "from sklearn.metrics import accuracy_score as accuracy\n",
    "from sklearn.metrics import confusion_matrix\n",
    "from scipy.stats import spearmanr as spearman\n",
    "pilot_file = \"Batch_3220834_batch_results.csv\"\n",
    "sid_pilot_file = \"Batch_193054_batch_results_sid.csv\""
   ]
  },
  {
   "cell_type": "code",
   "execution_count": 2,
   "metadata": {},
   "outputs": [],
   "source": [
    "data = pd.read_csv(pilot_file)\n",
    "data.columns = [c.replace('.', '_') for c in data.columns]\n",
    "\n",
    "#data.head()"
   ]
  },
  {
   "cell_type": "code",
   "execution_count": 3,
   "metadata": {},
   "outputs": [
    {
     "data": {
      "text/plain": [
       "Index(['HITId', 'HITTypeId', 'Title', 'Description', 'Keywords', 'Reward',\n",
       "       'CreationTime', 'MaxAssignments', 'RequesterAnnotation',\n",
       "       'AssignmentDurationInSeconds', 'AutoApprovalDelayInSeconds',\n",
       "       'Expiration', 'NumberOfSimilarHITs', 'LifetimeInSeconds',\n",
       "       'AssignmentId', 'WorkerId', 'AssignmentStatus', 'AcceptTime',\n",
       "       'SubmitTime', 'AutoApprovalTime', 'ApprovalTime', 'RejectionTime',\n",
       "       'RequesterFeedback', 'WorkTimeInSeconds', 'LifetimeApprovalRate',\n",
       "       'Last30DaysApprovalRate', 'Last7DaysApprovalRate', 'Input_var_arrays',\n",
       "       'Answer_comments', 'Answer_confidence_range1',\n",
       "       'Answer_confidence_range10', 'Answer_confidence_range2',\n",
       "       'Answer_confidence_range3', 'Answer_confidence_range4',\n",
       "       'Answer_confidence_range5', 'Answer_confidence_range6',\n",
       "       'Answer_confidence_range7', 'Answer_confidence_range8',\n",
       "       'Answer_confidence_range9', 'Answer_dummy', 'Answer_sld_pred1_1',\n",
       "       'Answer_sld_pred1_10', 'Answer_sld_pred1_2', 'Answer_sld_pred1_3',\n",
       "       'Answer_sld_pred1_4', 'Answer_sld_pred1_5', 'Answer_sld_pred1_6',\n",
       "       'Answer_sld_pred1_7', 'Answer_sld_pred1_8', 'Answer_sld_pred1_9',\n",
       "       'Answer_sld_pred2_1', 'Answer_sld_pred2_10', 'Answer_sld_pred2_2',\n",
       "       'Answer_sld_pred2_3', 'Answer_sld_pred2_4', 'Answer_sld_pred2_5',\n",
       "       'Answer_sld_pred2_6', 'Answer_sld_pred2_7', 'Answer_sld_pred2_8',\n",
       "       'Answer_sld_pred2_9', 'Approve', 'Reject'],\n",
       "      dtype='object')"
      ]
     },
     "execution_count": 3,
     "metadata": {},
     "output_type": "execute_result"
    }
   ],
   "source": [
    "data.columns"
   ]
  },
  {
   "cell_type": "code",
   "execution_count": 4,
   "metadata": {},
   "outputs": [],
   "source": [
    "def extract_dataframe(data):\n",
    "    '''\n",
    "    Input: Pandas csv dataframe obtained from MTurk\n",
    "    \n",
    "    Output: Pandas dataframe levelled by (User x Sentenced_ID)\n",
    "    '''\n",
    "    data[\"dicts\"] = data[\"Input_var_arrays\"].map(lambda x: json.loads(x))\n",
    "    global_list = []\n",
    "    \n",
    "    for row in data.itertuples():\n",
    "        for idx, local_dict in enumerate(row.dicts):\n",
    "            temp_dict = local_dict.copy()\n",
    "            var_pred1 = \"Answer_sld_pred1_\" + str(idx+1)\n",
    "            var_pred2 =  \"Answer_sld_pred2_\" + str(idx+1)\n",
    "            var_conf = \"Answer_confidence_range\" + str(idx+1)\n",
    "            \n",
    "            temp_dict[\"slider1_posn\"] = getattr(row, var_pred1)\n",
    "            temp_dict[\"slider2_posn\"] = getattr(row, var_pred2)\n",
    "            temp_dict[\"confidence\"] = getattr(row, var_conf)\n",
    "            temp_dict[\"worker_id\"] = row.WorkerId\n",
    "            temp_dict[\"hit_id\"] = row.HITId\n",
    "\n",
    "            global_list.append(temp_dict)\n",
    "            \n",
    "    return pd.DataFrame(global_list)"
   ]
  },
  {
   "cell_type": "code",
   "execution_count": 5,
   "metadata": {},
   "outputs": [],
   "source": [
    "pilot_data = extract_dataframe(data)\n",
    "\n",
    "#Re-arrange the order \n",
    "cols = list(pilot_data.columns)\n",
    "#pilot_data = pilot_data[pilot_data.columns[::-1]].drop('sentence', axis=1)\n",
    "pilot_data = pilot_data[pilot_data.columns[::-1]]\n",
    "\n",
    "\n",
    "#Drop start, end, instant variables that were stored in the json data\n",
    "pilot_data = pilot_data.drop(['start_pred1', 'start_pred2', 'end_pred1', 'end_pred2',\n",
    "                             'instant_pred1', 'instant_pred2'], axis=1)\n",
    "\n",
    "\n",
    "#pilot_data.replace('na',np.NaN, inplace=True)\n",
    "pilot_data.head\n",
    "pilot_data['sent_token'] = pilot_data['sentence_id'] + \"_\" +\\\n",
    "                            pilot_data['pred_token1'].map(lambda x: str(x)) + \"_\" +\\\n",
    "                             pilot_data['pred_token2'].map(lambda x: str(x))"
   ]
  },
  {
   "cell_type": "code",
   "execution_count": 6,
   "metadata": {},
   "outputs": [
    {
     "name": "stdout",
     "output_type": "stream",
     "text": [
      "(500, 13)\n"
     ]
    },
    {
     "data": {
      "text/html": [
       "<div>\n",
       "<style>\n",
       "    .dataframe thead tr:only-child th {\n",
       "        text-align: right;\n",
       "    }\n",
       "\n",
       "    .dataframe thead th {\n",
       "        text-align: left;\n",
       "    }\n",
       "\n",
       "    .dataframe tbody tr th {\n",
       "        vertical-align: top;\n",
       "    }\n",
       "</style>\n",
       "<table border=\"1\" class=\"dataframe\">\n",
       "  <thead>\n",
       "    <tr style=\"text-align: right;\">\n",
       "      <th></th>\n",
       "      <th>worker_id</th>\n",
       "      <th>slider2_posn</th>\n",
       "      <th>slider1_posn</th>\n",
       "      <th>sentence_id</th>\n",
       "      <th>sentence</th>\n",
       "      <th>pred_token2</th>\n",
       "      <th>pred_token1</th>\n",
       "      <th>pred2</th>\n",
       "      <th>pred1</th>\n",
       "      <th>id</th>\n",
       "      <th>hit_id</th>\n",
       "      <th>confidence</th>\n",
       "      <th>sent_token</th>\n",
       "    </tr>\n",
       "  </thead>\n",
       "  <tbody>\n",
       "    <tr>\n",
       "      <th>0</th>\n",
       "      <td>AURYD2FH3FUOQ</td>\n",
       "      <td>27 - 46</td>\n",
       "      <td>39 - 46</td>\n",
       "      <td>en-ud-train.conllu 13</td>\n",
       "      <td>On Wednesday guerrillas had  &lt;span class=\\\"pre...</td>\n",
       "      <td>16</td>\n",
       "      <td>4</td>\n",
       "      <td>way</td>\n",
       "      <td>kidnapped</td>\n",
       "      <td>1</td>\n",
       "      <td>3MQY1YVHS3P8GHXKJ4IHY2G1UY12BZ</td>\n",
       "      <td>3</td>\n",
       "      <td>en-ud-train.conllu 13_4_16</td>\n",
       "    </tr>\n",
       "    <tr>\n",
       "      <th>1</th>\n",
       "      <td>AURYD2FH3FUOQ</td>\n",
       "      <td>6 - 17</td>\n",
       "      <td>25 - 41</td>\n",
       "      <td>en-ud-train.conllu 46</td>\n",
       "      <td>Yesterday there were tens of them  &lt;span class...</td>\n",
       "      <td>26</td>\n",
       "      <td>6</td>\n",
       "      <td>leave</td>\n",
       "      <td>putting</td>\n",
       "      <td>2</td>\n",
       "      <td>3MQY1YVHS3P8GHXKJ4IHY2G1UY12BZ</td>\n",
       "      <td>1</td>\n",
       "      <td>en-ud-train.conllu 46_6_26</td>\n",
       "    </tr>\n",
       "    <tr>\n",
       "      <th>2</th>\n",
       "      <td>AURYD2FH3FUOQ</td>\n",
       "      <td>19 - 26</td>\n",
       "      <td>35 - 37</td>\n",
       "      <td>en-ud-train.conllu 60</td>\n",
       "      <td>He did once  &lt;span class=\\\"predicate\\\"&gt; make&lt;/...</td>\n",
       "      <td>14</td>\n",
       "      <td>3</td>\n",
       "      <td>shooting</td>\n",
       "      <td>make</td>\n",
       "      <td>3</td>\n",
       "      <td>3MQY1YVHS3P8GHXKJ4IHY2G1UY12BZ</td>\n",
       "      <td>0</td>\n",
       "      <td>en-ud-train.conllu 60_3_14</td>\n",
       "    </tr>\n",
       "    <tr>\n",
       "      <th>3</th>\n",
       "      <td>AURYD2FH3FUOQ</td>\n",
       "      <td>57 - 80</td>\n",
       "      <td>35 - 36</td>\n",
       "      <td>en-ud-train.conllu 65</td>\n",
       "      <td>He  &lt;span class=\\\"predicate\\\"&gt; added&lt;/span&gt;  t...</td>\n",
       "      <td>57</td>\n",
       "      <td>1</td>\n",
       "      <td>dragged</td>\n",
       "      <td>added</td>\n",
       "      <td>4</td>\n",
       "      <td>3MQY1YVHS3P8GHXKJ4IHY2G1UY12BZ</td>\n",
       "      <td>2</td>\n",
       "      <td>en-ud-train.conllu 65_1_57</td>\n",
       "    </tr>\n",
       "    <tr>\n",
       "      <th>4</th>\n",
       "      <td>AURYD2FH3FUOQ</td>\n",
       "      <td>15 - 16</td>\n",
       "      <td>10 - 16</td>\n",
       "      <td>en-ud-train.conllu 118</td>\n",
       "      <td>As a child in the 50&amp;#39;s I  &lt;span class=\\\"pr...</td>\n",
       "      <td>34</td>\n",
       "      <td>7</td>\n",
       "      <td>started</td>\n",
       "      <td>had</td>\n",
       "      <td>5</td>\n",
       "      <td>3MQY1YVHS3P8GHXKJ4IHY2G1UY12BZ</td>\n",
       "      <td>2</td>\n",
       "      <td>en-ud-train.conllu 118_7_34</td>\n",
       "    </tr>\n",
       "  </tbody>\n",
       "</table>\n",
       "</div>"
      ],
      "text/plain": [
       "       worker_id slider2_posn slider1_posn             sentence_id  \\\n",
       "0  AURYD2FH3FUOQ      27 - 46      39 - 46   en-ud-train.conllu 13   \n",
       "1  AURYD2FH3FUOQ       6 - 17      25 - 41   en-ud-train.conllu 46   \n",
       "2  AURYD2FH3FUOQ      19 - 26      35 - 37   en-ud-train.conllu 60   \n",
       "3  AURYD2FH3FUOQ      57 - 80      35 - 36   en-ud-train.conllu 65   \n",
       "4  AURYD2FH3FUOQ      15 - 16      10 - 16  en-ud-train.conllu 118   \n",
       "\n",
       "                                            sentence pred_token2 pred_token1  \\\n",
       "0  On Wednesday guerrillas had  <span class=\\\"pre...          16           4   \n",
       "1  Yesterday there were tens of them  <span class...          26           6   \n",
       "2  He did once  <span class=\\\"predicate\\\"> make</...          14           3   \n",
       "3  He  <span class=\\\"predicate\\\"> added</span>  t...          57           1   \n",
       "4  As a child in the 50&#39;s I  <span class=\\\"pr...          34           7   \n",
       "\n",
       "      pred2      pred1  id                          hit_id  confidence  \\\n",
       "0       way  kidnapped   1  3MQY1YVHS3P8GHXKJ4IHY2G1UY12BZ           3   \n",
       "1     leave    putting   2  3MQY1YVHS3P8GHXKJ4IHY2G1UY12BZ           1   \n",
       "2  shooting       make   3  3MQY1YVHS3P8GHXKJ4IHY2G1UY12BZ           0   \n",
       "3   dragged      added   4  3MQY1YVHS3P8GHXKJ4IHY2G1UY12BZ           2   \n",
       "4   started        had   5  3MQY1YVHS3P8GHXKJ4IHY2G1UY12BZ           2   \n",
       "\n",
       "                    sent_token  \n",
       "0   en-ud-train.conllu 13_4_16  \n",
       "1   en-ud-train.conllu 46_6_26  \n",
       "2   en-ud-train.conllu 60_3_14  \n",
       "3   en-ud-train.conllu 65_1_57  \n",
       "4  en-ud-train.conllu 118_7_34  "
      ]
     },
     "execution_count": 6,
     "metadata": {},
     "output_type": "execute_result"
    }
   ],
   "source": [
    "print(pilot_data.shape)\n",
    "pilot_data.head()"
   ]
  },
  {
   "cell_type": "code",
   "execution_count": 7,
   "metadata": {},
   "outputs": [],
   "source": [
    "def time_ml_tag(row, var1, var2):\n",
    "    '''\n",
    "    Creates time ML tags from slider positions of two events \n",
    "    \n",
    "    Eg: EVENT 1 \"is before\" EVENT2\n",
    "    \n",
    "    Eg: Relatins: is before\n",
    "    '''\n",
    "    ans = \"\"\n",
    "    \n",
    "    slider1 = getattr(row, var1)\n",
    "    slider2 = getattr(row, var2)\n",
    "    \n",
    "    event1 = [int(x) for x in slider1.split(\"-\")]\n",
    "    event2 = [int(x) for x in slider2.split(\"-\")]\n",
    "    \n",
    "    if (event1[0] == event2[0]) and (event1[1] == event2[1]):\n",
    "        ans = \"simultaneous\"\n",
    "        \n",
    "    elif event1[1] <= event2[0]:\n",
    "        ans = \"before\"\n",
    "    \n",
    "    elif event1[0] >= event2[1]:\n",
    "        ans = \"after\"\n",
    "        \n",
    "    elif event1[1] >= event2[1] and event1[0] <= event2[0]:\n",
    "        ans = \"includes\"\n",
    "        \n",
    "    elif event1[1] <= event2[1] and event1[0] >= event2[0]:\n",
    "        ans = \"is_included\"\n",
    "    \n",
    "    elif event1[0] < event2[0] and event1[1] > event2[0]:\n",
    "        ans = \"before_cont\"\n",
    "        \n",
    "    elif event1[0] < event2[1] and event1[1] > event2[1]:\n",
    "        ans = \"after_cont\"\n",
    "    \n",
    "    else: \n",
    "        ans = \"other\"\n",
    "    \n",
    "    return ans"
   ]
  },
  {
   "cell_type": "code",
   "execution_count": 8,
   "metadata": {},
   "outputs": [],
   "source": [
    "pilot_data['timeML_tag'] = pilot_data.apply(lambda row: time_ml_tag(row, 'slider1_posn', 'slider2_posn'), axis=1)"
   ]
  },
  {
   "cell_type": "code",
   "execution_count": 9,
   "metadata": {},
   "outputs": [
    {
     "name": "stdout",
     "output_type": "stream",
     "text": [
      "before          263\n",
      "after            73\n",
      "includes         60\n",
      "is_included      56\n",
      "simultaneous     23\n",
      "before_cont      14\n",
      "after_cont       11\n",
      "Name: timeML_tag, dtype: int64\n"
     ]
    },
    {
     "data": {
      "image/png": "[encoded data removed]",
      "text/plain": [
       "<Figure size 576x396 with 1 Axes>"
      ]
     },
     "metadata": {},
     "output_type": "display_data"
    }
   ],
   "source": [
    "print(pilot_data.timeML_tag.value_counts())\n",
    "sns.countplot(x='timeML_tag', data=pilot_data)\n",
    "plt.show()\n"
   ]
  },
  {
   "cell_type": "code",
   "execution_count": 10,
   "metadata": {},
   "outputs": [
    {
     "data": {
      "image/png": "[encoded data removed]",
      "text/plain": [
       "<Figure size 576x396 with 1 Axes>"
      ]
     },
     "metadata": {},
     "output_type": "display_data"
    }
   ],
   "source": [
    "sns.countplot(x='confidence', data=pilot_data)\n",
    "plt.show()"
   ]
  },
  {
   "cell_type": "markdown",
   "metadata": {},
   "source": [
    "## Inter-Annotator Agreement"
   ]
  },
  {
   "cell_type": "markdown",
   "metadata": {},
   "source": [
    "#### Raw Agreement"
   ]
  },
  {
   "cell_type": "code",
   "execution_count": 11,
   "metadata": {},
   "outputs": [],
   "source": [
    "def calc_raw_agreement(data, key_var, check_var, degree=5):\n",
    "    '''\n",
    "    Input: \n",
    "    1. data: Pandas dataframe\n",
    "    2. key_var: variable based on which raw agreement is to be calculated\n",
    "    3. check_var: vaiable on which raw agreement is calculated\n",
    "    4. degree: Degree to which annotators agree: \n",
    "                5 means all annotators had the same answer\n",
    "                4 means >=4 annotators had the same answer\n",
    "                3 means >=3 annotators had the same answer\n",
    "    \n",
    "    '''\n",
    "    print(\"####### Raw Count for {} ###########\".format(check_var))\n",
    "    ids = set(list(data[key_var].values))\n",
    "\n",
    "    total_count = len(ids)\n",
    "    raw_count = 0\n",
    "    keys = []\n",
    "    \n",
    "    for iden in ids:\n",
    "        temp = list(data[data[key_var] == iden][check_var].values)\n",
    "        if temp.count(max(set(temp), key=temp.count)) >= degree:\n",
    "                raw_count += 1\n",
    "                keys.append(iden)\n",
    "\n",
    "    agreement = (raw_count/total_count)*100\n",
    "    \n",
    "    print(\"Total count of unique {} is {}\".format(key_var, total_count))\n",
    "    print(\"Raw count of matched for {} is {}\".format(check_var, raw_count))\n",
    "    print(\"Inter-annotator agreement for {} is {}%\".format(check_var, agreement))\n",
    "    print(\"\\n\")\n",
    "    \n",
    "    return agreement, keys\n",
    "\n"
   ]
  },
  {
   "cell_type": "code",
   "execution_count": 12,
   "metadata": {},
   "outputs": [
    {
     "name": "stdout",
     "output_type": "stream",
     "text": [
      "####### Raw Count for timeML_tag ###########\n",
      "Total count of unique sent_token is 100\n",
      "Raw count of matched for timeML_tag is 22\n",
      "Inter-annotator agreement for timeML_tag is 22.0%\n",
      "\n",
      "\n",
      "\n",
      "\n",
      "####### Raw Count for timeML_tag ###########\n",
      "Total count of unique sent_token is 100\n",
      "Raw count of matched for timeML_tag is 34\n",
      "Inter-annotator agreement for timeML_tag is 34.0%\n",
      "\n",
      "\n",
      "\n",
      "\n",
      "####### Raw Count for timeML_tag ###########\n",
      "Total count of unique sent_token is 100\n",
      "Raw count of matched for timeML_tag is 70\n",
      "Inter-annotator agreement for timeML_tag is 70.0%\n",
      "\n",
      "\n",
      "\n",
      "\n",
      "####### Raw Count for timeML_tag ###########\n",
      "Total count of unique sent_token is 100\n",
      "Raw count of matched for timeML_tag is 98\n",
      "Inter-annotator agreement for timeML_tag is 98.0%\n",
      "\n",
      "\n"
     ]
    }
   ],
   "source": [
    "a1, key_inst = calc_raw_agreement(pilot_data, 'sent_token', 'timeML_tag', degree=5)\n",
    "print(\"\\n\")\n",
    "a2, key_inst = calc_raw_agreement(pilot_data, 'sent_token', 'timeML_tag', degree=4)\n",
    "print(\"\\n\")\n",
    "a3, key_inst = calc_raw_agreement(pilot_data, 'sent_token', 'timeML_tag', degree=3)\n",
    "print(\"\\n\")\n",
    "a4, key_inst = calc_raw_agreement(pilot_data, 'sent_token', 'timeML_tag', degree=2)"
   ]
  },
  {
   "cell_type": "code",
   "execution_count": 13,
   "metadata": {},
   "outputs": [
    {
     "data": {
      "image/png": "[encoded data removed]",
      "text/plain": [
       "<Figure size 576x396 with 1 Axes>"
      ]
     },
     "metadata": {},
     "output_type": "display_data"
    }
   ],
   "source": [
    "agrees = [a1, a2, a3, a4]\n",
    "degree = ['5', '4', '3', '2']\n",
    "\n",
    "plt.bar(degree, agrees)\n",
    "plt.xlabel(\"Number of Annotators agreeing with each other (cumulative)\")\n",
    "plt.ylabel(\"Percentage of sentences\")\n",
    "plt.title(\"Raw Annotator agreement \")\n",
    "plt.show()"
   ]
  },
  {
   "cell_type": "markdown",
   "metadata": {},
   "source": [
    "### Kappa estimation "
   ]
  },
  {
   "cell_type": "code",
   "execution_count": 14,
   "metadata": {},
   "outputs": [],
   "source": [
    "def extract_pairs_of_workers(data, worker_id):\n",
    "    '''\n",
    "    Given a pandas dataframe, and worker_id variable,\n",
    "    extracts a list of pairs of worker_ids\n",
    "    '''\n",
    "    workers = list(set(data[worker_id].values))\n",
    "    \n",
    "    return list(itertools.combinations(workers, 2))\n",
    "\n",
    "def extract_worker_sent_dict(data, worker_id, sent_id):\n",
    "    '''\n",
    "    Given a pandas dataframe, worker_id variable, and sentence_id variable,\n",
    "    extracts a dict where key is worker_id and value is set(sentences_ids annotated by that worker)\n",
    "    \n",
    "    '''\n",
    "    workers = list(set(data[worker_id].values))\n",
    "    \n",
    "    ans = {}\n",
    "    \n",
    "    for worker in workers:\n",
    "        sents = set(list(data[data[worker_id] == worker][sent_id].values))\n",
    "        ans[worker] = sents\n",
    "        \n",
    "    return ans\n",
    "\n",
    "def extract_worker_pair_dict(data, worker_pairs, worker_dict, sent_id):\n",
    "    '''\n",
    "    Given a pandas dataframe, worker_id variable, and sentence_id variable,\n",
    "    extracts a dict where key is worker_id and value is set(sentences_ids annotated by that worker)\n",
    "    \n",
    "    '''\n",
    "    ans = {}\n",
    "    \n",
    "    for (w1, w2) in worker_pairs:\n",
    "        common_set = worker_dict[w1].intersection(worker_dict[w2])\n",
    "        if common_set != set():\n",
    "            ans[(w1,w2)] = list(common_set)\n",
    "        \n",
    "    return ans"
   ]
  },
  {
   "cell_type": "code",
   "execution_count": 15,
   "metadata": {},
   "outputs": [],
   "source": [
    "worker_pairs = extract_pairs_of_workers(pilot_data, 'worker_id')\n",
    "worker_dict = extract_worker_sent_dict(pilot_data, 'worker_id', 'sent_token')\n",
    "worker_pair_dict = extract_worker_pair_dict(pilot_data, worker_pairs, worker_dict,'sent_token')"
   ]
  },
  {
   "cell_type": "code",
   "execution_count": 16,
   "metadata": {},
   "outputs": [],
   "source": [
    "def average_metric_sklearn(data, worker_id, key_var, check_var):\n",
    "    '''\n",
    "    Input: 1. data: pandas dataframe\n",
    "           2. worker_id: Annotator id variable\n",
    "           3. key_var: level of the data (sentence-predicate id)\n",
    "           4. check_var: variable to be checked for kappa score or any other metric \n",
    "    \n",
    "    Output: average kappa score, accuracy and spearman correlation for (pairs of annotators) in the dataset.\n",
    "\n",
    "    '''\n",
    "    worker_pairs = extract_pairs_of_workers(data, worker_id)\n",
    "    worker_key_dict = extract_worker_sent_dict(data, worker_id, key_var)\n",
    "    kappas = []\n",
    "    accuracies = []\n",
    "    \n",
    "    for (w1, w2) in worker_pairs:\n",
    "        common_set = worker_key_dict[w1].intersection(worker_key_dict[w2])\n",
    "        \n",
    "        if common_set == set():\n",
    "            continue\n",
    "            \n",
    "        temp1 = []\n",
    "        temp2 = []\n",
    "        \n",
    "        for key in common_set:\n",
    "            val3 = data[(data[key_var] == key) & \n",
    "                        (data[worker_id] == w1)][check_var].values\n",
    "            val4 = data[(data[key_var] == key) & \n",
    "                        (data[worker_id] == w2)][check_var].values \n",
    "            temp1.append(val3[0])\n",
    "            temp2.append(val4[0])\n",
    "                   \n",
    "        if temp1 == [] or temp2 == []:\n",
    "            continue\n",
    "\n",
    "        elif temp1==temp2:\n",
    "            kappas.append(1.0)\n",
    "        else:\n",
    "            kappas.append(kappa(temp1, temp2))\n",
    "        accuracies.append(accuracy(temp1, temp2))\n",
    "                \n",
    "    return kappas, accuracies"
   ]
  },
  {
   "cell_type": "code",
   "execution_count": 17,
   "metadata": {},
   "outputs": [
    {
     "name": "stdout",
     "output_type": "stream",
     "text": [
      "timeML_tag -- Completed!\n"
     ]
    }
   ],
   "source": [
    "kappas = {}\n",
    "accuracies = {}\n",
    "vars_temp = ['timeML_tag']\n",
    "for var in vars_temp:\n",
    "    kappas[var], accuracies[var] = average_metric_sklearn(pilot_data, 'worker_id', 'sent_token', var)\n",
    "    print(\"{} -- Completed!\".format(var))"
   ]
  },
  {
   "cell_type": "code",
   "execution_count": 18,
   "metadata": {},
   "outputs": [],
   "source": [
    "kappa_data = pd.DataFrame(dict([ (k,pd.Series(v)) for k,v in kappas.items() ]))\n",
    "acc_data = pd.DataFrame(dict([ (k,pd.Series(v)) for k,v in accuracies.items() ]))"
   ]
  },
  {
   "cell_type": "code",
   "execution_count": 19,
   "metadata": {},
   "outputs": [
    {
     "name": "stdout",
     "output_type": "stream",
     "text": [
      "Average Kappa for \"timeML_tag\" variable: 0.18573327643520413\n",
      "\n",
      "\n",
      "Average Accuracy for \"timeML_tag\" variable: 0.44541139240506356\n",
      "\n",
      "\n"
     ]
    }
   ],
   "source": [
    "print('Average Kappa for \"timeML_tag\" variable: {}'.format(np.mean(kappa_data['timeML_tag'])))\n",
    "print(\"\\n\")\n",
    "\n",
    "print('Average Accuracy for \"timeML_tag\" variable: {}'.format(np.mean(acc_data['timeML_tag'])))\n",
    "print(\"\\n\")"
   ]
  },
  {
   "cell_type": "markdown",
   "metadata": {},
   "source": [
    "## Confusion Matrix"
   ]
  },
  {
   "cell_type": "code",
   "execution_count": 20,
   "metadata": {},
   "outputs": [],
   "source": [
    "time_tags = list(pilot_data.timeML_tag.unique())"
   ]
  },
  {
   "cell_type": "code",
   "execution_count": 21,
   "metadata": {},
   "outputs": [
    {
     "data": {
      "text/plain": [
       "['is_included',\n",
       " 'after',\n",
       " 'before',\n",
       " 'includes',\n",
       " 'simultaneous',\n",
       " 'after_cont',\n",
       " 'before_cont']"
      ]
     },
     "execution_count": 21,
     "metadata": {},
     "output_type": "execute_result"
    }
   ],
   "source": [
    "time_tags"
   ]
  },
  {
   "cell_type": "code",
   "execution_count": 22,
   "metadata": {},
   "outputs": [],
   "source": [
    "def average_confusion_matrix(data, worker_id, key_var, check_var, time_tags):\n",
    "    '''\n",
    "    Input: 1. data: pandas dataframe\n",
    "           2. worker_id: Annotator id variable\n",
    "           3. key_var: level of the data (sentence-predicate id)\n",
    "           4. check_var: variable to be checked for kappa score or any other metric \n",
    "    \n",
    "    Output: average kappa score, accuracy and spearman correlation for (pairs of annotators) in the dataset.\n",
    "\n",
    "    '''\n",
    "    worker_pairs = extract_pairs_of_workers(data, worker_id)\n",
    "    worker_key_dict = extract_worker_sent_dict(data, worker_id, key_var)\n",
    "    conf_list = []\n",
    "    conf_rev_list = []\n",
    "    \n",
    "    for (w1, w2) in worker_pairs:\n",
    "        common_set = worker_key_dict[w1].intersection(worker_key_dict[w2])\n",
    "        \n",
    "        if common_set == set():\n",
    "            continue\n",
    "            \n",
    "        temp1 = []\n",
    "        temp2 = []\n",
    "        \n",
    "        for key in common_set:\n",
    "            val3 = data[(data[key_var] == key) & \n",
    "                        (data[worker_id] == w1)][check_var].values\n",
    "            val4 = data[(data[key_var] == key) & \n",
    "                        (data[worker_id] == w2)][check_var].values \n",
    "            temp1.append(val3[0])\n",
    "            temp2.append(val4[0])\n",
    "                   \n",
    "        if temp1 == [] or temp2 == []:\n",
    "            continue\n",
    "\n",
    "        conf_matrix = confusion_matrix(temp1, temp2, labels=time_tags)\n",
    "        conf_matrix_rev = confusion_matrix(temp2, temp1, labels=time_tags)\n",
    "        \n",
    "        #NORMALISE\n",
    "        sum_a = np.sum(conf_matrix,axis=None)\n",
    "        sum_rev = np.sum(conf_matrix_rev,axis=None)\n",
    "        \n",
    "        conf_matrix = conf_matrix/sum_a\n",
    "        conf_matrix_rev = conf_matrix_rev/sum_rev\n",
    "        \n",
    "        conf_list.append(conf_matrix)\n",
    "        conf_rev_list.append(conf_matrix_rev)\n",
    "        \n",
    "                \n",
    "    return conf_list, conf_rev_list"
   ]
  },
  {
   "cell_type": "code",
   "execution_count": 23,
   "metadata": {},
   "outputs": [],
   "source": [
    "conf_list, conf_rev_list = average_confusion_matrix(pilot_data, 'worker_id', 'sent_token', 'timeML_tag', time_tags)"
   ]
  },
  {
   "cell_type": "code",
   "execution_count": 24,
   "metadata": {},
   "outputs": [],
   "source": [
    "def matprint(mat, fmt=\"g\"):\n",
    "    '''\n",
    "    Source: https://gist.github.com/braingineer/d801735dac07ff3ac4d746e1f218ab75\n",
    "    '''\n",
    "    col_maxes = [max([len((\"{:\"+fmt+\"}\").format(x)) for x in col]) for col in mat.T]\n",
    "    for x in mat:\n",
    "        for i, y in enumerate(x):\n",
    "            print((\"{:\"+str(col_maxes[i])+fmt+\"}\").format(y), end=\"  \")\n",
    "        print(\"\")"
   ]
  },
  {
   "cell_type": "code",
   "execution_count": 25,
   "metadata": {},
   "outputs": [],
   "source": [
    "sum_final = sum(conf_list)/len(conf_list)\n",
    "sum_rev_final = sum(conf_rev_list)/len(conf_rev_list)"
   ]
  },
  {
   "cell_type": "code",
   "execution_count": 26,
   "metadata": {},
   "outputs": [],
   "source": [
    "def plot_confusion_matrix(cm, classes,\n",
    "                          normalize=False,\n",
    "                          title='Confusion matrix',\n",
    "                          cmap=plt.cm.Blues):\n",
    "    \"\"\"\n",
    "    This function prints and plots the confusion matrix.\n",
    "    Normalization can be applied by setting `normalize=True`.\n",
    "    \"\"\"\n",
    "    if normalize:\n",
    "        cm = cm.astype('float') / cm.sum(axis=1)[:, np.newaxis]\n",
    "        print(\"Normalized confusion matrix\")\n",
    "    else:\n",
    "        print('Confusion matrix, without normalization')\n",
    "\n",
    "    print(cm)\n",
    "\n",
    "    plt.imshow(cm, interpolation='nearest', cmap=cmap)\n",
    "    plt.title(title)\n",
    "    plt.colorbar()\n",
    "    tick_marks = np.arange(len(classes))\n",
    "    plt.xticks(tick_marks, classes, rotation=45)\n",
    "    plt.yticks(tick_marks, classes)\n",
    "\n",
    "    fmt = '.2f' if normalize else '{0:f}'\n",
    "    thresh = cm.max() / 2.\n",
    "    for i, j in itertools.product(range(cm.shape[0]), range(cm.shape[1])):\n",
    "        plt.text(j, i, format(cm[i, j], fmt),\n",
    "                 horizontalalignment=\"center\",\n",
    "                 color=\"white\" if cm[i, j] > thresh else \"black\")\n",
    "\n",
    "    plt.tight_layout()\n",
    "    plt.ylabel('True label')\n",
    "    plt.xlabel('Predicted label')\n",
    "\n",
    "\n"
   ]
  },
  {
   "cell_type": "code",
   "execution_count": 27,
   "metadata": {},
   "outputs": [
    {
     "name": "stdout",
     "output_type": "stream",
     "text": [
      "Normalized confusion matrix\n",
      "[[0.30223881 0.07929104 0.41044776 0.11940299 0.03731343 0.02891791\n",
      "  0.02238806]\n",
      " [0.11065183 0.35739269 0.3745628  0.06391097 0.02480127 0.02861685\n",
      "  0.04006359]\n",
      " [0.05499542 0.05614115 0.70130614 0.10380385 0.01856095 0.01649863\n",
      "  0.04869386]\n",
      " [0.18624044 0.06879778 0.48644892 0.15288395 0.07505212 0.00833912\n",
      "  0.02223767]\n",
      " [0.17153996 0.04678363 0.42300195 0.22612086 0.10916179 0.\n",
      "  0.02339181]\n",
      " [0.13065327 0.08040201 0.52763819 0.18090452 0.04020101 0.\n",
      "  0.04020101]\n",
      " [0.16289593 0.16289593 0.43891403 0.12669683 0.05429864 0.05429864\n",
      "  0.        ]]\n"
     ]
    },
    {
     "data": {
      "image/png": "[encoded data removed]",
      "text/plain": [
       "<Figure size 576x396 with 2 Axes>"
      ]
     },
     "metadata": {},
     "output_type": "display_data"
    }
   ],
   "source": [
    "# Plot non-normalized confusion matrix\n",
    "plt.figure()\n",
    "plot_confusion_matrix(sum_final, classes=time_tags, normalize=True,\n",
    "                      title='Confusion matrix, without normalization')\n",
    "\n",
    "plt.show()"
   ]
  },
  {
   "cell_type": "code",
   "execution_count": 28,
   "metadata": {},
   "outputs": [
    {
     "name": "stdout",
     "output_type": "stream",
     "text": [
      "Normalized confusion matrix\n",
      "[[0.27715997 0.14884517 0.20530368 0.22925577 0.07527802 0.03336185\n",
      "  0.03079555]\n",
      " [0.07906977 0.5227907  0.22790698 0.09209302 0.02232558 0.02232558\n",
      "  0.03348837]\n",
      " [0.08363429 0.1119559  0.58173351 0.13305455 0.04124691 0.02993727\n",
      "  0.01843756]\n",
      " [0.11641655 0.09140518 0.41200546 0.20009095 0.1055025  0.04911323\n",
      "  0.02546612]\n",
      " [0.11494253 0.11206897 0.23275862 0.31034483 0.16091954 0.03448276\n",
      "  0.03448276]\n",
      " [0.18023256 0.26162791 0.41860465 0.06976744 0.         0.\n",
      "  0.06976744]\n",
      " [0.06751055 0.17721519 0.59774965 0.09001406 0.03375527 0.03375527\n",
      "  0.        ]]\n"
     ]
    },
    {
     "data": {
      "image/png": "[encoded data removed]",
      "text/plain": [
       "<Figure size 576x396 with 2 Axes>"
      ]
     },
     "metadata": {},
     "output_type": "display_data"
    }
   ],
   "source": [
    "# Plot non-normalized confusion matrix\n",
    "plt.figure()\n",
    "plot_confusion_matrix(sum_rev_final, classes=time_tags, normalize=True,\n",
    "                      title='Confusion matrix, without normalization')\n",
    "\n",
    "plt.show()"
   ]
  },
  {
   "cell_type": "markdown",
   "metadata": {},
   "source": [
    "#### Sid's predictions"
   ]
  },
  {
   "cell_type": "code",
   "execution_count": 29,
   "metadata": {},
   "outputs": [
    {
     "data": {
      "text/html": [
       "<div>\n",
       "<style>\n",
       "    .dataframe thead tr:only-child th {\n",
       "        text-align: right;\n",
       "    }\n",
       "\n",
       "    .dataframe thead th {\n",
       "        text-align: left;\n",
       "    }\n",
       "\n",
       "    .dataframe tbody tr th {\n",
       "        vertical-align: top;\n",
       "    }\n",
       "</style>\n",
       "<table border=\"1\" class=\"dataframe\">\n",
       "  <thead>\n",
       "    <tr style=\"text-align: right;\">\n",
       "      <th></th>\n",
       "      <th>worker_id</th>\n",
       "      <th>slider2_posn</th>\n",
       "      <th>slider1_posn</th>\n",
       "      <th>sentence_id</th>\n",
       "      <th>sentence</th>\n",
       "      <th>pred_token2</th>\n",
       "      <th>pred_token1</th>\n",
       "      <th>pred2</th>\n",
       "      <th>pred1</th>\n",
       "      <th>id</th>\n",
       "      <th>hit_id</th>\n",
       "      <th>confidence</th>\n",
       "      <th>sent_token</th>\n",
       "    </tr>\n",
       "  </thead>\n",
       "  <tbody>\n",
       "    <tr>\n",
       "      <th>0</th>\n",
       "      <td>A2GL712W3LDMFO</td>\n",
       "      <td>32 - 73</td>\n",
       "      <td>45 - 60</td>\n",
       "      <td>en-ud-train.conllu 13</td>\n",
       "      <td>On Wednesday guerrillas had  &lt;span class=\\\"pre...</td>\n",
       "      <td>16</td>\n",
       "      <td>4</td>\n",
       "      <td>way</td>\n",
       "      <td>kidnapped</td>\n",
       "      <td>1</td>\n",
       "      <td>35A1YQPVFEGOK6YXHVHV03G0I0CI51</td>\n",
       "      <td>4</td>\n",
       "      <td>en-ud-train.conllu 13_4_16</td>\n",
       "    </tr>\n",
       "    <tr>\n",
       "      <th>1</th>\n",
       "      <td>A2GL712W3LDMFO</td>\n",
       "      <td>22 - 43</td>\n",
       "      <td>52 - 100</td>\n",
       "      <td>en-ud-train.conllu 46</td>\n",
       "      <td>Yesterday there were tens of them  &lt;span class...</td>\n",
       "      <td>26</td>\n",
       "      <td>6</td>\n",
       "      <td>leave</td>\n",
       "      <td>putting</td>\n",
       "      <td>2</td>\n",
       "      <td>35A1YQPVFEGOK6YXHVHV03G0I0CI51</td>\n",
       "      <td>1</td>\n",
       "      <td>en-ud-train.conllu 46_6_26</td>\n",
       "    </tr>\n",
       "    <tr>\n",
       "      <th>2</th>\n",
       "      <td>A2GL712W3LDMFO</td>\n",
       "      <td>20 - 34</td>\n",
       "      <td>42 - 46</td>\n",
       "      <td>en-ud-train.conllu 60</td>\n",
       "      <td>He did once  &lt;span class=\\\"predicate\\\"&gt; make&lt;/...</td>\n",
       "      <td>14</td>\n",
       "      <td>3</td>\n",
       "      <td>shooting</td>\n",
       "      <td>make</td>\n",
       "      <td>3</td>\n",
       "      <td>35A1YQPVFEGOK6YXHVHV03G0I0CI51</td>\n",
       "      <td>2</td>\n",
       "      <td>en-ud-train.conllu 60_3_14</td>\n",
       "    </tr>\n",
       "    <tr>\n",
       "      <th>3</th>\n",
       "      <td>A2GL712W3LDMFO</td>\n",
       "      <td>44 - 51</td>\n",
       "      <td>28 - 34</td>\n",
       "      <td>en-ud-train.conllu 65</td>\n",
       "      <td>He  &lt;span class=\\\"predicate\\\"&gt; added&lt;/span&gt;  t...</td>\n",
       "      <td>57</td>\n",
       "      <td>1</td>\n",
       "      <td>dragged</td>\n",
       "      <td>added</td>\n",
       "      <td>4</td>\n",
       "      <td>35A1YQPVFEGOK6YXHVHV03G0I0CI51</td>\n",
       "      <td>2</td>\n",
       "      <td>en-ud-train.conllu 65_1_57</td>\n",
       "    </tr>\n",
       "    <tr>\n",
       "      <th>4</th>\n",
       "      <td>A2GL712W3LDMFO</td>\n",
       "      <td>41 - 47</td>\n",
       "      <td>13 - 41</td>\n",
       "      <td>en-ud-train.conllu 118</td>\n",
       "      <td>As a child in the 50&amp;#39;s I  &lt;span class=\\\"pr...</td>\n",
       "      <td>34</td>\n",
       "      <td>7</td>\n",
       "      <td>started</td>\n",
       "      <td>had</td>\n",
       "      <td>5</td>\n",
       "      <td>35A1YQPVFEGOK6YXHVHV03G0I0CI51</td>\n",
       "      <td>2</td>\n",
       "      <td>en-ud-train.conllu 118_7_34</td>\n",
       "    </tr>\n",
       "  </tbody>\n",
       "</table>\n",
       "</div>"
      ],
      "text/plain": [
       "        worker_id slider2_posn slider1_posn             sentence_id  \\\n",
       "0  A2GL712W3LDMFO      32 - 73      45 - 60   en-ud-train.conllu 13   \n",
       "1  A2GL712W3LDMFO      22 - 43     52 - 100   en-ud-train.conllu 46   \n",
       "2  A2GL712W3LDMFO      20 - 34      42 - 46   en-ud-train.conllu 60   \n",
       "3  A2GL712W3LDMFO      44 - 51      28 - 34   en-ud-train.conllu 65   \n",
       "4  A2GL712W3LDMFO      41 - 47      13 - 41  en-ud-train.conllu 118   \n",
       "\n",
       "                                            sentence pred_token2 pred_token1  \\\n",
       "0  On Wednesday guerrillas had  <span class=\\\"pre...          16           4   \n",
       "1  Yesterday there were tens of them  <span class...          26           6   \n",
       "2  He did once  <span class=\\\"predicate\\\"> make</...          14           3   \n",
       "3  He  <span class=\\\"predicate\\\"> added</span>  t...          57           1   \n",
       "4  As a child in the 50&#39;s I  <span class=\\\"pr...          34           7   \n",
       "\n",
       "      pred2      pred1  id                          hit_id  confidence  \\\n",
       "0       way  kidnapped   1  35A1YQPVFEGOK6YXHVHV03G0I0CI51           4   \n",
       "1     leave    putting   2  35A1YQPVFEGOK6YXHVHV03G0I0CI51           1   \n",
       "2  shooting       make   3  35A1YQPVFEGOK6YXHVHV03G0I0CI51           2   \n",
       "3   dragged      added   4  35A1YQPVFEGOK6YXHVHV03G0I0CI51           2   \n",
       "4   started        had   5  35A1YQPVFEGOK6YXHVHV03G0I0CI51           2   \n",
       "\n",
       "                    sent_token  \n",
       "0   en-ud-train.conllu 13_4_16  \n",
       "1   en-ud-train.conllu 46_6_26  \n",
       "2   en-ud-train.conllu 60_3_14  \n",
       "3   en-ud-train.conllu 65_1_57  \n",
       "4  en-ud-train.conllu 118_7_34  "
      ]
     },
     "execution_count": 29,
     "metadata": {},
     "output_type": "execute_result"
    }
   ],
   "source": [
    "sid_data = pd.read_csv(sid_pilot_file)\n",
    "sid_data.columns = [c.replace('.', '_') for c in sid_data.columns]\n",
    "\n",
    "sid_pilot_data = extract_dataframe(sid_data)\n",
    "\n",
    "#Re-arrange the order \n",
    "cols = list(sid_pilot_data.columns)\n",
    "#sid_pilot_data = sid_pilot_data[sid_pilot_data.columns[::-1]].drop('sentence', axis=1)\n",
    "sid_pilot_data = sid_pilot_data[sid_pilot_data.columns[::-1]]\n",
    "\n",
    "\n",
    "#Drop start, end, instant variables that were stored in the json data\n",
    "sid_pilot_data = sid_pilot_data.drop(['start_pred1', 'start_pred2', 'end_pred1', 'end_pred2',\n",
    "                             'instant_pred1', 'instant_pred2'], axis=1)\n",
    "\n",
    "\n",
    "#pilot_data.replace('na',np.NaN, inplace=True)\n",
    "sid_pilot_data['sent_token'] = sid_pilot_data['sentence_id'] + \"_\" +\\\n",
    "                            sid_pilot_data['pred_token1'].map(lambda x: str(x)) + \"_\" +\\\n",
    "                             sid_pilot_data['pred_token2'].map(lambda x: str(x))\n",
    "sid_pilot_data.head()"
   ]
  },
  {
   "cell_type": "code",
   "execution_count": 30,
   "metadata": {},
   "outputs": [
    {
     "name": "stdout",
     "output_type": "stream",
     "text": [
      "before          36\n",
      "after           21\n",
      "simultaneous    13\n",
      "is_included      5\n",
      "includes         5\n",
      "Name: timeML_tag, dtype: int64\n"
     ]
    },
    {
     "data": {
      "image/png": "[encoded data removed]",
      "text/plain": [
       "<Figure size 576x396 with 1 Axes>"
      ]
     },
     "metadata": {},
     "output_type": "display_data"
    }
   ],
   "source": [
    "sid_pilot_data['timeML_tag'] = sid_pilot_data.apply(lambda row: time_ml_tag(row, 'slider1_posn', 'slider2_posn'), axis=1)\n",
    "print(sid_pilot_data.timeML_tag.value_counts())\n",
    "sns.countplot(x='timeML_tag', data=sid_pilot_data)\n",
    "plt.show()"
   ]
  },
  {
   "cell_type": "code",
   "execution_count": 31,
   "metadata": {},
   "outputs": [
    {
     "data": {
      "image/png": "[encoded data removed]",
      "text/plain": [
       "<Figure size 576x396 with 1 Axes>"
      ]
     },
     "metadata": {},
     "output_type": "display_data"
    }
   ],
   "source": [
    "sns.countplot(x='confidence', data=sid_pilot_data)\n",
    "plt.show()"
   ]
  },
  {
   "cell_type": "markdown",
   "metadata": {},
   "source": [
    "### Manual Analysis of Sentences"
   ]
  },
  {
   "cell_type": "code",
   "execution_count": 32,
   "metadata": {},
   "outputs": [],
   "source": [
    "#sid_pilot_data[sid_pilot_data.confidence==3]"
   ]
  },
  {
   "cell_type": "code",
   "execution_count": 33,
   "metadata": {},
   "outputs": [],
   "source": [
    "#pilot_data[pilot_data.sent_token == \"en-ud-train.conllu 11663_17_28\"]"
   ]
  },
  {
   "cell_type": "markdown",
   "metadata": {},
   "source": [
    "#### Examples with high confidence as per Sid:\n",
    " -  '&lsqb; an error  <span class=\\\\\"predicate\\\\\"> ** occurred **</span>  while  <span class=\\\\\"predicate\\\\\"> ** processing **</span>  this directive &rsqb;'\n",
    "\n",
    "    my tag: is_included, 3/5 match , others - before, after\n",
    "    \n",
    "    \n",
    "- 'Meanwhile , President George W Bush has  <span class=\\\\\"predicate\\\\\"> ** said **</span>  he will lead an inquiry into how the disaster was  <span class=\\\\\"predicate\\\\\"> ** handled **</span>  .'\n",
    "\n",
    "    my tag: after, 3/5 match , others - is_included, before\n",
    "    \n",
    "    \n",
    "- 'We then called the office and the man we spoke to  <span class=\\\\\"predicate\\\\\">** said **</span>  he &#39;d send someone out to look at it but could n&#39;t promise when - two weeks came and went and we  <span class=\\\\\"predicate\\\\\">** heard **</span>  nothing .'\n",
    "\n",
    "    my tag: before, 5/5 match\n",
    "    \n",
    "   \n",
    "- 'Well last night while I was  <span class=\\\\\"predicate\\\\\">** sleeping **</span>  , my hamster  <span class=\\\\\"predicate\\\\\">** escaped **</span>  from his cage .'\n",
    "\n",
    "    my tag: includes, 3/5 match, others - before(4,2)\n",
    "    \n",
    "    \n",
    "-  'Phone calls were n&#39;t returned when promised and the botched repair  <span class=\\\\\"predicate\\\\\"> ** took **</span>  a week longer than  <span class=\\\\\"predicate\\\\\">** promised **</span>  .'\n",
    "    \n",
    "      my tag: after, 5/5 match"
   ]
  },
  {
   "cell_type": "markdown",
   "metadata": {},
   "source": [
    "#### Intriguing examples\n",
    "\n",
    "- 'Right now , while we &#39;re  <span class=\\\\\"predicate\\\\\">** sitting **</span>  at our computers enjoying the internet , those innocent , beautiful , loving cats , are  <span class=\\\\\"predicate\\\\\">** dying **</span>  , somewhere in this troubled world a slow , agonizing death .'\n",
    "\n",
    "    my tag - simultaneous, 2/5 match: others: (before-2 conf, after-2 conf, includes-3 conf)\n",
    "    \n",
    "    \n",
    "- 'I did n&#39;t expect to react that way , but when I was  <span class=\\\\\"predicate\\\\\">** looking **</span>  around my workplace in Nashua , New Hampshire , and everyone else looked pretty much like me , it was really very  <span class=\\\\\"predicate\\\\\">** eerie **</span>  .'\n",
    "\n",
    "    my tag - simultaneous, 0/5 match; others: (before:4/5 annotators, includes:1/5 with 4 confidence)\n",
    "    \n",
    "    \n",
    "- 'Finally a chambermaid  <span class=\\\\\"predicate\\\\\">** stuck **</span>  her head around the corner from the top of the stairs and  <span class=\\\\\"predicate\\\\\">** told **</span>  us sternly that we could not be accommodated until 3 M , no exceptions .'\n",
    "\n",
    "    my tag - before, 3/5 match; others-(simultaneous with 4 rating, includes with 3 rating)\n",
    "    \n",
    "    \n",
    "- 'We typically only  <span class=\\\\\"predicate\\\\\">** book **</span>  deals when everything is  <span class=\\\\\"predicate\\\\\">** signed **</span>  off .'\n",
    "\n",
    "    2/5 : before (4, 2 conf)\n",
    "    2/5 : after (2, 1 conf)\n",
    "    1/5: after_cont (3 conf)\n",
    "    \n",
    "    \n",
    "- 'From a moral standpoint , you guys are really gon na take 2,000 bucks from someone that  <span class=\\\\\"predicate\\\\\">**  needs **</span>  that truck to work and support his family when you  <span class=\\\\\"predicate\\\\\">** know **</span>  it s just a piece of scrap metal ?'\n",
    "\n",
    "    2/5: before (2,2 conf)\n",
    "    1/5: simultaneous (2 conf)\n",
    "    1/5: includes (2 conf)\n",
    "    1/5: after_cont (3 conf)\n"
   ]
  },
  {
   "cell_type": "code",
   "execution_count": null,
   "metadata": {},
   "outputs": [],
   "source": []
  }
 ],
 "metadata": {
  "kernelspec": {
   "display_name": "Python 3",
   "language": "python",
   "name": "python3"
  },
  "language_info": {
   "codemirror_mode": {
    "name": "ipython",
    "version": 3
   },
   "file_extension": ".py",
   "mimetype": "text/x-python",
   "name": "python",
   "nbconvert_exporter": "python",
   "pygments_lexer": "ipython3",
   "version": "3.6.5"
  }
 },
 "nbformat": 4,
 "nbformat_minor": 2
}
