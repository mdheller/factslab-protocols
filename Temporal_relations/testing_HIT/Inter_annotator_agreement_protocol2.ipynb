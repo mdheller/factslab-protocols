{
 "cells": [
  {
   "cell_type": "code",
   "execution_count": 1,
   "metadata": {},
   "outputs": [],
   "source": [
    "import pandas as pd\n",
    "import numpy as np\n",
    "import json\n",
    "import matplotlib.pyplot as plt\n",
    "import seaborn as sns\n",
    "import itertools\n",
    "from nltk.metrics.agreement import AnnotationTask\n",
    "from sklearn.metrics import cohen_kappa_score as kappa\n",
    "from sklearn.metrics import accuracy_score as accuracy\n",
    "from scipy.stats import spearmanr as spearman\n",
    "pilot_file = \"Batch_3220834_batch_results.csv\""
   ]
  },
  {
   "cell_type": "code",
   "execution_count": 2,
   "metadata": {},
   "outputs": [],
   "source": [
    "data = pd.read_csv(pilot_file)\n",
    "data.columns = [c.replace('.', '_') for c in data.columns]\n",
    "#data.head()"
   ]
  },
  {
   "cell_type": "code",
   "execution_count": 3,
   "metadata": {},
   "outputs": [
    {
     "data": {
      "text/plain": [
       "Index(['HITId', 'HITTypeId', 'Title', 'Description', 'Keywords', 'Reward',\n",
       "       'CreationTime', 'MaxAssignments', 'RequesterAnnotation',\n",
       "       'AssignmentDurationInSeconds', 'AutoApprovalDelayInSeconds',\n",
       "       'Expiration', 'NumberOfSimilarHITs', 'LifetimeInSeconds',\n",
       "       'AssignmentId', 'WorkerId', 'AssignmentStatus', 'AcceptTime',\n",
       "       'SubmitTime', 'AutoApprovalTime', 'ApprovalTime', 'RejectionTime',\n",
       "       'RequesterFeedback', 'WorkTimeInSeconds', 'LifetimeApprovalRate',\n",
       "       'Last30DaysApprovalRate', 'Last7DaysApprovalRate', 'Input_var_arrays',\n",
       "       'Answer_comments', 'Answer_confidence_range1',\n",
       "       'Answer_confidence_range10', 'Answer_confidence_range2',\n",
       "       'Answer_confidence_range3', 'Answer_confidence_range4',\n",
       "       'Answer_confidence_range5', 'Answer_confidence_range6',\n",
       "       'Answer_confidence_range7', 'Answer_confidence_range8',\n",
       "       'Answer_confidence_range9', 'Answer_dummy', 'Answer_sld_pred1_1',\n",
       "       'Answer_sld_pred1_10', 'Answer_sld_pred1_2', 'Answer_sld_pred1_3',\n",
       "       'Answer_sld_pred1_4', 'Answer_sld_pred1_5', 'Answer_sld_pred1_6',\n",
       "       'Answer_sld_pred1_7', 'Answer_sld_pred1_8', 'Answer_sld_pred1_9',\n",
       "       'Answer_sld_pred2_1', 'Answer_sld_pred2_10', 'Answer_sld_pred2_2',\n",
       "       'Answer_sld_pred2_3', 'Answer_sld_pred2_4', 'Answer_sld_pred2_5',\n",
       "       'Answer_sld_pred2_6', 'Answer_sld_pred2_7', 'Answer_sld_pred2_8',\n",
       "       'Answer_sld_pred2_9', 'Approve', 'Reject'],\n",
       "      dtype='object')"
      ]
     },
     "execution_count": 3,
     "metadata": {},
     "output_type": "execute_result"
    }
   ],
   "source": [
    "data.columns"
   ]
  },
  {
   "cell_type": "code",
   "execution_count": 4,
   "metadata": {},
   "outputs": [],
   "source": [
    "def extract_dataframe(data):\n",
    "    '''\n",
    "    Input: Pandas csv dataframe obtained from MTurk\n",
    "    \n",
    "    Output: Pandas dataframe levelled by (User x Sentenced_ID)\n",
    "    '''\n",
    "    data[\"dicts\"] = data[\"Input_var_arrays\"].map(lambda x: json.loads(x))\n",
    "    global_list = []\n",
    "    \n",
    "    for row in data.itertuples():\n",
    "        for idx, local_dict in enumerate(row.dicts):\n",
    "            temp_dict = local_dict.copy()\n",
    "            var_pred1 = \"Answer_sld_pred1_\" + str(idx+1)\n",
    "            var_pred2 =  \"Answer_sld_pred2_\" + str(idx+1)\n",
    "            var_conf = \"Answer_confidence_range\" + str(idx+1)\n",
    "            \n",
    "            temp_dict[\"slider1_posn\"] = getattr(row, var_pred1)\n",
    "            temp_dict[\"slider2_posn\"] = getattr(row, var_pred2)\n",
    "            temp_dict[\"confidence\"] = getattr(row, var_conf)\n",
    "            temp_dict[\"worker_id\"] = row.WorkerId\n",
    "            temp_dict[\"hit_id\"] = row.HITId\n",
    "\n",
    "            global_list.append(temp_dict)\n",
    "            \n",
    "    return pd.DataFrame(global_list)"
   ]
  },
  {
   "cell_type": "code",
   "execution_count": 5,
   "metadata": {},
   "outputs": [],
   "source": [
    "pilot_data = extract_dataframe(data)\n",
    "\n",
    "#Re-arrange the order \n",
    "cols = list(pilot_data.columns)\n",
    "pilot_data = pilot_data[pilot_data.columns[::-1]].drop('sentence', axis=1)\n",
    "\n",
    "\n",
    "#Drop start, end, instant variables that were stored in the json data\n",
    "pilot_data = pilot_data.drop(['start_pred1', 'start_pred2', 'end_pred1', 'end_pred2',\n",
    "                             'instant_pred1', 'instant_pred2'], axis=1)\n",
    "\n",
    "\n",
    "#pilot_data.replace('na',np.NaN, inplace=True)\n",
    "pilot_data.head\n",
    "pilot_data['sent_token'] = pilot_data['sentence_id'] + \"_\" +\\\n",
    "                            pilot_data['pred_token1'].map(lambda x: str(x)) + \"_\" +\\\n",
    "                             pilot_data['pred_token2'].map(lambda x: str(x))"
   ]
  },
  {
   "cell_type": "code",
   "execution_count": 6,
   "metadata": {},
   "outputs": [
    {
     "name": "stdout",
     "output_type": "stream",
     "text": [
      "(500, 12)\n"
     ]
    },
    {
     "data": {
      "text/html": [
       "<div>\n",
       "<style>\n",
       "    .dataframe thead tr:only-child th {\n",
       "        text-align: right;\n",
       "    }\n",
       "\n",
       "    .dataframe thead th {\n",
       "        text-align: left;\n",
       "    }\n",
       "\n",
       "    .dataframe tbody tr th {\n",
       "        vertical-align: top;\n",
       "    }\n",
       "</style>\n",
       "<table border=\"1\" class=\"dataframe\">\n",
       "  <thead>\n",
       "    <tr style=\"text-align: right;\">\n",
       "      <th></th>\n",
       "      <th>worker_id</th>\n",
       "      <th>slider2_posn</th>\n",
       "      <th>slider1_posn</th>\n",
       "      <th>sentence_id</th>\n",
       "      <th>pred_token2</th>\n",
       "      <th>pred_token1</th>\n",
       "      <th>pred2</th>\n",
       "      <th>pred1</th>\n",
       "      <th>id</th>\n",
       "      <th>hit_id</th>\n",
       "      <th>confidence</th>\n",
       "      <th>sent_token</th>\n",
       "    </tr>\n",
       "  </thead>\n",
       "  <tbody>\n",
       "    <tr>\n",
       "      <th>0</th>\n",
       "      <td>AURYD2FH3FUOQ</td>\n",
       "      <td>27 - 46</td>\n",
       "      <td>39 - 46</td>\n",
       "      <td>en-ud-train.conllu 13</td>\n",
       "      <td>16</td>\n",
       "      <td>4</td>\n",
       "      <td>way</td>\n",
       "      <td>kidnapped</td>\n",
       "      <td>1</td>\n",
       "      <td>3MQY1YVHS3P8GHXKJ4IHY2G1UY12BZ</td>\n",
       "      <td>3</td>\n",
       "      <td>en-ud-train.conllu 13_4_16</td>\n",
       "    </tr>\n",
       "    <tr>\n",
       "      <th>1</th>\n",
       "      <td>AURYD2FH3FUOQ</td>\n",
       "      <td>6 - 17</td>\n",
       "      <td>25 - 41</td>\n",
       "      <td>en-ud-train.conllu 46</td>\n",
       "      <td>26</td>\n",
       "      <td>6</td>\n",
       "      <td>leave</td>\n",
       "      <td>putting</td>\n",
       "      <td>2</td>\n",
       "      <td>3MQY1YVHS3P8GHXKJ4IHY2G1UY12BZ</td>\n",
       "      <td>1</td>\n",
       "      <td>en-ud-train.conllu 46_6_26</td>\n",
       "    </tr>\n",
       "    <tr>\n",
       "      <th>2</th>\n",
       "      <td>AURYD2FH3FUOQ</td>\n",
       "      <td>19 - 26</td>\n",
       "      <td>35 - 37</td>\n",
       "      <td>en-ud-train.conllu 60</td>\n",
       "      <td>14</td>\n",
       "      <td>3</td>\n",
       "      <td>shooting</td>\n",
       "      <td>make</td>\n",
       "      <td>3</td>\n",
       "      <td>3MQY1YVHS3P8GHXKJ4IHY2G1UY12BZ</td>\n",
       "      <td>0</td>\n",
       "      <td>en-ud-train.conllu 60_3_14</td>\n",
       "    </tr>\n",
       "    <tr>\n",
       "      <th>3</th>\n",
       "      <td>AURYD2FH3FUOQ</td>\n",
       "      <td>57 - 80</td>\n",
       "      <td>35 - 36</td>\n",
       "      <td>en-ud-train.conllu 65</td>\n",
       "      <td>57</td>\n",
       "      <td>1</td>\n",
       "      <td>dragged</td>\n",
       "      <td>added</td>\n",
       "      <td>4</td>\n",
       "      <td>3MQY1YVHS3P8GHXKJ4IHY2G1UY12BZ</td>\n",
       "      <td>2</td>\n",
       "      <td>en-ud-train.conllu 65_1_57</td>\n",
       "    </tr>\n",
       "    <tr>\n",
       "      <th>4</th>\n",
       "      <td>AURYD2FH3FUOQ</td>\n",
       "      <td>15 - 16</td>\n",
       "      <td>10 - 16</td>\n",
       "      <td>en-ud-train.conllu 118</td>\n",
       "      <td>34</td>\n",
       "      <td>7</td>\n",
       "      <td>started</td>\n",
       "      <td>had</td>\n",
       "      <td>5</td>\n",
       "      <td>3MQY1YVHS3P8GHXKJ4IHY2G1UY12BZ</td>\n",
       "      <td>2</td>\n",
       "      <td>en-ud-train.conllu 118_7_34</td>\n",
       "    </tr>\n",
       "  </tbody>\n",
       "</table>\n",
       "</div>"
      ],
      "text/plain": [
       "       worker_id slider2_posn slider1_posn             sentence_id  \\\n",
       "0  AURYD2FH3FUOQ      27 - 46      39 - 46   en-ud-train.conllu 13   \n",
       "1  AURYD2FH3FUOQ       6 - 17      25 - 41   en-ud-train.conllu 46   \n",
       "2  AURYD2FH3FUOQ      19 - 26      35 - 37   en-ud-train.conllu 60   \n",
       "3  AURYD2FH3FUOQ      57 - 80      35 - 36   en-ud-train.conllu 65   \n",
       "4  AURYD2FH3FUOQ      15 - 16      10 - 16  en-ud-train.conllu 118   \n",
       "\n",
       "  pred_token2 pred_token1     pred2      pred1  id  \\\n",
       "0          16           4       way  kidnapped   1   \n",
       "1          26           6     leave    putting   2   \n",
       "2          14           3  shooting       make   3   \n",
       "3          57           1   dragged      added   4   \n",
       "4          34           7   started        had   5   \n",
       "\n",
       "                           hit_id  confidence                   sent_token  \n",
       "0  3MQY1YVHS3P8GHXKJ4IHY2G1UY12BZ           3   en-ud-train.conllu 13_4_16  \n",
       "1  3MQY1YVHS3P8GHXKJ4IHY2G1UY12BZ           1   en-ud-train.conllu 46_6_26  \n",
       "2  3MQY1YVHS3P8GHXKJ4IHY2G1UY12BZ           0   en-ud-train.conllu 60_3_14  \n",
       "3  3MQY1YVHS3P8GHXKJ4IHY2G1UY12BZ           2   en-ud-train.conllu 65_1_57  \n",
       "4  3MQY1YVHS3P8GHXKJ4IHY2G1UY12BZ           2  en-ud-train.conllu 118_7_34  "
      ]
     },
     "execution_count": 6,
     "metadata": {},
     "output_type": "execute_result"
    }
   ],
   "source": [
    "print(pilot_data.shape)\n",
    "pilot_data.head()"
   ]
  },
  {
   "cell_type": "code",
   "execution_count": 7,
   "metadata": {},
   "outputs": [],
   "source": [
    "def time_ml_tag(row, var1, var2):\n",
    "    '''\n",
    "    Creates time ML tags from slider positions of two events \n",
    "    \n",
    "    Eg: EVENT 1 \"is before\" EVENT2\n",
    "    \n",
    "    Eg: Relatins: is before\n",
    "    '''\n",
    "    ans = \"\"\n",
    "    \n",
    "    slider1 = getattr(row, var1)\n",
    "    slider2 = getattr(row, var2)\n",
    "    \n",
    "    event1 = [int(x) for x in slider1.split(\"-\")]\n",
    "    event2 = [int(x) for x in slider2.split(\"-\")]\n",
    "    \n",
    "    if (event1[0] == event2[0]) and (event1[1] == event2[1]):\n",
    "        ans = \"simultaneous\"\n",
    "        \n",
    "    elif event1[1] <= event2[0]:\n",
    "        ans = \"before\"\n",
    "    \n",
    "    elif event1[0] >= event2[1]:\n",
    "        ans = \"after\"\n",
    "        \n",
    "    elif event1[1] >= event2[1] and event1[0] <= event2[0]:\n",
    "        ans = \"includes\"\n",
    "        \n",
    "    elif event1[1] <= event2[1] and event1[0] >= event2[0]:\n",
    "        ans = \"is_included\"\n",
    "    \n",
    "    elif event1[0] < event2[0] and event1[1] > event2[0]:\n",
    "        ans = \"before_cont\"\n",
    "        \n",
    "    elif event1[0] < event2[1] and event1[1] > event2[1]:\n",
    "        ans = \"after_cont\"\n",
    "    \n",
    "    else: \n",
    "        ans = \"other\"\n",
    "    \n",
    "    return ans"
   ]
  },
  {
   "cell_type": "code",
   "execution_count": 8,
   "metadata": {},
   "outputs": [],
   "source": [
    "pilot_data['timeML_tag'] = pilot_data.apply(lambda row: time_ml_tag(row, 'slider1_posn', 'slider2_posn'), axis=1)"
   ]
  },
  {
   "cell_type": "code",
   "execution_count": 9,
   "metadata": {},
   "outputs": [
    {
     "name": "stdout",
     "output_type": "stream",
     "text": [
      "before          263\n",
      "after            73\n",
      "includes         60\n",
      "is_included      56\n",
      "simultaneous     23\n",
      "before_cont      14\n",
      "after_cont       11\n",
      "Name: timeML_tag, dtype: int64\n"
     ]
    },
    {
     "data": {
      "image/png": "[encoded data removed]",
      "text/plain": [
       "<Figure size 576x396 with 1 Axes>"
      ]
     },
     "metadata": {},
     "output_type": "display_data"
    }
   ],
   "source": [
    "print(pilot_data.timeML_tag.value_counts())\n",
    "sns.countplot(x='timeML_tag', data=pilot_data)\n",
    "plt.show()\n"
   ]
  },
  {
   "cell_type": "markdown",
   "metadata": {},
   "source": [
    "## Inter-Annotator Agreement"
   ]
  },
  {
   "cell_type": "markdown",
   "metadata": {},
   "source": [
    "#### Raw Agreement"
   ]
  },
  {
   "cell_type": "code",
   "execution_count": 10,
   "metadata": {},
   "outputs": [],
   "source": [
    "def calc_raw_agreement(data, key_var, check_var):\n",
    "    '''\n",
    "    Input: \n",
    "    1. data: Pandas dataframe\n",
    "    2. key_var: variable based on which raw agreement is to be calculated\n",
    "    3. check_var: vaiable on which raw agreement is calculated\n",
    "    \n",
    "    '''\n",
    "    print(\"####### Raw Count for {} ###########\".format(check_var))\n",
    "    ids = set(list(data[key_var].values))\n",
    "\n",
    "    total_count = len(ids)\n",
    "    raw_count = 0\n",
    "    keys = []\n",
    "    \n",
    "    for iden in ids:\n",
    "        temp = list(data[data[key_var] == iden][check_var].values)\n",
    "        if temp.count(temp[0]) == len(temp):\n",
    "            raw_count += 1\n",
    "            keys.append(iden)\n",
    "     \n",
    "    agreement = (raw_count/total_count)*100\n",
    "    \n",
    "    print(\"Total count of unique {} is {}\".format(key_var, total_count))\n",
    "    print(\"Raw count of matched for {} is {}\".format(check_var, raw_count))\n",
    "    print(\"Inter-annotator agreement for {} is {}%\".format(check_var, agreement))\n",
    "    print(\"\\n\")\n",
    "    \n",
    "    return agreement, keys\n",
    "\n"
   ]
  },
  {
   "cell_type": "code",
   "execution_count": 11,
   "metadata": {},
   "outputs": [
    {
     "name": "stdout",
     "output_type": "stream",
     "text": [
      "####### Raw Count for timeML_tag ###########\n",
      "Total count of unique sent_token is 100\n",
      "Raw count of matched for timeML_tag is 22\n",
      "Inter-annotator agreement for timeML_tag is 22.0%\n",
      "\n",
      "\n"
     ]
    }
   ],
   "source": [
    "instant_agreement, key_inst = calc_raw_agreement(pilot_data, 'sent_token', 'timeML_tag')"
   ]
  },
  {
   "cell_type": "markdown",
   "metadata": {},
   "source": [
    "### Kappa estimation "
   ]
  },
  {
   "cell_type": "code",
   "execution_count": 12,
   "metadata": {},
   "outputs": [],
   "source": [
    "def extract_pairs_of_workers(data, worker_id):\n",
    "    '''\n",
    "    Given a pandas dataframe, and worker_id variable,\n",
    "    extracts a list of pairs of worker_ids\n",
    "    '''\n",
    "    workers = list(set(data[worker_id].values))\n",
    "    \n",
    "    return list(itertools.combinations(workers, 2))\n",
    "\n",
    "def extract_worker_sent_dict(data, worker_id, sent_id):\n",
    "    '''\n",
    "    Given a pandas dataframe, worker_id variable, and sentence_id variable,\n",
    "    extracts a dict where key is worker_id and value is set(sentences_ids annotated by that worker)\n",
    "    \n",
    "    '''\n",
    "    workers = list(set(data[worker_id].values))\n",
    "    \n",
    "    ans = {}\n",
    "    \n",
    "    for worker in workers:\n",
    "        sents = set(list(data[data[worker_id] == worker][sent_id].values))\n",
    "        ans[worker] = sents\n",
    "        \n",
    "    return ans\n",
    "\n",
    "def extract_worker_pair_dict(data, worker_pairs, worker_dict, sent_id):\n",
    "    '''\n",
    "    Given a pandas dataframe, worker_id variable, and sentence_id variable,\n",
    "    extracts a dict where key is worker_id and value is set(sentences_ids annotated by that worker)\n",
    "    \n",
    "    '''\n",
    "    ans = {}\n",
    "    \n",
    "    for (w1, w2) in worker_pairs:\n",
    "        common_set = worker_dict[w1].intersection(worker_dict[w2])\n",
    "        if common_set != set():\n",
    "            ans[(w1,w2)] = list(common_set)\n",
    "        \n",
    "    return ans"
   ]
  },
  {
   "cell_type": "code",
   "execution_count": 13,
   "metadata": {},
   "outputs": [],
   "source": [
    "worker_pairs = extract_pairs_of_workers(pilot_data, 'worker_id')\n",
    "worker_dict = extract_worker_sent_dict(pilot_data, 'worker_id', 'sent_token')\n",
    "worker_pair_dict = extract_worker_pair_dict(pilot_data, worker_pairs, worker_dict,'sent_token')"
   ]
  },
  {
   "cell_type": "code",
   "execution_count": 14,
   "metadata": {},
   "outputs": [],
   "source": [
    "def average_metric_sklearn(data, worker_id, key_var, check_var):\n",
    "    '''\n",
    "    Input: 1. data: pandas dataframe\n",
    "           2. worker_id: Annotator id variable\n",
    "           3. key_var: level of the data (sentence-predicate id)\n",
    "           4. check_var: variable to be checked for kappa score or any other metric \n",
    "    \n",
    "    Output: average kappa score, accuracy and spearman correlation for (pairs of annotators) in the dataset.\n",
    "\n",
    "    '''\n",
    "    worker_pairs = extract_pairs_of_workers(data, worker_id)\n",
    "    worker_key_dict = extract_worker_sent_dict(data, worker_id, key_var)\n",
    "    kappas = []\n",
    "    accuracies = []\n",
    "    \n",
    "    for (w1, w2) in worker_pairs:\n",
    "        common_set = worker_key_dict[w1].intersection(worker_key_dict[w2])\n",
    "        \n",
    "        if common_set == set():\n",
    "            continue\n",
    "            \n",
    "        temp1 = []\n",
    "        temp2 = []\n",
    "        \n",
    "        for key in common_set:\n",
    "            val3 = data[(data[key_var] == key) & \n",
    "                        (data[worker_id] == w1)][check_var].values\n",
    "            val4 = data[(data[key_var] == key) & \n",
    "                        (data[worker_id] == w2)][check_var].values \n",
    "            temp1.append(val3[0])\n",
    "            temp2.append(val4[0])\n",
    "                   \n",
    "        if temp1 == [] or temp2 == []:\n",
    "            continue\n",
    "\n",
    "        elif temp1==temp2:\n",
    "            kappas.append(1.0)\n",
    "        else:\n",
    "            kappas.append(kappa(temp1, temp2))\n",
    "        accuracies.append(accuracy(temp1, temp2))\n",
    "                \n",
    "    return kappas, accuracies"
   ]
  },
  {
   "cell_type": "code",
   "execution_count": 15,
   "metadata": {},
   "outputs": [
    {
     "name": "stdout",
     "output_type": "stream",
     "text": [
      "timeML_tag -- Completed!\n"
     ]
    }
   ],
   "source": [
    "kappas = {}\n",
    "accuracies = {}\n",
    "vars_temp = ['timeML_tag']\n",
    "for var in vars_temp:\n",
    "    kappas[var], accuracies[var] = average_metric_sklearn(pilot_data, 'worker_id', 'sent_token', var)\n",
    "    print(\"{} -- Completed!\".format(var))"
   ]
  },
  {
   "cell_type": "code",
   "execution_count": 16,
   "metadata": {},
   "outputs": [],
   "source": [
    "kappa_data = pd.DataFrame(dict([ (k,pd.Series(v)) for k,v in kappas.items() ]))\n",
    "acc_data = pd.DataFrame(dict([ (k,pd.Series(v)) for k,v in accuracies.items() ]))"
   ]
  },
  {
   "cell_type": "code",
   "execution_count": 17,
   "metadata": {},
   "outputs": [
    {
     "name": "stdout",
     "output_type": "stream",
     "text": [
      "Average Kappa for \"timeML_tag\" variable: 0.18573327643520413\n",
      "\n",
      "\n",
      "Average Accuracy for \"timeML_tag\" variable: 0.4454113924050633\n",
      "\n",
      "\n"
     ]
    }
   ],
   "source": [
    "print('Average Kappa for \"timeML_tag\" variable: {}'.format(np.mean(kappa_data['timeML_tag'])))\n",
    "print(\"\\n\")\n",
    "\n",
    "print('Average Accuracy for \"timeML_tag\" variable: {}'.format(np.mean(acc_data['timeML_tag'])))\n",
    "print(\"\\n\")"
   ]
  }
 ],
 "metadata": {
  "kernelspec": {
   "display_name": "Python 3",
   "language": "python",
   "name": "python3"
  },
  "language_info": {
   "codemirror_mode": {
    "name": "ipython",
    "version": 3
   },
   "file_extension": ".py",
   "mimetype": "text/x-python",
   "name": "python",
   "nbconvert_exporter": "python",
   "pygments_lexer": "ipython3",
   "version": "3.6.5"
  }
 },
 "nbformat": 4,
 "nbformat_minor": 2
}
