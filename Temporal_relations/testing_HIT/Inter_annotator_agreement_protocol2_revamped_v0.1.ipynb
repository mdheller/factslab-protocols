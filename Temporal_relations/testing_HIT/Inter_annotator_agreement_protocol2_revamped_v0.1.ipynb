{
 "cells": [
  {
   "cell_type": "code",
   "execution_count": 1,
   "metadata": {},
   "outputs": [],
   "source": [
    "import pandas as pd\n",
    "import numpy as np\n",
    "import json\n",
    "import matplotlib.pyplot as plt\n",
    "import seaborn as sns\n",
    "import itertools\n",
    "from nltk.metrics.agreement import AnnotationTask\n",
    "from sklearn.metrics import cohen_kappa_score as kappa\n",
    "from sklearn.metrics import accuracy_score as accuracy\n",
    "from sklearn.metrics import confusion_matrix\n",
    "from scipy.stats import spearmanr as spearman\n",
    "from itertools import combinations as combs\n",
    "from factslab.datastructures import ConstituencyTree, DependencyTree\n",
    "\n",
    "pilot_file = \"new_pilot_protocol2/Batch_3318370_batch_results.csv\"\n",
    "pilot_file_old_v = \"Batch_3220834_batch_results.csv\"\n",
    "sid_pilot_file = \"Batch_193054_batch_results_sid.csv\"\n",
    "ud_trees = '/Users/sidvash/facts_lab/UD_data_trees/structures.tsv'\n",
    "#sid_pilot_file = \"Batch_193054_batch_results_sid.csv\"\n",
    "\n",
    "pd.options.mode.chained_assignment = None "
   ]
  },
  {
   "cell_type": "markdown",
   "metadata": {},
   "source": [
    "## Sentence Mappings"
   ]
  },
  {
   "cell_type": "code",
   "execution_count": 2,
   "metadata": {},
   "outputs": [],
   "source": [
    "struct_dict = {}\n",
    "\n",
    "with open(ud_trees, 'r') as f:\n",
    "    structs_sents = [line.strip().split('\\t') for line in f]\n",
    "\n",
    "for sent_id, tree_list, sent in structs_sents:\n",
    "    struct_dict[sent_id] = DependencyTree.fromstring(tree_list)\n",
    "    struct_dict[sent_id].sentence = sent.split(\" \")"
   ]
  },
  {
   "cell_type": "markdown",
   "metadata": {},
   "source": [
    "## New Pilot Data"
   ]
  },
  {
   "cell_type": "code",
   "execution_count": 3,
   "metadata": {},
   "outputs": [],
   "source": [
    "data = pd.read_csv(pilot_file)\n",
    "data.columns = [c.replace('.', '_') for c in data.columns]\n",
    "\n",
    "#data.head()"
   ]
  },
  {
   "cell_type": "code",
   "execution_count": 4,
   "metadata": {},
   "outputs": [],
   "source": [
    "def extract_dataframe_new(data):\n",
    "    '''\n",
    "    Input: Pandas csv dataframe obtained from MTurk\n",
    "    \n",
    "    Output: Pandas dataframe levelled by (User x Sentenced_ID)\n",
    "    '''\n",
    "    data[\"dicts\"] = data[\"Input_var_arrays\"].map(lambda x: json.loads(x))\n",
    "    global_list = []\n",
    "    \n",
    "    for row in data.itertuples(): #Row for each HIT\n",
    "        for idx, local_dict in enumerate(row.dicts):  #idxs for each Question in the HIT\n",
    "            temp_dict = local_dict.copy()\n",
    "            len_pred1 = len(temp_dict['pred1'].split(\",\"))\n",
    "            len_pred2 = len(temp_dict['pred2'].split(\",\"))\n",
    "            var_conf = \"Answer_confidence_range\" + str(idx+1)\n",
    "                \n",
    "            lst_pred1_sliders = []\n",
    "            for i in range(len_pred1):\n",
    "                var_pred1 = \"Answer_sld_pred1_\" + str(idx+1) + \"_\" + str(i)\n",
    "                lst_pred1_sliders.append(getattr(row, var_pred1))\n",
    "                \n",
    "            temp_dict[\"pred1_sliders\"] = lst_pred1_sliders\n",
    "            \n",
    "            lst_pred2_sliders = []\n",
    "            for i in range(len_pred2):\n",
    "                var_pred2 = \"Answer_sld_pred2_\" + str(idx+1) + \"_\" + str(i)\n",
    "                lst_pred2_sliders.append(getattr(row, var_pred2))\n",
    "                \n",
    "            temp_dict[\"pred2_sliders\"] = lst_pred2_sliders\n",
    "            temp_dict[\"confidence\"] = getattr(row, var_conf)\n",
    "            temp_dict[\"worker_id\"] = row.WorkerId\n",
    "            temp_dict[\"hit_id\"] = row.HITId\n",
    "\n",
    "            global_list.append(temp_dict)\n",
    "        \n",
    "    return pd.DataFrame(global_list)\n",
    "\n",
    "def extract_dataframe_old(data):\n",
    "    '''\n",
    "    Input: Pandas csv dataframe obtained from MTurk\n",
    "    \n",
    "    Output: Pandas dataframe levelled by (User x Sentenced_ID)\n",
    "    '''\n",
    "    data[\"dicts\"] = data[\"Input_var_arrays\"].map(lambda x: json.loads(x))\n",
    "    global_list = []\n",
    "    \n",
    "    for row in data.itertuples():\n",
    "        for idx, local_dict in enumerate(row.dicts):\n",
    "            temp_dict = local_dict.copy()\n",
    "            var_pred1 = \"Answer_sld_pred1_\" + str(idx+1)\n",
    "            var_pred2 =  \"Answer_sld_pred2_\" + str(idx+1)\n",
    "            var_conf = \"Answer_confidence_range\" + str(idx+1)\n",
    "            \n",
    "            temp_dict[\"slider1_posn\"] = getattr(row, var_pred1)\n",
    "            temp_dict[\"slider2_posn\"] = getattr(row, var_pred2)\n",
    "            temp_dict[\"confidence\"] = getattr(row, var_conf)\n",
    "            temp_dict[\"worker_id\"] = row.WorkerId\n",
    "            temp_dict[\"hit_id\"] = row.HITId\n",
    "\n",
    "            global_list.append(temp_dict)\n",
    "            \n",
    "    return pd.DataFrame(global_list)\n",
    "\n",
    "def extract_sentence(row, sent_id):\n",
    "    sid, num = getattr(row, sent_id).split(\" \")\n",
    "    sent = sid + \" sent_\" + num\n",
    "    return len(struct_dict[sent].sentence)"
   ]
  },
  {
   "cell_type": "code",
   "execution_count": 5,
   "metadata": {},
   "outputs": [
    {
     "name": "stdout",
     "output_type": "stream",
     "text": [
      "(490, 16)\n"
     ]
    },
    {
     "data": {
      "text/html": [
       "<div>\n",
       "<style scoped>\n",
       "    .dataframe tbody tr th:only-of-type {\n",
       "        vertical-align: middle;\n",
       "    }\n",
       "\n",
       "    .dataframe tbody tr th {\n",
       "        vertical-align: top;\n",
       "    }\n",
       "\n",
       "    .dataframe thead th {\n",
       "        text-align: right;\n",
       "    }\n",
       "</style>\n",
       "<table border=\"1\" class=\"dataframe\">\n",
       "  <thead>\n",
       "    <tr style=\"text-align: right;\">\n",
       "      <th></th>\n",
       "      <th>split</th>\n",
       "      <th>worker_id</th>\n",
       "      <th>sentence_id_2</th>\n",
       "      <th>sentence_id_1</th>\n",
       "      <th>sentence</th>\n",
       "      <th>pred_token2</th>\n",
       "      <th>pred_token1</th>\n",
       "      <th>pred_root_token2</th>\n",
       "      <th>pred_root_token1</th>\n",
       "      <th>pred2_sliders</th>\n",
       "      <th>pred2</th>\n",
       "      <th>pred1_sliders</th>\n",
       "      <th>pred1</th>\n",
       "      <th>id</th>\n",
       "      <th>hit_id</th>\n",
       "      <th>confidence</th>\n",
       "    </tr>\n",
       "  </thead>\n",
       "  <tbody>\n",
       "    <tr>\n",
       "      <th>0</th>\n",
       "      <td>train</td>\n",
       "      <td>A2VNR6984SDFGQ</td>\n",
       "      <td>en-ud-train.conllu 6782</td>\n",
       "      <td>en-ud-train.conllu 6781</td>\n",
       "      <td>The CURSE OF GOD   &lt;span class=\\\"predicate1\\\"&gt;...</td>\n",
       "      <td>1_2,4,8,12_20_21_22_23</td>\n",
       "      <td>4,9</td>\n",
       "      <td>2,4,8,22</td>\n",
       "      <td>4,9</td>\n",
       "      <td>[47 - 65, 45 - 65, 28 - 39, 0 - 15]</td>\n",
       "      <td>is interesting,notice,shot,being the holy numb...</td>\n",
       "      <td>[4 - 25, 27 - 40]</td>\n",
       "      <td>carried,shot</td>\n",
       "      <td>1</td>\n",
       "      <td>3E22YV8GG2J5V93ZEJFDZSPHGEMNP1</td>\n",
       "      <td>3.0</td>\n",
       "    </tr>\n",
       "    <tr>\n",
       "      <th>1</th>\n",
       "      <td>train</td>\n",
       "      <td>A2VNR6984SDFGQ</td>\n",
       "      <td>en-ud-train.conllu 12378</td>\n",
       "      <td>en-ud-train.conllu 12377</td>\n",
       "      <td>If you   &lt;span class=\\\"predicate1\\\"&gt;&lt;sup&gt;1&lt;/su...</td>\n",
       "      <td>3</td>\n",
       "      <td>2,7,11,14,17,23,27,31,37,39,42,48,52,58_59_60_61</td>\n",
       "      <td>3</td>\n",
       "      <td>2,7,11,14,17,23,27,31,37,39,42,48,52,60</td>\n",
       "      <td>[58 - 77]</td>\n",
       "      <td>learn</td>\n",
       "      <td>[5 - 26, 7 - 25, 9 - 21, 22 - 25, 26 - 29, 28 ...</td>\n",
       "      <td>want,lie,say,operate,change,know,talking,recom...</td>\n",
       "      <td>2</td>\n",
       "      <td>3E22YV8GG2J5V93ZEJFDZSPHGEMNP1</td>\n",
       "      <td>2.0</td>\n",
       "    </tr>\n",
       "    <tr>\n",
       "      <th>2</th>\n",
       "      <td>train</td>\n",
       "      <td>A2VNR6984SDFGQ</td>\n",
       "      <td>en-ud-train.conllu 868</td>\n",
       "      <td>en-ud-train.conllu 867</td>\n",
       "      <td>An editorial in the church - owned Deseret Mor...</td>\n",
       "      <td>_null_</td>\n",
       "      <td>17,36,49,63,65</td>\n",
       "      <td>_null_</td>\n",
       "      <td>17,36,49,63,65</td>\n",
       "      <td>[nan]</td>\n",
       "      <td>_null_</td>\n",
       "      <td>[12 - 37, 20 - 34, 23 - 33, 33 - 49, 35 - 51]</td>\n",
       "      <td>acknowledged,stir,contributed,taken,dealing</td>\n",
       "      <td>3</td>\n",
       "      <td>3E22YV8GG2J5V93ZEJFDZSPHGEMNP1</td>\n",
       "      <td>2.0</td>\n",
       "    </tr>\n",
       "    <tr>\n",
       "      <th>3</th>\n",
       "      <td>train</td>\n",
       "      <td>A2VNR6984SDFGQ</td>\n",
       "      <td>en-ud-train.conllu 1093</td>\n",
       "      <td>en-ud-train.conllu 1092</td>\n",
       "      <td>I do   &lt;span class=\\\"predicate1\\\"&gt;&lt;sup&gt;1&lt;/sup&gt;...</td>\n",
       "      <td>4,12,14,16,25,26_27_28,33,37,45</td>\n",
       "      <td>2,10,20,22</td>\n",
       "      <td>4,12,14,16,25,28,33,37,45</td>\n",
       "      <td>2,10,20,22</td>\n",
       "      <td>[40 - 65, 50 - 69, 57 - 79, 63 - 77, 67 - 79, ...</td>\n",
       "      <td>subscribe,watch,listen,have,think,is patently ...</td>\n",
       "      <td>[7 - 28, 13 - 31, 21 - 31, 35 - 50]</td>\n",
       "      <td>get,haul,made,do</td>\n",
       "      <td>4</td>\n",
       "      <td>3E22YV8GG2J5V93ZEJFDZSPHGEMNP1</td>\n",
       "      <td>2.0</td>\n",
       "    </tr>\n",
       "    <tr>\n",
       "      <th>4</th>\n",
       "      <td>train</td>\n",
       "      <td>ACPPFTEDFO6Q7</td>\n",
       "      <td>en-ud-train.conllu 6782</td>\n",
       "      <td>en-ud-train.conllu 6781</td>\n",
       "      <td>The CURSE OF GOD   &lt;span class=\\\"predicate1\\\"&gt;...</td>\n",
       "      <td>1_2,4,8,12_20_21_22_23</td>\n",
       "      <td>4,9</td>\n",
       "      <td>2,4,8,22</td>\n",
       "      <td>4,9</td>\n",
       "      <td>[66 - 98, 66 - 76, 66 - 72, 72 - 98]</td>\n",
       "      <td>is interesting,notice,shot,being the holy numb...</td>\n",
       "      <td>[10 - 65, 70 - 72]</td>\n",
       "      <td>carried,shot</td>\n",
       "      <td>1</td>\n",
       "      <td>3E22YV8GG2J5V93ZEJFDZSPHGEMNP1</td>\n",
       "      <td>2.0</td>\n",
       "    </tr>\n",
       "  </tbody>\n",
       "</table>\n",
       "</div>"
      ],
      "text/plain": [
       "   split       worker_id             sentence_id_2             sentence_id_1  \\\n",
       "0  train  A2VNR6984SDFGQ   en-ud-train.conllu 6782   en-ud-train.conllu 6781   \n",
       "1  train  A2VNR6984SDFGQ  en-ud-train.conllu 12378  en-ud-train.conllu 12377   \n",
       "2  train  A2VNR6984SDFGQ    en-ud-train.conllu 868    en-ud-train.conllu 867   \n",
       "3  train  A2VNR6984SDFGQ   en-ud-train.conllu 1093   en-ud-train.conllu 1092   \n",
       "4  train   ACPPFTEDFO6Q7   en-ud-train.conllu 6782   en-ud-train.conllu 6781   \n",
       "\n",
       "                                            sentence  \\\n",
       "0  The CURSE OF GOD   <span class=\\\"predicate1\\\">...   \n",
       "1  If you   <span class=\\\"predicate1\\\"><sup>1</su...   \n",
       "2  An editorial in the church - owned Deseret Mor...   \n",
       "3  I do   <span class=\\\"predicate1\\\"><sup>1</sup>...   \n",
       "4  The CURSE OF GOD   <span class=\\\"predicate1\\\">...   \n",
       "\n",
       "                       pred_token2  \\\n",
       "0           1_2,4,8,12_20_21_22_23   \n",
       "1                                3   \n",
       "2                           _null_   \n",
       "3  4,12,14,16,25,26_27_28,33,37,45   \n",
       "4           1_2,4,8,12_20_21_22_23   \n",
       "\n",
       "                                        pred_token1  \\\n",
       "0                                               4,9   \n",
       "1  2,7,11,14,17,23,27,31,37,39,42,48,52,58_59_60_61   \n",
       "2                                    17,36,49,63,65   \n",
       "3                                        2,10,20,22   \n",
       "4                                               4,9   \n",
       "\n",
       "            pred_root_token2                         pred_root_token1  \\\n",
       "0                   2,4,8,22                                      4,9   \n",
       "1                          3  2,7,11,14,17,23,27,31,37,39,42,48,52,60   \n",
       "2                     _null_                           17,36,49,63,65   \n",
       "3  4,12,14,16,25,28,33,37,45                               2,10,20,22   \n",
       "4                   2,4,8,22                                      4,9   \n",
       "\n",
       "                                       pred2_sliders  \\\n",
       "0                [47 - 65, 45 - 65, 28 - 39, 0 - 15]   \n",
       "1                                          [58 - 77]   \n",
       "2                                              [nan]   \n",
       "3  [40 - 65, 50 - 69, 57 - 79, 63 - 77, 67 - 79, ...   \n",
       "4               [66 - 98, 66 - 76, 66 - 72, 72 - 98]   \n",
       "\n",
       "                                               pred2  \\\n",
       "0  is interesting,notice,shot,being the holy numb...   \n",
       "1                                              learn   \n",
       "2                                             _null_   \n",
       "3  subscribe,watch,listen,have,think,is patently ...   \n",
       "4  is interesting,notice,shot,being the holy numb...   \n",
       "\n",
       "                                       pred1_sliders  \\\n",
       "0                                  [4 - 25, 27 - 40]   \n",
       "1  [5 - 26, 7 - 25, 9 - 21, 22 - 25, 26 - 29, 28 ...   \n",
       "2      [12 - 37, 20 - 34, 23 - 33, 33 - 49, 35 - 51]   \n",
       "3                [7 - 28, 13 - 31, 21 - 31, 35 - 50]   \n",
       "4                                 [10 - 65, 70 - 72]   \n",
       "\n",
       "                                               pred1  id  \\\n",
       "0                                       carried,shot   1   \n",
       "1  want,lie,say,operate,change,know,talking,recom...   2   \n",
       "2        acknowledged,stir,contributed,taken,dealing   3   \n",
       "3                                   get,haul,made,do   4   \n",
       "4                                       carried,shot   1   \n",
       "\n",
       "                           hit_id  confidence  \n",
       "0  3E22YV8GG2J5V93ZEJFDZSPHGEMNP1         3.0  \n",
       "1  3E22YV8GG2J5V93ZEJFDZSPHGEMNP1         2.0  \n",
       "2  3E22YV8GG2J5V93ZEJFDZSPHGEMNP1         2.0  \n",
       "3  3E22YV8GG2J5V93ZEJFDZSPHGEMNP1         2.0  \n",
       "4  3E22YV8GG2J5V93ZEJFDZSPHGEMNP1         2.0  "
      ]
     },
     "execution_count": 5,
     "metadata": {},
     "output_type": "execute_result"
    }
   ],
   "source": [
    "pilot_data_new = extract_dataframe_new(data)\n",
    "pilot_data_new[\"split\"] = pilot_data_new.sentence_id_1.map(lambda x: x.split(\".\")[0].split(\"-\")[-1])\n",
    "pilot_data_new = pilot_data_new[pilot_data_new.columns[::-1]]\n",
    "print(pilot_data_new.shape)\n",
    "pilot_data_new.head()"
   ]
  },
  {
   "cell_type": "code",
   "execution_count": 6,
   "metadata": {},
   "outputs": [
    {
     "data": {
      "text/plain": [
       "train    435\n",
       "dev       55\n",
       "Name: split, dtype: int64"
      ]
     },
     "execution_count": 6,
     "metadata": {},
     "output_type": "execute_result"
    }
   ],
   "source": [
    "pilot_data_new.split.value_counts()"
   ]
  },
  {
   "cell_type": "markdown",
   "metadata": {},
   "source": [
    "## Transform data into two-predicates form"
   ]
  },
  {
   "cell_type": "code",
   "execution_count": 7,
   "metadata": {},
   "outputs": [],
   "source": [
    "data_dict = {}\n",
    "row_index = 0\n",
    "for row in pilot_data_new.itertuples():\n",
    "    lst1_tokens = lst1_preds = lst1_sliders = lst2_tokens = lst2_preds = lst2_sliders = []\n",
    "    ## Store pred_tokens and preds from Sentence 1\n",
    "    if row.pred_root_token1 != \"_null_\":\n",
    "        lst1_tokens = row.pred_root_token1.split(\",\")\n",
    "        lst1_preds = row.pred1.split(\",\")\n",
    "        lst1_sliders = row.pred1_sliders\n",
    "    ## Store pred_tokens and preds from Sentence 2\n",
    "    if row.pred_root_token2 != \"_null_\":\n",
    "        lst2_tokens = row.pred_root_token2.split(\",\")\n",
    "        lst2_preds = row.pred2.split(\",\")\n",
    "        lst2_sliders = row.pred2_sliders\n",
    "        \n",
    "    cnt_1, cnt_2 = len(lst1_tokens), len(lst2_tokens) \n",
    "    \n",
    "    ## Combine tokens and preds from both sentences\n",
    "    all_tokens = lst1_tokens + lst2_tokens\n",
    "    total_len = len(all_tokens)\n",
    "    all_preds = lst1_preds + lst2_preds\n",
    "    all_sliders = lst1_sliders + lst2_sliders\n",
    "    \n",
    "    \n",
    "    #Find combinations of 2 at a time\n",
    "    combin_idxs = combs(range(total_len), 2)\n",
    "    #Create a row for every combination\n",
    "    for idx1, idx2 in combin_idxs:\n",
    "        curr_cols= []\n",
    "        \n",
    "        curr_cols.append(row.split)  #split\n",
    "        curr_cols.append(row.worker_id) #worker\n",
    "        \n",
    "        if idx1< cnt_1 and idx2 < cnt_1:\n",
    "            curr_cols.append(row.sentence_id_1) #sid 1\n",
    "            curr_cols.append(row.sentence_id_1) #sid 2\n",
    "            sent_token = row.sentence_id_1 + \"_\" + str(all_tokens[idx1]) + \"_\" + str(all_tokens[idx2])\n",
    "            \n",
    "        elif idx1 >= cnt_1 and idx2 >= cnt_1:\n",
    "            curr_cols.append(row.sentence_id_2) #sid 1\n",
    "            curr_cols.append(row.sentence_id_2) #sid 2\n",
    "            sent_token = row.sentence_id_1 + \"_\" + str(all_tokens[idx1]) + \"_\" + str(all_tokens[idx2])\n",
    "            \n",
    "        else:\n",
    "            curr_cols.append(row.sentence_id_1) #sid 1\n",
    "            curr_cols.append(row.sentence_id_2) #sid 2\n",
    "            sent_token = row.sentence_id_1 + \"_\" + str(all_tokens[idx1]) +\"_\" + \\\n",
    "                                                    row.sentence_id_2 + \"_\" + str(all_tokens[idx2])\n",
    "            \n",
    "        curr_cols.append(sent_token) #sent_token\n",
    "        curr_cols.append(all_preds[idx1]) #pred1\n",
    "        curr_cols.append(all_preds[idx2]) #pred2\n",
    "        curr_cols.append(all_sliders[idx1]) #slider1_posn\n",
    "        curr_cols.append(all_sliders[idx2]) #slider2_posn\n",
    "        \n",
    "        \n",
    "        #pred_token\n",
    "        data_dict[row_index] = curr_cols\n",
    "        row_index+=1\n",
    "        "
   ]
  },
  {
   "cell_type": "code",
   "execution_count": 8,
   "metadata": {},
   "outputs": [
    {
     "data": {
      "text/html": [
       "<div>\n",
       "<style scoped>\n",
       "    .dataframe tbody tr th:only-of-type {\n",
       "        vertical-align: middle;\n",
       "    }\n",
       "\n",
       "    .dataframe tbody tr th {\n",
       "        vertical-align: top;\n",
       "    }\n",
       "\n",
       "    .dataframe thead th {\n",
       "        text-align: right;\n",
       "    }\n",
       "</style>\n",
       "<table border=\"1\" class=\"dataframe\">\n",
       "  <thead>\n",
       "    <tr style=\"text-align: right;\">\n",
       "      <th></th>\n",
       "      <th>split</th>\n",
       "      <th>worker_id</th>\n",
       "      <th>sentence_id_1</th>\n",
       "      <th>sentence_id_2</th>\n",
       "      <th>sent_token</th>\n",
       "      <th>pred1</th>\n",
       "      <th>pred2</th>\n",
       "      <th>slider1</th>\n",
       "      <th>slider2</th>\n",
       "    </tr>\n",
       "  </thead>\n",
       "  <tbody>\n",
       "    <tr>\n",
       "      <th>0</th>\n",
       "      <td>train</td>\n",
       "      <td>A2VNR6984SDFGQ</td>\n",
       "      <td>en-ud-train.conllu 6781</td>\n",
       "      <td>en-ud-train.conllu 6781</td>\n",
       "      <td>en-ud-train.conllu 6781_4_9</td>\n",
       "      <td>carried</td>\n",
       "      <td>shot</td>\n",
       "      <td>4 - 25</td>\n",
       "      <td>27 - 40</td>\n",
       "    </tr>\n",
       "    <tr>\n",
       "      <th>1</th>\n",
       "      <td>train</td>\n",
       "      <td>A2VNR6984SDFGQ</td>\n",
       "      <td>en-ud-train.conllu 6781</td>\n",
       "      <td>en-ud-train.conllu 6782</td>\n",
       "      <td>en-ud-train.conllu 6781_4_en-ud-train.conllu 6...</td>\n",
       "      <td>carried</td>\n",
       "      <td>is interesting</td>\n",
       "      <td>4 - 25</td>\n",
       "      <td>47 - 65</td>\n",
       "    </tr>\n",
       "    <tr>\n",
       "      <th>2</th>\n",
       "      <td>train</td>\n",
       "      <td>A2VNR6984SDFGQ</td>\n",
       "      <td>en-ud-train.conllu 6781</td>\n",
       "      <td>en-ud-train.conllu 6782</td>\n",
       "      <td>en-ud-train.conllu 6781_4_en-ud-train.conllu 6...</td>\n",
       "      <td>carried</td>\n",
       "      <td>notice</td>\n",
       "      <td>4 - 25</td>\n",
       "      <td>45 - 65</td>\n",
       "    </tr>\n",
       "    <tr>\n",
       "      <th>3</th>\n",
       "      <td>train</td>\n",
       "      <td>A2VNR6984SDFGQ</td>\n",
       "      <td>en-ud-train.conllu 6781</td>\n",
       "      <td>en-ud-train.conllu 6782</td>\n",
       "      <td>en-ud-train.conllu 6781_4_en-ud-train.conllu 6...</td>\n",
       "      <td>carried</td>\n",
       "      <td>shot</td>\n",
       "      <td>4 - 25</td>\n",
       "      <td>28 - 39</td>\n",
       "    </tr>\n",
       "    <tr>\n",
       "      <th>4</th>\n",
       "      <td>train</td>\n",
       "      <td>A2VNR6984SDFGQ</td>\n",
       "      <td>en-ud-train.conllu 6781</td>\n",
       "      <td>en-ud-train.conllu 6782</td>\n",
       "      <td>en-ud-train.conllu 6781_4_en-ud-train.conllu 6...</td>\n",
       "      <td>carried</td>\n",
       "      <td>being the holy numbers in</td>\n",
       "      <td>4 - 25</td>\n",
       "      <td>0 - 15</td>\n",
       "    </tr>\n",
       "  </tbody>\n",
       "</table>\n",
       "</div>"
      ],
      "text/plain": [
       "   split       worker_id            sentence_id_1            sentence_id_2  \\\n",
       "0  train  A2VNR6984SDFGQ  en-ud-train.conllu 6781  en-ud-train.conllu 6781   \n",
       "1  train  A2VNR6984SDFGQ  en-ud-train.conllu 6781  en-ud-train.conllu 6782   \n",
       "2  train  A2VNR6984SDFGQ  en-ud-train.conllu 6781  en-ud-train.conllu 6782   \n",
       "3  train  A2VNR6984SDFGQ  en-ud-train.conllu 6781  en-ud-train.conllu 6782   \n",
       "4  train  A2VNR6984SDFGQ  en-ud-train.conllu 6781  en-ud-train.conllu 6782   \n",
       "\n",
       "                                          sent_token    pred1  \\\n",
       "0                        en-ud-train.conllu 6781_4_9  carried   \n",
       "1  en-ud-train.conllu 6781_4_en-ud-train.conllu 6...  carried   \n",
       "2  en-ud-train.conllu 6781_4_en-ud-train.conllu 6...  carried   \n",
       "3  en-ud-train.conllu 6781_4_en-ud-train.conllu 6...  carried   \n",
       "4  en-ud-train.conllu 6781_4_en-ud-train.conllu 6...  carried   \n",
       "\n",
       "                       pred2 slider1  slider2  \n",
       "0                       shot  4 - 25  27 - 40  \n",
       "1             is interesting  4 - 25  47 - 65  \n",
       "2                     notice  4 - 25  45 - 65  \n",
       "3                       shot  4 - 25  28 - 39  \n",
       "4  being the holy numbers in  4 - 25   0 - 15  "
      ]
     },
     "execution_count": 8,
     "metadata": {},
     "output_type": "execute_result"
    }
   ],
   "source": [
    "cols = ['split', 'worker_id', 'sentence_id_1', 'sentence_id_2', \"sent_token\", \"pred1\", \"pred2\", \"slider1\", \"slider2\"]\n",
    "pilot_data_p2 = pd.DataFrame.from_dict(data_dict, orient='index', columns = cols)\n",
    "pilot_data_p2.head()"
   ]
  },
  {
   "cell_type": "code",
   "execution_count": 9,
   "metadata": {},
   "outputs": [
    {
     "data": {
      "text/plain": [
       "(12850, 9)"
      ]
     },
     "execution_count": 9,
     "metadata": {},
     "output_type": "execute_result"
    }
   ],
   "source": [
    "pilot_data_p2.shape"
   ]
  },
  {
   "cell_type": "markdown",
   "metadata": {},
   "source": [
    "### Extract sent_tokens from older version"
   ]
  },
  {
   "cell_type": "code",
   "execution_count": 10,
   "metadata": {},
   "outputs": [
    {
     "data": {
      "text/html": [
       "<div>\n",
       "<style scoped>\n",
       "    .dataframe tbody tr th:only-of-type {\n",
       "        vertical-align: middle;\n",
       "    }\n",
       "\n",
       "    .dataframe tbody tr th {\n",
       "        vertical-align: top;\n",
       "    }\n",
       "\n",
       "    .dataframe thead th {\n",
       "        text-align: right;\n",
       "    }\n",
       "</style>\n",
       "<table border=\"1\" class=\"dataframe\">\n",
       "  <thead>\n",
       "    <tr style=\"text-align: right;\">\n",
       "      <th></th>\n",
       "      <th>worker_id</th>\n",
       "      <th>slider2_posn</th>\n",
       "      <th>slider1_posn</th>\n",
       "      <th>sentence_id</th>\n",
       "      <th>sentence</th>\n",
       "      <th>pred_token2</th>\n",
       "      <th>pred_token1</th>\n",
       "      <th>pred2</th>\n",
       "      <th>pred1</th>\n",
       "      <th>id</th>\n",
       "      <th>hit_id</th>\n",
       "      <th>confidence</th>\n",
       "      <th>sent_token</th>\n",
       "    </tr>\n",
       "  </thead>\n",
       "  <tbody>\n",
       "    <tr>\n",
       "      <th>0</th>\n",
       "      <td>AURYD2FH3FUOQ</td>\n",
       "      <td>27 - 46</td>\n",
       "      <td>39 - 46</td>\n",
       "      <td>en-ud-train.conllu 13</td>\n",
       "      <td>On Wednesday guerrillas had  &lt;span class=\\\"pre...</td>\n",
       "      <td>16</td>\n",
       "      <td>4</td>\n",
       "      <td>way</td>\n",
       "      <td>kidnapped</td>\n",
       "      <td>1</td>\n",
       "      <td>3MQY1YVHS3P8GHXKJ4IHY2G1UY12BZ</td>\n",
       "      <td>3</td>\n",
       "      <td>en-ud-train.conllu 13_4_16</td>\n",
       "    </tr>\n",
       "    <tr>\n",
       "      <th>1</th>\n",
       "      <td>AURYD2FH3FUOQ</td>\n",
       "      <td>6 - 17</td>\n",
       "      <td>25 - 41</td>\n",
       "      <td>en-ud-train.conllu 46</td>\n",
       "      <td>Yesterday there were tens of them  &lt;span class...</td>\n",
       "      <td>26</td>\n",
       "      <td>6</td>\n",
       "      <td>leave</td>\n",
       "      <td>putting</td>\n",
       "      <td>2</td>\n",
       "      <td>3MQY1YVHS3P8GHXKJ4IHY2G1UY12BZ</td>\n",
       "      <td>1</td>\n",
       "      <td>en-ud-train.conllu 46_6_26</td>\n",
       "    </tr>\n",
       "    <tr>\n",
       "      <th>2</th>\n",
       "      <td>AURYD2FH3FUOQ</td>\n",
       "      <td>19 - 26</td>\n",
       "      <td>35 - 37</td>\n",
       "      <td>en-ud-train.conllu 60</td>\n",
       "      <td>He did once  &lt;span class=\\\"predicate\\\"&gt; make&lt;/...</td>\n",
       "      <td>14</td>\n",
       "      <td>3</td>\n",
       "      <td>shooting</td>\n",
       "      <td>make</td>\n",
       "      <td>3</td>\n",
       "      <td>3MQY1YVHS3P8GHXKJ4IHY2G1UY12BZ</td>\n",
       "      <td>0</td>\n",
       "      <td>en-ud-train.conllu 60_3_14</td>\n",
       "    </tr>\n",
       "    <tr>\n",
       "      <th>3</th>\n",
       "      <td>AURYD2FH3FUOQ</td>\n",
       "      <td>57 - 80</td>\n",
       "      <td>35 - 36</td>\n",
       "      <td>en-ud-train.conllu 65</td>\n",
       "      <td>He  &lt;span class=\\\"predicate\\\"&gt; added&lt;/span&gt;  t...</td>\n",
       "      <td>57</td>\n",
       "      <td>1</td>\n",
       "      <td>dragged</td>\n",
       "      <td>added</td>\n",
       "      <td>4</td>\n",
       "      <td>3MQY1YVHS3P8GHXKJ4IHY2G1UY12BZ</td>\n",
       "      <td>2</td>\n",
       "      <td>en-ud-train.conllu 65_1_57</td>\n",
       "    </tr>\n",
       "    <tr>\n",
       "      <th>4</th>\n",
       "      <td>AURYD2FH3FUOQ</td>\n",
       "      <td>15 - 16</td>\n",
       "      <td>10 - 16</td>\n",
       "      <td>en-ud-train.conllu 118</td>\n",
       "      <td>As a child in the 50&amp;#39;s I  &lt;span class=\\\"pr...</td>\n",
       "      <td>34</td>\n",
       "      <td>7</td>\n",
       "      <td>started</td>\n",
       "      <td>had</td>\n",
       "      <td>5</td>\n",
       "      <td>3MQY1YVHS3P8GHXKJ4IHY2G1UY12BZ</td>\n",
       "      <td>2</td>\n",
       "      <td>en-ud-train.conllu 118_7_34</td>\n",
       "    </tr>\n",
       "  </tbody>\n",
       "</table>\n",
       "</div>"
      ],
      "text/plain": [
       "       worker_id slider2_posn slider1_posn             sentence_id  \\\n",
       "0  AURYD2FH3FUOQ      27 - 46      39 - 46   en-ud-train.conllu 13   \n",
       "1  AURYD2FH3FUOQ       6 - 17      25 - 41   en-ud-train.conllu 46   \n",
       "2  AURYD2FH3FUOQ      19 - 26      35 - 37   en-ud-train.conllu 60   \n",
       "3  AURYD2FH3FUOQ      57 - 80      35 - 36   en-ud-train.conllu 65   \n",
       "4  AURYD2FH3FUOQ      15 - 16      10 - 16  en-ud-train.conllu 118   \n",
       "\n",
       "                                            sentence pred_token2 pred_token1  \\\n",
       "0  On Wednesday guerrillas had  <span class=\\\"pre...          16           4   \n",
       "1  Yesterday there were tens of them  <span class...          26           6   \n",
       "2  He did once  <span class=\\\"predicate\\\"> make</...          14           3   \n",
       "3  He  <span class=\\\"predicate\\\"> added</span>  t...          57           1   \n",
       "4  As a child in the 50&#39;s I  <span class=\\\"pr...          34           7   \n",
       "\n",
       "      pred2      pred1  id                          hit_id  confidence  \\\n",
       "0       way  kidnapped   1  3MQY1YVHS3P8GHXKJ4IHY2G1UY12BZ           3   \n",
       "1     leave    putting   2  3MQY1YVHS3P8GHXKJ4IHY2G1UY12BZ           1   \n",
       "2  shooting       make   3  3MQY1YVHS3P8GHXKJ4IHY2G1UY12BZ           0   \n",
       "3   dragged      added   4  3MQY1YVHS3P8GHXKJ4IHY2G1UY12BZ           2   \n",
       "4   started        had   5  3MQY1YVHS3P8GHXKJ4IHY2G1UY12BZ           2   \n",
       "\n",
       "                    sent_token  \n",
       "0   en-ud-train.conllu 13_4_16  \n",
       "1   en-ud-train.conllu 46_6_26  \n",
       "2   en-ud-train.conllu 60_3_14  \n",
       "3   en-ud-train.conllu 65_1_57  \n",
       "4  en-ud-train.conllu 118_7_34  "
      ]
     },
     "execution_count": 10,
     "metadata": {},
     "output_type": "execute_result"
    }
   ],
   "source": [
    "data = pd.read_csv(pilot_file_old_v)\n",
    "data.columns = [c.replace('.', '_') for c in data.columns]\n",
    "\n",
    "pilot_data_old = extract_dataframe_old(data)\n",
    "\n",
    "#Re-arrange the order \n",
    "cols = list(pilot_data_old.columns)\n",
    "#pilot_data_old = pilot_data_old[pilot_data_old.columns[::-1]].drop('sentence', axis=1)\n",
    "pilot_data_old = pilot_data_old[pilot_data_old.columns[::-1]]\n",
    "\n",
    "\n",
    "#Drop start, end, instant variables that were stored in the json data\n",
    "pilot_data_old = pilot_data_old.drop(['start_pred1', 'start_pred2', 'end_pred1', 'end_pred2',\n",
    "                             'instant_pred1', 'instant_pred2'], axis=1)\n",
    "\n",
    "\n",
    "#pilot_data_old.replace('na',np.NaN, inplace=True)\n",
    "pilot_data_old['sent_token'] = pilot_data_old['sentence_id'] + \"_\" +\\\n",
    "                            pilot_data_old['pred_token1'].map(lambda x: str(x)) + \"_\" +\\\n",
    "                             pilot_data_old['pred_token2'].map(lambda x: str(x))\n",
    "pilot_data_old.head()"
   ]
  },
  {
   "cell_type": "code",
   "execution_count": 11,
   "metadata": {},
   "outputs": [],
   "source": [
    "sent_token_set = set(pilot_data_old.sent_token.values)"
   ]
  },
  {
   "cell_type": "markdown",
   "metadata": {},
   "source": [
    "## New dataset with same sent_tokens as older version"
   ]
  },
  {
   "cell_type": "code",
   "execution_count": 12,
   "metadata": {},
   "outputs": [
    {
     "name": "stdout",
     "output_type": "stream",
     "text": [
      "(475, 9)\n"
     ]
    },
    {
     "data": {
      "text/html": [
       "<div>\n",
       "<style scoped>\n",
       "    .dataframe tbody tr th:only-of-type {\n",
       "        vertical-align: middle;\n",
       "    }\n",
       "\n",
       "    .dataframe tbody tr th {\n",
       "        vertical-align: top;\n",
       "    }\n",
       "\n",
       "    .dataframe thead th {\n",
       "        text-align: right;\n",
       "    }\n",
       "</style>\n",
       "<table border=\"1\" class=\"dataframe\">\n",
       "  <thead>\n",
       "    <tr style=\"text-align: right;\">\n",
       "      <th></th>\n",
       "      <th>split</th>\n",
       "      <th>worker_id</th>\n",
       "      <th>sentence_id_1</th>\n",
       "      <th>sentence_id_2</th>\n",
       "      <th>sent_token</th>\n",
       "      <th>pred1</th>\n",
       "      <th>pred2</th>\n",
       "      <th>slider1</th>\n",
       "      <th>slider2</th>\n",
       "    </tr>\n",
       "  </thead>\n",
       "  <tbody>\n",
       "    <tr>\n",
       "      <th>0</th>\n",
       "      <td>train</td>\n",
       "      <td>A2VNR6984SDFGQ</td>\n",
       "      <td>en-ud-train.conllu 6781</td>\n",
       "      <td>en-ud-train.conllu 6781</td>\n",
       "      <td>en-ud-train.conllu 6781_4_9</td>\n",
       "      <td>carried</td>\n",
       "      <td>shot</td>\n",
       "      <td>4 - 25</td>\n",
       "      <td>27 - 40</td>\n",
       "    </tr>\n",
       "    <tr>\n",
       "      <th>1</th>\n",
       "      <td>train</td>\n",
       "      <td>A2VNR6984SDFGQ</td>\n",
       "      <td>en-ud-train.conllu 12377</td>\n",
       "      <td>en-ud-train.conllu 12377</td>\n",
       "      <td>en-ud-train.conllu 12377_37_42</td>\n",
       "      <td>says</td>\n",
       "      <td>need</td>\n",
       "      <td>35 - 55</td>\n",
       "      <td>44 - 65</td>\n",
       "    </tr>\n",
       "    <tr>\n",
       "      <th>2</th>\n",
       "      <td>train</td>\n",
       "      <td>A2VNR6984SDFGQ</td>\n",
       "      <td>en-ud-train.conllu 867</td>\n",
       "      <td>en-ud-train.conllu 867</td>\n",
       "      <td>en-ud-train.conllu 867_17_49</td>\n",
       "      <td>acknowledged</td>\n",
       "      <td>contributed</td>\n",
       "      <td>12 - 37</td>\n",
       "      <td>23 - 33</td>\n",
       "    </tr>\n",
       "    <tr>\n",
       "      <th>3</th>\n",
       "      <td>train</td>\n",
       "      <td>A2VNR6984SDFGQ</td>\n",
       "      <td>en-ud-train.conllu 1092</td>\n",
       "      <td>en-ud-train.conllu 1092</td>\n",
       "      <td>en-ud-train.conllu 1092_2_10</td>\n",
       "      <td>get</td>\n",
       "      <td>haul</td>\n",
       "      <td>7 - 28</td>\n",
       "      <td>13 - 31</td>\n",
       "    </tr>\n",
       "    <tr>\n",
       "      <th>4</th>\n",
       "      <td>train</td>\n",
       "      <td>ACPPFTEDFO6Q7</td>\n",
       "      <td>en-ud-train.conllu 6781</td>\n",
       "      <td>en-ud-train.conllu 6781</td>\n",
       "      <td>en-ud-train.conllu 6781_4_9</td>\n",
       "      <td>carried</td>\n",
       "      <td>shot</td>\n",
       "      <td>10 - 65</td>\n",
       "      <td>70 - 72</td>\n",
       "    </tr>\n",
       "  </tbody>\n",
       "</table>\n",
       "</div>"
      ],
      "text/plain": [
       "   split       worker_id             sentence_id_1             sentence_id_2  \\\n",
       "0  train  A2VNR6984SDFGQ   en-ud-train.conllu 6781   en-ud-train.conllu 6781   \n",
       "1  train  A2VNR6984SDFGQ  en-ud-train.conllu 12377  en-ud-train.conllu 12377   \n",
       "2  train  A2VNR6984SDFGQ    en-ud-train.conllu 867    en-ud-train.conllu 867   \n",
       "3  train  A2VNR6984SDFGQ   en-ud-train.conllu 1092   en-ud-train.conllu 1092   \n",
       "4  train   ACPPFTEDFO6Q7   en-ud-train.conllu 6781   en-ud-train.conllu 6781   \n",
       "\n",
       "                       sent_token         pred1        pred2  slider1  slider2  \n",
       "0     en-ud-train.conllu 6781_4_9       carried         shot   4 - 25  27 - 40  \n",
       "1  en-ud-train.conllu 12377_37_42          says         need  35 - 55  44 - 65  \n",
       "2    en-ud-train.conllu 867_17_49  acknowledged  contributed  12 - 37  23 - 33  \n",
       "3    en-ud-train.conllu 1092_2_10           get         haul   7 - 28  13 - 31  \n",
       "4     en-ud-train.conllu 6781_4_9       carried         shot  10 - 65  70 - 72  "
      ]
     },
     "execution_count": 12,
     "metadata": {},
     "output_type": "execute_result"
    }
   ],
   "source": [
    "pilot_data_p2_mod = pilot_data_p2.loc[pilot_data_p2['sent_token'].isin(sent_token_set)]\n",
    "print(pilot_data_p2_mod.shape)\n",
    "pilot_data_p2_mod.index = range(len(pilot_data_p2_mod.index))\n",
    "pilot_data_p2_mod.head()"
   ]
  },
  {
   "cell_type": "markdown",
   "metadata": {},
   "source": [
    "## Analysis"
   ]
  },
  {
   "cell_type": "code",
   "execution_count": 13,
   "metadata": {},
   "outputs": [],
   "source": [
    "def time_ml_tag(row, var1, var2):\n",
    "    '''\n",
    "    Creates time ML tags from slider positions of two events \n",
    "    \n",
    "    Eg: EVENT 1 \"is before\" EVENT2\n",
    "    \n",
    "    Eg: Relatins: is before\n",
    "    '''\n",
    "    ans = \"\"\n",
    "    \n",
    "    slider1 = getattr(row, var1)\n",
    "    slider2 = getattr(row, var2)\n",
    "    \n",
    "    event1 = [int(x) for x in slider1.split(\"-\")]\n",
    "    event2 = [int(x) for x in slider2.split(\"-\")]\n",
    "    \n",
    "    if (event1[0] == event2[0]) and (event1[1] == event2[1]):\n",
    "        ans = \"simultaneous\"\n",
    "        \n",
    "    elif event1[1] <= event2[0]:\n",
    "        ans = \"before\"\n",
    "    \n",
    "    elif event1[0] >= event2[1]:\n",
    "        ans = \"after\"\n",
    "        \n",
    "    elif event1[1] >= event2[1] and event1[0] <= event2[0]:\n",
    "        ans = \"includes\"\n",
    "        \n",
    "    elif event1[1] <= event2[1] and event1[0] >= event2[0]:\n",
    "        ans = \"is_included\"\n",
    "    \n",
    "    elif event1[0] < event2[0] and event1[1] > event2[0]:\n",
    "        ans = \"before_cont\"\n",
    "        \n",
    "    elif event1[0] < event2[1] and event1[1] > event2[1]:\n",
    "        ans = \"after_cont\"\n",
    "    \n",
    "    else: \n",
    "        ans = \"other\"\n",
    "    \n",
    "    return ans"
   ]
  },
  {
   "cell_type": "code",
   "execution_count": 14,
   "metadata": {},
   "outputs": [],
   "source": [
    "pilot_data_p2_mod['timeML_tag'] = pilot_data_p2_mod.apply(lambda row: time_ml_tag(row, 'slider1', 'slider2'), axis=1)"
   ]
  },
  {
   "cell_type": "code",
   "execution_count": 15,
   "metadata": {},
   "outputs": [
    {
     "data": {
      "text/html": [
       "<div>\n",
       "<style scoped>\n",
       "    .dataframe tbody tr th:only-of-type {\n",
       "        vertical-align: middle;\n",
       "    }\n",
       "\n",
       "    .dataframe tbody tr th {\n",
       "        vertical-align: top;\n",
       "    }\n",
       "\n",
       "    .dataframe thead th {\n",
       "        text-align: right;\n",
       "    }\n",
       "</style>\n",
       "<table border=\"1\" class=\"dataframe\">\n",
       "  <thead>\n",
       "    <tr style=\"text-align: right;\">\n",
       "      <th></th>\n",
       "      <th>split</th>\n",
       "      <th>worker_id</th>\n",
       "      <th>sentence_id_1</th>\n",
       "      <th>sentence_id_2</th>\n",
       "      <th>sent_token</th>\n",
       "      <th>pred1</th>\n",
       "      <th>pred2</th>\n",
       "      <th>slider1</th>\n",
       "      <th>slider2</th>\n",
       "      <th>timeML_tag</th>\n",
       "    </tr>\n",
       "  </thead>\n",
       "  <tbody>\n",
       "    <tr>\n",
       "      <th>0</th>\n",
       "      <td>train</td>\n",
       "      <td>A2VNR6984SDFGQ</td>\n",
       "      <td>en-ud-train.conllu 6781</td>\n",
       "      <td>en-ud-train.conllu 6781</td>\n",
       "      <td>en-ud-train.conllu 6781_4_9</td>\n",
       "      <td>carried</td>\n",
       "      <td>shot</td>\n",
       "      <td>4 - 25</td>\n",
       "      <td>27 - 40</td>\n",
       "      <td>before</td>\n",
       "    </tr>\n",
       "    <tr>\n",
       "      <th>1</th>\n",
       "      <td>train</td>\n",
       "      <td>A2VNR6984SDFGQ</td>\n",
       "      <td>en-ud-train.conllu 12377</td>\n",
       "      <td>en-ud-train.conllu 12377</td>\n",
       "      <td>en-ud-train.conllu 12377_37_42</td>\n",
       "      <td>says</td>\n",
       "      <td>need</td>\n",
       "      <td>35 - 55</td>\n",
       "      <td>44 - 65</td>\n",
       "      <td>before_cont</td>\n",
       "    </tr>\n",
       "    <tr>\n",
       "      <th>2</th>\n",
       "      <td>train</td>\n",
       "      <td>A2VNR6984SDFGQ</td>\n",
       "      <td>en-ud-train.conllu 867</td>\n",
       "      <td>en-ud-train.conllu 867</td>\n",
       "      <td>en-ud-train.conllu 867_17_49</td>\n",
       "      <td>acknowledged</td>\n",
       "      <td>contributed</td>\n",
       "      <td>12 - 37</td>\n",
       "      <td>23 - 33</td>\n",
       "      <td>includes</td>\n",
       "    </tr>\n",
       "    <tr>\n",
       "      <th>3</th>\n",
       "      <td>train</td>\n",
       "      <td>A2VNR6984SDFGQ</td>\n",
       "      <td>en-ud-train.conllu 1092</td>\n",
       "      <td>en-ud-train.conllu 1092</td>\n",
       "      <td>en-ud-train.conllu 1092_2_10</td>\n",
       "      <td>get</td>\n",
       "      <td>haul</td>\n",
       "      <td>7 - 28</td>\n",
       "      <td>13 - 31</td>\n",
       "      <td>before_cont</td>\n",
       "    </tr>\n",
       "    <tr>\n",
       "      <th>4</th>\n",
       "      <td>train</td>\n",
       "      <td>ACPPFTEDFO6Q7</td>\n",
       "      <td>en-ud-train.conllu 6781</td>\n",
       "      <td>en-ud-train.conllu 6781</td>\n",
       "      <td>en-ud-train.conllu 6781_4_9</td>\n",
       "      <td>carried</td>\n",
       "      <td>shot</td>\n",
       "      <td>10 - 65</td>\n",
       "      <td>70 - 72</td>\n",
       "      <td>before</td>\n",
       "    </tr>\n",
       "  </tbody>\n",
       "</table>\n",
       "</div>"
      ],
      "text/plain": [
       "   split       worker_id             sentence_id_1             sentence_id_2  \\\n",
       "0  train  A2VNR6984SDFGQ   en-ud-train.conllu 6781   en-ud-train.conllu 6781   \n",
       "1  train  A2VNR6984SDFGQ  en-ud-train.conllu 12377  en-ud-train.conllu 12377   \n",
       "2  train  A2VNR6984SDFGQ    en-ud-train.conllu 867    en-ud-train.conllu 867   \n",
       "3  train  A2VNR6984SDFGQ   en-ud-train.conllu 1092   en-ud-train.conllu 1092   \n",
       "4  train   ACPPFTEDFO6Q7   en-ud-train.conllu 6781   en-ud-train.conllu 6781   \n",
       "\n",
       "                       sent_token         pred1        pred2  slider1  \\\n",
       "0     en-ud-train.conllu 6781_4_9       carried         shot   4 - 25   \n",
       "1  en-ud-train.conllu 12377_37_42          says         need  35 - 55   \n",
       "2    en-ud-train.conllu 867_17_49  acknowledged  contributed  12 - 37   \n",
       "3    en-ud-train.conllu 1092_2_10           get         haul   7 - 28   \n",
       "4     en-ud-train.conllu 6781_4_9       carried         shot  10 - 65   \n",
       "\n",
       "   slider2   timeML_tag  \n",
       "0  27 - 40       before  \n",
       "1  44 - 65  before_cont  \n",
       "2  23 - 33     includes  \n",
       "3  13 - 31  before_cont  \n",
       "4  70 - 72       before  "
      ]
     },
     "execution_count": 15,
     "metadata": {},
     "output_type": "execute_result"
    }
   ],
   "source": [
    "pilot_data_p2_mod.head()"
   ]
  },
  {
   "cell_type": "code",
   "execution_count": 16,
   "metadata": {},
   "outputs": [
    {
     "name": "stdout",
     "output_type": "stream",
     "text": [
      "includes        119\n",
      "before           94\n",
      "is_included      83\n",
      "before_cont      73\n",
      "after_cont       43\n",
      "after            34\n",
      "simultaneous     29\n",
      "Name: timeML_tag, dtype: int64\n"
     ]
    },
    {
     "name": "stderr",
     "output_type": "stream",
     "text": [
      "/Users/sidvash/anaconda/lib/python3.6/site-packages/seaborn/categorical.py:1428: FutureWarning: remove_na is deprecated and is a private function. Do not use.\n",
      "  stat_data = remove_na(group_data)\n"
     ]
    },
    {
     "data": {
      "image/png": "[encoded data removed]",
      "text/plain": [
       "<Figure size 576x396 with 1 Axes>"
      ]
     },
     "metadata": {},
     "output_type": "display_data"
    }
   ],
   "source": [
    "print(pilot_data_p2_mod.timeML_tag.value_counts())\n",
    "sns.countplot(x='timeML_tag', data=pilot_data_p2_mod)\n",
    "plt.show()\n"
   ]
  },
  {
   "cell_type": "code",
   "execution_count": 17,
   "metadata": {},
   "outputs": [],
   "source": [
    "pilot_data = pilot_data_p2_mod"
   ]
  },
  {
   "cell_type": "code",
   "execution_count": 18,
   "metadata": {},
   "outputs": [],
   "source": [
    "#sns.countplot(x='confidence', data=pilot_data)\n",
    "#plt.show()\n"
   ]
  },
  {
   "cell_type": "markdown",
   "metadata": {},
   "source": [
    "## Inter-Annotator Agreement"
   ]
  },
  {
   "cell_type": "code",
   "execution_count": 19,
   "metadata": {},
   "outputs": [
    {
     "name": "stdout",
     "output_type": "stream",
     "text": [
      "Number of annotators : 43\n"
     ]
    }
   ],
   "source": [
    "print(\"Number of annotators : {}\".format(len(pilot_data.worker_id.unique())))"
   ]
  },
  {
   "cell_type": "markdown",
   "metadata": {},
   "source": [
    "#### Raw Agreement"
   ]
  },
  {
   "cell_type": "code",
   "execution_count": 20,
   "metadata": {},
   "outputs": [],
   "source": [
    "def calc_raw_agreement(data, key_var, check_var, degree=5):\n",
    "    '''\n",
    "    Input: \n",
    "    1. data: Pandas dataframe\n",
    "    2. key_var: variable based on which raw agreement is to be calculated\n",
    "    3. check_var: vaiable on which raw agreement is calculated\n",
    "    4. degree: Degree to which annotators agree: \n",
    "                5 means all annotators had the same answer\n",
    "                4 means >=4 annotators had the same answer\n",
    "                3 means >=3 annotators had the same answer\n",
    "    \n",
    "    '''\n",
    "    print(\"####### Raw Count for {} ###########\".format(check_var))\n",
    "    ids = set(list(data[key_var].values))\n",
    "\n",
    "    total_count = len(ids)\n",
    "    raw_count = 0\n",
    "    keys = []\n",
    "    \n",
    "    for iden in ids:\n",
    "        temp = list(data[data[key_var] == iden][check_var].values)\n",
    "        if temp.count(max(set(temp), key=temp.count)) >= degree:\n",
    "                raw_count += 1\n",
    "                keys.append(iden)\n",
    "\n",
    "    agreement = (raw_count/total_count)*100\n",
    "    \n",
    "    print(\"Total count of unique {} is {}\".format(key_var, total_count))\n",
    "    print(\"Raw count of matched for {} is {}\".format(check_var, raw_count))\n",
    "    print(\"Inter-annotator agreement for {} is {}%\".format(check_var, agreement))\n",
    "    print(\"\\n\")\n",
    "    \n",
    "    return agreement, keys\n",
    "\n"
   ]
  },
  {
   "cell_type": "code",
   "execution_count": 21,
   "metadata": {},
   "outputs": [
    {
     "name": "stdout",
     "output_type": "stream",
     "text": [
      "####### Raw Count for timeML_tag ###########\n",
      "Total count of unique sent_token is 95\n",
      "Raw count of matched for timeML_tag is 0\n",
      "Inter-annotator agreement for timeML_tag is 0.0%\n",
      "\n",
      "\n",
      "\n",
      "\n",
      "####### Raw Count for timeML_tag ###########\n",
      "Total count of unique sent_token is 95\n",
      "Raw count of matched for timeML_tag is 6\n",
      "Inter-annotator agreement for timeML_tag is 6.315789473684211%\n",
      "\n",
      "\n",
      "\n",
      "\n",
      "####### Raw Count for timeML_tag ###########\n",
      "Total count of unique sent_token is 95\n",
      "Raw count of matched for timeML_tag is 35\n",
      "Inter-annotator agreement for timeML_tag is 36.84210526315789%\n",
      "\n",
      "\n",
      "\n",
      "\n",
      "####### Raw Count for timeML_tag ###########\n",
      "Total count of unique sent_token is 95\n",
      "Raw count of matched for timeML_tag is 88\n",
      "Inter-annotator agreement for timeML_tag is 92.63157894736842%\n",
      "\n",
      "\n"
     ]
    }
   ],
   "source": [
    "a1, key_inst = calc_raw_agreement(pilot_data, 'sent_token', 'timeML_tag', degree=5)\n",
    "print(\"\\n\")\n",
    "a2, key_inst = calc_raw_agreement(pilot_data, 'sent_token', 'timeML_tag', degree=4)\n",
    "print(\"\\n\")\n",
    "a3, key_inst = calc_raw_agreement(pilot_data, 'sent_token', 'timeML_tag', degree=3)\n",
    "print(\"\\n\")\n",
    "a4, key_inst = calc_raw_agreement(pilot_data, 'sent_token', 'timeML_tag', degree=2)"
   ]
  },
  {
   "cell_type": "code",
   "execution_count": 22,
   "metadata": {},
   "outputs": [
    {
     "data": {
      "image/png": "[encoded data removed]",
      "text/plain": [
       "<Figure size 576x396 with 1 Axes>"
      ]
     },
     "metadata": {},
     "output_type": "display_data"
    }
   ],
   "source": [
    "agrees = [a1, a2, a3, a4]\n",
    "degree = ['5', '4', '3', '2']\n",
    "\n",
    "plt.bar(degree, agrees)\n",
    "plt.xlabel(\"Number of Annotators agreeing with each other (cumulative)\")\n",
    "plt.ylabel(\"Percentage of sentences\")\n",
    "plt.title(\"Raw Annotator agreement \")\n",
    "plt.show()"
   ]
  },
  {
   "cell_type": "markdown",
   "metadata": {},
   "source": [
    "### Kappa estimation "
   ]
  },
  {
   "cell_type": "code",
   "execution_count": 23,
   "metadata": {},
   "outputs": [],
   "source": [
    "def extract_pairs_of_workers(data, worker_id):\n",
    "    '''\n",
    "    Given a pandas dataframe, and worker_id variable,\n",
    "    extracts a list of pairs of worker_ids\n",
    "    '''\n",
    "    workers = list(set(data[worker_id].values))\n",
    "    \n",
    "    return list(itertools.combinations(workers, 2))\n",
    "\n",
    "def extract_worker_sent_dict(data, worker_id, sent_id):\n",
    "    '''\n",
    "    Given a pandas dataframe, worker_id variable, and sentence_id variable,\n",
    "    extracts a dict where key is worker_id and value is set(sentences_ids annotated by that worker)\n",
    "    \n",
    "    '''\n",
    "    workers = list(set(data[worker_id].values))\n",
    "    \n",
    "    ans = {}\n",
    "    \n",
    "    for worker in workers:\n",
    "        sents = set(list(data[data[worker_id] == worker][sent_id].values))\n",
    "        ans[worker] = sents\n",
    "        \n",
    "    return ans\n",
    "\n",
    "def extract_worker_pair_dict(data, worker_pairs, worker_dict, sent_id):\n",
    "    '''\n",
    "    Given a pandas dataframe, worker_id variable, and sentence_id variable,\n",
    "    extracts a dict where key is worker_id and value is set(sentences_ids annotated by that worker)\n",
    "    \n",
    "    '''\n",
    "    ans = {}\n",
    "    \n",
    "    for (w1, w2) in worker_pairs:\n",
    "        common_set = worker_dict[w1].intersection(worker_dict[w2])\n",
    "        if common_set != set():\n",
    "            ans[(w1,w2)] = list(common_set)\n",
    "        \n",
    "    return ans"
   ]
  },
  {
   "cell_type": "code",
   "execution_count": 24,
   "metadata": {},
   "outputs": [],
   "source": [
    "worker_pairs = extract_pairs_of_workers(pilot_data, 'worker_id')\n",
    "worker_dict = extract_worker_sent_dict(pilot_data, 'worker_id', 'sent_token')\n",
    "worker_pair_dict = extract_worker_pair_dict(pilot_data, worker_pairs, worker_dict,'sent_token')"
   ]
  },
  {
   "cell_type": "code",
   "execution_count": 25,
   "metadata": {},
   "outputs": [],
   "source": [
    "def average_metric_sklearn(data, worker_id, key_var, check_var):\n",
    "    '''\n",
    "    Input: 1. data: pandas dataframe\n",
    "           2. worker_id: Annotator id variable\n",
    "           3. key_var: level of the data (sentence-predicate id)\n",
    "           4. check_var: variable to be checked for kappa score or any other metric \n",
    "    \n",
    "    Output: average kappa score, accuracy and spearman correlation for (pairs of annotators) in the dataset.\n",
    "\n",
    "    '''\n",
    "    worker_pairs = extract_pairs_of_workers(data, worker_id)\n",
    "    worker_key_dict = extract_worker_sent_dict(data, worker_id, key_var)\n",
    "    kappas = []\n",
    "    accuracies = []\n",
    "    \n",
    "    for (w1, w2) in worker_pairs:\n",
    "        common_set = worker_key_dict[w1].intersection(worker_key_dict[w2])\n",
    "        \n",
    "        if common_set == set():\n",
    "            continue\n",
    "            \n",
    "        temp1 = []\n",
    "        temp2 = []\n",
    "        \n",
    "        for key in common_set:\n",
    "            val3 = data[(data[key_var] == key) & \n",
    "                        (data[worker_id] == w1)][check_var].values\n",
    "            val4 = data[(data[key_var] == key) & \n",
    "                        (data[worker_id] == w2)][check_var].values \n",
    "            temp1.append(val3[0])\n",
    "            temp2.append(val4[0])\n",
    "                   \n",
    "        if temp1 == [] or temp2 == []:\n",
    "            continue\n",
    "\n",
    "        elif temp1==temp2:\n",
    "            kappas.append(1.0)\n",
    "        else:\n",
    "            kappas.append(kappa(temp1, temp2))\n",
    "        accuracies.append(accuracy(temp1, temp2))\n",
    "                \n",
    "    return kappas, accuracies"
   ]
  },
  {
   "cell_type": "code",
   "execution_count": 26,
   "metadata": {},
   "outputs": [
    {
     "name": "stdout",
     "output_type": "stream",
     "text": [
      "timeML_tag -- Completed!\n"
     ]
    }
   ],
   "source": [
    "kappas = {}\n",
    "accuracies = {}\n",
    "vars_temp = ['timeML_tag']\n",
    "for var in vars_temp:\n",
    "    kappas[var], accuracies[var] = average_metric_sklearn(pilot_data, 'worker_id', 'sent_token', var)\n",
    "    print(\"{} -- Completed!\".format(var))"
   ]
  },
  {
   "cell_type": "code",
   "execution_count": 27,
   "metadata": {},
   "outputs": [],
   "source": [
    "kappa_data = pd.DataFrame(dict([ (k,pd.Series(v)) for k,v in kappas.items() ]))\n",
    "acc_data = pd.DataFrame(dict([ (k,pd.Series(v)) for k,v in accuracies.items() ]))"
   ]
  },
  {
   "cell_type": "code",
   "execution_count": 28,
   "metadata": {},
   "outputs": [
    {
     "name": "stdout",
     "output_type": "stream",
     "text": [
      "Average Kappa for \"timeML_tag\" variable: 0.062423145261948726\n",
      "\n",
      "\n",
      "Average Accuracy for \"timeML_tag\" variable: 0.21850453530985553\n",
      "\n",
      "\n"
     ]
    }
   ],
   "source": [
    "print('Average Kappa for \"timeML_tag\" variable: {}'.format(np.mean(kappa_data['timeML_tag'])))\n",
    "print(\"\\n\")\n",
    "\n",
    "print('Average Accuracy for \"timeML_tag\" variable: {}'.format(np.mean(acc_data['timeML_tag'])))\n",
    "print(\"\\n\")"
   ]
  },
  {
   "cell_type": "markdown",
   "metadata": {},
   "source": [
    "## Confusion Matrix"
   ]
  },
  {
   "cell_type": "code",
   "execution_count": 29,
   "metadata": {},
   "outputs": [],
   "source": [
    "time_tags = list(pilot_data.timeML_tag.unique())"
   ]
  },
  {
   "cell_type": "code",
   "execution_count": 30,
   "metadata": {},
   "outputs": [
    {
     "data": {
      "text/plain": [
       "['before',\n",
       " 'before_cont',\n",
       " 'includes',\n",
       " 'is_included',\n",
       " 'after',\n",
       " 'after_cont',\n",
       " 'simultaneous']"
      ]
     },
     "execution_count": 30,
     "metadata": {},
     "output_type": "execute_result"
    }
   ],
   "source": [
    "time_tags"
   ]
  },
  {
   "cell_type": "code",
   "execution_count": 31,
   "metadata": {},
   "outputs": [],
   "source": [
    "def average_confusion_matrix(data, worker_id, key_var, check_var, time_tags):\n",
    "    '''\n",
    "    Input: 1. data: pandas dataframe\n",
    "           2. worker_id: Annotator id variable\n",
    "           3. key_var: level of the data (sentence-predicate id)\n",
    "           4. check_var: variable to be checked for kappa score or any other metric \n",
    "    \n",
    "    Output: average kappa score, accuracy and spearman correlation for (pairs of annotators) in the dataset.\n",
    "\n",
    "    '''\n",
    "    worker_pairs = extract_pairs_of_workers(data, worker_id)\n",
    "    worker_key_dict = extract_worker_sent_dict(data, worker_id, key_var)\n",
    "    conf_list = []\n",
    "    conf_rev_list = []\n",
    "    \n",
    "    for (w1, w2) in worker_pairs:\n",
    "        common_set = worker_key_dict[w1].intersection(worker_key_dict[w2])\n",
    "        \n",
    "        if common_set == set():\n",
    "            continue\n",
    "            \n",
    "        temp1 = []\n",
    "        temp2 = []\n",
    "        \n",
    "        for key in common_set:\n",
    "            val3 = data[(data[key_var] == key) & \n",
    "                        (data[worker_id] == w1)][check_var].values\n",
    "            val4 = data[(data[key_var] == key) & \n",
    "                        (data[worker_id] == w2)][check_var].values \n",
    "            temp1.append(val3[0])\n",
    "            temp2.append(val4[0])\n",
    "                   \n",
    "        if temp1 == [] or temp2 == []:\n",
    "            continue\n",
    "\n",
    "        conf_matrix = confusion_matrix(temp1, temp2, labels=time_tags)\n",
    "        conf_matrix_rev = confusion_matrix(temp2, temp1, labels=time_tags)\n",
    "        \n",
    "        #NORMALISE\n",
    "        sum_a = np.sum(conf_matrix,axis=None)\n",
    "        sum_rev = np.sum(conf_matrix_rev,axis=None)\n",
    "        \n",
    "        #conf_matrix = conf_matrix/sum_a\n",
    "        #conf_matrix_rev = conf_matrix_rev/sum_rev\n",
    "        \n",
    "        conf_list.append(conf_matrix)\n",
    "        conf_rev_list.append(conf_matrix_rev)\n",
    "        \n",
    "                \n",
    "    return conf_list, conf_rev_list\n",
    "\n",
    "def matprint(mat, fmt=\"g\"):\n",
    "    '''\n",
    "    Pretty print a numpy matrix\n",
    "    \n",
    "    Source: https://gist.github.com/braingineer/d801735dac07ff3ac4d746e1f218ab75\n",
    "    '''\n",
    "    col_maxes = [max([len((\"{:\"+fmt+\"}\").format(x)) for x in col]) for col in mat.T]\n",
    "    for x in mat:\n",
    "        for i, y in enumerate(x):\n",
    "            print((\"{:\"+str(col_maxes[i])+fmt+\"}\").format(y), end=\"  \")\n",
    "        print(\"\")"
   ]
  },
  {
   "cell_type": "code",
   "execution_count": 32,
   "metadata": {},
   "outputs": [],
   "source": [
    "conf_list, conf_rev_list = average_confusion_matrix(pilot_data, 'worker_id', 'sent_token', 'timeML_tag', time_tags)"
   ]
  },
  {
   "cell_type": "code",
   "execution_count": 33,
   "metadata": {},
   "outputs": [],
   "source": [
    "A = sum(conf_list) + sum(conf_list).T\n",
    "B = sum(conf_rev_list) + sum(conf_rev_list).T"
   ]
  },
  {
   "cell_type": "code",
   "execution_count": 34,
   "metadata": {},
   "outputs": [
    {
     "name": "stdout",
     "output_type": "stream",
     "text": [
      " 0.0547368   0.0357895  0.0431579   0.0384211  0.00421053   0.0163158  0.00526316  \n",
      " 0.0357895   0.0252632  0.0336842   0.0294737  0.00736842   0.0126316  0.00947368  \n",
      " 0.0431579   0.0336842  0.0673684        0.04   0.0173684   0.0273684   0.0215789  \n",
      " 0.0384211   0.0294737       0.04   0.0305263        0.01   0.0184211  0.00789474  \n",
      "0.00421053  0.00736842  0.0173684        0.01   0.0221053  0.00526316  0.00526316  \n",
      " 0.0163158   0.0126316  0.0273684   0.0184211  0.00526316  0.00631579  0.00421053  \n",
      "0.00526316  0.00947368  0.0215789  0.00789474  0.00526316  0.00421053  0.00736842  \n"
     ]
    }
   ],
   "source": [
    "A = A/np.sum(A, axis=None)\n",
    "B = B/np.sum(B, axis=None)\n",
    "matprint(A)"
   ]
  },
  {
   "cell_type": "code",
   "execution_count": 35,
   "metadata": {},
   "outputs": [],
   "source": [
    "def plot_confusion_matrix(cm, classes,\n",
    "                          normalize=False,\n",
    "                          title='Confusion matrix',\n",
    "                          cmap=plt.cm.Blues):\n",
    "    \"\"\"\n",
    "    This function prints and plots the confusion matrix.\n",
    "    Normalization can be applied by setting `normalize=True`.\n",
    "    \"\"\"\n",
    "    if normalize:\n",
    "        cm = cm.astype('float') / cm.sum(axis=1)[:, np.newaxis]\n",
    "        print(\"Normalized confusion matrix\")\n",
    "    else:\n",
    "        print('Confusion matrix, without normalization')\n",
    "\n",
    "    print(cm)\n",
    "\n",
    "    plt.imshow(cm, interpolation='nearest', cmap=cmap)\n",
    "    plt.title(title)\n",
    "    plt.colorbar()\n",
    "    tick_marks = np.arange(len(classes))\n",
    "    plt.xticks(tick_marks, classes, rotation=45)\n",
    "    plt.yticks(tick_marks, classes)\n",
    "\n",
    "    fmt = '.2f' if normalize else '.2f'\n",
    "    thresh = cm.max() / 2.\n",
    "    for i, j in itertools.product(range(cm.shape[0]), range(cm.shape[1])):\n",
    "        plt.text(j, i, format(cm[i, j], fmt),\n",
    "                 horizontalalignment=\"center\",\n",
    "                 color=\"white\" if cm[i, j] > thresh else \"black\")\n",
    "\n",
    "    plt.tight_layout()\n",
    "    plt.ylabel('True label')\n",
    "    plt.xlabel('Predicted label')\n",
    "\n",
    "\n"
   ]
  },
  {
   "cell_type": "code",
   "execution_count": 36,
   "metadata": {},
   "outputs": [
    {
     "name": "stdout",
     "output_type": "stream",
     "text": [
      "Confusion matrix, without normalization\n",
      "[[ 0.05473684  0.03578947  0.04315789  0.03842105  0.00421053  0.01631579\n",
      "   0.00526316]\n",
      " [ 0.03578947  0.02526316  0.03368421  0.02947368  0.00736842  0.01263158\n",
      "   0.00947368]\n",
      " [ 0.04315789  0.03368421  0.06736842  0.04        0.01736842  0.02736842\n",
      "   0.02157895]\n",
      " [ 0.03842105  0.02947368  0.04        0.03052632  0.01        0.01842105\n",
      "   0.00789474]\n",
      " [ 0.00421053  0.00736842  0.01736842  0.01        0.02210526  0.00526316\n",
      "   0.00526316]\n",
      " [ 0.01631579  0.01263158  0.02736842  0.01842105  0.00526316  0.00631579\n",
      "   0.00421053]\n",
      " [ 0.00526316  0.00947368  0.02157895  0.00789474  0.00526316  0.00421053\n",
      "   0.00736842]]\n"
     ]
    },
    {
     "data": {
      "image/png": "[encoded data removed]",
      "text/plain": [
       "<Figure size 576x396 with 2 Axes>"
      ]
     },
     "metadata": {},
     "output_type": "display_data"
    }
   ],
   "source": [
    "# Plot non-normalized confusion matrix\n",
    "plt.figure()\n",
    "plot_confusion_matrix(A, classes=time_tags, normalize=False,\n",
    "                      title='Confusion matrix, without normalization')\n",
    "\n",
    "plt.show()"
   ]
  },
  {
   "cell_type": "code",
   "execution_count": 37,
   "metadata": {},
   "outputs": [
    {
     "name": "stdout",
     "output_type": "stream",
     "text": [
      "Confusion matrix, without normalization\n",
      "[[ 0.05473684  0.03578947  0.04315789  0.03842105  0.00421053  0.01631579\n",
      "   0.00526316]\n",
      " [ 0.03578947  0.02526316  0.03368421  0.02947368  0.00736842  0.01263158\n",
      "   0.00947368]\n",
      " [ 0.04315789  0.03368421  0.06736842  0.04        0.01736842  0.02736842\n",
      "   0.02157895]\n",
      " [ 0.03842105  0.02947368  0.04        0.03052632  0.01        0.01842105\n",
      "   0.00789474]\n",
      " [ 0.00421053  0.00736842  0.01736842  0.01        0.02210526  0.00526316\n",
      "   0.00526316]\n",
      " [ 0.01631579  0.01263158  0.02736842  0.01842105  0.00526316  0.00631579\n",
      "   0.00421053]\n",
      " [ 0.00526316  0.00947368  0.02157895  0.00789474  0.00526316  0.00421053\n",
      "   0.00736842]]\n"
     ]
    },
    {
     "data": {
      "image/png": "[encoded data removed]",
      "text/plain": [
       "<Figure size 576x396 with 2 Axes>"
      ]
     },
     "metadata": {},
     "output_type": "display_data"
    }
   ],
   "source": [
    "# Plot non-normalized confusion matrix\n",
    "plt.figure()\n",
    "plot_confusion_matrix(B, classes=time_tags, normalize=False,\n",
    "                      title='Confusion matrix, without normalization')\n",
    "\n",
    "plt.show()"
   ]
  },
  {
   "cell_type": "markdown",
   "metadata": {},
   "source": [
    "#### Sid's predictions"
   ]
  },
  {
   "cell_type": "code",
   "execution_count": 38,
   "metadata": {},
   "outputs": [
    {
     "data": {
      "text/html": [
       "<div>\n",
       "<style scoped>\n",
       "    .dataframe tbody tr th:only-of-type {\n",
       "        vertical-align: middle;\n",
       "    }\n",
       "\n",
       "    .dataframe tbody tr th {\n",
       "        vertical-align: top;\n",
       "    }\n",
       "\n",
       "    .dataframe thead th {\n",
       "        text-align: right;\n",
       "    }\n",
       "</style>\n",
       "<table border=\"1\" class=\"dataframe\">\n",
       "  <thead>\n",
       "    <tr style=\"text-align: right;\">\n",
       "      <th></th>\n",
       "      <th>worker_id</th>\n",
       "      <th>slider2_posn</th>\n",
       "      <th>slider1_posn</th>\n",
       "      <th>sentence_id</th>\n",
       "      <th>sentence</th>\n",
       "      <th>pred_token2</th>\n",
       "      <th>pred_token1</th>\n",
       "      <th>pred2</th>\n",
       "      <th>pred1</th>\n",
       "      <th>id</th>\n",
       "      <th>hit_id</th>\n",
       "      <th>confidence</th>\n",
       "      <th>sent_token</th>\n",
       "    </tr>\n",
       "  </thead>\n",
       "  <tbody>\n",
       "    <tr>\n",
       "      <th>0</th>\n",
       "      <td>A2GL712W3LDMFO</td>\n",
       "      <td>32 - 73</td>\n",
       "      <td>45 - 60</td>\n",
       "      <td>en-ud-train.conllu 13</td>\n",
       "      <td>On Wednesday guerrillas had  &lt;span class=\\\"pre...</td>\n",
       "      <td>16</td>\n",
       "      <td>4</td>\n",
       "      <td>way</td>\n",
       "      <td>kidnapped</td>\n",
       "      <td>1</td>\n",
       "      <td>35A1YQPVFEGOK6YXHVHV03G0I0CI51</td>\n",
       "      <td>4</td>\n",
       "      <td>en-ud-train.conllu 13_4_16</td>\n",
       "    </tr>\n",
       "    <tr>\n",
       "      <th>1</th>\n",
       "      <td>A2GL712W3LDMFO</td>\n",
       "      <td>22 - 43</td>\n",
       "      <td>52 - 100</td>\n",
       "      <td>en-ud-train.conllu 46</td>\n",
       "      <td>Yesterday there were tens of them  &lt;span class...</td>\n",
       "      <td>26</td>\n",
       "      <td>6</td>\n",
       "      <td>leave</td>\n",
       "      <td>putting</td>\n",
       "      <td>2</td>\n",
       "      <td>35A1YQPVFEGOK6YXHVHV03G0I0CI51</td>\n",
       "      <td>1</td>\n",
       "      <td>en-ud-train.conllu 46_6_26</td>\n",
       "    </tr>\n",
       "    <tr>\n",
       "      <th>2</th>\n",
       "      <td>A2GL712W3LDMFO</td>\n",
       "      <td>20 - 34</td>\n",
       "      <td>42 - 46</td>\n",
       "      <td>en-ud-train.conllu 60</td>\n",
       "      <td>He did once  &lt;span class=\\\"predicate\\\"&gt; make&lt;/...</td>\n",
       "      <td>14</td>\n",
       "      <td>3</td>\n",
       "      <td>shooting</td>\n",
       "      <td>make</td>\n",
       "      <td>3</td>\n",
       "      <td>35A1YQPVFEGOK6YXHVHV03G0I0CI51</td>\n",
       "      <td>2</td>\n",
       "      <td>en-ud-train.conllu 60_3_14</td>\n",
       "    </tr>\n",
       "    <tr>\n",
       "      <th>3</th>\n",
       "      <td>A2GL712W3LDMFO</td>\n",
       "      <td>44 - 51</td>\n",
       "      <td>28 - 34</td>\n",
       "      <td>en-ud-train.conllu 65</td>\n",
       "      <td>He  &lt;span class=\\\"predicate\\\"&gt; added&lt;/span&gt;  t...</td>\n",
       "      <td>57</td>\n",
       "      <td>1</td>\n",
       "      <td>dragged</td>\n",
       "      <td>added</td>\n",
       "      <td>4</td>\n",
       "      <td>35A1YQPVFEGOK6YXHVHV03G0I0CI51</td>\n",
       "      <td>2</td>\n",
       "      <td>en-ud-train.conllu 65_1_57</td>\n",
       "    </tr>\n",
       "    <tr>\n",
       "      <th>4</th>\n",
       "      <td>A2GL712W3LDMFO</td>\n",
       "      <td>41 - 47</td>\n",
       "      <td>13 - 41</td>\n",
       "      <td>en-ud-train.conllu 118</td>\n",
       "      <td>As a child in the 50&amp;#39;s I  &lt;span class=\\\"pr...</td>\n",
       "      <td>34</td>\n",
       "      <td>7</td>\n",
       "      <td>started</td>\n",
       "      <td>had</td>\n",
       "      <td>5</td>\n",
       "      <td>35A1YQPVFEGOK6YXHVHV03G0I0CI51</td>\n",
       "      <td>2</td>\n",
       "      <td>en-ud-train.conllu 118_7_34</td>\n",
       "    </tr>\n",
       "  </tbody>\n",
       "</table>\n",
       "</div>"
      ],
      "text/plain": [
       "        worker_id slider2_posn slider1_posn             sentence_id  \\\n",
       "0  A2GL712W3LDMFO      32 - 73      45 - 60   en-ud-train.conllu 13   \n",
       "1  A2GL712W3LDMFO      22 - 43     52 - 100   en-ud-train.conllu 46   \n",
       "2  A2GL712W3LDMFO      20 - 34      42 - 46   en-ud-train.conllu 60   \n",
       "3  A2GL712W3LDMFO      44 - 51      28 - 34   en-ud-train.conllu 65   \n",
       "4  A2GL712W3LDMFO      41 - 47      13 - 41  en-ud-train.conllu 118   \n",
       "\n",
       "                                            sentence pred_token2 pred_token1  \\\n",
       "0  On Wednesday guerrillas had  <span class=\\\"pre...          16           4   \n",
       "1  Yesterday there were tens of them  <span class...          26           6   \n",
       "2  He did once  <span class=\\\"predicate\\\"> make</...          14           3   \n",
       "3  He  <span class=\\\"predicate\\\"> added</span>  t...          57           1   \n",
       "4  As a child in the 50&#39;s I  <span class=\\\"pr...          34           7   \n",
       "\n",
       "      pred2      pred1  id                          hit_id  confidence  \\\n",
       "0       way  kidnapped   1  35A1YQPVFEGOK6YXHVHV03G0I0CI51           4   \n",
       "1     leave    putting   2  35A1YQPVFEGOK6YXHVHV03G0I0CI51           1   \n",
       "2  shooting       make   3  35A1YQPVFEGOK6YXHVHV03G0I0CI51           2   \n",
       "3   dragged      added   4  35A1YQPVFEGOK6YXHVHV03G0I0CI51           2   \n",
       "4   started        had   5  35A1YQPVFEGOK6YXHVHV03G0I0CI51           2   \n",
       "\n",
       "                    sent_token  \n",
       "0   en-ud-train.conllu 13_4_16  \n",
       "1   en-ud-train.conllu 46_6_26  \n",
       "2   en-ud-train.conllu 60_3_14  \n",
       "3   en-ud-train.conllu 65_1_57  \n",
       "4  en-ud-train.conllu 118_7_34  "
      ]
     },
     "execution_count": 38,
     "metadata": {},
     "output_type": "execute_result"
    }
   ],
   "source": [
    "sid_data = pd.read_csv(sid_pilot_file)\n",
    "sid_data.columns = [c.replace('.', '_') for c in sid_data.columns]\n",
    "\n",
    "sid_pilot_data = extract_dataframe_old(sid_data)\n",
    "\n",
    "#Re-arrange the order \n",
    "cols = list(sid_pilot_data.columns)\n",
    "#sid_pilot_data = sid_pilot_data[sid_pilot_data.columns[::-1]].drop('sentence', axis=1)\n",
    "sid_pilot_data = sid_pilot_data[sid_pilot_data.columns[::-1]]\n",
    "\n",
    "\n",
    "#Drop start, end, instant variables that were stored in the json data\n",
    "sid_pilot_data = sid_pilot_data.drop(['start_pred1', 'start_pred2', 'end_pred1', 'end_pred2',\n",
    "                             'instant_pred1', 'instant_pred2'], axis=1)\n",
    "\n",
    "\n",
    "#pilot_data.replace('na',np.NaN, inplace=True)\n",
    "sid_pilot_data['sent_token'] = sid_pilot_data['sentence_id'] + \"_\" +\\\n",
    "                            sid_pilot_data['pred_token1'].map(lambda x: str(x)) + \"_\" +\\\n",
    "                             sid_pilot_data['pred_token2'].map(lambda x: str(x))\n",
    "sid_pilot_data.head()"
   ]
  },
  {
   "cell_type": "code",
   "execution_count": 39,
   "metadata": {},
   "outputs": [
    {
     "name": "stdout",
     "output_type": "stream",
     "text": [
      "before          36\n",
      "after           21\n",
      "simultaneous    13\n",
      "includes         5\n",
      "is_included      5\n",
      "Name: timeML_tag, dtype: int64\n"
     ]
    },
    {
     "name": "stderr",
     "output_type": "stream",
     "text": [
      "/Users/sidvash/anaconda/lib/python3.6/site-packages/seaborn/categorical.py:1428: FutureWarning: remove_na is deprecated and is a private function. Do not use.\n",
      "  stat_data = remove_na(group_data)\n"
     ]
    },
    {
     "data": {
      "image/png": "[encoded data removed]",
      "text/plain": [
       "<Figure size 576x396 with 1 Axes>"
      ]
     },
     "metadata": {},
     "output_type": "display_data"
    }
   ],
   "source": [
    "sid_pilot_data['timeML_tag'] = sid_pilot_data.apply(lambda row: time_ml_tag(row, 'slider1_posn', 'slider2_posn'), axis=1)\n",
    "print(sid_pilot_data.timeML_tag.value_counts())\n",
    "sns.countplot(x='timeML_tag', data=sid_pilot_data)\n",
    "plt.show()"
   ]
  },
  {
   "cell_type": "code",
   "execution_count": 40,
   "metadata": {},
   "outputs": [
    {
     "name": "stderr",
     "output_type": "stream",
     "text": [
      "/Users/sidvash/anaconda/lib/python3.6/site-packages/seaborn/categorical.py:1428: FutureWarning: remove_na is deprecated and is a private function. Do not use.\n",
      "  stat_data = remove_na(group_data)\n"
     ]
    },
    {
     "data": {
      "image/png": "[encoded data removed]",
      "text/plain": [
       "<Figure size 576x396 with 1 Axes>"
      ]
     },
     "metadata": {},
     "output_type": "display_data"
    }
   ],
   "source": [
    "sns.countplot(x='confidence', data=sid_pilot_data)\n",
    "plt.show()"
   ]
  },
  {
   "cell_type": "markdown",
   "metadata": {},
   "source": [
    "### Manual Analysis of Sentences"
   ]
  },
  {
   "cell_type": "code",
   "execution_count": 41,
   "metadata": {},
   "outputs": [],
   "source": [
    "#sid_pilot_data[sid_pilot_data.confidence==3]"
   ]
  },
  {
   "cell_type": "code",
   "execution_count": 42,
   "metadata": {},
   "outputs": [],
   "source": [
    "#pilot_data[pilot_data.sent_token == \"en-ud-train.conllu 11663_17_28\"]"
   ]
  },
  {
   "cell_type": "markdown",
   "metadata": {},
   "source": [
    "#### Examples with high confidence as per Sid:\n",
    " -  '&lsqb; an error  <span class=\\\\\"predicate\\\\\"> ** occurred **</span>  while  <span class=\\\\\"predicate\\\\\"> ** processing **</span>  this directive &rsqb;'\n",
    "\n",
    "    my tag: is_included, 3/5 match , others - before, after\n",
    "    \n",
    "    \n",
    "- 'Meanwhile , President George W Bush has  <span class=\\\\\"predicate\\\\\"> ** said **</span>  he will lead an inquiry into how the disaster was  <span class=\\\\\"predicate\\\\\"> ** handled **</span>  .'\n",
    "\n",
    "    my tag: after, 3/5 match , others - is_included, before\n",
    "    \n",
    "    \n",
    "- 'We then called the office and the man we spoke to  <span class=\\\\\"predicate\\\\\">** said **</span>  he &#39;d send someone out to look at it but could n&#39;t promise when - two weeks came and went and we  <span class=\\\\\"predicate\\\\\">** heard **</span>  nothing .'\n",
    "\n",
    "    my tag: before, 5/5 match\n",
    "    \n",
    "   \n",
    "- 'Well last night while I was  <span class=\\\\\"predicate\\\\\">** sleeping **</span>  , my hamster  <span class=\\\\\"predicate\\\\\">** escaped **</span>  from his cage .'\n",
    "\n",
    "    my tag: includes, 3/5 match, others - before(4,2)\n",
    "    \n",
    "    \n",
    "-  'Phone calls were n&#39;t returned when promised and the botched repair  <span class=\\\\\"predicate\\\\\"> ** took **</span>  a week longer than  <span class=\\\\\"predicate\\\\\">** promised **</span>  .'\n",
    "    \n",
    "      my tag: after, 5/5 match"
   ]
  },
  {
   "cell_type": "markdown",
   "metadata": {},
   "source": [
    "#### Intriguing examples\n",
    "\n",
    "- 'Right now , while we &#39;re  <span class=\\\\\"predicate\\\\\">** sitting **</span>  at our computers enjoying the internet , those innocent , beautiful , loving cats , are  <span class=\\\\\"predicate\\\\\">** dying **</span>  , somewhere in this troubled world a slow , agonizing death .'\n",
    "\n",
    "    my tag - simultaneous, 2/5 match: others: (before-2 conf, after-2 conf, includes-3 conf)\n",
    "    \n",
    "    \n",
    "- 'I did n&#39;t expect to react that way , but when I was  <span class=\\\\\"predicate\\\\\">** looking **</span>  around my workplace in Nashua , New Hampshire , and everyone else looked pretty much like me , it was really very  <span class=\\\\\"predicate\\\\\">** eerie **</span>  .'\n",
    "\n",
    "    my tag - simultaneous, 0/5 match; others: (before:4/5 annotators, includes:1/5 with 4 confidence)\n",
    "    \n",
    "    \n",
    "- 'Finally a chambermaid  <span class=\\\\\"predicate\\\\\">** stuck **</span>  her head around the corner from the top of the stairs and  <span class=\\\\\"predicate\\\\\">** told **</span>  us sternly that we could not be accommodated until 3 M , no exceptions .'\n",
    "\n",
    "    my tag - before, 3/5 match; others-(simultaneous with 4 rating, includes with 3 rating)\n",
    "    \n",
    "    \n",
    "- 'We typically only  <span class=\\\\\"predicate\\\\\">** book **</span>  deals when everything is  <span class=\\\\\"predicate\\\\\">** signed **</span>  off .'\n",
    "\n",
    "    2/5 : before (4, 2 conf)\n",
    "    2/5 : after (2, 1 conf)\n",
    "    1/5: after_cont (3 conf)\n",
    "    \n",
    "    \n",
    "- 'From a moral standpoint , you guys are really gon na take 2,000 bucks from someone that  <span class=\\\\\"predicate\\\\\">**  needs **</span>  that truck to work and support his family when you  <span class=\\\\\"predicate\\\\\">** know **</span>  it s just a piece of scrap metal ?'\n",
    "\n",
    "    2/5: before (2,2 conf)\n",
    "    1/5: simultaneous (2 conf)\n",
    "    1/5: includes (2 conf)\n",
    "    1/5: after_cont (3 conf)\n"
   ]
  },
  {
   "cell_type": "markdown",
   "metadata": {},
   "source": [
    "### Agreement Dataset (at sentence level)"
   ]
  },
  {
   "cell_type": "code",
   "execution_count": 43,
   "metadata": {},
   "outputs": [],
   "source": [
    "sent_tokens = list(pilot_data.sent_token.unique())"
   ]
  },
  {
   "cell_type": "code",
   "execution_count": 44,
   "metadata": {},
   "outputs": [],
   "source": [
    "#Sent_token and sentence pairs\n",
    "g = pilot_data.groupby(['sent_token' ,'sentence_id_1'])\n",
    "sent_groups = dict(list(g.groups.keys()))"
   ]
  },
  {
   "cell_type": "code",
   "execution_count": 45,
   "metadata": {},
   "outputs": [],
   "source": [
    "agree_data = pd.DataFrame(sent_tokens, columns = ['sent_token'])"
   ]
  },
  {
   "cell_type": "code",
   "execution_count": 46,
   "metadata": {},
   "outputs": [],
   "source": [
    "def tag_counts(row, data, time_tag, sent_id):\n",
    "    '''\n",
    "    Count the number of a particular time_tag for a particular sentence id \n",
    "    as annotated by different annotators\n",
    "    '''\n",
    "    \n",
    "    ans = list(data[data.sent_token == getattr(row, sent_id)]['timeML_tag'].values).count(time_tag)\n",
    "    \n",
    "    return ans\n",
    "\n",
    "    "
   ]
  },
  {
   "cell_type": "code",
   "execution_count": 47,
   "metadata": {},
   "outputs": [],
   "source": [
    "for tag in time_tags:\n",
    "    agree_data[tag] = agree_data.apply(lambda row: tag_counts(row, pilot_data, tag, 'sent_token'), axis=1)"
   ]
  },
  {
   "cell_type": "markdown",
   "metadata": {},
   "source": [
    "#### Left Join Sid's time_tags and sentences"
   ]
  },
  {
   "cell_type": "code",
   "execution_count": 48,
   "metadata": {},
   "outputs": [
    {
     "data": {
      "text/html": [
       "<div>\n",
       "<style scoped>\n",
       "    .dataframe tbody tr th:only-of-type {\n",
       "        vertical-align: middle;\n",
       "    }\n",
       "\n",
       "    .dataframe tbody tr th {\n",
       "        vertical-align: top;\n",
       "    }\n",
       "\n",
       "    .dataframe thead th {\n",
       "        text-align: right;\n",
       "    }\n",
       "</style>\n",
       "<table border=\"1\" class=\"dataframe\">\n",
       "  <thead>\n",
       "    <tr style=\"text-align: right;\">\n",
       "      <th></th>\n",
       "      <th>sent_token</th>\n",
       "      <th>sid_tag</th>\n",
       "    </tr>\n",
       "  </thead>\n",
       "  <tbody>\n",
       "    <tr>\n",
       "      <th>0</th>\n",
       "      <td>en-ud-train.conllu 13_4_16</td>\n",
       "      <td>is_included</td>\n",
       "    </tr>\n",
       "    <tr>\n",
       "      <th>1</th>\n",
       "      <td>en-ud-train.conllu 46_6_26</td>\n",
       "      <td>after</td>\n",
       "    </tr>\n",
       "    <tr>\n",
       "      <th>2</th>\n",
       "      <td>en-ud-train.conllu 60_3_14</td>\n",
       "      <td>after</td>\n",
       "    </tr>\n",
       "    <tr>\n",
       "      <th>3</th>\n",
       "      <td>en-ud-train.conllu 65_1_57</td>\n",
       "      <td>before</td>\n",
       "    </tr>\n",
       "    <tr>\n",
       "      <th>4</th>\n",
       "      <td>en-ud-train.conllu 118_7_34</td>\n",
       "      <td>before</td>\n",
       "    </tr>\n",
       "  </tbody>\n",
       "</table>\n",
       "</div>"
      ],
      "text/plain": [
       "                    sent_token      sid_tag\n",
       "0   en-ud-train.conllu 13_4_16  is_included\n",
       "1   en-ud-train.conllu 46_6_26        after\n",
       "2   en-ud-train.conllu 60_3_14        after\n",
       "3   en-ud-train.conllu 65_1_57       before\n",
       "4  en-ud-train.conllu 118_7_34       before"
      ]
     },
     "execution_count": 48,
     "metadata": {},
     "output_type": "execute_result"
    }
   ],
   "source": [
    "temp_data = sid_pilot_data.rename(columns={\"timeML_tag\": \"sid_tag\"})\n",
    "temp_data = temp_data[['sent_token', 'sid_tag']]\n",
    "temp_data.head()"
   ]
  },
  {
   "cell_type": "code",
   "execution_count": 49,
   "metadata": {},
   "outputs": [],
   "source": [
    "agree_data = pd.merge(agree_data, temp_data, on = 'sent_token', how='left')\n",
    "agree_data['sentence'] = agree_data.apply(lambda row: sent_groups[row.sent_token], axis=1)"
   ]
  },
  {
   "cell_type": "code",
   "execution_count": 50,
   "metadata": {},
   "outputs": [],
   "source": [
    "agree_data['ann_agreement'] = agree_data.apply(lambda row: max(row.is_included, \n",
    "                                                         row.after, row.before, row.includes,\n",
    "                                                         row.simultaneous, row.after_cont, row.before_cont), axis=1)\n",
    "agree_data['mode_tag'] = agree_data[time_tags].idxmax(axis=1)"
   ]
  },
  {
   "cell_type": "code",
   "execution_count": 51,
   "metadata": {},
   "outputs": [
    {
     "data": {
      "text/html": [
       "<div>\n",
       "<style scoped>\n",
       "    .dataframe tbody tr th:only-of-type {\n",
       "        vertical-align: middle;\n",
       "    }\n",
       "\n",
       "    .dataframe tbody tr th {\n",
       "        vertical-align: top;\n",
       "    }\n",
       "\n",
       "    .dataframe thead th {\n",
       "        text-align: right;\n",
       "    }\n",
       "</style>\n",
       "<table border=\"1\" class=\"dataframe\">\n",
       "  <thead>\n",
       "    <tr style=\"text-align: right;\">\n",
       "      <th></th>\n",
       "      <th>sent_token</th>\n",
       "      <th>before</th>\n",
       "      <th>before_cont</th>\n",
       "      <th>includes</th>\n",
       "      <th>is_included</th>\n",
       "      <th>after</th>\n",
       "      <th>after_cont</th>\n",
       "      <th>simultaneous</th>\n",
       "      <th>sid_tag</th>\n",
       "      <th>sentence</th>\n",
       "      <th>ann_agreement</th>\n",
       "      <th>mode_tag</th>\n",
       "    </tr>\n",
       "  </thead>\n",
       "  <tbody>\n",
       "    <tr>\n",
       "      <th>0</th>\n",
       "      <td>en-ud-train.conllu 6781_4_9</td>\n",
       "      <td>4</td>\n",
       "      <td>0</td>\n",
       "      <td>1</td>\n",
       "      <td>0</td>\n",
       "      <td>0</td>\n",
       "      <td>0</td>\n",
       "      <td>0</td>\n",
       "      <td>before</td>\n",
       "      <td>en-ud-train.conllu 6781</td>\n",
       "      <td>4</td>\n",
       "      <td>before</td>\n",
       "    </tr>\n",
       "    <tr>\n",
       "      <th>1</th>\n",
       "      <td>en-ud-train.conllu 12377_37_42</td>\n",
       "      <td>0</td>\n",
       "      <td>1</td>\n",
       "      <td>1</td>\n",
       "      <td>3</td>\n",
       "      <td>0</td>\n",
       "      <td>0</td>\n",
       "      <td>0</td>\n",
       "      <td>before</td>\n",
       "      <td>en-ud-train.conllu 12377</td>\n",
       "      <td>3</td>\n",
       "      <td>is_included</td>\n",
       "    </tr>\n",
       "    <tr>\n",
       "      <th>2</th>\n",
       "      <td>en-ud-train.conllu 867_17_49</td>\n",
       "      <td>0</td>\n",
       "      <td>1</td>\n",
       "      <td>1</td>\n",
       "      <td>3</td>\n",
       "      <td>0</td>\n",
       "      <td>0</td>\n",
       "      <td>0</td>\n",
       "      <td>after</td>\n",
       "      <td>en-ud-train.conllu 867</td>\n",
       "      <td>3</td>\n",
       "      <td>is_included</td>\n",
       "    </tr>\n",
       "    <tr>\n",
       "      <th>3</th>\n",
       "      <td>en-ud-train.conllu 1092_2_10</td>\n",
       "      <td>0</td>\n",
       "      <td>1</td>\n",
       "      <td>0</td>\n",
       "      <td>1</td>\n",
       "      <td>2</td>\n",
       "      <td>1</td>\n",
       "      <td>0</td>\n",
       "      <td>after</td>\n",
       "      <td>en-ud-train.conllu 1092</td>\n",
       "      <td>2</td>\n",
       "      <td>after</td>\n",
       "    </tr>\n",
       "    <tr>\n",
       "      <th>4</th>\n",
       "      <td>en-ud-train.conllu 11663_17_28</td>\n",
       "      <td>0</td>\n",
       "      <td>0</td>\n",
       "      <td>1</td>\n",
       "      <td>2</td>\n",
       "      <td>0</td>\n",
       "      <td>1</td>\n",
       "      <td>1</td>\n",
       "      <td>NaN</td>\n",
       "      <td>en-ud-train.conllu 11663</td>\n",
       "      <td>2</td>\n",
       "      <td>is_included</td>\n",
       "    </tr>\n",
       "  </tbody>\n",
       "</table>\n",
       "</div>"
      ],
      "text/plain": [
       "                       sent_token  before  before_cont  includes  is_included  \\\n",
       "0     en-ud-train.conllu 6781_4_9       4            0         1            0   \n",
       "1  en-ud-train.conllu 12377_37_42       0            1         1            3   \n",
       "2    en-ud-train.conllu 867_17_49       0            1         1            3   \n",
       "3    en-ud-train.conllu 1092_2_10       0            1         0            1   \n",
       "4  en-ud-train.conllu 11663_17_28       0            0         1            2   \n",
       "\n",
       "   after  after_cont  simultaneous sid_tag                  sentence  \\\n",
       "0      0           0             0  before   en-ud-train.conllu 6781   \n",
       "1      0           0             0  before  en-ud-train.conllu 12377   \n",
       "2      0           0             0   after    en-ud-train.conllu 867   \n",
       "3      2           1             0   after   en-ud-train.conllu 1092   \n",
       "4      0           1             1     NaN  en-ud-train.conllu 11663   \n",
       "\n",
       "   ann_agreement     mode_tag  \n",
       "0              4       before  \n",
       "1              3  is_included  \n",
       "2              3  is_included  \n",
       "3              2        after  \n",
       "4              2  is_included  "
      ]
     },
     "execution_count": 51,
     "metadata": {},
     "output_type": "execute_result"
    }
   ],
   "source": [
    "agree_data.head()"
   ]
  },
  {
   "cell_type": "code",
   "execution_count": 52,
   "metadata": {},
   "outputs": [
    {
     "name": "stderr",
     "output_type": "stream",
     "text": [
      "/Users/sidvash/anaconda/lib/python3.6/site-packages/seaborn/categorical.py:1428: FutureWarning: remove_na is deprecated and is a private function. Do not use.\n",
      "  stat_data = remove_na(group_data)\n"
     ]
    },
    {
     "data": {
      "image/png": "[encoded data removed]",
      "text/plain": [
       "<Figure size 576x396 with 1 Axes>"
      ]
     },
     "metadata": {},
     "output_type": "display_data"
    }
   ],
   "source": [
    "sns.countplot(x='ann_agreement', data=agree_data)\n",
    "plt.xlabel(\"No. of annotators agreeing\")\n",
    "plt.show()"
   ]
  },
  {
   "cell_type": "markdown",
   "metadata": {},
   "source": [
    "### Further Analysis of sentences"
   ]
  },
  {
   "cell_type": "code",
   "execution_count": 53,
   "metadata": {},
   "outputs": [
    {
     "data": {
      "text/plain": [
       "(28, 12)"
      ]
     },
     "execution_count": 53,
     "metadata": {},
     "output_type": "execute_result"
    }
   ],
   "source": [
    "agree_data[agree_data.sid_tag == agree_data.mode_tag].shape"
   ]
  },
  {
   "cell_type": "markdown",
   "metadata": {},
   "source": [
    "The above number shows that 28/80 times sid's answer was matched by the majority-annotator answer"
   ]
  },
  {
   "cell_type": "code",
   "execution_count": 54,
   "metadata": {},
   "outputs": [],
   "source": [
    "#agree_data.to_csv(\"agreement_data_protocol2.csv\", index=False)"
   ]
  },
  {
   "cell_type": "markdown",
   "metadata": {},
   "source": [
    "https://bit.ly/2spaJIz"
   ]
  }
 ],
 "metadata": {
  "kernelspec": {
   "display_name": "Python 3",
   "language": "python",
   "name": "python3"
  },
  "language_info": {
   "codemirror_mode": {
    "name": "ipython",
    "version": 3
   },
   "file_extension": ".py",
   "mimetype": "text/x-python",
   "name": "python",
   "nbconvert_exporter": "python",
   "pygments_lexer": "ipython3",
   "version": "3.6.5"
  }
 },
 "nbformat": 4,
 "nbformat_minor": 2
}
