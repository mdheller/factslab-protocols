{
 "cells": [
  {
   "cell_type": "code",
   "execution_count": 1,
   "metadata": {},
   "outputs": [],
   "source": [
    "import pandas as pd\n",
    "import numpy as np\n",
    "import json\n",
    "import matplotlib.pyplot as plt\n",
    "import seaborn as sns\n",
    "import itertools\n",
    "from nltk.metrics.agreement import AnnotationTask\n",
    "from sklearn.metrics import cohen_kappa_score as kappa\n",
    "from sklearn.metrics import accuracy_score as accuracy\n",
    "from sklearn.metrics import confusion_matrix\n",
    "from scipy.stats import spearmanr as spearman\n",
    "pilot_file = \"Batch_3246275_batch_results.csv\"\n",
    "sid_pilot_file = \"Batch_193589_batch_results_sid.csv\"\n",
    "import warnings\n",
    "warnings.filterwarnings('ignore')"
   ]
  },
  {
   "cell_type": "markdown",
   "metadata": {},
   "source": [
    "#### R packages install - Run only if running for the first time"
   ]
  },
  {
   "cell_type": "code",
   "execution_count": 2,
   "metadata": {},
   "outputs": [],
   "source": [
    "# import rpy2.robjects.packages as rpackages\n",
    "# utils = rpackages.importr('utils')\n",
    "# utils.chooseCRANmirror(ind=1) \n",
    "# packnames = ('ggplot2', 'lme4', 'reshape2', 'tidyverse')\n",
    "# from rpy2.robjects.vectors import StrVector\n",
    "# utils.install_packages(StrVector(packnames))"
   ]
  },
  {
   "cell_type": "code",
   "execution_count": 3,
   "metadata": {},
   "outputs": [],
   "source": [
    "#Load R packages:\n",
    "from rpy2.robjects import r, pandas2ri\n",
    "pandas2ri.activate()"
   ]
  },
  {
   "cell_type": "code",
   "execution_count": 4,
   "metadata": {},
   "outputs": [],
   "source": [
    "data = pd.read_csv(pilot_file)\n",
    "data.columns = [c.replace('.', '_') for c in data.columns]\n",
    "#data.head()"
   ]
  },
  {
   "cell_type": "code",
   "execution_count": 5,
   "metadata": {},
   "outputs": [],
   "source": [
    "def extract_dataframe(data):\n",
    "    '''\n",
    "    Input: Pandas csv dataframe obtained from MTurk\n",
    "    \n",
    "    Output: Pandas dataframe levelled by (User x Sentenced_ID)\n",
    "    '''\n",
    "    data[\"dicts\"] = data[\"Input_var_arrays\"].map(lambda x: json.loads(x))\n",
    "    global_list = []\n",
    "    \n",
    "    for row in data.itertuples():\n",
    "        for idx, local_dict in enumerate(row.dicts):\n",
    "            temp_dict = local_dict.copy()\n",
    "            var_instant = \"Answer_instantaneous\" + str(idx+1)\n",
    "            var_instant_c =  \"Answer_confidence_instantaneous\" + str(idx+1)\n",
    "            var_start = \"Answer_startpt\" + str(idx+1)\n",
    "            var_start_c = \"Answer_confidence_startpoint\" + str(idx+1)\n",
    "            var_end = \"Answer_endpt\" + str(idx+1)\n",
    "            var_end_c = \"Answer_confidence_endpoint\" + str(idx+1)\n",
    "            var_duration = \"Answer_duration\" + str(idx+1)\n",
    "            var_duration_c = \"Answer_confidence_duration\" + str(idx+1)\n",
    "\n",
    "            temp_dict[\"is_instant\"] = getattr(row, var_instant)\n",
    "            temp_dict[\"conf_instant\"] = getattr(row, var_instant_c)\n",
    "            temp_dict[\"has_start\"] = getattr(row, var_start)\n",
    "            temp_dict[\"conf_start\"] = getattr(row, var_start_c)\n",
    "            temp_dict[\"has_end\"] = getattr(row, var_end)\n",
    "            temp_dict[\"conf_end\"] = getattr(row, var_end_c)\n",
    "            temp_dict[\"duration\"] = getattr(row, var_duration)\n",
    "            temp_dict[\"conf_duration\"] = getattr(row, var_duration_c)\n",
    "            temp_dict[\"worker_id\"] = row.WorkerId\n",
    "            temp_dict[\"hit_id\"] = row.HITId\n",
    "\n",
    "            global_list.append(temp_dict)\n",
    "            \n",
    "    return pd.DataFrame(global_list)\n"
   ]
  },
  {
   "cell_type": "code",
   "execution_count": 6,
   "metadata": {},
   "outputs": [],
   "source": [
    "pilot_data = extract_dataframe(data)\n",
    "\n",
    "#Re-arrange the order \n",
    "cols = list(pilot_data.columns)\n",
    "pilot_data = pilot_data[pilot_data.columns[::-1]]\n",
    "#pilot_data = pilot_data[pilot_data.columns[::-1]].drop('sentence', axis=1)\n",
    "\n",
    "#pilot_data.replace('na',np.NaN, inplace=True)\n",
    "pilot_data.head\n",
    "pilot_data['sent_token'] = pilot_data['sentence_id'] + \"_\" +\\\n",
    "                            pilot_data['pred_token'].map(lambda x: str(x))\n"
   ]
  },
  {
   "cell_type": "code",
   "execution_count": 7,
   "metadata": {
    "scrolled": true
   },
   "outputs": [
    {
     "data": {
      "text/plain": [
       "worker_id        object\n",
       "sentence_id      object\n",
       "sentence         object\n",
       "pred_token        int64\n",
       "pred             object\n",
       "is_instant         bool\n",
       "id                int64\n",
       "hit_id           object\n",
       "has_start        object\n",
       "has_end          object\n",
       "duration          int64\n",
       "conf_start        int64\n",
       "conf_instant      int64\n",
       "conf_end          int64\n",
       "conf_duration     int64\n",
       "sent_token       object\n",
       "dtype: object"
      ]
     },
     "execution_count": 7,
     "metadata": {},
     "output_type": "execute_result"
    }
   ],
   "source": [
    "#Convert datatypes to be consistent\n",
    "pilot_data = pilot_data.convert_objects(convert_numeric=True)\n",
    "pilot_data['duration'] = pilot_data['duration'].fillna(value=10)\n",
    "pilot_data.fillna(-1, inplace=True)\n",
    "pilot_data['conf_start'] = pilot_data['conf_start'].astype(np.int64)\n",
    "pilot_data['conf_end'] = pilot_data['conf_end'].astype(np.int64)\n",
    "pilot_data['conf_duration'] = pilot_data['conf_duration'].astype(np.int64)\n",
    "pilot_data['duration'] = pilot_data['duration'].astype(np.int64)\n",
    "pilot_data.dtypes"
   ]
  },
  {
   "cell_type": "code",
   "execution_count": 8,
   "metadata": {},
   "outputs": [],
   "source": [
    "#Change has_start and Has_end to True if instantaneous = True\n",
    "pilot_data.loc[(pilot_data.is_instant == True), \n",
    "               ['has_start', 'has_end']] = \"true\", \"true\"\n",
    "\n",
    "pilot_data.loc[(pilot_data.is_instant == True), 'conf_start'] = pilot_data.conf_instant\n",
    "pilot_data.loc[(pilot_data.is_instant == True), 'conf_end'] = pilot_data.conf_instant\n"
   ]
  },
  {
   "cell_type": "code",
   "execution_count": 9,
   "metadata": {},
   "outputs": [
    {
     "data": {
      "text/html": [
       "<div>\n",
       "<style>\n",
       "    .dataframe thead tr:only-child th {\n",
       "        text-align: right;\n",
       "    }\n",
       "\n",
       "    .dataframe thead th {\n",
       "        text-align: left;\n",
       "    }\n",
       "\n",
       "    .dataframe tbody tr th {\n",
       "        vertical-align: top;\n",
       "    }\n",
       "</style>\n",
       "<table border=\"1\" class=\"dataframe\">\n",
       "  <thead>\n",
       "    <tr style=\"text-align: right;\">\n",
       "      <th></th>\n",
       "      <th>worker_id</th>\n",
       "      <th>sentence_id</th>\n",
       "      <th>sentence</th>\n",
       "      <th>pred_token</th>\n",
       "      <th>pred</th>\n",
       "      <th>is_instant</th>\n",
       "      <th>id</th>\n",
       "      <th>hit_id</th>\n",
       "      <th>has_start</th>\n",
       "      <th>has_end</th>\n",
       "      <th>duration</th>\n",
       "      <th>conf_start</th>\n",
       "      <th>conf_instant</th>\n",
       "      <th>conf_end</th>\n",
       "      <th>conf_duration</th>\n",
       "      <th>sent_token</th>\n",
       "    </tr>\n",
       "  </thead>\n",
       "  <tbody>\n",
       "    <tr>\n",
       "      <th>0</th>\n",
       "      <td>A279YSE7NB16M0</td>\n",
       "      <td>en-ud-train.conllu 5784</td>\n",
       "      <td>&amp;lsqb; an error  &lt;span class=\\\"predicate\\\"&gt; oc...</td>\n",
       "      <td>3</td>\n",
       "      <td>occurred</td>\n",
       "      <td>True</td>\n",
       "      <td>1</td>\n",
       "      <td>3G3AJKPCXLXEW35IXAFPZSB1AI4Y42</td>\n",
       "      <td>true</td>\n",
       "      <td>true</td>\n",
       "      <td>10</td>\n",
       "      <td>3</td>\n",
       "      <td>3</td>\n",
       "      <td>3</td>\n",
       "      <td>-1</td>\n",
       "      <td>en-ud-train.conllu 5784_3</td>\n",
       "    </tr>\n",
       "    <tr>\n",
       "      <th>1</th>\n",
       "      <td>A279YSE7NB16M0</td>\n",
       "      <td>en-ud-train.conllu 5784</td>\n",
       "      <td>&amp;lsqb; an error occurred while  &lt;span class=\\\"...</td>\n",
       "      <td>5</td>\n",
       "      <td>processing</td>\n",
       "      <td>False</td>\n",
       "      <td>2</td>\n",
       "      <td>3G3AJKPCXLXEW35IXAFPZSB1AI4Y42</td>\n",
       "      <td>false</td>\n",
       "      <td>false</td>\n",
       "      <td>8</td>\n",
       "      <td>3</td>\n",
       "      <td>3</td>\n",
       "      <td>3</td>\n",
       "      <td>3</td>\n",
       "      <td>en-ud-train.conllu 5784_5</td>\n",
       "    </tr>\n",
       "    <tr>\n",
       "      <th>2</th>\n",
       "      <td>A279YSE7NB16M0</td>\n",
       "      <td>en-ud-train.conllu 1010</td>\n",
       "      <td>Adolf Hitler even  &lt;span class=\\\"predicate\\\"&gt; ...</td>\n",
       "      <td>3</td>\n",
       "      <td>held</td>\n",
       "      <td>False</td>\n",
       "      <td>3</td>\n",
       "      <td>3G3AJKPCXLXEW35IXAFPZSB1AI4Y42</td>\n",
       "      <td>true</td>\n",
       "      <td>true</td>\n",
       "      <td>5</td>\n",
       "      <td>3</td>\n",
       "      <td>3</td>\n",
       "      <td>3</td>\n",
       "      <td>2</td>\n",
       "      <td>en-ud-train.conllu 1010_3</td>\n",
       "    </tr>\n",
       "    <tr>\n",
       "      <th>3</th>\n",
       "      <td>A279YSE7NB16M0</td>\n",
       "      <td>en-ud-train.conllu 1010</td>\n",
       "      <td>Adolf Hitler even held an exhibition of &amp;#39; ...</td>\n",
       "      <td>15</td>\n",
       "      <td>curating</td>\n",
       "      <td>False</td>\n",
       "      <td>4</td>\n",
       "      <td>3G3AJKPCXLXEW35IXAFPZSB1AI4Y42</td>\n",
       "      <td>false</td>\n",
       "      <td>false</td>\n",
       "      <td>4</td>\n",
       "      <td>3</td>\n",
       "      <td>3</td>\n",
       "      <td>3</td>\n",
       "      <td>2</td>\n",
       "      <td>en-ud-train.conllu 1010_15</td>\n",
       "    </tr>\n",
       "    <tr>\n",
       "      <th>4</th>\n",
       "      <td>A279YSE7NB16M0</td>\n",
       "      <td>en-ud-train.conllu 5106</td>\n",
       "      <td>The central question behind the palace coup is...</td>\n",
       "      <td>20</td>\n",
       "      <td>acted</td>\n",
       "      <td>False</td>\n",
       "      <td>5</td>\n",
       "      <td>3G3AJKPCXLXEW35IXAFPZSB1AI4Y42</td>\n",
       "      <td>false</td>\n",
       "      <td>false</td>\n",
       "      <td>5</td>\n",
       "      <td>3</td>\n",
       "      <td>2</td>\n",
       "      <td>3</td>\n",
       "      <td>2</td>\n",
       "      <td>en-ud-train.conllu 5106_20</td>\n",
       "    </tr>\n",
       "  </tbody>\n",
       "</table>\n",
       "</div>"
      ],
      "text/plain": [
       "        worker_id              sentence_id  \\\n",
       "0  A279YSE7NB16M0  en-ud-train.conllu 5784   \n",
       "1  A279YSE7NB16M0  en-ud-train.conllu 5784   \n",
       "2  A279YSE7NB16M0  en-ud-train.conllu 1010   \n",
       "3  A279YSE7NB16M0  en-ud-train.conllu 1010   \n",
       "4  A279YSE7NB16M0  en-ud-train.conllu 5106   \n",
       "\n",
       "                                            sentence  pred_token        pred  \\\n",
       "0  &lsqb; an error  <span class=\\\"predicate\\\"> oc...           3    occurred   \n",
       "1  &lsqb; an error occurred while  <span class=\\\"...           5  processing   \n",
       "2  Adolf Hitler even  <span class=\\\"predicate\\\"> ...           3        held   \n",
       "3  Adolf Hitler even held an exhibition of &#39; ...          15    curating   \n",
       "4  The central question behind the palace coup is...          20       acted   \n",
       "\n",
       "   is_instant  id                          hit_id has_start has_end  duration  \\\n",
       "0        True   1  3G3AJKPCXLXEW35IXAFPZSB1AI4Y42      true    true        10   \n",
       "1       False   2  3G3AJKPCXLXEW35IXAFPZSB1AI4Y42     false   false         8   \n",
       "2       False   3  3G3AJKPCXLXEW35IXAFPZSB1AI4Y42      true    true         5   \n",
       "3       False   4  3G3AJKPCXLXEW35IXAFPZSB1AI4Y42     false   false         4   \n",
       "4       False   5  3G3AJKPCXLXEW35IXAFPZSB1AI4Y42     false   false         5   \n",
       "\n",
       "   conf_start  conf_instant  conf_end  conf_duration  \\\n",
       "0           3             3         3             -1   \n",
       "1           3             3         3              3   \n",
       "2           3             3         3              2   \n",
       "3           3             3         3              2   \n",
       "4           3             2         3              2   \n",
       "\n",
       "                   sent_token  \n",
       "0   en-ud-train.conllu 5784_3  \n",
       "1   en-ud-train.conllu 5784_5  \n",
       "2   en-ud-train.conllu 1010_3  \n",
       "3  en-ud-train.conllu 1010_15  \n",
       "4  en-ud-train.conllu 5106_20  "
      ]
     },
     "execution_count": 9,
     "metadata": {},
     "output_type": "execute_result"
    }
   ],
   "source": [
    "pilot_data.head()"
   ]
  },
  {
   "cell_type": "markdown",
   "metadata": {},
   "source": [
    "#### Run Mixed Effects Model in R"
   ]
  },
  {
   "cell_type": "code",
   "execution_count": 10,
   "metadata": {},
   "outputs": [],
   "source": [
    "# Enables the %%R magic \n",
    "%load_ext rpy2.ipython"
   ]
  },
  {
   "cell_type": "code",
   "execution_count": 11,
   "metadata": {},
   "outputs": [
    {
     "data": {
      "text/plain": [
       "array([1], dtype=int32)"
      ]
     },
     "execution_count": 11,
     "metadata": {},
     "output_type": "execute_result"
    }
   ],
   "source": [
    "#load packages:\n",
    "%R require(ggplot2); require(tidyr); require(lme4)\n",
    "# library(sigmoid)\n",
    "# library(reshape2)\n",
    "# library(tidyverse)"
   ]
  },
  {
   "cell_type": "markdown",
   "metadata": {},
   "source": [
    "##### Process Data in R"
   ]
  },
  {
   "cell_type": "markdown",
   "metadata": {},
   "source": [
    "### Run Mixed Effects Model "
   ]
  },
  {
   "cell_type": "markdown",
   "metadata": {},
   "source": [
    "#### Is Instant"
   ]
  },
  {
   "cell_type": "code",
   "execution_count": 12,
   "metadata": {},
   "outputs": [
    {
     "data": {
      "text/plain": [
       "Generalized linear mixed model fit by maximum likelihood (Laplace\n",
       "  Approximation) [glmerMod]\n",
       " Family: binomial  ( logit )\n",
       "Formula: is_instant ~ 1 + (1 | worker_id) + (1 | sent_token) + (1 | hit_id)\n",
       "   Data: pilot_data\n",
       "\n",
       "     AIC      BIC   logLik deviance df.resid \n",
       "  1228.8   1248.4   -610.4   1220.8      996 \n",
       "\n",
       "Scaled residuals: \n",
       "    Min      1Q  Median      3Q     Max \n",
       "-2.1595 -0.6027 -0.3254  0.6484  3.4826 \n",
       "\n",
       "Random effects:\n",
       " Groups     Name        Variance  Std.Dev. \n",
       " sent_token (Intercept) 2.092e+00 1.446e+00\n",
       " worker_id  (Intercept) 1.802e+00 1.342e+00\n",
       " hit_id     (Intercept) 1.387e-10 1.178e-05\n",
       "Number of obs: 1000, groups:  sent_token, 200; worker_id, 44; hit_id, 20\n",
       "\n",
       "Fixed effects:\n",
       "            Estimate Std. Error z value Pr(>|z|)   \n",
       "(Intercept)  -0.6876     0.2569  -2.676  0.00744 **\n",
       "---\n",
       "Signif. codes:  0 ‘***’ 0.001 ‘**’ 0.01 ‘*’ 0.05 ‘.’ 0.1 ‘ ’ 1\n"
      ]
     },
     "metadata": {},
     "output_type": "display_data"
    }
   ],
   "source": [
    "%%R -i pilot_data -o df_inst\n",
    "#Modelling Is_instant\n",
    "\n",
    "#Convert to factors\n",
    "pilot_data$is_instant = as.factor(pilot_data$is_instant)\n",
    "pilot_data$has_start = as.factor(pilot_data$has_start)\n",
    "pilot_data$has_end = as.factor(pilot_data$has_end)\n",
    "\n",
    "#Mixed Effects Model\n",
    "model = glmer(is_instant~1+(1|worker_id) + (1|sent_token) + (1|hit_id), data=pilot_data,  family=\"binomial\")\n",
    "\n",
    "#Model intercepts:\n",
    "df_inst = ranef(model)$worker_id\n",
    "colnames(df_inst) <- c('intercept')\n",
    "\n",
    "df_inst$glmer_intercept_inst = df_inst$intercept + -0.6876 #constant added manually\n",
    "df_inst$worker_id <- rownames(df_inst) \n",
    "\n",
    "print(summary(model))"
   ]
  },
  {
   "cell_type": "code",
   "execution_count": 13,
   "metadata": {},
   "outputs": [
    {
     "data": {
      "image/png": "[encoded data removed]",
      "text/plain": [
       "<Figure size 576x396 with 1 Axes>"
      ]
     },
     "metadata": {},
     "output_type": "display_data"
    }
   ],
   "source": [
    "df_inst['glmer_intercept_inst'] = df_inst['glmer_intercept_inst'].apply(lambda x: 1/(1+np.exp(-x)))\n",
    "df_inst.glmer_intercept_inst.plot(kind='density')\n",
    "plt.title(\"Annotator probability density of saying is_instant = true\")\n",
    "plt.show()"
   ]
  },
  {
   "cell_type": "markdown",
   "metadata": {},
   "source": [
    "#### Has_Start"
   ]
  },
  {
   "cell_type": "code",
   "execution_count": 14,
   "metadata": {},
   "outputs": [
    {
     "data": {
      "text/plain": [
       "Generalized linear mixed model fit by maximum likelihood (Laplace\n",
       "  Approximation) [glmerMod]\n",
       " Family: binomial  ( logit )\n",
       "Formula: has_start ~ 1 + (1 | worker_id) + (1 | sent_token) + (1 | hit_id)\n",
       "   Data: pilot_data\n",
       "\n",
       "     AIC      BIC   logLik deviance df.resid \n",
       "  1045.1   1064.7   -518.5   1037.1      996 \n",
       "\n",
       "Scaled residuals: \n",
       "    Min      1Q  Median      3Q     Max \n",
       "-4.0059 -0.4942  0.2293  0.4699  2.3911 \n",
       "\n",
       "Random effects:\n",
       " Groups     Name        Variance Std.Dev.\n",
       " sent_token (Intercept) 2.551    1.597   \n",
       " worker_id  (Intercept) 2.414    1.554   \n",
       " hit_id     (Intercept) 0.000    0.000   \n",
       "Number of obs: 1000, groups:  sent_token, 200; worker_id, 44; hit_id, 20\n",
       "\n",
       "Fixed effects:\n",
       "             Estimate Std. Error z value Pr(>|z|)    \n",
       "(Intercept) 1.6617165  0.0006848    2426   <2e-16 ***\n",
       "---\n",
       "Signif. codes:  0 ‘***’ 0.001 ‘**’ 0.01 ‘*’ 0.05 ‘.’ 0.1 ‘ ’ 1\n",
       "convergence code: 0\n",
       "Model failed to converge with max|grad| = 0.103312 (tol = 0.001, component 1)\n",
       "Model is nearly unidentifiable: very large eigenvalue\n",
       " - Rescale variables?\n",
       "\n"
      ]
     },
     "metadata": {},
     "output_type": "display_data"
    }
   ],
   "source": [
    "%%R -i pilot_data -o df_start\n",
    "#Modelling Is_instant\n",
    "\n",
    "#Convert to factors\n",
    "pilot_data$is_instant = as.factor(pilot_data$is_instant)\n",
    "pilot_data$has_start = as.factor(pilot_data$has_start)\n",
    "pilot_data$has_end = as.factor(pilot_data$has_end)\n",
    "\n",
    "#Mixed Effects Model\n",
    "model = glmer(has_start~1+(1|worker_id) + (1|sent_token) + (1|hit_id), data=pilot_data,  family=\"binomial\")\n",
    "\n",
    "#Model intercepts:\n",
    "df_start = ranef(model)$worker_id\n",
    "colnames(df_start) <- c('intercept')\n",
    "\n",
    "df_start$glmer_intercept_start = df_start$intercept + 1.6617165 #constant added manually\n",
    "df_start$worker_id <- rownames(df_start) \n",
    "\n",
    "print(summary(model))"
   ]
  },
  {
   "cell_type": "code",
   "execution_count": 15,
   "metadata": {},
   "outputs": [
    {
     "data": {
      "image/png": "[encoded data removed]",
      "text/plain": [
       "<Figure size 576x396 with 1 Axes>"
      ]
     },
     "metadata": {},
     "output_type": "display_data"
    }
   ],
   "source": [
    "df_start['glmer_intercept_start'] = df_start['glmer_intercept_start'].apply(lambda x: 1/(1+np.exp(-x)))\n",
    "df_start.glmer_intercept_start.plot(kind='density')\n",
    "plt.title(\"Annotator probability density of saying has_start = true\")\n",
    "plt.show()"
   ]
  },
  {
   "cell_type": "markdown",
   "metadata": {},
   "source": [
    "#### Has_End"
   ]
  },
  {
   "cell_type": "code",
   "execution_count": 16,
   "metadata": {},
   "outputs": [
    {
     "data": {
      "text/plain": [
       "Generalized linear mixed model fit by maximum likelihood (Laplace\n",
       "  Approximation) [glmerMod]\n",
       " Family: binomial  ( logit )\n",
       "Formula: has_end ~ 1 + (1 | worker_id) + (1 | sent_token) + (1 | hit_id)\n",
       "   Data: pilot_data\n",
       "\n",
       "     AIC      BIC   logLik deviance df.resid \n",
       "  1124.8   1144.5   -558.4   1116.8      996 \n",
       "\n",
       "Scaled residuals: \n",
       "    Min      1Q  Median      3Q     Max \n",
       "-2.6541 -0.5951  0.2506  0.5393  2.1441 \n",
       "\n",
       "Random effects:\n",
       " Groups     Name        Variance Std.Dev.\n",
       " sent_token (Intercept) 2.01421  1.4192  \n",
       " worker_id  (Intercept) 2.09677  1.4480  \n",
       " hit_id     (Intercept) 0.07767  0.2787  \n",
       "Number of obs: 1000, groups:  sent_token, 200; worker_id, 44; hit_id, 20\n",
       "\n",
       "Fixed effects:\n",
       "            Estimate Std. Error z value Pr(>|z|)    \n",
       "(Intercept)   1.0041     0.2781   3.611 0.000305 ***\n",
       "---\n",
       "Signif. codes:  0 ‘***’ 0.001 ‘**’ 0.01 ‘*’ 0.05 ‘.’ 0.1 ‘ ’ 1\n"
      ]
     },
     "metadata": {},
     "output_type": "display_data"
    }
   ],
   "source": [
    "%%R -i pilot_data -o df_end\n",
    "#Modelling Is_instant\n",
    "\n",
    "#Convert to factors\n",
    "pilot_data$is_instant = as.factor(pilot_data$is_instant)\n",
    "pilot_data$has_start = as.factor(pilot_data$has_start)\n",
    "pilot_data$has_end = as.factor(pilot_data$has_end)\n",
    "\n",
    "#Mixed Effects Model\n",
    "model = glmer(has_end~1+(1|worker_id) + (1|sent_token) + (1|hit_id), data=pilot_data,  family=\"binomial\")\n",
    "\n",
    "#Model intercepts:\n",
    "df_end = ranef(model)$worker_id\n",
    "colnames(df_end) <- c('intercept')\n",
    "\n",
    "df_end$glmer_intercept_end = df_end$intercept + 1.0041 #constant added manually\n",
    "df_end$worker_id <- rownames(df_end) \n",
    "\n",
    "print(summary(model))"
   ]
  },
  {
   "cell_type": "code",
   "execution_count": 17,
   "metadata": {},
   "outputs": [
    {
     "data": {
      "image/png": "[encoded data removed]",
      "text/plain": [
       "<Figure size 576x396 with 1 Axes>"
      ]
     },
     "metadata": {},
     "output_type": "display_data"
    }
   ],
   "source": [
    "df_end['glmer_intercept_end'] = df_end['glmer_intercept_end'].apply(lambda x: 1/(1+np.exp(-x)))\n",
    "df_end.glmer_intercept_end.plot(kind='density')\n",
    "plt.title(\"Annotator probability density of saying has_end = true\")\n",
    "plt.show()"
   ]
  },
  {
   "cell_type": "markdown",
   "metadata": {},
   "source": [
    "## Response distribution"
   ]
  },
  {
   "cell_type": "code",
   "execution_count": 18,
   "metadata": {},
   "outputs": [
    {
     "data": {
      "image/png": "[encoded data removed]",
      "text/plain": [
       "<Figure size 1080x720 with 8 Axes>"
      ]
     },
     "metadata": {},
     "output_type": "display_data"
    }
   ],
   "source": [
    "#fig, ((ax1, ax2), (ax3, ax4)) = plt.subplots(nrows=2, ncols=2)\n",
    "\n",
    "fig, axs = plt.subplots(ncols=4, nrows=2, figsize=(15, 10))\n",
    "sns.countplot(x='is_instant', data=pilot_data, ax=axs[0][0])\n",
    "sns.countplot(x='conf_instant', data=pilot_data, ax=axs[0][1])\n",
    "sns.countplot(x='has_start', data=pilot_data, ax=axs[0][2])\n",
    "sns.countplot(x='conf_start', data=pilot_data, ax=axs[0][3])\n",
    "sns.countplot(x='has_end', data=pilot_data, ax=axs[1][0])\n",
    "sns.countplot(x='conf_end', data=pilot_data, ax=axs[1][1])\n",
    "sns.countplot(x='duration', data=pilot_data, ax=axs[1][2])\n",
    "sns.countplot(x='conf_duration', data=pilot_data, ax=axs[1][3])\n",
    "plt.show()"
   ]
  },
  {
   "cell_type": "markdown",
   "metadata": {},
   "source": [
    "## Inter-Annotator Agreement"
   ]
  },
  {
   "cell_type": "markdown",
   "metadata": {},
   "source": [
    "### Raw Agreement"
   ]
  },
  {
   "cell_type": "markdown",
   "metadata": {},
   "source": [
    " #### 1. Stringent (Exact matches for a particular sent-predicate pair)"
   ]
  },
  {
   "cell_type": "code",
   "execution_count": 19,
   "metadata": {},
   "outputs": [
    {
     "name": "stdout",
     "output_type": "stream",
     "text": [
      "####### Raw Count for is_instant ###########\n",
      "Total count of unique sent_token is 200\n",
      "Raw count of matched for is_instant is 52\n",
      "Inter-annotator agreement for is_instant is 26.0%\n",
      "\n",
      "\n",
      "####### Raw Count for has_start ###########\n",
      "Total count of unique sent_token is 200\n",
      "Raw count of matched for has_start is 59\n",
      "Inter-annotator agreement for has_start is 29.5%\n",
      "\n",
      "\n",
      "####### Raw Count for has_end ###########\n",
      "Total count of unique sent_token is 200\n",
      "Raw count of matched for has_end is 51\n",
      "Inter-annotator agreement for has_end is 25.5%\n",
      "\n",
      "\n"
     ]
    }
   ],
   "source": [
    "def calc_raw_agreement(data, key_var, check_var):\n",
    "    '''\n",
    "    Input: \n",
    "    1. data: Pandas dataframe\n",
    "    2. key_var: variable based on which raw agreement is to be calculated\n",
    "    3. check_var: vaiable on which raw agreement is calculated\n",
    "    \n",
    "    '''\n",
    "    print(\"####### Raw Count for {} ###########\".format(check_var))\n",
    "    ids = set(list(data[key_var].values))\n",
    "\n",
    "    total_count = len(ids)\n",
    "    raw_count = 0\n",
    "    keys = []\n",
    "    \n",
    "    for iden in ids:\n",
    "        temp = list(data[data[key_var] == iden][check_var].values)\n",
    "        if temp.count(temp[0]) == len(temp):\n",
    "            raw_count += 1\n",
    "            keys.append(iden)\n",
    "     \n",
    "    agreement = (raw_count/total_count)*100\n",
    "    \n",
    "    print(\"Total count of unique {} is {}\".format(key_var, total_count))\n",
    "    print(\"Raw count of matched for {} is {}\".format(check_var, raw_count))\n",
    "    print(\"Inter-annotator agreement for {} is {}%\".format(check_var, agreement))\n",
    "    print(\"\\n\")\n",
    "    \n",
    "    return agreement, keys\n",
    "\n",
    "instant_agreement, key_inst = calc_raw_agreement(pilot_data, 'sent_token', 'is_instant')\n",
    "start_agreement, key_start = calc_raw_agreement(pilot_data, 'sent_token', 'has_start')\n",
    "end_agreement, key_end = calc_raw_agreement(pilot_data, 'sent_token', 'has_end')"
   ]
  },
  {
   "cell_type": "markdown",
   "metadata": {},
   "source": [
    "#### 2. Kappa score estimation"
   ]
  },
  {
   "cell_type": "code",
   "execution_count": 20,
   "metadata": {},
   "outputs": [
    {
     "name": "stdout",
     "output_type": "stream",
     "text": [
      "Total number of annotators: 44\n"
     ]
    }
   ],
   "source": [
    "print(\"Total number of annotators: {}\".format(len(pilot_data['worker_id'].unique())))"
   ]
  },
  {
   "cell_type": "code",
   "execution_count": 21,
   "metadata": {},
   "outputs": [],
   "source": [
    "def extract_pairs_of_workers(data, worker_id):\n",
    "    '''\n",
    "    Given a pandas dataframe, and worker_id variable,\n",
    "    extracts a list of pairs of worker_ids\n",
    "    '''\n",
    "    workers = list(set(data[worker_id].values))\n",
    "    \n",
    "    return list(itertools.combinations(workers, 2))\n",
    "\n",
    "def extract_worker_sent_dict(data, worker_id, sent_id):\n",
    "    '''\n",
    "    Given a pandas dataframe, worker_id variable, and sentence_id variable,\n",
    "    extracts a dict where key is worker_id and value is set(sentences_ids annotated by that worker)\n",
    "    \n",
    "    '''\n",
    "    workers = list(set(data[worker_id].values))\n",
    "    \n",
    "    ans = {}\n",
    "    \n",
    "    for worker in workers:\n",
    "        sents = set(list(data[data[worker_id] == worker][sent_id].values))\n",
    "        ans[worker] = sents\n",
    "        \n",
    "    return ans\n",
    "\n",
    "def extract_worker_pair_dict(data, worker_pairs, worker_dict, sent_id):\n",
    "    '''\n",
    "    Given a pandas dataframe, worker_id variable, and sentence_id variable,\n",
    "    extracts a dict where key is worker_id and value is set(sentences_ids annotated by that worker)\n",
    "    \n",
    "    '''\n",
    "    ans = {}\n",
    "    \n",
    "    for (w1, w2) in worker_pairs:\n",
    "        common_set = worker_dict[w1].intersection(worker_dict[w2])\n",
    "        if common_set != set():\n",
    "            ans[(w1,w2)] = list(common_set)\n",
    "        \n",
    "    return ans"
   ]
  },
  {
   "cell_type": "code",
   "execution_count": 22,
   "metadata": {},
   "outputs": [],
   "source": [
    "worker_pairs = extract_pairs_of_workers(pilot_data, 'worker_id')\n",
    "worker_dict = extract_worker_sent_dict(pilot_data, 'worker_id', 'sent_token')\n",
    "worker_pair_dict = extract_worker_pair_dict(pilot_data, worker_pairs, worker_dict,'sent_token')"
   ]
  },
  {
   "cell_type": "markdown",
   "metadata": {},
   "source": [
    "#### Standard Kappa"
   ]
  },
  {
   "cell_type": "code",
   "execution_count": 23,
   "metadata": {},
   "outputs": [],
   "source": [
    "def average_metric_nltk(data, worker_id, key_var, check_var):\n",
    "    '''\n",
    "    Input: 1. data: pandas dataframe\n",
    "           2. worker_id: Annotator id variable\n",
    "           3. key_var: level of the data (sentence-predicate id)\n",
    "           4. check_var: variable to be checked for kappa score or any other metric \n",
    "    \n",
    "    Output: average kappa score, alpha score for (pairs of annotators) in the dataset.\n",
    "\n",
    "    '''\n",
    "    worker_pairs = extract_pairs_of_workers(data, worker_id)\n",
    "    worker_key_dict = extract_worker_sent_dict(data, worker_id, key_var)\n",
    "    kappas = []\n",
    "    alphas = []\n",
    "    \n",
    "    for (w1, w2) in worker_pairs:\n",
    "        common_set = worker_key_dict[w1].intersection(worker_key_dict[w2])\n",
    "        \n",
    "        if common_set == set():\n",
    "            continue\n",
    "            \n",
    "        temp_data = []\n",
    "        \n",
    "        for key in common_set:\n",
    "            val3 = data[(data[key_var] == key) & \n",
    "                        (data[worker_id] == w1)][check_var].values\n",
    "            val4 = data[(data[key_var] == key) & \n",
    "                        (data[worker_id] == w2)][check_var].values \n",
    "            temp_data.append((w1,key, val3[0]))\n",
    "            temp_data.append((w2,key, val4[0]))\n",
    "\n",
    "        task = AnnotationTask(data=temp_data)\n",
    "        try:\n",
    "            kappas.append(task.kappa())\n",
    "            alphas.append(task.alpha())\n",
    "        except:\n",
    "            print(\"Cannot calculate alpha, expected disagreement zero!\")\n",
    "\n",
    "    return kappas, alphas\n",
    "\n",
    "def average_metric_sklearn(data, worker_id, key_var, check_var):\n",
    "    '''\n",
    "    Input: 1. data: pandas dataframe\n",
    "           2. worker_id: Annotator id variable\n",
    "           3. key_var: level of the data (sentence-predicate id)\n",
    "           4. check_var: variable to be checked for kappa score or any other metric \n",
    "    \n",
    "    Output: average kappa score, accuracy and spearman correlation for (pairs of annotators) in the dataset.\n",
    "\n",
    "    '''\n",
    "    worker_pairs = extract_pairs_of_workers(data, worker_id)\n",
    "    worker_key_dict = extract_worker_sent_dict(data, worker_id, key_var)\n",
    "    kappas = []\n",
    "    accuracies = []\n",
    "    \n",
    "    for (w1, w2) in worker_pairs:\n",
    "        common_set = worker_key_dict[w1].intersection(worker_key_dict[w2])\n",
    "        \n",
    "        if common_set == set():\n",
    "            continue\n",
    "            \n",
    "        temp1 = []\n",
    "        temp2 = []\n",
    "        \n",
    "        if check_var != 'is_instant':\n",
    "            for key in common_set:\n",
    "                val1 = data[(data[key_var] == key) & \n",
    "                        (data[worker_id] == w1)]['is_instant'].values\n",
    "                val2 = data[(data[key_var] == key) & \n",
    "                        (data[worker_id] == w2)]['is_instant'].values\n",
    "                #Only compute metrics if both annotators mark not-instantaneous\n",
    "                if val1[0] == False and val2[0]== False:\n",
    "                    val3 = data[(data[key_var] == key) & \n",
    "                            (data[worker_id] == w1)][check_var].values\n",
    "                    val4 = data[(data[key_var] == key) & \n",
    "                            (data[worker_id] == w2)][check_var].values \n",
    "                    temp1.append(val3[0])\n",
    "                    temp2.append(val4[0])     \n",
    "                else:\n",
    "                    continue     \n",
    "        \n",
    "        else: #check_var == 'is_instant'\n",
    "            for key in common_set:\n",
    "                val3 = data[(data[key_var] == key) & \n",
    "                            (data[worker_id] == w1)][check_var].values\n",
    "                val4 = data[(data[key_var] == key) & \n",
    "                            (data[worker_id] == w2)][check_var].values \n",
    "                temp1.append(val3[0])\n",
    "                temp2.append(val4[0])\n",
    "                   \n",
    "        if temp1 == [] or temp2 == []:\n",
    "            continue\n",
    "\n",
    "        elif temp1==temp2:\n",
    "            kappas.append(1.0)\n",
    "        else:\n",
    "            kappas.append(kappa(temp1, temp2))\n",
    "        accuracies.append(accuracy(temp1, temp2))\n",
    "                \n",
    "    return kappas, accuracies  "
   ]
  },
  {
   "cell_type": "code",
   "execution_count": 24,
   "metadata": {},
   "outputs": [
    {
     "name": "stdout",
     "output_type": "stream",
     "text": [
      "is_instant -- Completed!\n",
      "has_start -- Completed!\n",
      "has_end -- Completed!\n"
     ]
    }
   ],
   "source": [
    "kappas = {}\n",
    "accuracies = {}\n",
    "vars_temp = ['is_instant', 'has_start', 'has_end']\n",
    "for var in vars_temp:\n",
    "    kappas[var], accuracies[var] = average_metric_sklearn(pilot_data, 'worker_id', 'sent_token', var)\n",
    "    print(\"{} -- Completed!\".format(var))"
   ]
  },
  {
   "cell_type": "code",
   "execution_count": 25,
   "metadata": {},
   "outputs": [],
   "source": [
    "kappa_data = pd.DataFrame(dict([ (k,pd.Series(v)) for k,v in kappas.items() ]))\n",
    "acc_data = pd.DataFrame(dict([ (k,pd.Series(v)) for k,v in accuracies.items() ]))"
   ]
  },
  {
   "cell_type": "code",
   "execution_count": 26,
   "metadata": {},
   "outputs": [
    {
     "name": "stdout",
     "output_type": "stream",
     "text": [
      "Average Kappa for \"is_instant\" variable: 0.20180921009067299\n",
      "Average Kappa for \"has_start\" variable: 0.25734488012178797\n",
      "Average Kappa for \"has_end\" variable: 0.2477987382395042\n",
      "\n",
      "\n",
      "Average Accuracy for \"is_instant\" variable: 0.6104431216931219\n",
      "Average Accuracy for \"has_start\" variable: 0.5712943415182541\n",
      "Average Accuracy for \"has_end\" variable: 0.6022251698040362\n",
      "\n",
      "\n"
     ]
    }
   ],
   "source": [
    "print('Average Kappa for \"is_instant\" variable: {}'.format(np.mean(kappa_data['is_instant'])))\n",
    "print('Average Kappa for \"has_start\" variable: {}'.format(np.mean(kappa_data['has_start'])))\n",
    "print('Average Kappa for \"has_end\" variable: {}'.format(np.mean(kappa_data['has_end'])))\n",
    "print(\"\\n\")\n",
    "\n",
    "\n",
    "print('Average Accuracy for \"is_instant\" variable: {}'.format(np.mean(acc_data['is_instant'])))\n",
    "print('Average Accuracy for \"has_start\" variable: {}'.format(np.mean(acc_data['has_start'])))\n",
    "print('Average Accuracy for \"has_end\" variable: {}'.format(np.mean(acc_data['has_end'])))\n",
    "print(\"\\n\")"
   ]
  },
  {
   "cell_type": "code",
   "execution_count": 27,
   "metadata": {},
   "outputs": [
    {
     "data": {
      "image/png": "[encoded data removed]",
      "text/plain": [
       "<Figure size 576x396 with 1 Axes>"
      ]
     },
     "metadata": {},
     "output_type": "display_data"
    },
    {
     "data": {
      "image/png": "[encoded data removed]",
      "text/plain": [
       "<Figure size 576x396 with 1 Axes>"
      ]
     },
     "metadata": {},
     "output_type": "display_data"
    }
   ],
   "source": [
    "ax = sns.boxplot(data=kappa_data)\n",
    "ax.set(title=\"Average Kappa Score\")\n",
    "plt.show()\n",
    "\n",
    "ax = sns.boxplot(data=acc_data)\n",
    "ax.set(title=\"Average Accuracy\")\n",
    "plt.show()\n"
   ]
  },
  {
   "cell_type": "markdown",
   "metadata": {},
   "source": [
    "#### Kappa with estimated chance probabilities"
   ]
  },
  {
   "cell_type": "code",
   "execution_count": 28,
   "metadata": {},
   "outputs": [],
   "source": [
    "def worker_pair_prob(prob_data, worker_pair_dict, prob_var, worker_var):\n",
    "    '''\n",
    "    Outputs a dict with \n",
    "    key: worker pair\n",
    "    value: probability of workers agreeing by chance after taking into account the mixed effects model\n",
    "    '''\n",
    "    pair_prob_dict = {}\n",
    "    \n",
    "    for an1, an2 in worker_pair_dict:\n",
    "        p1 = prob_data[prob_data[worker_var] == an1][prob_var][0]\n",
    "        p2 = prob_data[prob_data[worker_var] == an2][prob_var][0]\n",
    "        pe = p1*p2 + ((1-p1)*(1-p2))\n",
    "        \n",
    "        pair_prob_dict[(an1, an2)] = pe\n",
    "        \n",
    "    return pair_prob_dict"
   ]
  },
  {
   "cell_type": "code",
   "execution_count": 29,
   "metadata": {},
   "outputs": [],
   "source": [
    "pair_prob_dict = {}\n",
    "pair_prob_dict['is_instant'] = worker_pair_prob(df_inst, worker_pair_dict, 'glmer_intercept_inst','worker_id')\n",
    "pair_prob_dict['has_start'] = worker_pair_prob(df_start, worker_pair_dict, 'glmer_intercept_start','worker_id')\n",
    "pair_prob_dict['has_end'] = worker_pair_prob(df_end, worker_pair_dict, 'glmer_intercept_end','worker_id')"
   ]
  },
  {
   "cell_type": "code",
   "execution_count": 30,
   "metadata": {},
   "outputs": [],
   "source": [
    "def average_estimated_kappa(data, worker_id, key_var, check_var, pe_prob):\n",
    "    '''\n",
    "    Input: 1. data: pandas dataframe\n",
    "           2. worker_id: Annotator id variable\n",
    "           3. key_var: level of the data (sentence-predicate id)\n",
    "           4. check_var: variable to be checked for kappa score or any other metric \n",
    "    \n",
    "    Output: average kappa score, accuracy and spearman correlation for (pairs of annotators) in the dataset.\n",
    "\n",
    "    '''\n",
    "    worker_pairs = extract_pairs_of_workers(data, worker_id)\n",
    "    worker_key_dict = extract_worker_sent_dict(data, worker_id, key_var)\n",
    "    kappas = []\n",
    "    accuracies = []\n",
    "    \n",
    "    for (w1, w2) in worker_pairs:\n",
    "        common_set = worker_key_dict[w1].intersection(worker_key_dict[w2])\n",
    "        \n",
    "        if common_set == set():\n",
    "            continue\n",
    "            \n",
    "        temp1 = []\n",
    "        temp2 = []\n",
    "        \n",
    "        if check_var != 'is_instant':\n",
    "            for key in common_set:\n",
    "                val1 = data[(data[key_var] == key) & \n",
    "                        (data[worker_id] == w1)]['is_instant'].values\n",
    "                val2 = data[(data[key_var] == key) & \n",
    "                        (data[worker_id] == w2)]['is_instant'].values\n",
    "                #Only compute metrics if both annotators mark not-instantaneous\n",
    "                if val1[0] == False and val2[0]== False:\n",
    "                    val3 = data[(data[key_var] == key) & \n",
    "                            (data[worker_id] == w1)][check_var].values\n",
    "                    val4 = data[(data[key_var] == key) & \n",
    "                            (data[worker_id] == w2)][check_var].values \n",
    "                    temp1.append(val3[0])\n",
    "                    temp2.append(val4[0])     \n",
    "                else:\n",
    "                    continue     \n",
    "        else: #check_var == 'is_instant'\n",
    "            for key in common_set:\n",
    "                val3 = data[(data[key_var] == key) & \n",
    "                            (data[worker_id] == w1)][check_var].values\n",
    "                val4 = data[(data[key_var] == key) & \n",
    "                            (data[worker_id] == w2)][check_var].values \n",
    "                temp1.append(val3[0])\n",
    "                temp2.append(val4[0])\n",
    "                   \n",
    "        if temp1 == [] or temp2 == []:\n",
    "            continue\n",
    "            \n",
    "        elif temp1==temp2:\n",
    "            kappas.append(1.0)\n",
    "            accuracies.append(1.0)\n",
    "        else:\n",
    "            po = accuracy(temp1, temp2)\n",
    "            pe = pe_prob[(w1, w2)]\n",
    "            kappas.append((po-pe)/(1-pe))\n",
    "            accuracies.append(po)\n",
    "        \n",
    "    return kappas, accuracies "
   ]
  },
  {
   "cell_type": "code",
   "execution_count": 31,
   "metadata": {},
   "outputs": [
    {
     "name": "stdout",
     "output_type": "stream",
     "text": [
      "is_instant -- Completed!\n",
      "has_start -- Completed!\n",
      "has_end -- Completed!\n"
     ]
    }
   ],
   "source": [
    "var_list = ['is_instant', 'has_start', 'has_end']\n",
    "kappas = {}\n",
    "accuracies = {}\n",
    "for var in var_list:\n",
    "    kappas[var], accuracies[var] = average_estimated_kappa(pilot_data, 'worker_id', \n",
    "                                                            'sent_token', var, pair_prob_dict[var])\n",
    "    print(\"{} -- Completed!\".format(var))"
   ]
  },
  {
   "cell_type": "code",
   "execution_count": 32,
   "metadata": {},
   "outputs": [],
   "source": [
    "kappa_data = pd.DataFrame(dict([ (k,pd.Series(v)) for k,v in kappas.items() ]))\n",
    "accuracy_data = pd.DataFrame(dict([ (k,pd.Series(v)) for k,v in accuracies.items() ]))"
   ]
  },
  {
   "cell_type": "code",
   "execution_count": 33,
   "metadata": {},
   "outputs": [
    {
     "name": "stdout",
     "output_type": "stream",
     "text": [
      "Average Kappa for \"is_instant\" variable: 0.19020148286752614\n",
      "Average Kappa for \"has_start\" variable: -0.1932971883992204\n",
      "Average Kappa for \"has_end\" variable: 0.040284493511703774\n",
      "\n",
      "\n"
     ]
    }
   ],
   "source": [
    "print('Average Kappa for \"is_instant\" variable: {}'.format(np.mean(kappa_data['is_instant'])))\n",
    "print('Average Kappa for \"has_start\" variable: {}'.format(np.mean(kappa_data['has_start'])))\n",
    "print('Average Kappa for \"has_end\" variable: {}'.format(np.mean(kappa_data['has_end'])))\n",
    "print(\"\\n\")"
   ]
  },
  {
   "cell_type": "markdown",
   "metadata": {},
   "source": [
    "#### Mean Pe values"
   ]
  },
  {
   "cell_type": "code",
   "execution_count": 34,
   "metadata": {},
   "outputs": [
    {
     "data": {
      "text/plain": [
       "0.5187543416387482"
      ]
     },
     "execution_count": 34,
     "metadata": {},
     "output_type": "execute_result"
    }
   ],
   "source": [
    "np.mean([pair_prob_dict['is_instant'][key] for key in pair_prob_dict['is_instant']])"
   ]
  },
  {
   "cell_type": "code",
   "execution_count": 35,
   "metadata": {},
   "outputs": [
    {
     "data": {
      "text/plain": [
       "0.5899542245802114"
      ]
     },
     "execution_count": 35,
     "metadata": {},
     "output_type": "execute_result"
    }
   ],
   "source": [
    "np.mean([pair_prob_dict['has_start'][key] for key in pair_prob_dict['has_start']])"
   ]
  },
  {
   "cell_type": "code",
   "execution_count": 36,
   "metadata": {},
   "outputs": [
    {
     "data": {
      "text/plain": [
       "0.5488676494638344"
      ]
     },
     "execution_count": 36,
     "metadata": {},
     "output_type": "execute_result"
    }
   ],
   "source": [
    "np.mean([pair_prob_dict['has_end'][key] for key in pair_prob_dict['has_end']])"
   ]
  },
  {
   "cell_type": "code",
   "execution_count": 37,
   "metadata": {},
   "outputs": [
    {
     "data": {
      "image/png": "[encoded data removed]",
      "text/plain": [
       "<Figure size 576x396 with 1 Axes>"
      ]
     },
     "metadata": {},
     "output_type": "display_data"
    },
    {
     "data": {
      "image/png": "[encoded data removed]",
      "text/plain": [
       "<Figure size 576x396 with 1 Axes>"
      ]
     },
     "metadata": {},
     "output_type": "display_data"
    }
   ],
   "source": [
    "ax = sns.boxplot(data=kappa_data)\n",
    "ax.set(title=\"Average Kappa Score\")\n",
    "plt.show()\n",
    "\n",
    "ax = sns.boxplot(data=accuracy_data)\n",
    "ax.set(title=\"Average Accuracies\")\n",
    "plt.show()\n",
    "\n",
    "# ax = sns.boxplot(data=corrs_data)\n",
    "# ax.set(title=\"Average Spearman Correlation\")\n",
    "# plt.show()"
   ]
  },
  {
   "cell_type": "markdown",
   "metadata": {},
   "source": [
    "## Correlation Coefficients for Confidence Agreement"
   ]
  },
  {
   "cell_type": "code",
   "execution_count": 38,
   "metadata": {},
   "outputs": [],
   "source": [
    "def average_correlation(data, worker_id, key_var, check_var):\n",
    "    '''\n",
    "    Input: 1. data: pandas dataframe\n",
    "           2. worker_id: Annotator id variable\n",
    "           3. key_var: level of the data (sentence-predicate id)\n",
    "           4. check_var: variable to be checked for kappa score or any other metric \n",
    "    \n",
    "    Output: average kappa score, accuracy and spearman correlation for (pairs of annotators) in the dataset.\n",
    "\n",
    "    '''\n",
    "    worker_pairs = extract_pairs_of_workers(data, worker_id)\n",
    "    worker_key_dict = extract_worker_sent_dict(data, worker_id, key_var)\n",
    "    spearmans = []\n",
    "    \n",
    "    for (w1, w2) in worker_pairs:\n",
    "        common_set = worker_key_dict[w1].intersection(worker_key_dict[w2])\n",
    "        \n",
    "        if common_set == set():\n",
    "            continue\n",
    "            \n",
    "        temp1 = []\n",
    "        temp2 = []\n",
    "        \n",
    "        if check_var != 'is_instant':\n",
    "            for key in common_set:\n",
    "                val1 = data[(data[key_var] == key) & \n",
    "                        (data[worker_id] == w1)]['is_instant'].values\n",
    "                val2 = data[(data[key_var] == key) & \n",
    "                        (data[worker_id] == w2)]['is_instant'].values\n",
    "                #Only compute metrics if both annotators mark not-instantaneous\n",
    "                if val1[0] == False and val2[0]== False:\n",
    "                    val3 = data[(data[key_var] == key) & \n",
    "                            (data[worker_id] == w1)][check_var].values\n",
    "                    val4 = data[(data[key_var] == key) & \n",
    "                            (data[worker_id] == w2)][check_var].values \n",
    "                    temp1.append(val3[0])\n",
    "                    temp2.append(val4[0])     \n",
    "                else:\n",
    "                    continue     \n",
    "        else: #check_var == 'is_instant'\n",
    "            for key in common_set:\n",
    "                val3 = data[(data[key_var] == key) & \n",
    "                            (data[worker_id] == w1)][check_var].values\n",
    "                val4 = data[(data[key_var] == key) & \n",
    "                            (data[worker_id] == w2)][check_var].values \n",
    "                temp1.append(val3[0])\n",
    "                temp2.append(val4[0])\n",
    "                   \n",
    "        if temp1 == [] or temp2 == []:\n",
    "            continue\n",
    "        elif temp1 == temp2:\n",
    "            spearmans.append(1.0)\n",
    "        else: \n",
    "            spearmans.append(spearman(temp1, temp2)[0])\n",
    "            \n",
    "    return spearmans "
   ]
  },
  {
   "cell_type": "code",
   "execution_count": 39,
   "metadata": {},
   "outputs": [
    {
     "name": "stdout",
     "output_type": "stream",
     "text": [
      "conf_duration -- Completed!\n",
      "conf_start -- Completed!\n",
      "conf_end -- Completed!\n",
      "conf_instant -- Completed!\n",
      "duration -- Completed!\n"
     ]
    }
   ],
   "source": [
    "var_list = ['conf_duration', 'conf_start', 'conf_end', 'conf_instant', 'duration']\n",
    "corrs = {}\n",
    "for var in var_list:\n",
    "    corrs[var] = average_correlation(pilot_data, 'worker_id', \n",
    "                                                            'sent_token', var)\n",
    "    print(\"{} -- Completed!\".format(var))"
   ]
  },
  {
   "cell_type": "code",
   "execution_count": 40,
   "metadata": {},
   "outputs": [],
   "source": [
    "corr_data = pd.DataFrame(dict([ (k,pd.Series(v)) for k,v in corrs.items() ]))"
   ]
  },
  {
   "cell_type": "code",
   "execution_count": 41,
   "metadata": {},
   "outputs": [
    {
     "data": {
      "text/html": [
       "<div>\n",
       "<style>\n",
       "    .dataframe thead tr:only-child th {\n",
       "        text-align: right;\n",
       "    }\n",
       "\n",
       "    .dataframe thead th {\n",
       "        text-align: left;\n",
       "    }\n",
       "\n",
       "    .dataframe tbody tr th {\n",
       "        vertical-align: top;\n",
       "    }\n",
       "</style>\n",
       "<table border=\"1\" class=\"dataframe\">\n",
       "  <thead>\n",
       "    <tr style=\"text-align: right;\">\n",
       "      <th></th>\n",
       "      <th>conf_duration</th>\n",
       "      <th>conf_end</th>\n",
       "      <th>conf_instant</th>\n",
       "      <th>conf_start</th>\n",
       "      <th>duration</th>\n",
       "    </tr>\n",
       "  </thead>\n",
       "  <tbody>\n",
       "    <tr>\n",
       "      <th>0</th>\n",
       "      <td>0.000000</td>\n",
       "      <td>NaN</td>\n",
       "      <td>NaN</td>\n",
       "      <td>NaN</td>\n",
       "      <td>0.215686</td>\n",
       "    </tr>\n",
       "    <tr>\n",
       "      <th>1</th>\n",
       "      <td>0.447214</td>\n",
       "      <td>NaN</td>\n",
       "      <td>-0.141421</td>\n",
       "      <td>NaN</td>\n",
       "      <td>0.772727</td>\n",
       "    </tr>\n",
       "    <tr>\n",
       "      <th>2</th>\n",
       "      <td>0.000000</td>\n",
       "      <td>NaN</td>\n",
       "      <td>-0.316228</td>\n",
       "      <td>NaN</td>\n",
       "      <td>0.419921</td>\n",
       "    </tr>\n",
       "    <tr>\n",
       "      <th>3</th>\n",
       "      <td>-0.416667</td>\n",
       "      <td>NaN</td>\n",
       "      <td>0.509175</td>\n",
       "      <td>NaN</td>\n",
       "      <td>0.670995</td>\n",
       "    </tr>\n",
       "    <tr>\n",
       "      <th>4</th>\n",
       "      <td>NaN</td>\n",
       "      <td>NaN</td>\n",
       "      <td>NaN</td>\n",
       "      <td>NaN</td>\n",
       "      <td>NaN</td>\n",
       "    </tr>\n",
       "    <tr>\n",
       "      <th>5</th>\n",
       "      <td>-0.400000</td>\n",
       "      <td>0.353553</td>\n",
       "      <td>0.645497</td>\n",
       "      <td>NaN</td>\n",
       "      <td>0.368605</td>\n",
       "    </tr>\n",
       "    <tr>\n",
       "      <th>6</th>\n",
       "      <td>0.645497</td>\n",
       "      <td>-0.540062</td>\n",
       "      <td>0.683130</td>\n",
       "      <td>NaN</td>\n",
       "      <td>0.204124</td>\n",
       "    </tr>\n",
       "    <tr>\n",
       "      <th>7</th>\n",
       "      <td>1.000000</td>\n",
       "      <td>NaN</td>\n",
       "      <td>-0.333333</td>\n",
       "      <td>NaN</td>\n",
       "      <td>1.000000</td>\n",
       "    </tr>\n",
       "    <tr>\n",
       "      <th>8</th>\n",
       "      <td>NaN</td>\n",
       "      <td>-1.000000</td>\n",
       "      <td>-1.000000</td>\n",
       "      <td>NaN</td>\n",
       "      <td>NaN</td>\n",
       "    </tr>\n",
       "    <tr>\n",
       "      <th>9</th>\n",
       "      <td>-0.200000</td>\n",
       "      <td>0.000000</td>\n",
       "      <td>NaN</td>\n",
       "      <td>0.0</td>\n",
       "      <td>-0.516100</td>\n",
       "    </tr>\n",
       "  </tbody>\n",
       "</table>\n",
       "</div>"
      ],
      "text/plain": [
       "   conf_duration  conf_end  conf_instant  conf_start  duration\n",
       "0       0.000000       NaN           NaN         NaN  0.215686\n",
       "1       0.447214       NaN     -0.141421         NaN  0.772727\n",
       "2       0.000000       NaN     -0.316228         NaN  0.419921\n",
       "3      -0.416667       NaN      0.509175         NaN  0.670995\n",
       "4            NaN       NaN           NaN         NaN       NaN\n",
       "5      -0.400000  0.353553      0.645497         NaN  0.368605\n",
       "6       0.645497 -0.540062      0.683130         NaN  0.204124\n",
       "7       1.000000       NaN     -0.333333         NaN  1.000000\n",
       "8            NaN -1.000000     -1.000000         NaN       NaN\n",
       "9      -0.200000  0.000000           NaN         0.0 -0.516100"
      ]
     },
     "execution_count": 41,
     "metadata": {},
     "output_type": "execute_result"
    }
   ],
   "source": [
    "corr_data.head(10)"
   ]
  },
  {
   "cell_type": "code",
   "execution_count": 42,
   "metadata": {},
   "outputs": [
    {
     "name": "stdout",
     "output_type": "stream",
     "text": [
      "Average Correlation for conf \"duration\" variable: 0.1571591742778399\n",
      "Average Correlation for conf \"start\" variable: 0.20173246800694364\n",
      "Average Correlation for conf \"end\" variable: 0.13650139949719728\n",
      "Average Correlation for conf \"instant\" variable: 0.13559533491448403\n",
      "Average Correlation for \"duration\" variable: 0.3125084072474516\n",
      "\n",
      "\n"
     ]
    }
   ],
   "source": [
    "print('Average Correlation for conf \"duration\" variable: {}'.format(np.nanmean(corr_data['conf_duration'])))\n",
    "print('Average Correlation for conf \"start\" variable: {}'.format(np.nanmean(corr_data['conf_start'])))\n",
    "print('Average Correlation for conf \"end\" variable: {}'.format(np.nanmean(corr_data['conf_end'])))\n",
    "print('Average Correlation for conf \"instant\" variable: {}'.format(np.nanmean(corr_data['conf_instant'])))\n",
    "print('Average Correlation for \"duration\" variable: {}'.format(np.nanmean(corr_data['duration'])))\n",
    "print(\"\\n\")"
   ]
  },
  {
   "cell_type": "code",
   "execution_count": 43,
   "metadata": {},
   "outputs": [
    {
     "data": {
      "image/png": "[encoded data removed]",
      "text/plain": [
       "<Figure size 576x396 with 1 Axes>"
      ]
     },
     "metadata": {},
     "output_type": "display_data"
    }
   ],
   "source": [
    "ax = sns.boxplot(data=corr_data)\n",
    "ax.set(title=\"Average Spearman Correlation\")\n",
    "plt.show()"
   ]
  },
  {
   "cell_type": "markdown",
   "metadata": {},
   "source": [
    "### Confusion Matrix - Duration"
   ]
  },
  {
   "cell_type": "code",
   "execution_count": 44,
   "metadata": {},
   "outputs": [],
   "source": [
    "duration_dict = {10: 'instant', 9: 'secs',8:'mins', 7:'hrs', 6:'days',\n",
    "                5:'weeks', 4:'months', 3:'yrs', 2:'decs', 1:'cent', 0:'forever'}\n",
    "\n",
    "pilot_data['duration_tag'] = pilot_data.apply(lambda row : duration_dict[row.duration], axis=1)"
   ]
  },
  {
   "cell_type": "code",
   "execution_count": 45,
   "metadata": {},
   "outputs": [
    {
     "name": "stdout",
     "output_type": "stream",
     "text": [
      "['secs', 'mins', 'hrs', 'days', 'weeks', 'months', 'yrs', 'decs', 'cent', 'forever']\n"
     ]
    }
   ],
   "source": [
    "duration_tags = ['secs','mins','hrs','days','weeks','months','yrs','decs','cent','forever']\n",
    "print(duration_tags)"
   ]
  },
  {
   "cell_type": "code",
   "execution_count": 46,
   "metadata": {},
   "outputs": [],
   "source": [
    "def average_confusion_matrix(data, worker_id, key_var, check_var, label_list):\n",
    "    '''\n",
    "    Input: 1. data: pandas dataframe\n",
    "           2. worker_id: Annotator id variable\n",
    "           3. key_var: level of the data (sentence-predicate id)\n",
    "           4. check_var: variable to be checked for kappa score or any other metric \n",
    "    \n",
    "    Output: average kappa score, accuracy and spearman correlation for (pairs of annotators) in the dataset.\n",
    "\n",
    "    '''\n",
    "    worker_pairs = extract_pairs_of_workers(data, worker_id)\n",
    "    worker_key_dict = extract_worker_sent_dict(data, worker_id, key_var)\n",
    "    conf_list = []\n",
    "    conf_rev_list = []\n",
    "    \n",
    "    for (w1, w2) in worker_pairs:\n",
    "        common_set = worker_key_dict[w1].intersection(worker_key_dict[w2])\n",
    "        \n",
    "        if common_set == set():\n",
    "            continue\n",
    "            \n",
    "        temp1 = []\n",
    "        temp2 = []\n",
    "        \n",
    "        if check_var != 'is_instant':\n",
    "            for key in common_set:\n",
    "                val1 = data[(data[key_var] == key) & \n",
    "                        (data[worker_id] == w1)]['is_instant'].values\n",
    "                val2 = data[(data[key_var] == key) & \n",
    "                        (data[worker_id] == w2)]['is_instant'].values\n",
    "                #Only compute metrics if both annotators mark not-instantaneous\n",
    "                if val1[0] == False and val2[0]== False:\n",
    "                    val3 = data[(data[key_var] == key) & \n",
    "                            (data[worker_id] == w1)][check_var].values\n",
    "                    val4 = data[(data[key_var] == key) & \n",
    "                            (data[worker_id] == w2)][check_var].values \n",
    "                    temp1.append(val3[0])\n",
    "                    temp2.append(val4[0])     \n",
    "                else:\n",
    "                    continue     \n",
    "        else: #check_var == 'is_instant'\n",
    "            for key in common_set:\n",
    "                val3 = data[(data[key_var] == key) & \n",
    "                            (data[worker_id] == w1)][check_var].values\n",
    "                val4 = data[(data[key_var] == key) & \n",
    "                            (data[worker_id] == w2)][check_var].values \n",
    "                temp1.append(val3[0])\n",
    "                temp2.append(val4[0])\n",
    "                   \n",
    "        if temp1 == [] or temp2 == []:\n",
    "            continue\n",
    "\n",
    "        conf_matrix = confusion_matrix(temp1, temp2, labels=label_list)\n",
    "        conf_matrix_rev = confusion_matrix(temp2, temp1, labels=label_list)\n",
    "        \n",
    "        #NORMALISE\n",
    "        sum_a = np.sum(conf_matrix,axis=None)\n",
    "        sum_rev = np.sum(conf_matrix_rev,axis=None)\n",
    "        \n",
    "        #conf_matrix = conf_matrix/sum_a\n",
    "        #conf_matrix_rev = conf_matrix_rev/sum_rev\n",
    "        \n",
    "        conf_list.append(conf_matrix)\n",
    "        conf_rev_list.append(conf_matrix_rev)\n",
    "        \n",
    "                \n",
    "    return conf_list, conf_rev_list\n",
    "\n",
    "def matprint(mat, fmt=\"g\"):\n",
    "    '''\n",
    "    Pretty print a numpy matrix\n",
    "    \n",
    "    Source: https://gist.github.com/braingineer/d801735dac07ff3ac4d746e1f218ab75\n",
    "    '''\n",
    "    col_maxes = [max([len((\"{:\"+fmt+\"}\").format(x)) for x in col]) for col in mat.T]\n",
    "    for x in mat:\n",
    "        for i, y in enumerate(x):\n",
    "            print((\"{:\"+str(col_maxes[i])+fmt+\"}\").format(y), end=\"  \")\n",
    "        print(\"\")\n",
    "        \n",
    "def plot_confusion_matrix(cm, classes,\n",
    "                          normalize=False,\n",
    "                          title='Confusion matrix',\n",
    "                          cmap=plt.cm.Blues):\n",
    "    \"\"\"\n",
    "    This function prints and plots the confusion matrix.\n",
    "    Normalization can be applied by setting `normalize=True`.\n",
    "    \"\"\"\n",
    "    if normalize:\n",
    "        cm = cm.astype('float') / cm.sum(axis=1)[:, np.newaxis]\n",
    "        print(\"Normalized confusion matrix\")\n",
    "    else:\n",
    "        print('Confusion matrix, without normalization')\n",
    "\n",
    "    print(cm)\n",
    "\n",
    "    plt.imshow(cm, interpolation='nearest', cmap=cmap)\n",
    "    plt.title(title)\n",
    "    plt.colorbar()\n",
    "    tick_marks = np.arange(len(classes))\n",
    "    plt.xticks(tick_marks, classes, rotation=45)\n",
    "    plt.yticks(tick_marks, classes)\n",
    "\n",
    "    fmt = '.2f' if normalize else '.2f'\n",
    "    thresh = cm.max() / 2.\n",
    "    for i, j in itertools.product(range(cm.shape[0]), range(cm.shape[1])):\n",
    "        plt.text(j, i, format(cm[i, j], fmt),\n",
    "                 horizontalalignment=\"center\",\n",
    "                 color=\"white\" if cm[i, j] > thresh else \"black\")\n",
    "\n",
    "    plt.tight_layout()\n",
    "    plt.ylabel('True label')\n",
    "    plt.xlabel('Predicted label')"
   ]
  },
  {
   "cell_type": "code",
   "execution_count": 47,
   "metadata": {},
   "outputs": [],
   "source": [
    "conf_list, conf_rev_list = average_confusion_matrix(pilot_data, 'worker_id', \n",
    "                                                    'sent_token', 'duration_tag', duration_tags)"
   ]
  },
  {
   "cell_type": "markdown",
   "metadata": {},
   "source": [
    "#### Summed-up Symmetric Matrix"
   ]
  },
  {
   "cell_type": "code",
   "execution_count": 48,
   "metadata": {},
   "outputs": [],
   "source": [
    "A = sum(conf_list) + sum(conf_list).T\n",
    "B = sum(conf_rev_list) + sum(conf_rev_list).T\n",
    "\n",
    "A = A/np.sum(A, axis=None)\n",
    "B = B/np.sum(B, axis=None)\n",
    "#matprint(A)"
   ]
  },
  {
   "cell_type": "code",
   "execution_count": 49,
   "metadata": {},
   "outputs": [
    {
     "name": "stdout",
     "output_type": "stream",
     "text": [
      "Confusion matrix, without normalization\n",
      "[[0.00640205 0.00960307 0.00896287 0.00320102 0.00512164 0.\n",
      "  0.00512164 0.00128041 0.0006402  0.00256082]\n",
      " [0.00960307 0.04609475 0.0396927  0.01600512 0.00768246 0.00448143\n",
      "  0.00576184 0.00128041 0.00128041 0.01472471]\n",
      " [0.00896287 0.0396927  0.05377721 0.02240717 0.01152369 0.00512164\n",
      "  0.00448143 0.00192061 0.0006402  0.01088348]\n",
      " [0.00320102 0.01600512 0.02240717 0.03841229 0.02368758 0.0128041\n",
      "  0.00832266 0.00128041 0.         0.01152369]\n",
      " [0.00512164 0.00768246 0.01152369 0.02368758 0.03329065 0.0268886\n",
      "  0.0134443  0.00256082 0.         0.00960307]\n",
      " [0.         0.00448143 0.00512164 0.0128041  0.0268886  0.02176697\n",
      "  0.03777209 0.00320102 0.0006402  0.00640205]\n",
      " [0.00512164 0.00576184 0.00448143 0.00832266 0.0134443  0.03777209\n",
      "  0.03585147 0.0134443  0.00192061 0.01216389]\n",
      " [0.00128041 0.00128041 0.00192061 0.00128041 0.00256082 0.00320102\n",
      "  0.0134443  0.00896287 0.0006402  0.00192061]\n",
      " [0.0006402  0.00128041 0.0006402  0.         0.         0.0006402\n",
      "  0.00192061 0.0006402  0.         0.0006402 ]\n",
      " [0.00256082 0.01472471 0.01088348 0.01152369 0.00960307 0.00640205\n",
      "  0.01216389 0.00192061 0.0006402  0.00896287]]\n"
     ]
    },
    {
     "data": {
      "image/png": "[encoded data removed]",
      "text/plain": [
       "<Figure size 576x396 with 2 Axes>"
      ]
     },
     "metadata": {},
     "output_type": "display_data"
    }
   ],
   "source": [
    "plt.figure()\n",
    "plot_confusion_matrix(A, classes=duration_tags, normalize=False,\n",
    "                      title='Confusion matrix')\n",
    "\n",
    "plt.show()"
   ]
  },
  {
   "cell_type": "markdown",
   "metadata": {},
   "source": [
    "### Sid's annotation"
   ]
  },
  {
   "cell_type": "code",
   "execution_count": 50,
   "metadata": {},
   "outputs": [
    {
     "data": {
      "text/html": [
       "<div>\n",
       "<style>\n",
       "    .dataframe thead tr:only-child th {\n",
       "        text-align: right;\n",
       "    }\n",
       "\n",
       "    .dataframe thead th {\n",
       "        text-align: left;\n",
       "    }\n",
       "\n",
       "    .dataframe tbody tr th {\n",
       "        vertical-align: top;\n",
       "    }\n",
       "</style>\n",
       "<table border=\"1\" class=\"dataframe\">\n",
       "  <thead>\n",
       "    <tr style=\"text-align: right;\">\n",
       "      <th></th>\n",
       "      <th>worker_id</th>\n",
       "      <th>sentence_id</th>\n",
       "      <th>sentence</th>\n",
       "      <th>pred_token</th>\n",
       "      <th>pred</th>\n",
       "      <th>is_instant</th>\n",
       "      <th>id</th>\n",
       "      <th>hit_id</th>\n",
       "      <th>has_start</th>\n",
       "      <th>has_end</th>\n",
       "      <th>duration</th>\n",
       "      <th>conf_start</th>\n",
       "      <th>conf_instant</th>\n",
       "      <th>conf_end</th>\n",
       "      <th>conf_duration</th>\n",
       "      <th>sent_token</th>\n",
       "      <th>duration_tag</th>\n",
       "    </tr>\n",
       "  </thead>\n",
       "  <tbody>\n",
       "    <tr>\n",
       "      <th>0</th>\n",
       "      <td>A2GL712W3LDMFO</td>\n",
       "      <td>en-ud-train.conllu 6791</td>\n",
       "      <td>( He already had the traumas that his previous...</td>\n",
       "      <td>13</td>\n",
       "      <td>caused</td>\n",
       "      <td>False</td>\n",
       "      <td>1</td>\n",
       "      <td>3NOEP8XAU42P3B5B0WQA1J8WXFDPXU</td>\n",
       "      <td>true</td>\n",
       "      <td>false</td>\n",
       "      <td>8</td>\n",
       "      <td>2</td>\n",
       "      <td>3</td>\n",
       "      <td>2</td>\n",
       "      <td>2</td>\n",
       "      <td>en-ud-train.conllu 6791_13</td>\n",
       "      <td>mins</td>\n",
       "    </tr>\n",
       "    <tr>\n",
       "      <th>1</th>\n",
       "      <td>A2GL712W3LDMFO</td>\n",
       "      <td>en-ud-train.conllu 6791</td>\n",
       "      <td>( He already had the traumas that his previous...</td>\n",
       "      <td>17</td>\n",
       "      <td>made</td>\n",
       "      <td>True</td>\n",
       "      <td>2</td>\n",
       "      <td>3NOEP8XAU42P3B5B0WQA1J8WXFDPXU</td>\n",
       "      <td>na</td>\n",
       "      <td>na</td>\n",
       "      <td>10</td>\n",
       "      <td>-1</td>\n",
       "      <td>2</td>\n",
       "      <td>-1</td>\n",
       "      <td>-1</td>\n",
       "      <td>en-ud-train.conllu 6791_17</td>\n",
       "      <td>instant</td>\n",
       "    </tr>\n",
       "    <tr>\n",
       "      <th>2</th>\n",
       "      <td>A2GL712W3LDMFO</td>\n",
       "      <td>en-ud-train.conllu 12133</td>\n",
       "      <td>The price was actually lower than what I had  ...</td>\n",
       "      <td>9</td>\n",
       "      <td>anticipated</td>\n",
       "      <td>True</td>\n",
       "      <td>3</td>\n",
       "      <td>3NOEP8XAU42P3B5B0WQA1J8WXFDPXU</td>\n",
       "      <td>na</td>\n",
       "      <td>na</td>\n",
       "      <td>10</td>\n",
       "      <td>-1</td>\n",
       "      <td>2</td>\n",
       "      <td>-1</td>\n",
       "      <td>-1</td>\n",
       "      <td>en-ud-train.conllu 12133_9</td>\n",
       "      <td>instant</td>\n",
       "    </tr>\n",
       "    <tr>\n",
       "      <th>3</th>\n",
       "      <td>A2GL712W3LDMFO</td>\n",
       "      <td>en-ud-train.conllu 12133</td>\n",
       "      <td>The price was actually lower than what I had a...</td>\n",
       "      <td>25</td>\n",
       "      <td>did</td>\n",
       "      <td>False</td>\n",
       "      <td>4</td>\n",
       "      <td>3NOEP8XAU42P3B5B0WQA1J8WXFDPXU</td>\n",
       "      <td>false</td>\n",
       "      <td>true</td>\n",
       "      <td>7</td>\n",
       "      <td>2</td>\n",
       "      <td>2</td>\n",
       "      <td>2</td>\n",
       "      <td>2</td>\n",
       "      <td>en-ud-train.conllu 12133_25</td>\n",
       "      <td>hrs</td>\n",
       "    </tr>\n",
       "    <tr>\n",
       "      <th>4</th>\n",
       "      <td>A2GL712W3LDMFO</td>\n",
       "      <td>en-ud-train.conllu 6800</td>\n",
       "      <td>When John  &lt;span class=\\\"predicate\\\"&gt; asked&lt;/s...</td>\n",
       "      <td>2</td>\n",
       "      <td>asked</td>\n",
       "      <td>True</td>\n",
       "      <td>5</td>\n",
       "      <td>3NOEP8XAU42P3B5B0WQA1J8WXFDPXU</td>\n",
       "      <td>na</td>\n",
       "      <td>na</td>\n",
       "      <td>10</td>\n",
       "      <td>-1</td>\n",
       "      <td>3</td>\n",
       "      <td>-1</td>\n",
       "      <td>-1</td>\n",
       "      <td>en-ud-train.conllu 6800_2</td>\n",
       "      <td>instant</td>\n",
       "    </tr>\n",
       "  </tbody>\n",
       "</table>\n",
       "</div>"
      ],
      "text/plain": [
       "        worker_id               sentence_id  \\\n",
       "0  A2GL712W3LDMFO   en-ud-train.conllu 6791   \n",
       "1  A2GL712W3LDMFO   en-ud-train.conllu 6791   \n",
       "2  A2GL712W3LDMFO  en-ud-train.conllu 12133   \n",
       "3  A2GL712W3LDMFO  en-ud-train.conllu 12133   \n",
       "4  A2GL712W3LDMFO   en-ud-train.conllu 6800   \n",
       "\n",
       "                                            sentence  pred_token         pred  \\\n",
       "0  ( He already had the traumas that his previous...          13       caused   \n",
       "1  ( He already had the traumas that his previous...          17         made   \n",
       "2  The price was actually lower than what I had  ...           9  anticipated   \n",
       "3  The price was actually lower than what I had a...          25          did   \n",
       "4  When John  <span class=\\\"predicate\\\"> asked</s...           2        asked   \n",
       "\n",
       "   is_instant  id                          hit_id has_start has_end  duration  \\\n",
       "0       False   1  3NOEP8XAU42P3B5B0WQA1J8WXFDPXU      true   false         8   \n",
       "1        True   2  3NOEP8XAU42P3B5B0WQA1J8WXFDPXU        na      na        10   \n",
       "2        True   3  3NOEP8XAU42P3B5B0WQA1J8WXFDPXU        na      na        10   \n",
       "3       False   4  3NOEP8XAU42P3B5B0WQA1J8WXFDPXU     false    true         7   \n",
       "4        True   5  3NOEP8XAU42P3B5B0WQA1J8WXFDPXU        na      na        10   \n",
       "\n",
       "   conf_start  conf_instant  conf_end  conf_duration  \\\n",
       "0           2             3         2              2   \n",
       "1          -1             2        -1             -1   \n",
       "2          -1             2        -1             -1   \n",
       "3           2             2         2              2   \n",
       "4          -1             3        -1             -1   \n",
       "\n",
       "                    sent_token duration_tag  \n",
       "0   en-ud-train.conllu 6791_13         mins  \n",
       "1   en-ud-train.conllu 6791_17      instant  \n",
       "2   en-ud-train.conllu 12133_9      instant  \n",
       "3  en-ud-train.conllu 12133_25          hrs  \n",
       "4    en-ud-train.conllu 6800_2      instant  "
      ]
     },
     "execution_count": 50,
     "metadata": {},
     "output_type": "execute_result"
    }
   ],
   "source": [
    "sid_data = pd.read_csv(sid_pilot_file)\n",
    "sid_data.columns = [c.replace('.', '_') for c in sid_data.columns]\n",
    "#data.head()\n",
    "\n",
    "sid_pilot_data = extract_dataframe(sid_data)\n",
    "\n",
    "#Re-arrange the order \n",
    "cols = list(sid_pilot_data.columns)\n",
    "sid_pilot_data = sid_pilot_data[sid_pilot_data.columns[::-1]]\n",
    "#sid_pilot_data = sid_pilot_data[sid_pilot_data.columns[::-1]].drop('sentence', axis=1)\n",
    "\n",
    "\n",
    "sid_pilot_data['sent_token'] = sid_pilot_data['sentence_id'] + \"_\" +\\\n",
    "                            sid_pilot_data['pred_token'].map(lambda x: str(x))\n",
    "\n",
    "    \n",
    "#Convert datatypes to be consistent\n",
    "sid_pilot_data = sid_pilot_data.convert_objects(convert_numeric=True)\n",
    "sid_pilot_data['duration'] = sid_pilot_data['duration'].fillna(value=10)\n",
    "sid_pilot_data.fillna(-1, inplace=True)\n",
    "sid_pilot_data['conf_start'] = sid_pilot_data['conf_start'].astype(np.int64)\n",
    "sid_pilot_data['conf_end'] = sid_pilot_data['conf_end'].astype(np.int64)\n",
    "sid_pilot_data['conf_duration'] = sid_pilot_data['conf_duration'].astype(np.int64)\n",
    "sid_pilot_data['duration'] = sid_pilot_data['duration'].astype(np.int64)\n",
    "\n",
    "\n",
    "#Duration_tag\n",
    "sid_pilot_data['duration_tag'] = sid_pilot_data.apply(lambda row : duration_dict[row.duration], axis=1)\n",
    "\n",
    "sid_pilot_data.head()"
   ]
  },
  {
   "cell_type": "markdown",
   "metadata": {},
   "source": [
    "### Agreement Dataset (at sentence level)"
   ]
  },
  {
   "cell_type": "code",
   "execution_count": 51,
   "metadata": {},
   "outputs": [],
   "source": [
    "sent_tokens = list(pilot_data.sent_token.unique())\n",
    "\n",
    "#Sent_token and sentence pairs\n",
    "g = pilot_data.groupby(['sent_token' ,'sentence'])\n",
    "sent_groups = dict(list(g.groups.keys()))"
   ]
  },
  {
   "cell_type": "code",
   "execution_count": 52,
   "metadata": {},
   "outputs": [],
   "source": [
    "agree_data = pd.DataFrame(sent_tokens, columns = ['sent_token'])"
   ]
  },
  {
   "cell_type": "code",
   "execution_count": 53,
   "metadata": {},
   "outputs": [],
   "source": [
    "def tag_counts(row, data, time_tag, tag_var, sent_id):\n",
    "    '''\n",
    "    Count the number of a particular time_tag for a particular sentence id \n",
    "    as annotated by different annotators\n",
    "    '''\n",
    "    \n",
    "    ans = list(data[data.sent_token == getattr(row, sent_id)][tag_var].values).count(time_tag)\n",
    "    \n",
    "    return ans"
   ]
  },
  {
   "cell_type": "code",
   "execution_count": 54,
   "metadata": {},
   "outputs": [],
   "source": [
    "duration_tags = ['instant', 'secs','mins','hrs','days','weeks','months','yrs','decs','cent','forever']\n",
    "\n",
    "\n",
    "for tag in duration_tags:\n",
    "    agree_data[tag] = agree_data.apply(lambda row: tag_counts(row, pilot_data, tag, \n",
    "                                                              'duration_tag',  'sent_token'), axis=1)"
   ]
  },
  {
   "cell_type": "code",
   "execution_count": 55,
   "metadata": {},
   "outputs": [
    {
     "data": {
      "text/html": [
       "<div>\n",
       "<style>\n",
       "    .dataframe thead tr:only-child th {\n",
       "        text-align: right;\n",
       "    }\n",
       "\n",
       "    .dataframe thead th {\n",
       "        text-align: left;\n",
       "    }\n",
       "\n",
       "    .dataframe tbody tr th {\n",
       "        vertical-align: top;\n",
       "    }\n",
       "</style>\n",
       "<table border=\"1\" class=\"dataframe\">\n",
       "  <thead>\n",
       "    <tr style=\"text-align: right;\">\n",
       "      <th></th>\n",
       "      <th>sent_token</th>\n",
       "      <th>instant</th>\n",
       "      <th>secs</th>\n",
       "      <th>mins</th>\n",
       "      <th>hrs</th>\n",
       "      <th>days</th>\n",
       "      <th>weeks</th>\n",
       "      <th>months</th>\n",
       "      <th>yrs</th>\n",
       "      <th>decs</th>\n",
       "      <th>cent</th>\n",
       "      <th>forever</th>\n",
       "    </tr>\n",
       "  </thead>\n",
       "  <tbody>\n",
       "    <tr>\n",
       "      <th>0</th>\n",
       "      <td>en-ud-train.conllu 5784_3</td>\n",
       "      <td>4</td>\n",
       "      <td>0</td>\n",
       "      <td>1</td>\n",
       "      <td>0</td>\n",
       "      <td>0</td>\n",
       "      <td>0</td>\n",
       "      <td>0</td>\n",
       "      <td>0</td>\n",
       "      <td>0</td>\n",
       "      <td>0</td>\n",
       "      <td>0</td>\n",
       "    </tr>\n",
       "    <tr>\n",
       "      <th>1</th>\n",
       "      <td>en-ud-train.conllu 5784_5</td>\n",
       "      <td>1</td>\n",
       "      <td>0</td>\n",
       "      <td>2</td>\n",
       "      <td>2</td>\n",
       "      <td>0</td>\n",
       "      <td>0</td>\n",
       "      <td>0</td>\n",
       "      <td>0</td>\n",
       "      <td>0</td>\n",
       "      <td>0</td>\n",
       "      <td>0</td>\n",
       "    </tr>\n",
       "    <tr>\n",
       "      <th>2</th>\n",
       "      <td>en-ud-train.conllu 1010_3</td>\n",
       "      <td>1</td>\n",
       "      <td>0</td>\n",
       "      <td>0</td>\n",
       "      <td>1</td>\n",
       "      <td>1</td>\n",
       "      <td>2</td>\n",
       "      <td>0</td>\n",
       "      <td>0</td>\n",
       "      <td>0</td>\n",
       "      <td>0</td>\n",
       "      <td>0</td>\n",
       "    </tr>\n",
       "    <tr>\n",
       "      <th>3</th>\n",
       "      <td>en-ud-train.conllu 1010_15</td>\n",
       "      <td>0</td>\n",
       "      <td>0</td>\n",
       "      <td>0</td>\n",
       "      <td>0</td>\n",
       "      <td>1</td>\n",
       "      <td>2</td>\n",
       "      <td>2</td>\n",
       "      <td>0</td>\n",
       "      <td>0</td>\n",
       "      <td>0</td>\n",
       "      <td>0</td>\n",
       "    </tr>\n",
       "    <tr>\n",
       "      <th>4</th>\n",
       "      <td>en-ud-train.conllu 5106_20</td>\n",
       "      <td>0</td>\n",
       "      <td>0</td>\n",
       "      <td>0</td>\n",
       "      <td>0</td>\n",
       "      <td>1</td>\n",
       "      <td>3</td>\n",
       "      <td>1</td>\n",
       "      <td>0</td>\n",
       "      <td>0</td>\n",
       "      <td>0</td>\n",
       "      <td>0</td>\n",
       "    </tr>\n",
       "  </tbody>\n",
       "</table>\n",
       "</div>"
      ],
      "text/plain": [
       "                   sent_token  instant  secs  mins  hrs  days  weeks  months  \\\n",
       "0   en-ud-train.conllu 5784_3        4     0     1    0     0      0       0   \n",
       "1   en-ud-train.conllu 5784_5        1     0     2    2     0      0       0   \n",
       "2   en-ud-train.conllu 1010_3        1     0     0    1     1      2       0   \n",
       "3  en-ud-train.conllu 1010_15        0     0     0    0     1      2       2   \n",
       "4  en-ud-train.conllu 5106_20        0     0     0    0     1      3       1   \n",
       "\n",
       "   yrs  decs  cent  forever  \n",
       "0    0     0     0        0  \n",
       "1    0     0     0        0  \n",
       "2    0     0     0        0  \n",
       "3    0     0     0        0  \n",
       "4    0     0     0        0  "
      ]
     },
     "execution_count": 55,
     "metadata": {},
     "output_type": "execute_result"
    }
   ],
   "source": [
    "agree_data.head()"
   ]
  },
  {
   "cell_type": "markdown",
   "metadata": {},
   "source": [
    "#### Left Join Sid's duration_tags and sentences"
   ]
  },
  {
   "cell_type": "code",
   "execution_count": 56,
   "metadata": {},
   "outputs": [
    {
     "data": {
      "text/html": [
       "<div>\n",
       "<style>\n",
       "    .dataframe thead tr:only-child th {\n",
       "        text-align: right;\n",
       "    }\n",
       "\n",
       "    .dataframe thead th {\n",
       "        text-align: left;\n",
       "    }\n",
       "\n",
       "    .dataframe tbody tr th {\n",
       "        vertical-align: top;\n",
       "    }\n",
       "</style>\n",
       "<table border=\"1\" class=\"dataframe\">\n",
       "  <thead>\n",
       "    <tr style=\"text-align: right;\">\n",
       "      <th></th>\n",
       "      <th>sent_token</th>\n",
       "      <th>sid_tag</th>\n",
       "    </tr>\n",
       "  </thead>\n",
       "  <tbody>\n",
       "    <tr>\n",
       "      <th>0</th>\n",
       "      <td>en-ud-train.conllu 6791_13</td>\n",
       "      <td>mins</td>\n",
       "    </tr>\n",
       "    <tr>\n",
       "      <th>1</th>\n",
       "      <td>en-ud-train.conllu 6791_17</td>\n",
       "      <td>instant</td>\n",
       "    </tr>\n",
       "    <tr>\n",
       "      <th>2</th>\n",
       "      <td>en-ud-train.conllu 12133_9</td>\n",
       "      <td>instant</td>\n",
       "    </tr>\n",
       "    <tr>\n",
       "      <th>3</th>\n",
       "      <td>en-ud-train.conllu 12133_25</td>\n",
       "      <td>hrs</td>\n",
       "    </tr>\n",
       "    <tr>\n",
       "      <th>4</th>\n",
       "      <td>en-ud-train.conllu 6800_2</td>\n",
       "      <td>instant</td>\n",
       "    </tr>\n",
       "  </tbody>\n",
       "</table>\n",
       "</div>"
      ],
      "text/plain": [
       "                    sent_token  sid_tag\n",
       "0   en-ud-train.conllu 6791_13     mins\n",
       "1   en-ud-train.conllu 6791_17  instant\n",
       "2   en-ud-train.conllu 12133_9  instant\n",
       "3  en-ud-train.conllu 12133_25      hrs\n",
       "4    en-ud-train.conllu 6800_2  instant"
      ]
     },
     "execution_count": 56,
     "metadata": {},
     "output_type": "execute_result"
    }
   ],
   "source": [
    "temp_data = sid_pilot_data.rename(columns={\"duration_tag\": \"sid_tag\"})\n",
    "temp_data = temp_data[['sent_token', 'sid_tag']]\n",
    "temp_data.head()"
   ]
  },
  {
   "cell_type": "code",
   "execution_count": 57,
   "metadata": {},
   "outputs": [],
   "source": [
    "agree_data = pd.merge(agree_data, temp_data, on = 'sent_token', how='left')\n",
    "agree_data['sentence'] = agree_data.apply(lambda row: sent_groups[row.sent_token], axis=1)"
   ]
  },
  {
   "cell_type": "code",
   "execution_count": 58,
   "metadata": {},
   "outputs": [],
   "source": [
    "agree_data['ann_agreement'] = agree_data.apply(lambda row: max(row.instant, row.secs, row.mins, row.hrs,\n",
    "                                                         row.days, row.weeks, row.months, row.yrs, row.decs,\n",
    "                                                         row.cent, row.forever), axis=1)\n",
    "agree_data['mode_tag'] = agree_data[duration_tags].idxmax(axis=1)"
   ]
  },
  {
   "cell_type": "code",
   "execution_count": 59,
   "metadata": {},
   "outputs": [
    {
     "data": {
      "text/html": [
       "<div>\n",
       "<style>\n",
       "    .dataframe thead tr:only-child th {\n",
       "        text-align: right;\n",
       "    }\n",
       "\n",
       "    .dataframe thead th {\n",
       "        text-align: left;\n",
       "    }\n",
       "\n",
       "    .dataframe tbody tr th {\n",
       "        vertical-align: top;\n",
       "    }\n",
       "</style>\n",
       "<table border=\"1\" class=\"dataframe\">\n",
       "  <thead>\n",
       "    <tr style=\"text-align: right;\">\n",
       "      <th></th>\n",
       "      <th>sent_token</th>\n",
       "      <th>instant</th>\n",
       "      <th>secs</th>\n",
       "      <th>mins</th>\n",
       "      <th>hrs</th>\n",
       "      <th>days</th>\n",
       "      <th>weeks</th>\n",
       "      <th>months</th>\n",
       "      <th>yrs</th>\n",
       "      <th>decs</th>\n",
       "      <th>cent</th>\n",
       "      <th>forever</th>\n",
       "      <th>sid_tag</th>\n",
       "      <th>sentence</th>\n",
       "      <th>ann_agreement</th>\n",
       "      <th>mode_tag</th>\n",
       "    </tr>\n",
       "  </thead>\n",
       "  <tbody>\n",
       "    <tr>\n",
       "      <th>195</th>\n",
       "      <td>en-ud-dev.conllu 19_12</td>\n",
       "      <td>4</td>\n",
       "      <td>0</td>\n",
       "      <td>0</td>\n",
       "      <td>0</td>\n",
       "      <td>0</td>\n",
       "      <td>0</td>\n",
       "      <td>0</td>\n",
       "      <td>0</td>\n",
       "      <td>0</td>\n",
       "      <td>0</td>\n",
       "      <td>1</td>\n",
       "      <td>instant</td>\n",
       "      <td>They work on Wall Street , after all , so when...</td>\n",
       "      <td>4</td>\n",
       "      <td>instant</td>\n",
       "    </tr>\n",
       "    <tr>\n",
       "      <th>196</th>\n",
       "      <td>en-ud-dev.conllu 807_5</td>\n",
       "      <td>5</td>\n",
       "      <td>0</td>\n",
       "      <td>0</td>\n",
       "      <td>0</td>\n",
       "      <td>0</td>\n",
       "      <td>0</td>\n",
       "      <td>0</td>\n",
       "      <td>0</td>\n",
       "      <td>0</td>\n",
       "      <td>0</td>\n",
       "      <td>0</td>\n",
       "      <td>instant</td>\n",
       "      <td>lol , last news message  &lt;span class=\\\"predica...</td>\n",
       "      <td>5</td>\n",
       "      <td>instant</td>\n",
       "    </tr>\n",
       "    <tr>\n",
       "      <th>197</th>\n",
       "      <td>en-ud-dev.conllu 807_12</td>\n",
       "      <td>1</td>\n",
       "      <td>0</td>\n",
       "      <td>3</td>\n",
       "      <td>0</td>\n",
       "      <td>0</td>\n",
       "      <td>0</td>\n",
       "      <td>0</td>\n",
       "      <td>0</td>\n",
       "      <td>0</td>\n",
       "      <td>0</td>\n",
       "      <td>1</td>\n",
       "      <td>secs</td>\n",
       "      <td>lol , last news message came out kinda weird ,...</td>\n",
       "      <td>3</td>\n",
       "      <td>mins</td>\n",
       "    </tr>\n",
       "    <tr>\n",
       "      <th>198</th>\n",
       "      <td>en-ud-dev.conllu 13_6</td>\n",
       "      <td>2</td>\n",
       "      <td>0</td>\n",
       "      <td>1</td>\n",
       "      <td>0</td>\n",
       "      <td>2</td>\n",
       "      <td>0</td>\n",
       "      <td>0</td>\n",
       "      <td>0</td>\n",
       "      <td>0</td>\n",
       "      <td>0</td>\n",
       "      <td>0</td>\n",
       "      <td>hrs</td>\n",
       "      <td>In Fallujah , hundreds of demonstrators  &lt;span...</td>\n",
       "      <td>2</td>\n",
       "      <td>instant</td>\n",
       "    </tr>\n",
       "    <tr>\n",
       "      <th>199</th>\n",
       "      <td>en-ud-dev.conllu 13_14</td>\n",
       "      <td>4</td>\n",
       "      <td>0</td>\n",
       "      <td>1</td>\n",
       "      <td>0</td>\n",
       "      <td>0</td>\n",
       "      <td>0</td>\n",
       "      <td>0</td>\n",
       "      <td>0</td>\n",
       "      <td>0</td>\n",
       "      <td>0</td>\n",
       "      <td>0</td>\n",
       "      <td>instant</td>\n",
       "      <td>In Fallujah , hundreds of demonstrators came o...</td>\n",
       "      <td>4</td>\n",
       "      <td>instant</td>\n",
       "    </tr>\n",
       "  </tbody>\n",
       "</table>\n",
       "</div>"
      ],
      "text/plain": [
       "                  sent_token  instant  secs  mins  hrs  days  weeks  months  \\\n",
       "195   en-ud-dev.conllu 19_12        4     0     0    0     0      0       0   \n",
       "196   en-ud-dev.conllu 807_5        5     0     0    0     0      0       0   \n",
       "197  en-ud-dev.conllu 807_12        1     0     3    0     0      0       0   \n",
       "198    en-ud-dev.conllu 13_6        2     0     1    0     2      0       0   \n",
       "199   en-ud-dev.conllu 13_14        4     0     1    0     0      0       0   \n",
       "\n",
       "     yrs  decs  cent  forever  sid_tag  \\\n",
       "195    0     0     0        1  instant   \n",
       "196    0     0     0        0  instant   \n",
       "197    0     0     0        1     secs   \n",
       "198    0     0     0        0      hrs   \n",
       "199    0     0     0        0  instant   \n",
       "\n",
       "                                              sentence  ann_agreement mode_tag  \n",
       "195  They work on Wall Street , after all , so when...              4  instant  \n",
       "196  lol , last news message  <span class=\\\"predica...              5  instant  \n",
       "197  lol , last news message came out kinda weird ,...              3     mins  \n",
       "198  In Fallujah , hundreds of demonstrators  <span...              2  instant  \n",
       "199  In Fallujah , hundreds of demonstrators came o...              4  instant  "
      ]
     },
     "execution_count": 59,
     "metadata": {},
     "output_type": "execute_result"
    }
   ],
   "source": [
    "agree_data.tail()"
   ]
  },
  {
   "cell_type": "code",
   "execution_count": 60,
   "metadata": {},
   "outputs": [
    {
     "data": {
      "image/png": "[encoded data removed]",
      "text/plain": [
       "<Figure size 576x396 with 1 Axes>"
      ]
     },
     "metadata": {},
     "output_type": "display_data"
    }
   ],
   "source": [
    "sns.countplot(x='ann_agreement', data=agree_data)\n",
    "plt.xlabel(\"No. of annotators agreeing\")\n",
    "plt.show()"
   ]
  },
  {
   "cell_type": "code",
   "execution_count": 61,
   "metadata": {},
   "outputs": [
    {
     "data": {
      "text/plain": [
       "2    83\n",
       "3    60\n",
       "4    31\n",
       "5    16\n",
       "1    10\n",
       "Name: ann_agreement, dtype: int64"
      ]
     },
     "execution_count": 61,
     "metadata": {},
     "output_type": "execute_result"
    }
   ],
   "source": [
    "agree_data.ann_agreement.value_counts()"
   ]
  },
  {
   "cell_type": "markdown",
   "metadata": {},
   "source": [
    "#### Cumulative annotator agreement (raw)"
   ]
  },
  {
   "cell_type": "code",
   "execution_count": 62,
   "metadata": {},
   "outputs": [],
   "source": [
    "agree_dict = dict(agree_data.ann_agreement.value_counts())"
   ]
  },
  {
   "cell_type": "code",
   "execution_count": 63,
   "metadata": {},
   "outputs": [
    {
     "data": {
      "image/png": "[encoded data removed]",
      "text/plain": [
       "<Figure size 576x396 with 1 Axes>"
      ]
     },
     "metadata": {},
     "output_type": "display_data"
    }
   ],
   "source": [
    "agrees = [agree_dict[5], agree_dict[5]+agree_dict[4],\n",
    "                   agree_dict[5]+agree_dict[4]+agree_dict[3],\n",
    "                   agree_dict[5]+agree_dict[4]+agree_dict[3]+agree_dict[2]]\n",
    "\n",
    "degree = ['5', '4', '3', '2']\n",
    "\n",
    "plt.bar(degree, agrees)\n",
    "plt.xlabel(\"Number of Annotators agreeing with each other (cumulative)\")\n",
    "plt.ylabel(\"Percentage of sentences\")\n",
    "plt.title(\"Raw Annotator agreement \")\n",
    "plt.show()"
   ]
  },
  {
   "cell_type": "markdown",
   "metadata": {},
   "source": [
    "### Further Analysis of Sentences"
   ]
  },
  {
   "cell_type": "code",
   "execution_count": 64,
   "metadata": {},
   "outputs": [
    {
     "data": {
      "text/plain": [
       "(93, 16)"
      ]
     },
     "execution_count": 64,
     "metadata": {},
     "output_type": "execute_result"
    }
   ],
   "source": [
    "agree_data[agree_data.sid_tag == agree_data.mode_tag].shape"
   ]
  },
  {
   "cell_type": "markdown",
   "metadata": {},
   "source": [
    "The above number shows that 93/170 times sid's answer was matched by the majority-annotator answer"
   ]
  },
  {
   "cell_type": "code",
   "execution_count": 65,
   "metadata": {},
   "outputs": [],
   "source": [
    "agree_data.to_csv(\"agreement_data_protocol1.csv\", index=False)"
   ]
  },
  {
   "cell_type": "markdown",
   "metadata": {},
   "source": [
    "#### Manual sentence examples"
   ]
  },
  {
   "cell_type": "markdown",
   "metadata": {},
   "source": [
    "https://bit.ly/2IYTicT"
   ]
  }
 ],
 "metadata": {
  "kernelspec": {
   "display_name": "Python 3",
   "language": "python",
   "name": "python3"
  },
  "language_info": {
   "codemirror_mode": {
    "name": "ipython",
    "version": 3
   },
   "file_extension": ".py",
   "mimetype": "text/x-python",
   "name": "python",
   "nbconvert_exporter": "python",
   "pygments_lexer": "ipython3",
   "version": "3.6.5"
  }
 },
 "nbformat": 4,
 "nbformat_minor": 2
}
