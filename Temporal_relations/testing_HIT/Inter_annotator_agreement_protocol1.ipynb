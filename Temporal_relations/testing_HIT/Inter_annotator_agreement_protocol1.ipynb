{
 "cells": [
  {
   "cell_type": "code",
   "execution_count": 1,
   "metadata": {},
   "outputs": [],
   "source": [
    "import pandas as pd\n",
    "import numpy as np\n",
    "import json\n",
    "import matplotlib.pyplot as plt\n",
    "import seaborn as sns\n",
    "import itertools\n",
    "from nltk.metrics.agreement import AnnotationTask\n",
    "from sklearn.metrics import cohen_kappa_score as kappa\n",
    "from sklearn.metrics import accuracy_score as accuracy\n",
    "from scipy.stats import spearmanr as spearman\n",
    "pilot_file = \"Batch_3198536_batch_results.csv\"\n",
    "import warnings\n",
    "warnings.filterwarnings('ignore')"
   ]
  },
  {
   "cell_type": "markdown",
   "metadata": {},
   "source": [
    "#### R packages install - Run only if running for the first time"
   ]
  },
  {
   "cell_type": "code",
   "execution_count": 2,
   "metadata": {},
   "outputs": [],
   "source": [
    "# import rpy2.robjects.packages as rpackages\n",
    "# utils = rpackages.importr('utils')\n",
    "# utils.chooseCRANmirror(ind=1) \n",
    "# packnames = ('ggplot2', 'lme4', 'reshape2', 'tidyverse')\n",
    "# from rpy2.robjects.vectors import StrVector\n",
    "# utils.install_packages(StrVector(packnames))"
   ]
  },
  {
   "cell_type": "code",
   "execution_count": 3,
   "metadata": {},
   "outputs": [],
   "source": [
    "#Load R packages:\n",
    "from rpy2.robjects import r, pandas2ri\n",
    "pandas2ri.activate()"
   ]
  },
  {
   "cell_type": "code",
   "execution_count": 4,
   "metadata": {},
   "outputs": [],
   "source": [
    "data = pd.read_csv(pilot_file)\n",
    "data.columns = [c.replace('.', '_') for c in data.columns]\n",
    "#data.head()"
   ]
  },
  {
   "cell_type": "code",
   "execution_count": 5,
   "metadata": {},
   "outputs": [],
   "source": [
    "def extract_dataframe(data):\n",
    "    '''\n",
    "    Input: Pandas csv dataframe obtained from MTurk\n",
    "    \n",
    "    Output: Pandas dataframe levelled by (User x Sentenced_ID)\n",
    "    '''\n",
    "    data[\"dicts\"] = data[\"Input_var_arrays\"].map(lambda x: json.loads(x))\n",
    "    global_list = []\n",
    "    \n",
    "    for row in data.itertuples():\n",
    "        for idx, local_dict in enumerate(row.dicts):\n",
    "            temp_dict = local_dict.copy()\n",
    "            var_instant = \"Answer_instantaneous\" + str(idx+1)\n",
    "            var_instant_c =  \"Answer_confidence_instantaneous\" + str(idx+1)\n",
    "            var_start = \"Answer_startpt\" + str(idx+1)\n",
    "            var_start_c = \"Answer_confidence_startpoint\" + str(idx+1)\n",
    "            var_end = \"Answer_endpt\" + str(idx+1)\n",
    "            var_end_c = \"Answer_confidence_endpoint\" + str(idx+1)\n",
    "            var_duration = \"Answer_duration\" + str(idx+1)\n",
    "            var_duration_c = \"Answer_confidence_duration\" + str(idx+1)\n",
    "\n",
    "            temp_dict[\"is_instant\"] = getattr(row, var_instant)\n",
    "            temp_dict[\"conf_instant\"] = getattr(row, var_instant_c)\n",
    "            temp_dict[\"has_start\"] = getattr(row, var_start)\n",
    "            temp_dict[\"conf_start\"] = getattr(row, var_start_c)\n",
    "            temp_dict[\"has_end\"] = getattr(row, var_end)\n",
    "            temp_dict[\"conf_end\"] = getattr(row, var_end_c)\n",
    "            temp_dict[\"duration\"] = getattr(row, var_duration)\n",
    "            temp_dict[\"conf_duration\"] = getattr(row, var_duration_c)\n",
    "            temp_dict[\"worker_id\"] = row.WorkerId\n",
    "            temp_dict[\"hit_id\"] = row.HITId\n",
    "\n",
    "            global_list.append(temp_dict)\n",
    "            \n",
    "    return pd.DataFrame(global_list)\n"
   ]
  },
  {
   "cell_type": "code",
   "execution_count": 6,
   "metadata": {},
   "outputs": [],
   "source": [
    "pilot_data = extract_dataframe(data)\n",
    "\n",
    "#Re-arrange the order \n",
    "cols = list(pilot_data.columns)\n",
    "pilot_data = pilot_data[pilot_data.columns[::-1]].drop('sentence', axis=1)\n",
    "\n",
    "#pilot_data.replace('na',np.NaN, inplace=True)\n",
    "pilot_data.head\n",
    "pilot_data['sent_token'] = pilot_data['sentence_id'] + \"_\" +\\\n",
    "                            pilot_data['pred_token'].map(lambda x: str(x))\n"
   ]
  },
  {
   "cell_type": "code",
   "execution_count": 7,
   "metadata": {
    "scrolled": true
   },
   "outputs": [
    {
     "data": {
      "text/plain": [
       "worker_id        object\n",
       "sentence_id      object\n",
       "pred_token        int64\n",
       "pred             object\n",
       "is_instant         bool\n",
       "id                int64\n",
       "hit_id           object\n",
       "has_start        object\n",
       "has_end          object\n",
       "duration          int64\n",
       "conf_start        int64\n",
       "conf_instant      int64\n",
       "conf_end          int64\n",
       "conf_duration     int64\n",
       "sent_token       object\n",
       "dtype: object"
      ]
     },
     "execution_count": 7,
     "metadata": {},
     "output_type": "execute_result"
    }
   ],
   "source": [
    "#Convert datatypes to be consistent\n",
    "pilot_data = pilot_data.convert_objects(convert_numeric=True)\n",
    "pilot_data.fillna(-1, inplace=True)\n",
    "pilot_data['conf_start'] = pilot_data['conf_start'].astype(np.int64)\n",
    "pilot_data['conf_end'] = pilot_data['conf_end'].astype(np.int64)\n",
    "pilot_data['conf_duration'] = pilot_data['conf_duration'].astype(np.int64)\n",
    "pilot_data['duration'] = pilot_data['duration'].astype(np.int64)\n",
    "pilot_data.dtypes"
   ]
  },
  {
   "cell_type": "code",
   "execution_count": 8,
   "metadata": {},
   "outputs": [],
   "source": [
    "#Change has_start and Has_end to True if instantaneous = True\n",
    "pilot_data.loc[(pilot_data.is_instant == True), \n",
    "               ['has_start', 'has_end']] = \"true\", \"true\"\n",
    "\n",
    "pilot_data.loc[(pilot_data.is_instant == True), 'conf_start'] = pilot_data.conf_instant\n",
    "pilot_data.loc[(pilot_data.is_instant == True), 'conf_end'] = pilot_data.conf_instant\n"
   ]
  },
  {
   "cell_type": "code",
   "execution_count": 9,
   "metadata": {},
   "outputs": [
    {
     "data": {
      "text/html": [
       "<div>\n",
       "<style>\n",
       "    .dataframe thead tr:only-child th {\n",
       "        text-align: right;\n",
       "    }\n",
       "\n",
       "    .dataframe thead th {\n",
       "        text-align: left;\n",
       "    }\n",
       "\n",
       "    .dataframe tbody tr th {\n",
       "        vertical-align: top;\n",
       "    }\n",
       "</style>\n",
       "<table border=\"1\" class=\"dataframe\">\n",
       "  <thead>\n",
       "    <tr style=\"text-align: right;\">\n",
       "      <th></th>\n",
       "      <th>worker_id</th>\n",
       "      <th>sentence_id</th>\n",
       "      <th>pred_token</th>\n",
       "      <th>pred</th>\n",
       "      <th>is_instant</th>\n",
       "      <th>id</th>\n",
       "      <th>hit_id</th>\n",
       "      <th>has_start</th>\n",
       "      <th>has_end</th>\n",
       "      <th>duration</th>\n",
       "      <th>conf_start</th>\n",
       "      <th>conf_instant</th>\n",
       "      <th>conf_end</th>\n",
       "      <th>conf_duration</th>\n",
       "      <th>sent_token</th>\n",
       "    </tr>\n",
       "  </thead>\n",
       "  <tbody>\n",
       "    <tr>\n",
       "      <th>0</th>\n",
       "      <td>AQ2U4H38MELRY</td>\n",
       "      <td>en-ud-train.conllu 5784</td>\n",
       "      <td>3</td>\n",
       "      <td>occurred</td>\n",
       "      <td>True</td>\n",
       "      <td>1</td>\n",
       "      <td>3NCN4N1H1GM453MD5NG1QQJZWHXBN7</td>\n",
       "      <td>true</td>\n",
       "      <td>true</td>\n",
       "      <td>-1</td>\n",
       "      <td>2</td>\n",
       "      <td>2</td>\n",
       "      <td>2</td>\n",
       "      <td>-1</td>\n",
       "      <td>en-ud-train.conllu 5784_3</td>\n",
       "    </tr>\n",
       "    <tr>\n",
       "      <th>1</th>\n",
       "      <td>AQ2U4H38MELRY</td>\n",
       "      <td>en-ud-train.conllu 5784</td>\n",
       "      <td>5</td>\n",
       "      <td>processing</td>\n",
       "      <td>False</td>\n",
       "      <td>2</td>\n",
       "      <td>3NCN4N1H1GM453MD5NG1QQJZWHXBN7</td>\n",
       "      <td>true</td>\n",
       "      <td>false</td>\n",
       "      <td>7</td>\n",
       "      <td>3</td>\n",
       "      <td>2</td>\n",
       "      <td>2</td>\n",
       "      <td>2</td>\n",
       "      <td>en-ud-train.conllu 5784_5</td>\n",
       "    </tr>\n",
       "    <tr>\n",
       "      <th>2</th>\n",
       "      <td>AQ2U4H38MELRY</td>\n",
       "      <td>en-ud-train.conllu 1010</td>\n",
       "      <td>3</td>\n",
       "      <td>held</td>\n",
       "      <td>False</td>\n",
       "      <td>3</td>\n",
       "      <td>3NCN4N1H1GM453MD5NG1QQJZWHXBN7</td>\n",
       "      <td>false</td>\n",
       "      <td>false</td>\n",
       "      <td>5</td>\n",
       "      <td>1</td>\n",
       "      <td>3</td>\n",
       "      <td>2</td>\n",
       "      <td>0</td>\n",
       "      <td>en-ud-train.conllu 1010_3</td>\n",
       "    </tr>\n",
       "    <tr>\n",
       "      <th>3</th>\n",
       "      <td>AQ2U4H38MELRY</td>\n",
       "      <td>en-ud-train.conllu 1010</td>\n",
       "      <td>15</td>\n",
       "      <td>curating</td>\n",
       "      <td>False</td>\n",
       "      <td>4</td>\n",
       "      <td>3NCN4N1H1GM453MD5NG1QQJZWHXBN7</td>\n",
       "      <td>false</td>\n",
       "      <td>false</td>\n",
       "      <td>5</td>\n",
       "      <td>2</td>\n",
       "      <td>4</td>\n",
       "      <td>2</td>\n",
       "      <td>1</td>\n",
       "      <td>en-ud-train.conllu 1010_15</td>\n",
       "    </tr>\n",
       "    <tr>\n",
       "      <th>4</th>\n",
       "      <td>AQ2U4H38MELRY</td>\n",
       "      <td>en-ud-train.conllu 5106</td>\n",
       "      <td>20</td>\n",
       "      <td>acted</td>\n",
       "      <td>False</td>\n",
       "      <td>5</td>\n",
       "      <td>3NCN4N1H1GM453MD5NG1QQJZWHXBN7</td>\n",
       "      <td>false</td>\n",
       "      <td>false</td>\n",
       "      <td>5</td>\n",
       "      <td>3</td>\n",
       "      <td>2</td>\n",
       "      <td>3</td>\n",
       "      <td>0</td>\n",
       "      <td>en-ud-train.conllu 5106_20</td>\n",
       "    </tr>\n",
       "  </tbody>\n",
       "</table>\n",
       "</div>"
      ],
      "text/plain": [
       "       worker_id              sentence_id  pred_token        pred  is_instant  \\\n",
       "0  AQ2U4H38MELRY  en-ud-train.conllu 5784           3    occurred        True   \n",
       "1  AQ2U4H38MELRY  en-ud-train.conllu 5784           5  processing       False   \n",
       "2  AQ2U4H38MELRY  en-ud-train.conllu 1010           3        held       False   \n",
       "3  AQ2U4H38MELRY  en-ud-train.conllu 1010          15    curating       False   \n",
       "4  AQ2U4H38MELRY  en-ud-train.conllu 5106          20       acted       False   \n",
       "\n",
       "   id                          hit_id has_start has_end  duration  conf_start  \\\n",
       "0   1  3NCN4N1H1GM453MD5NG1QQJZWHXBN7      true    true        -1           2   \n",
       "1   2  3NCN4N1H1GM453MD5NG1QQJZWHXBN7      true   false         7           3   \n",
       "2   3  3NCN4N1H1GM453MD5NG1QQJZWHXBN7     false   false         5           1   \n",
       "3   4  3NCN4N1H1GM453MD5NG1QQJZWHXBN7     false   false         5           2   \n",
       "4   5  3NCN4N1H1GM453MD5NG1QQJZWHXBN7     false   false         5           3   \n",
       "\n",
       "   conf_instant  conf_end  conf_duration                  sent_token  \n",
       "0             2         2             -1   en-ud-train.conllu 5784_3  \n",
       "1             2         2              2   en-ud-train.conllu 5784_5  \n",
       "2             3         2              0   en-ud-train.conllu 1010_3  \n",
       "3             4         2              1  en-ud-train.conllu 1010_15  \n",
       "4             2         3              0  en-ud-train.conllu 5106_20  "
      ]
     },
     "execution_count": 9,
     "metadata": {},
     "output_type": "execute_result"
    }
   ],
   "source": [
    "pilot_data.head()"
   ]
  },
  {
   "cell_type": "markdown",
   "metadata": {},
   "source": [
    "#### Run Mixed Effects Model in R"
   ]
  },
  {
   "cell_type": "code",
   "execution_count": 10,
   "metadata": {},
   "outputs": [],
   "source": [
    "# Enables the %%R magic \n",
    "%load_ext rpy2.ipython"
   ]
  },
  {
   "cell_type": "code",
   "execution_count": 11,
   "metadata": {},
   "outputs": [
    {
     "data": {
      "text/plain": [
       "array([1], dtype=int32)"
      ]
     },
     "execution_count": 11,
     "metadata": {},
     "output_type": "execute_result"
    }
   ],
   "source": [
    "#load packages:\n",
    "%R require(ggplot2); require(tidyr); require(lme4)\n",
    "# library(sigmoid)\n",
    "# library(reshape2)\n",
    "# library(tidyverse)"
   ]
  },
  {
   "cell_type": "markdown",
   "metadata": {},
   "source": [
    "##### Process Data in R"
   ]
  },
  {
   "cell_type": "markdown",
   "metadata": {},
   "source": [
    "### Run Mixed Effects Model "
   ]
  },
  {
   "cell_type": "markdown",
   "metadata": {},
   "source": [
    "#### Is Instant"
   ]
  },
  {
   "cell_type": "code",
   "execution_count": 12,
   "metadata": {},
   "outputs": [
    {
     "data": {
      "text/plain": [
       "Generalized linear mixed model fit by maximum likelihood (Laplace\n",
       "  Approximation) [glmerMod]\n",
       " Family: binomial  ( logit )\n",
       "Formula: is_instant ~ 1 + (1 | worker_id) + (1 | sent_token) + (1 | hit_id)\n",
       "   Data: pilot_data\n",
       "\n",
       "     AIC      BIC   logLik deviance df.resid \n",
       "  1163.9   1183.5   -577.9   1155.9      996 \n",
       "\n",
       "Scaled residuals: \n",
       "    Min      1Q  Median      3Q     Max \n",
       "-2.6394 -0.5412 -0.2856  0.5915  3.8726 \n",
       "\n",
       "Random effects:\n",
       " Groups     Name        Variance Std.Dev.\n",
       " sent_token (Intercept) 2.205    1.485   \n",
       " worker_id  (Intercept) 1.567    1.252   \n",
       " hit_id     (Intercept) 0.000    0.000   \n",
       "Number of obs: 1000, groups:  sent_token, 200; worker_id, 72; hit_id, 20\n",
       "\n",
       "Fixed effects:\n",
       "            Estimate Std. Error z value Pr(>|z|)  \n",
       "(Intercept)  -0.4101     0.2033  -2.018   0.0436 *\n",
       "---\n",
       "Signif. codes:  0 ‘***’ 0.001 ‘**’ 0.01 ‘*’ 0.05 ‘.’ 0.1 ‘ ’ 1\n"
      ]
     },
     "metadata": {},
     "output_type": "display_data"
    }
   ],
   "source": [
    "%%R -i pilot_data -o df_inst\n",
    "#Modelling Is_instant\n",
    "\n",
    "#Convert to factors\n",
    "pilot_data$is_instant = as.factor(pilot_data$is_instant)\n",
    "pilot_data$has_start = as.factor(pilot_data$has_start)\n",
    "pilot_data$has_end = as.factor(pilot_data$has_end)\n",
    "\n",
    "#Mixed Effects Model\n",
    "model = glmer(is_instant~1+(1|worker_id) + (1|sent_token) + (1|hit_id), data=pilot_data,  family=\"binomial\")\n",
    "\n",
    "#Model intercepts:\n",
    "df_inst = ranef(model)$worker_id\n",
    "colnames(df_inst) <- c('intercept')\n",
    "\n",
    "df_inst$glmer_intercept_inst = df_inst$intercept + -0.4101 #constant added manually\n",
    "df_inst$worker_id <- rownames(df_inst) \n",
    "\n",
    "print(summary(model))"
   ]
  },
  {
   "cell_type": "code",
   "execution_count": 13,
   "metadata": {},
   "outputs": [
    {
     "data": {
      "image/png": "[encoded data removed]",
      "text/plain": [
       "<Figure size 576x396 with 1 Axes>"
      ]
     },
     "metadata": {},
     "output_type": "display_data"
    }
   ],
   "source": [
    "df_inst['glmer_intercept_inst'] = df_inst['glmer_intercept_inst'].apply(lambda x: 1/(1+np.exp(-x)))\n",
    "df_inst.glmer_intercept_inst.plot(kind='density')\n",
    "plt.title(\"Annotator probability density of saying is_instant = true\")\n",
    "plt.show()"
   ]
  },
  {
   "cell_type": "markdown",
   "metadata": {},
   "source": [
    "#### Has_Start"
   ]
  },
  {
   "cell_type": "code",
   "execution_count": 14,
   "metadata": {},
   "outputs": [
    {
     "data": {
      "text/plain": [
       "Generalized linear mixed model fit by maximum likelihood (Laplace\n",
       "  Approximation) [glmerMod]\n",
       " Family: binomial  ( logit )\n",
       "Formula: has_start ~ 1 + (1 | worker_id) + (1 | sent_token) + (1 | hit_id)\n",
       "   Data: pilot_data\n",
       "\n",
       "     AIC      BIC   logLik deviance df.resid \n",
       "  1169.0   1188.6   -580.5   1161.0      996 \n",
       "\n",
       "Scaled residuals: \n",
       "    Min      1Q  Median      3Q     Max \n",
       "-3.4626 -0.6630  0.3436  0.5591  1.9087 \n",
       "\n",
       "Random effects:\n",
       " Groups     Name        Variance Std.Dev.\n",
       " sent_token (Intercept) 1.1616   1.0778  \n",
       " worker_id  (Intercept) 1.5156   1.2311  \n",
       " hit_id     (Intercept) 0.2094   0.4576  \n",
       "Number of obs: 1000, groups:  sent_token, 200; worker_id, 72; hit_id, 20\n",
       "\n",
       "Fixed effects:\n",
       "            Estimate Std. Error z value Pr(>|z|)    \n",
       "(Intercept)   1.1608     0.2198   5.282 1.28e-07 ***\n",
       "---\n",
       "Signif. codes:  0 ‘***’ 0.001 ‘**’ 0.01 ‘*’ 0.05 ‘.’ 0.1 ‘ ’ 1\n"
      ]
     },
     "metadata": {},
     "output_type": "display_data"
    }
   ],
   "source": [
    "%%R -i pilot_data -o df_start\n",
    "#Modelling Is_instant\n",
    "\n",
    "#Convert to factors\n",
    "pilot_data$is_instant = as.factor(pilot_data$is_instant)\n",
    "pilot_data$has_start = as.factor(pilot_data$has_start)\n",
    "pilot_data$has_end = as.factor(pilot_data$has_end)\n",
    "\n",
    "#Mixed Effects Model\n",
    "model = glmer(has_start~1+(1|worker_id) + (1|sent_token) + (1|hit_id), data=pilot_data,  family=\"binomial\")\n",
    "\n",
    "#Model intercepts:\n",
    "df_start = ranef(model)$worker_id\n",
    "colnames(df_start) <- c('intercept')\n",
    "\n",
    "df_start$glmer_intercept_start = df_start$intercept + 1.1608 #constant added manually\n",
    "df_start$worker_id <- rownames(df_start) \n",
    "\n",
    "print(summary(model))"
   ]
  },
  {
   "cell_type": "code",
   "execution_count": 15,
   "metadata": {},
   "outputs": [
    {
     "data": {
      "image/png": "[encoded data removed]",
      "text/plain": [
       "<Figure size 576x396 with 1 Axes>"
      ]
     },
     "metadata": {},
     "output_type": "display_data"
    }
   ],
   "source": [
    "df_start['glmer_intercept_start'] = df_start['glmer_intercept_start'].apply(lambda x: 1/(1+np.exp(-x)))\n",
    "df_start.glmer_intercept_start.plot(kind='density')\n",
    "plt.title(\"Annotator probability density of saying has_start = true\")\n",
    "plt.show()"
   ]
  },
  {
   "cell_type": "markdown",
   "metadata": {},
   "source": [
    "#### Has_End"
   ]
  },
  {
   "cell_type": "code",
   "execution_count": 16,
   "metadata": {},
   "outputs": [
    {
     "data": {
      "text/plain": [
       "Generalized linear mixed model fit by maximum likelihood (Laplace\n",
       "  Approximation) [glmerMod]\n",
       " Family: binomial  ( logit )\n",
       "Formula: has_end ~ 1 + (1 | worker_id) + (1 | sent_token) + (1 | hit_id)\n",
       "   Data: pilot_data\n",
       "\n",
       "     AIC      BIC   logLik deviance df.resid \n",
       "  1223.6   1243.2   -607.8   1215.6      996 \n",
       "\n",
       "Scaled residuals: \n",
       "    Min      1Q  Median      3Q     Max \n",
       "-3.1943 -0.6887  0.3885  0.5902  1.8611 \n",
       "\n",
       "Random effects:\n",
       " Groups     Name        Variance  Std.Dev. \n",
       " sent_token (Intercept) 1.217e+00 1.1031692\n",
       " worker_id  (Intercept) 1.108e+00 1.0525183\n",
       " hit_id     (Intercept) 4.944e-07 0.0007032\n",
       "Number of obs: 1000, groups:  sent_token, 200; worker_id, 72; hit_id, 20\n",
       "\n",
       "Fixed effects:\n",
       "            Estimate Std. Error z value Pr(>|z|)    \n",
       "(Intercept)   0.8758     0.1748   5.012  5.4e-07 ***\n",
       "---\n",
       "Signif. codes:  0 ‘***’ 0.001 ‘**’ 0.01 ‘*’ 0.05 ‘.’ 0.1 ‘ ’ 1\n",
       "convergence code: 0\n",
       "Model failed to converge with max|grad| = 0.00284863 (tol = 0.001, component 1)\n",
       "\n"
      ]
     },
     "metadata": {},
     "output_type": "display_data"
    }
   ],
   "source": [
    "%%R -i pilot_data -o df_end\n",
    "#Modelling Is_instant\n",
    "\n",
    "#Convert to factors\n",
    "pilot_data$is_instant = as.factor(pilot_data$is_instant)\n",
    "pilot_data$has_start = as.factor(pilot_data$has_start)\n",
    "pilot_data$has_end = as.factor(pilot_data$has_end)\n",
    "\n",
    "#Mixed Effects Model\n",
    "model = glmer(has_end~1+(1|worker_id) + (1|sent_token) + (1|hit_id), data=pilot_data,  family=\"binomial\")\n",
    "\n",
    "#Model intercepts:\n",
    "df_end = ranef(model)$worker_id\n",
    "colnames(df_end) <- c('intercept')\n",
    "\n",
    "df_end$glmer_intercept_end = df_end$intercept + 0.8758 #constant added manually\n",
    "df_end$worker_id <- rownames(df_end) \n",
    "\n",
    "print(summary(model))"
   ]
  },
  {
   "cell_type": "code",
   "execution_count": 17,
   "metadata": {},
   "outputs": [
    {
     "data": {
      "image/png": "[encoded data removed]",
      "text/plain": [
       "<Figure size 576x396 with 1 Axes>"
      ]
     },
     "metadata": {},
     "output_type": "display_data"
    }
   ],
   "source": [
    "df_end['glmer_intercept_end'] = df_end['glmer_intercept_end'].apply(lambda x: 1/(1+np.exp(-x)))\n",
    "df_end.glmer_intercept_end.plot(kind='density')\n",
    "plt.title(\"Annotator probability density of saying has_end = true\")\n",
    "plt.show()"
   ]
  },
  {
   "cell_type": "markdown",
   "metadata": {},
   "source": [
    "## Response distribution"
   ]
  },
  {
   "cell_type": "code",
   "execution_count": 18,
   "metadata": {},
   "outputs": [
    {
     "data": {
      "image/png": "[encoded data removed]",
      "text/plain": [
       "<Figure size 1080x720 with 8 Axes>"
      ]
     },
     "metadata": {},
     "output_type": "display_data"
    }
   ],
   "source": [
    "#fig, ((ax1, ax2), (ax3, ax4)) = plt.subplots(nrows=2, ncols=2)\n",
    "\n",
    "fig, axs = plt.subplots(ncols=4, nrows=2, figsize=(15, 10))\n",
    "sns.countplot(x='is_instant', data=pilot_data, ax=axs[0][0])\n",
    "sns.countplot(x='conf_instant', data=pilot_data, ax=axs[0][1])\n",
    "sns.countplot(x='has_start', data=pilot_data, ax=axs[0][2])\n",
    "sns.countplot(x='conf_start', data=pilot_data, ax=axs[0][3])\n",
    "sns.countplot(x='has_end', data=pilot_data, ax=axs[1][0])\n",
    "sns.countplot(x='conf_end', data=pilot_data, ax=axs[1][1])\n",
    "sns.countplot(x='duration', data=pilot_data, ax=axs[1][2])\n",
    "sns.countplot(x='conf_duration', data=pilot_data, ax=axs[1][3])\n",
    "plt.show()"
   ]
  },
  {
   "cell_type": "markdown",
   "metadata": {},
   "source": [
    "## Inter-Annotator Agreement"
   ]
  },
  {
   "cell_type": "markdown",
   "metadata": {},
   "source": [
    "### Raw Agreement"
   ]
  },
  {
   "cell_type": "markdown",
   "metadata": {},
   "source": [
    " #### 1. Stringent (Exact matches for a particular sent-predicate pair)"
   ]
  },
  {
   "cell_type": "code",
   "execution_count": 19,
   "metadata": {},
   "outputs": [
    {
     "name": "stdout",
     "output_type": "stream",
     "text": [
      "####### Raw Count for is_instant ###########\n",
      "Total count of unique sent_token is 200\n",
      "Raw count of matched for is_instant is 46\n",
      "Inter-annotator agreement for is_instant is 23.0%\n",
      "\n",
      "\n",
      "####### Raw Count for has_start ###########\n",
      "Total count of unique sent_token is 200\n",
      "Raw count of matched for has_start is 50\n",
      "Inter-annotator agreement for has_start is 25.0%\n",
      "\n",
      "\n",
      "####### Raw Count for has_end ###########\n",
      "Total count of unique sent_token is 200\n",
      "Raw count of matched for has_end is 47\n",
      "Inter-annotator agreement for has_end is 23.5%\n",
      "\n",
      "\n"
     ]
    }
   ],
   "source": [
    "def calc_raw_agreement(data, key_var, check_var):\n",
    "    '''\n",
    "    Input: \n",
    "    1. data: Pandas dataframe\n",
    "    2. key_var: variable based on which raw agreement is to be calculated\n",
    "    3. check_var: vaiable on which raw agreement is calculated\n",
    "    \n",
    "    '''\n",
    "    print(\"####### Raw Count for {} ###########\".format(check_var))\n",
    "    ids = set(list(data[key_var].values))\n",
    "\n",
    "    total_count = len(ids)\n",
    "    raw_count = 0\n",
    "    keys = []\n",
    "    \n",
    "    for iden in ids:\n",
    "        temp = list(data[data[key_var] == iden][check_var].values)\n",
    "        if temp.count(temp[0]) == len(temp):\n",
    "            raw_count += 1\n",
    "            keys.append(iden)\n",
    "     \n",
    "    agreement = (raw_count/total_count)*100\n",
    "    \n",
    "    print(\"Total count of unique {} is {}\".format(key_var, total_count))\n",
    "    print(\"Raw count of matched for {} is {}\".format(check_var, raw_count))\n",
    "    print(\"Inter-annotator agreement for {} is {}%\".format(check_var, agreement))\n",
    "    print(\"\\n\")\n",
    "    \n",
    "    return agreement, keys\n",
    "\n",
    "instant_agreement, key_inst = calc_raw_agreement(pilot_data, 'sent_token', 'is_instant')\n",
    "start_agreement, key_start = calc_raw_agreement(pilot_data, 'sent_token', 'has_start')\n",
    "end_agreement, key_end = calc_raw_agreement(pilot_data, 'sent_token', 'has_end')"
   ]
  },
  {
   "cell_type": "markdown",
   "metadata": {},
   "source": [
    "#### 2. Kappa score estimation"
   ]
  },
  {
   "cell_type": "code",
   "execution_count": 20,
   "metadata": {},
   "outputs": [],
   "source": [
    "def extract_pairs_of_workers(data, worker_id):\n",
    "    '''\n",
    "    Given a pandas dataframe, and worker_id variable,\n",
    "    extracts a list of pairs of worker_ids\n",
    "    '''\n",
    "    workers = list(set(data[worker_id].values))\n",
    "    \n",
    "    return list(itertools.combinations(workers, 2))\n",
    "\n",
    "def extract_worker_sent_dict(data, worker_id, sent_id):\n",
    "    '''\n",
    "    Given a pandas dataframe, worker_id variable, and sentence_id variable,\n",
    "    extracts a dict where key is worker_id and value is set(sentences_ids annotated by that worker)\n",
    "    \n",
    "    '''\n",
    "    workers = list(set(data[worker_id].values))\n",
    "    \n",
    "    ans = {}\n",
    "    \n",
    "    for worker in workers:\n",
    "        sents = set(list(data[data[worker_id] == worker][sent_id].values))\n",
    "        ans[worker] = sents\n",
    "        \n",
    "    return ans\n",
    "\n",
    "def extract_worker_pair_dict(data, worker_pairs, worker_dict, sent_id):\n",
    "    '''\n",
    "    Given a pandas dataframe, worker_id variable, and sentence_id variable,\n",
    "    extracts a dict where key is worker_id and value is set(sentences_ids annotated by that worker)\n",
    "    \n",
    "    '''\n",
    "    ans = {}\n",
    "    \n",
    "    for (w1, w2) in worker_pairs:\n",
    "        common_set = worker_dict[w1].intersection(worker_dict[w2])\n",
    "        if common_set != set():\n",
    "            ans[(w1,w2)] = list(common_set)\n",
    "        \n",
    "    return ans"
   ]
  },
  {
   "cell_type": "code",
   "execution_count": 21,
   "metadata": {},
   "outputs": [],
   "source": [
    "worker_pairs = extract_pairs_of_workers(pilot_data, 'worker_id')\n",
    "worker_dict = extract_worker_sent_dict(pilot_data, 'worker_id', 'sent_token')\n",
    "worker_pair_dict = extract_worker_pair_dict(pilot_data, worker_pairs, worker_dict,'sent_token')"
   ]
  },
  {
   "cell_type": "markdown",
   "metadata": {},
   "source": [
    "#### Standard Kappa"
   ]
  },
  {
   "cell_type": "code",
   "execution_count": 22,
   "metadata": {},
   "outputs": [],
   "source": [
    "def average_metric_nltk(data, worker_id, key_var, check_var):\n",
    "    '''\n",
    "    Input: 1. data: pandas dataframe\n",
    "           2. worker_id: Annotator id variable\n",
    "           3. key_var: level of the data (sentence-predicate id)\n",
    "           4. check_var: variable to be checked for kappa score or any other metric \n",
    "    \n",
    "    Output: average kappa score, alpha score for (pairs of annotators) in the dataset.\n",
    "\n",
    "    '''\n",
    "    worker_pairs = extract_pairs_of_workers(data, worker_id)\n",
    "    worker_key_dict = extract_worker_sent_dict(data, worker_id, key_var)\n",
    "    kappas = []\n",
    "    alphas = []\n",
    "    \n",
    "    for (w1, w2) in worker_pairs:\n",
    "        common_set = worker_key_dict[w1].intersection(worker_key_dict[w2])\n",
    "        \n",
    "        if common_set == set():\n",
    "            continue\n",
    "            \n",
    "        temp_data = []\n",
    "        \n",
    "        for key in common_set:\n",
    "            val3 = data[(data[key_var] == key) & \n",
    "                        (data[worker_id] == w1)][check_var].values\n",
    "            val4 = data[(data[key_var] == key) & \n",
    "                        (data[worker_id] == w2)][check_var].values \n",
    "            temp_data.append((w1,key, val3[0]))\n",
    "            temp_data.append((w2,key, val4[0]))\n",
    "\n",
    "        task = AnnotationTask(data=temp_data)\n",
    "        try:\n",
    "            kappas.append(task.kappa())\n",
    "            alphas.append(task.alpha())\n",
    "        except:\n",
    "            print(\"Cannot calculate alpha, expected disagreement zero!\")\n",
    "\n",
    "    return kappas, alphas\n",
    "\n",
    "def average_metric_sklearn(data, worker_id, key_var, check_var):\n",
    "    '''\n",
    "    Input: 1. data: pandas dataframe\n",
    "           2. worker_id: Annotator id variable\n",
    "           3. key_var: level of the data (sentence-predicate id)\n",
    "           4. check_var: variable to be checked for kappa score or any other metric \n",
    "    \n",
    "    Output: average kappa score, accuracy and spearman correlation for (pairs of annotators) in the dataset.\n",
    "\n",
    "    '''\n",
    "    worker_pairs = extract_pairs_of_workers(data, worker_id)\n",
    "    worker_key_dict = extract_worker_sent_dict(data, worker_id, key_var)\n",
    "    kappas = []\n",
    "    accuracies = []\n",
    "    \n",
    "    for (w1, w2) in worker_pairs:\n",
    "        common_set = worker_key_dict[w1].intersection(worker_key_dict[w2])\n",
    "        \n",
    "        if common_set == set():\n",
    "            continue\n",
    "            \n",
    "        temp1 = []\n",
    "        temp2 = []\n",
    "        \n",
    "        if check_var != 'is_instant':\n",
    "            for key in common_set:\n",
    "                val1 = data[(data[key_var] == key) & \n",
    "                        (data[worker_id] == w1)]['is_instant'].values\n",
    "                val2 = data[(data[key_var] == key) & \n",
    "                        (data[worker_id] == w2)]['is_instant'].values\n",
    "                #Only compute metrics if both annotators mark not-instantaneous\n",
    "                if val1[0] == False and val2[0]== False:\n",
    "                    val3 = data[(data[key_var] == key) & \n",
    "                            (data[worker_id] == w1)][check_var].values\n",
    "                    val4 = data[(data[key_var] == key) & \n",
    "                            (data[worker_id] == w2)][check_var].values \n",
    "                    temp1.append(val3[0])\n",
    "                    temp2.append(val4[0])     \n",
    "                else:\n",
    "                    continue     \n",
    "        \n",
    "        else: #check_var == 'is_instant'\n",
    "            for key in common_set:\n",
    "                val3 = data[(data[key_var] == key) & \n",
    "                            (data[worker_id] == w1)][check_var].values\n",
    "                val4 = data[(data[key_var] == key) & \n",
    "                            (data[worker_id] == w2)][check_var].values \n",
    "                temp1.append(val3[0])\n",
    "                temp2.append(val4[0])\n",
    "                   \n",
    "        if temp1 == [] or temp2 == []:\n",
    "            continue\n",
    "\n",
    "        elif temp1==temp2:\n",
    "            kappas.append(1.0)\n",
    "        else:\n",
    "            kappas.append(kappa(temp1, temp2))\n",
    "        accuracies.append(accuracy(temp1, temp2))\n",
    "                \n",
    "    return kappas, accuracies  "
   ]
  },
  {
   "cell_type": "code",
   "execution_count": 23,
   "metadata": {},
   "outputs": [
    {
     "name": "stdout",
     "output_type": "stream",
     "text": [
      "is_instant -- Completed!\n",
      "has_start -- Completed!\n",
      "has_end -- Completed!\n"
     ]
    }
   ],
   "source": [
    "kappas = {}\n",
    "accuracies = {}\n",
    "vars_temp = ['is_instant', 'has_start', 'has_end']\n",
    "for var in vars_temp:\n",
    "    kappas[var], accuracies[var] = average_metric_sklearn(pilot_data, 'worker_id', 'sent_token', var)\n",
    "    print(\"{} -- Completed!\".format(var))"
   ]
  },
  {
   "cell_type": "code",
   "execution_count": 24,
   "metadata": {},
   "outputs": [],
   "source": [
    "kappa_data = pd.DataFrame(dict([ (k,pd.Series(v)) for k,v in kappas.items() ]))\n",
    "acc_data = pd.DataFrame(dict([ (k,pd.Series(v)) for k,v in accuracies.items() ]))"
   ]
  },
  {
   "cell_type": "code",
   "execution_count": 25,
   "metadata": {},
   "outputs": [
    {
     "name": "stdout",
     "output_type": "stream",
     "text": [
      "Average Kappa for \"is_instant\" variable: 0.21641387999717643\n",
      "Average Kappa for \"has_start\" variable: 0.19598733834295623\n",
      "Average Kappa for \"has_end\" variable: 0.2552158303576875\n",
      "\n",
      "\n",
      "Average Accuracy for \"is_instant\" variable: 0.6243589743589741\n",
      "Average Accuracy for \"has_start\" variable: 0.546728370835514\n",
      "Average Accuracy for \"has_end\" variable: 0.6058117477760335\n",
      "\n",
      "\n"
     ]
    }
   ],
   "source": [
    "print('Average Kappa for \"is_instant\" variable: {}'.format(np.mean(kappa_data['is_instant'])))\n",
    "print('Average Kappa for \"has_start\" variable: {}'.format(np.mean(kappa_data['has_start'])))\n",
    "print('Average Kappa for \"has_end\" variable: {}'.format(np.mean(kappa_data['has_end'])))\n",
    "print(\"\\n\")\n",
    "\n",
    "\n",
    "print('Average Accuracy for \"is_instant\" variable: {}'.format(np.mean(acc_data['is_instant'])))\n",
    "print('Average Accuracy for \"has_start\" variable: {}'.format(np.mean(acc_data['has_start'])))\n",
    "print('Average Accuracy for \"has_end\" variable: {}'.format(np.mean(acc_data['has_end'])))\n",
    "print(\"\\n\")"
   ]
  },
  {
   "cell_type": "code",
   "execution_count": 26,
   "metadata": {},
   "outputs": [
    {
     "data": {
      "image/png": "[encoded data removed]",
      "text/plain": [
       "<Figure size 576x396 with 1 Axes>"
      ]
     },
     "metadata": {},
     "output_type": "display_data"
    },
    {
     "data": {
      "image/png": "[encoded data removed]",
      "text/plain": [
       "<Figure size 576x396 with 1 Axes>"
      ]
     },
     "metadata": {},
     "output_type": "display_data"
    }
   ],
   "source": [
    "ax = sns.boxplot(data=kappa_data)\n",
    "ax.set(title=\"Average Kappa Score\")\n",
    "plt.show()\n",
    "\n",
    "ax = sns.boxplot(data=acc_data)\n",
    "ax.set(title=\"Average Accuracy\")\n",
    "plt.show()\n"
   ]
  },
  {
   "cell_type": "markdown",
   "metadata": {},
   "source": [
    "#### Kappa with estimated chance probabilities"
   ]
  },
  {
   "cell_type": "code",
   "execution_count": 27,
   "metadata": {},
   "outputs": [],
   "source": [
    "def worker_pair_prob(prob_data, worker_pair_dict, prob_var, worker_var):\n",
    "    '''\n",
    "    Outputs a dict with \n",
    "    key: worker pair\n",
    "    value: probability of workers agreeing by chance after taking into account the mixed effects model\n",
    "    '''\n",
    "    pair_prob_dict = {}\n",
    "    \n",
    "    for an1, an2 in worker_pair_dict:\n",
    "        p1 = prob_data[prob_data[worker_var] == an1][prob_var][0]\n",
    "        p2 = prob_data[prob_data[worker_var] == an2][prob_var][0]\n",
    "        pe = p1*p2 + ((1-p1)*(1-p2))\n",
    "        \n",
    "        pair_prob_dict[(an1, an2)] = pe\n",
    "        \n",
    "    return pair_prob_dict"
   ]
  },
  {
   "cell_type": "code",
   "execution_count": 28,
   "metadata": {},
   "outputs": [],
   "source": [
    "pair_prob_dict = {}\n",
    "pair_prob_dict['is_instant'] = worker_pair_prob(df_inst, worker_pair_dict, 'glmer_intercept_inst','worker_id')\n",
    "pair_prob_dict['has_start'] = worker_pair_prob(df_start, worker_pair_dict, 'glmer_intercept_start','worker_id')\n",
    "pair_prob_dict['has_end'] = worker_pair_prob(df_end, worker_pair_dict, 'glmer_intercept_end','worker_id')"
   ]
  },
  {
   "cell_type": "code",
   "execution_count": 29,
   "metadata": {},
   "outputs": [],
   "source": [
    "def average_estimated_kappa(data, worker_id, key_var, check_var, pe_prob):\n",
    "    '''\n",
    "    Input: 1. data: pandas dataframe\n",
    "           2. worker_id: Annotator id variable\n",
    "           3. key_var: level of the data (sentence-predicate id)\n",
    "           4. check_var: variable to be checked for kappa score or any other metric \n",
    "    \n",
    "    Output: average kappa score, accuracy and spearman correlation for (pairs of annotators) in the dataset.\n",
    "\n",
    "    '''\n",
    "    worker_pairs = extract_pairs_of_workers(data, worker_id)\n",
    "    worker_key_dict = extract_worker_sent_dict(data, worker_id, key_var)\n",
    "    kappas = []\n",
    "    accuracies = []\n",
    "    \n",
    "    for (w1, w2) in worker_pairs:\n",
    "        common_set = worker_key_dict[w1].intersection(worker_key_dict[w2])\n",
    "        \n",
    "        if common_set == set():\n",
    "            continue\n",
    "            \n",
    "        temp1 = []\n",
    "        temp2 = []\n",
    "        \n",
    "        if check_var != 'is_instant':\n",
    "            for key in common_set:\n",
    "                val1 = data[(data[key_var] == key) & \n",
    "                        (data[worker_id] == w1)]['is_instant'].values\n",
    "                val2 = data[(data[key_var] == key) & \n",
    "                        (data[worker_id] == w2)]['is_instant'].values\n",
    "                #Only compute metrics if both annotators mark not-instantaneous\n",
    "                if val1[0] == False and val2[0]== False:\n",
    "                    val3 = data[(data[key_var] == key) & \n",
    "                            (data[worker_id] == w1)][check_var].values\n",
    "                    val4 = data[(data[key_var] == key) & \n",
    "                            (data[worker_id] == w2)][check_var].values \n",
    "                    temp1.append(val3[0])\n",
    "                    temp2.append(val4[0])     \n",
    "                else:\n",
    "                    continue     \n",
    "        else: #check_var == 'is_instant'\n",
    "            for key in common_set:\n",
    "                val3 = data[(data[key_var] == key) & \n",
    "                            (data[worker_id] == w1)][check_var].values\n",
    "                val4 = data[(data[key_var] == key) & \n",
    "                            (data[worker_id] == w2)][check_var].values \n",
    "                temp1.append(val3[0])\n",
    "                temp2.append(val4[0])\n",
    "                   \n",
    "        if temp1 == [] or temp2 == []:\n",
    "            continue\n",
    "            \n",
    "        elif temp1==temp2:\n",
    "            kappas.append(1.0)\n",
    "            accuracies.append(1.0)\n",
    "        else:\n",
    "            po = accuracy(temp1, temp2)\n",
    "            pe = pe_prob[(w1, w2)]\n",
    "            kappas.append((po-pe)/(1-pe))\n",
    "            accuracies.append(po)\n",
    "        \n",
    "    return kappas, accuracies "
   ]
  },
  {
   "cell_type": "code",
   "execution_count": 30,
   "metadata": {},
   "outputs": [
    {
     "name": "stdout",
     "output_type": "stream",
     "text": [
      "is_instant -- Completed!\n",
      "has_start -- Completed!\n",
      "has_end -- Completed!\n"
     ]
    }
   ],
   "source": [
    "var_list = ['is_instant', 'has_start', 'has_end']\n",
    "kappas = {}\n",
    "accuracies = {}\n",
    "for var in var_list:\n",
    "    kappas[var], accuracies[var] = average_estimated_kappa(pilot_data, 'worker_id', \n",
    "                                                            'sent_token', var, pair_prob_dict[var])\n",
    "    print(\"{} -- Completed!\".format(var))"
   ]
  },
  {
   "cell_type": "code",
   "execution_count": 31,
   "metadata": {},
   "outputs": [],
   "source": [
    "kappa_data = pd.DataFrame(dict([ (k,pd.Series(v)) for k,v in kappas.items() ]))\n",
    "accuracy_data = pd.DataFrame(dict([ (k,pd.Series(v)) for k,v in accuracies.items() ]))"
   ]
  },
  {
   "cell_type": "code",
   "execution_count": 32,
   "metadata": {},
   "outputs": [
    {
     "name": "stdout",
     "output_type": "stream",
     "text": [
      "Average Kappa for \"is_instant\" variable: 0.22743768817617452\n",
      "Average Kappa for \"has_start\" variable: -0.13396299116649135\n",
      "Average Kappa for \"has_end\" variable: 0.10702482385656084\n",
      "\n",
      "\n"
     ]
    }
   ],
   "source": [
    "print('Average Kappa for \"is_instant\" variable: {}'.format(np.mean(kappa_data['is_instant'])))\n",
    "print('Average Kappa for \"has_start\" variable: {}'.format(np.mean(kappa_data['has_start'])))\n",
    "print('Average Kappa for \"has_end\" variable: {}'.format(np.mean(kappa_data['has_end'])))\n",
    "print(\"\\n\")"
   ]
  },
  {
   "cell_type": "markdown",
   "metadata": {},
   "source": [
    "#### Mean Pe values"
   ]
  },
  {
   "cell_type": "code",
   "execution_count": 33,
   "metadata": {},
   "outputs": [
    {
     "data": {
      "text/plain": [
       "0.5224010131872279"
      ]
     },
     "execution_count": 33,
     "metadata": {},
     "output_type": "execute_result"
    }
   ],
   "source": [
    "np.mean([pair_prob_dict['is_instant'][key] for key in pair_prob_dict['is_instant']])"
   ]
  },
  {
   "cell_type": "code",
   "execution_count": 34,
   "metadata": {},
   "outputs": [
    {
     "data": {
      "text/plain": [
       "0.5768871709157396"
      ]
     },
     "execution_count": 34,
     "metadata": {},
     "output_type": "execute_result"
    }
   ],
   "source": [
    "np.mean([pair_prob_dict['has_start'][key] for key in pair_prob_dict['has_start']])"
   ]
  },
  {
   "cell_type": "code",
   "execution_count": 35,
   "metadata": {},
   "outputs": [
    {
     "data": {
      "text/plain": [
       "0.5384097119708082"
      ]
     },
     "execution_count": 35,
     "metadata": {},
     "output_type": "execute_result"
    }
   ],
   "source": [
    "np.mean([pair_prob_dict['has_end'][key] for key in pair_prob_dict['has_end']])"
   ]
  },
  {
   "cell_type": "code",
   "execution_count": 36,
   "metadata": {},
   "outputs": [
    {
     "data": {
      "image/png": "[encoded data removed]",
      "text/plain": [
       "<Figure size 576x396 with 1 Axes>"
      ]
     },
     "metadata": {},
     "output_type": "display_data"
    },
    {
     "data": {
      "image/png": "[encoded data removed]",
      "text/plain": [
       "<Figure size 576x396 with 1 Axes>"
      ]
     },
     "metadata": {},
     "output_type": "display_data"
    }
   ],
   "source": [
    "ax = sns.boxplot(data=kappa_data)\n",
    "ax.set(title=\"Average Kappa Score\")\n",
    "plt.show()\n",
    "\n",
    "ax = sns.boxplot(data=accuracy_data)\n",
    "ax.set(title=\"Average Accuracies\")\n",
    "plt.show()\n",
    "\n",
    "# ax = sns.boxplot(data=corrs_data)\n",
    "# ax.set(title=\"Average Spearman Correlation\")\n",
    "# plt.show()"
   ]
  }
 ],
 "metadata": {
  "kernelspec": {
   "display_name": "Python 3",
   "language": "python",
   "name": "python3"
  },
  "language_info": {
   "codemirror_mode": {
    "name": "ipython",
    "version": 3
   },
   "file_extension": ".py",
   "mimetype": "text/x-python",
   "name": "python",
   "nbconvert_exporter": "python",
   "pygments_lexer": "ipython3",
   "version": "3.6.5"
  }
 },
 "nbformat": 4,
 "nbformat_minor": 2
}
